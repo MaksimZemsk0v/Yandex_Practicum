{
 "cells": [
  {
   "cell_type": "markdown",
   "metadata": {
    "toc": true
   },
   "source": [
    "<h1>Содержание<span class=\"tocSkip\"></span></h1>\n",
    "<div class=\"toc\"><ul class=\"toc-item\"><li><span><a href=\"#Описание-данных\" data-toc-modified-id=\"Описание-данных-1\"><span class=\"toc-item-num\">1&nbsp;&nbsp;</span>Описание данных</a></span><ul class=\"toc-item\"><li><span><a href=\"#Признаки:\" data-toc-modified-id=\"Признаки:-1.1\"><span class=\"toc-item-num\">1.1&nbsp;&nbsp;</span>Признаки:</a></span></li><li><span><a href=\"#Целевой-признак:\" data-toc-modified-id=\"Целевой-признак:-1.2\"><span class=\"toc-item-num\">1.2&nbsp;&nbsp;</span>Целевой признак:</a></span></li></ul></li><li><span><a href=\"#Загрузка-данных\" data-toc-modified-id=\"Загрузка-данных-2\"><span class=\"toc-item-num\">2&nbsp;&nbsp;</span>Загрузка данных</a></span></li><li><span><a href=\"#Общие-выводы-по-предоставленным-данным\" data-toc-modified-id=\"Общие-выводы-по-предоставленным-данным-3\"><span class=\"toc-item-num\">3&nbsp;&nbsp;</span>Общие выводы по предоставленным данным</a></span></li><li><span><a href=\"#Умножение-матриц\" data-toc-modified-id=\"Умножение-матриц-4\"><span class=\"toc-item-num\">4&nbsp;&nbsp;</span>Умножение матриц</a></span></li><li><span><a href=\"#Алгоритм-преобразования\" data-toc-modified-id=\"Алгоритм-преобразования-5\"><span class=\"toc-item-num\">5&nbsp;&nbsp;</span>Алгоритм преобразования</a></span></li><li><span><a href=\"#Проверка-алгоритма\" data-toc-modified-id=\"Проверка-алгоритма-6\"><span class=\"toc-item-num\">6&nbsp;&nbsp;</span>Проверка алгоритма</a></span></li><li><span><a href=\"#Общий-вывод\" data-toc-modified-id=\"Общий-вывод-7\"><span class=\"toc-item-num\">7&nbsp;&nbsp;</span>Общий вывод</a></span></li><li><span><a href=\"#Чек-лист-проверки\" data-toc-modified-id=\"Чек-лист-проверки-8\"><span class=\"toc-item-num\">8&nbsp;&nbsp;</span>Чек-лист проверки</a></span></li></ul></div>"
   ]
  },
  {
   "cell_type": "markdown",
   "metadata": {},
   "source": [
    "# Защита персональных данных клиентов"
   ]
  },
  {
   "cell_type": "markdown",
   "metadata": {},
   "source": [
    "Вам нужно защитить данные клиентов страховой компании «Хоть потоп». Разработайте такой метод преобразования данных, чтобы по ним было сложно восстановить персональную информацию. Обоснуйте корректность его работы.\n",
    "\n",
    "Нужно защитить данные, чтобы при преобразовании качество моделей машинного обучения не ухудшилось. Подбирать наилучшую модель не требуется.\n",
    "\n",
    "**Для решения поставленной задачи будем придерживаться следующих этапов:**\n",
    "- Загрузим и изучим данные.\n",
    "- Ответим на вопрос и обоснуем решение. \n",
    "    - Признаки умножают на обратимую матрицу. Изменится ли качество линейной регрессии? (Её можно обучить заново.)\n",
    "    - a. Изменится. Приведем примеры матриц.\n",
    "    - b. Не изменится. Укажем, как связаны параметры линейной регрессии в исходной задаче и в преобразованной.\n",
    "- Предложим алгоритм преобразования данных для решения задачи. Обоснуем, почему качество линейной регрессии не поменяется.\n",
    "- Запрограммируем этот алгоритм, применив матричные операции. Проверим, что качество линейной регрессии из sklearn не отличается до и после преобразования. Применим метрику R2.\n",
    "\n",
    "## Описание данных\n",
    "\n",
    "Набор данных находится в файле /datasets/insurance.csv. Скачать датасет.\n",
    "\n",
    "### Признаки: \n",
    "- пол, возраст и зарплата застрахованного, количество членов его семьи.\n",
    "\n",
    "### Целевой признак:\n",
    "- количество страховых выплат клиенту за последние 5 лет."
   ]
  },
  {
   "cell_type": "code",
   "execution_count": 1,
   "metadata": {},
   "outputs": [],
   "source": [
    "# для решения задачи подключим необходимые библиотеки\n",
    "import pandas as pd\n",
    "import numpy as np\n",
    "from matplotlib import pyplot as plt\n",
    "import seaborn as sns\n",
    "from sklearn.metrics import r2_score"
   ]
  },
  {
   "cell_type": "markdown",
   "metadata": {},
   "source": [
    "## Загрузка данных"
   ]
  },
  {
   "cell_type": "code",
   "execution_count": 2,
   "metadata": {},
   "outputs": [],
   "source": [
    "data = pd.read_csv('/datasets/insurance.csv')"
   ]
  },
  {
   "cell_type": "code",
   "execution_count": 3,
   "metadata": {},
   "outputs": [
    {
     "data": {
      "text/html": [
       "<div>\n",
       "<style scoped>\n",
       "    .dataframe tbody tr th:only-of-type {\n",
       "        vertical-align: middle;\n",
       "    }\n",
       "\n",
       "    .dataframe tbody tr th {\n",
       "        vertical-align: top;\n",
       "    }\n",
       "\n",
       "    .dataframe thead th {\n",
       "        text-align: right;\n",
       "    }\n",
       "</style>\n",
       "<table border=\"1\" class=\"dataframe\">\n",
       "  <thead>\n",
       "    <tr style=\"text-align: right;\">\n",
       "      <th></th>\n",
       "      <th>Пол</th>\n",
       "      <th>Возраст</th>\n",
       "      <th>Зарплата</th>\n",
       "      <th>Члены семьи</th>\n",
       "      <th>Страховые выплаты</th>\n",
       "    </tr>\n",
       "  </thead>\n",
       "  <tbody>\n",
       "    <tr>\n",
       "      <th>0</th>\n",
       "      <td>1</td>\n",
       "      <td>41.0</td>\n",
       "      <td>49600.0</td>\n",
       "      <td>1</td>\n",
       "      <td>0</td>\n",
       "    </tr>\n",
       "    <tr>\n",
       "      <th>1</th>\n",
       "      <td>0</td>\n",
       "      <td>46.0</td>\n",
       "      <td>38000.0</td>\n",
       "      <td>1</td>\n",
       "      <td>1</td>\n",
       "    </tr>\n",
       "    <tr>\n",
       "      <th>2</th>\n",
       "      <td>0</td>\n",
       "      <td>29.0</td>\n",
       "      <td>21000.0</td>\n",
       "      <td>0</td>\n",
       "      <td>0</td>\n",
       "    </tr>\n",
       "    <tr>\n",
       "      <th>3</th>\n",
       "      <td>0</td>\n",
       "      <td>21.0</td>\n",
       "      <td>41700.0</td>\n",
       "      <td>2</td>\n",
       "      <td>0</td>\n",
       "    </tr>\n",
       "    <tr>\n",
       "      <th>4</th>\n",
       "      <td>1</td>\n",
       "      <td>28.0</td>\n",
       "      <td>26100.0</td>\n",
       "      <td>0</td>\n",
       "      <td>0</td>\n",
       "    </tr>\n",
       "    <tr>\n",
       "      <th>...</th>\n",
       "      <td>...</td>\n",
       "      <td>...</td>\n",
       "      <td>...</td>\n",
       "      <td>...</td>\n",
       "      <td>...</td>\n",
       "    </tr>\n",
       "    <tr>\n",
       "      <th>4995</th>\n",
       "      <td>0</td>\n",
       "      <td>28.0</td>\n",
       "      <td>35700.0</td>\n",
       "      <td>2</td>\n",
       "      <td>0</td>\n",
       "    </tr>\n",
       "    <tr>\n",
       "      <th>4996</th>\n",
       "      <td>0</td>\n",
       "      <td>34.0</td>\n",
       "      <td>52400.0</td>\n",
       "      <td>1</td>\n",
       "      <td>0</td>\n",
       "    </tr>\n",
       "    <tr>\n",
       "      <th>4997</th>\n",
       "      <td>0</td>\n",
       "      <td>20.0</td>\n",
       "      <td>33900.0</td>\n",
       "      <td>2</td>\n",
       "      <td>0</td>\n",
       "    </tr>\n",
       "    <tr>\n",
       "      <th>4998</th>\n",
       "      <td>1</td>\n",
       "      <td>22.0</td>\n",
       "      <td>32700.0</td>\n",
       "      <td>3</td>\n",
       "      <td>0</td>\n",
       "    </tr>\n",
       "    <tr>\n",
       "      <th>4999</th>\n",
       "      <td>1</td>\n",
       "      <td>28.0</td>\n",
       "      <td>40600.0</td>\n",
       "      <td>1</td>\n",
       "      <td>0</td>\n",
       "    </tr>\n",
       "  </tbody>\n",
       "</table>\n",
       "<p>5000 rows × 5 columns</p>\n",
       "</div>"
      ],
      "text/plain": [
       "      Пол  Возраст  Зарплата  Члены семьи  Страховые выплаты\n",
       "0       1     41.0   49600.0            1                  0\n",
       "1       0     46.0   38000.0            1                  1\n",
       "2       0     29.0   21000.0            0                  0\n",
       "3       0     21.0   41700.0            2                  0\n",
       "4       1     28.0   26100.0            0                  0\n",
       "...   ...      ...       ...          ...                ...\n",
       "4995    0     28.0   35700.0            2                  0\n",
       "4996    0     34.0   52400.0            1                  0\n",
       "4997    0     20.0   33900.0            2                  0\n",
       "4998    1     22.0   32700.0            3                  0\n",
       "4999    1     28.0   40600.0            1                  0\n",
       "\n",
       "[5000 rows x 5 columns]"
      ]
     },
     "metadata": {},
     "output_type": "display_data"
    }
   ],
   "source": [
    "display(data)"
   ]
  },
  {
   "cell_type": "code",
   "execution_count": 4,
   "metadata": {},
   "outputs": [
    {
     "name": "stdout",
     "output_type": "stream",
     "text": [
      "<class 'pandas.core.frame.DataFrame'>\n",
      "RangeIndex: 5000 entries, 0 to 4999\n",
      "Data columns (total 5 columns):\n",
      " #   Column             Non-Null Count  Dtype  \n",
      "---  ------             --------------  -----  \n",
      " 0   Пол                5000 non-null   int64  \n",
      " 1   Возраст            5000 non-null   float64\n",
      " 2   Зарплата           5000 non-null   float64\n",
      " 3   Члены семьи        5000 non-null   int64  \n",
      " 4   Страховые выплаты  5000 non-null   int64  \n",
      "dtypes: float64(2), int64(3)\n",
      "memory usage: 195.4 KB\n",
      "Количество строк 5000 и столбцов 5\n"
     ]
    }
   ],
   "source": [
    "#выведем общую информацию по датасету, а также отдельно количество строк и столбцов\n",
    "data.info()\n",
    "print(f'Количество строк {data.shape[0]} и столбцов {data.shape[1]}')"
   ]
  },
  {
   "cell_type": "markdown",
   "metadata": {},
   "source": [
    "Для удобства следует привести данные столбцов возраст и зарплата к целочисленному типу данных, то есть перевести из float в int."
   ]
  },
  {
   "cell_type": "code",
   "execution_count": 5,
   "metadata": {},
   "outputs": [
    {
     "data": {
      "text/html": [
       "<div>\n",
       "<style scoped>\n",
       "    .dataframe tbody tr th:only-of-type {\n",
       "        vertical-align: middle;\n",
       "    }\n",
       "\n",
       "    .dataframe tbody tr th {\n",
       "        vertical-align: top;\n",
       "    }\n",
       "\n",
       "    .dataframe thead th {\n",
       "        text-align: right;\n",
       "    }\n",
       "</style>\n",
       "<table border=\"1\" class=\"dataframe\">\n",
       "  <thead>\n",
       "    <tr style=\"text-align: right;\">\n",
       "      <th></th>\n",
       "      <th>Пол</th>\n",
       "      <th>Возраст</th>\n",
       "      <th>Зарплата</th>\n",
       "      <th>Члены семьи</th>\n",
       "      <th>Страховые выплаты</th>\n",
       "    </tr>\n",
       "  </thead>\n",
       "  <tbody>\n",
       "    <tr>\n",
       "      <th>0</th>\n",
       "      <td>1</td>\n",
       "      <td>41</td>\n",
       "      <td>49600</td>\n",
       "      <td>1</td>\n",
       "      <td>0</td>\n",
       "    </tr>\n",
       "    <tr>\n",
       "      <th>1</th>\n",
       "      <td>0</td>\n",
       "      <td>46</td>\n",
       "      <td>38000</td>\n",
       "      <td>1</td>\n",
       "      <td>1</td>\n",
       "    </tr>\n",
       "    <tr>\n",
       "      <th>2</th>\n",
       "      <td>0</td>\n",
       "      <td>29</td>\n",
       "      <td>21000</td>\n",
       "      <td>0</td>\n",
       "      <td>0</td>\n",
       "    </tr>\n",
       "    <tr>\n",
       "      <th>3</th>\n",
       "      <td>0</td>\n",
       "      <td>21</td>\n",
       "      <td>41700</td>\n",
       "      <td>2</td>\n",
       "      <td>0</td>\n",
       "    </tr>\n",
       "    <tr>\n",
       "      <th>4</th>\n",
       "      <td>1</td>\n",
       "      <td>28</td>\n",
       "      <td>26100</td>\n",
       "      <td>0</td>\n",
       "      <td>0</td>\n",
       "    </tr>\n",
       "    <tr>\n",
       "      <th>...</th>\n",
       "      <td>...</td>\n",
       "      <td>...</td>\n",
       "      <td>...</td>\n",
       "      <td>...</td>\n",
       "      <td>...</td>\n",
       "    </tr>\n",
       "    <tr>\n",
       "      <th>4995</th>\n",
       "      <td>0</td>\n",
       "      <td>28</td>\n",
       "      <td>35700</td>\n",
       "      <td>2</td>\n",
       "      <td>0</td>\n",
       "    </tr>\n",
       "    <tr>\n",
       "      <th>4996</th>\n",
       "      <td>0</td>\n",
       "      <td>34</td>\n",
       "      <td>52400</td>\n",
       "      <td>1</td>\n",
       "      <td>0</td>\n",
       "    </tr>\n",
       "    <tr>\n",
       "      <th>4997</th>\n",
       "      <td>0</td>\n",
       "      <td>20</td>\n",
       "      <td>33900</td>\n",
       "      <td>2</td>\n",
       "      <td>0</td>\n",
       "    </tr>\n",
       "    <tr>\n",
       "      <th>4998</th>\n",
       "      <td>1</td>\n",
       "      <td>22</td>\n",
       "      <td>32700</td>\n",
       "      <td>3</td>\n",
       "      <td>0</td>\n",
       "    </tr>\n",
       "    <tr>\n",
       "      <th>4999</th>\n",
       "      <td>1</td>\n",
       "      <td>28</td>\n",
       "      <td>40600</td>\n",
       "      <td>1</td>\n",
       "      <td>0</td>\n",
       "    </tr>\n",
       "  </tbody>\n",
       "</table>\n",
       "<p>5000 rows × 5 columns</p>\n",
       "</div>"
      ],
      "text/plain": [
       "      Пол  Возраст  Зарплата  Члены семьи  Страховые выплаты\n",
       "0       1       41     49600            1                  0\n",
       "1       0       46     38000            1                  1\n",
       "2       0       29     21000            0                  0\n",
       "3       0       21     41700            2                  0\n",
       "4       1       28     26100            0                  0\n",
       "...   ...      ...       ...          ...                ...\n",
       "4995    0       28     35700            2                  0\n",
       "4996    0       34     52400            1                  0\n",
       "4997    0       20     33900            2                  0\n",
       "4998    1       22     32700            3                  0\n",
       "4999    1       28     40600            1                  0\n",
       "\n",
       "[5000 rows x 5 columns]"
      ]
     },
     "metadata": {},
     "output_type": "display_data"
    },
    {
     "data": {
      "text/plain": [
       "Пол                  int64\n",
       "Возраст              int64\n",
       "Зарплата             int64\n",
       "Члены семьи          int64\n",
       "Страховые выплаты    int64\n",
       "dtype: object"
      ]
     },
     "execution_count": 5,
     "metadata": {},
     "output_type": "execute_result"
    }
   ],
   "source": [
    "data = data.astype({'Возраст' : 'int64', 'Зарплата' : 'int64'})\n",
    "display(data)\n",
    "data.dtypes"
   ]
  },
  {
   "cell_type": "code",
   "execution_count": 6,
   "metadata": {},
   "outputs": [
    {
     "data": {
      "text/plain": [
       "Пол                  0\n",
       "Возраст              0\n",
       "Зарплата             0\n",
       "Члены семьи          0\n",
       "Страховые выплаты    0\n",
       "dtype: int64"
      ]
     },
     "execution_count": 6,
     "metadata": {},
     "output_type": "execute_result"
    }
   ],
   "source": [
    "#посмотрим есть ли пропуски в данных\n",
    "data.isna().sum()"
   ]
  },
  {
   "cell_type": "code",
   "execution_count": 7,
   "metadata": {},
   "outputs": [
    {
     "name": "stdout",
     "output_type": "stream",
     "text": [
      "Количество дублирующих строк 153\n"
     ]
    }
   ],
   "source": [
    "#убедимся в оствуствии дублирующих строк\n",
    "print('Количество дублирующих строк', data.duplicated().sum())"
   ]
  },
  {
   "cell_type": "markdown",
   "metadata": {},
   "source": [
    "Удалим дублирующие строки из данных."
   ]
  },
  {
   "cell_type": "code",
   "execution_count": 8,
   "metadata": {},
   "outputs": [
    {
     "name": "stdout",
     "output_type": "stream",
     "text": [
      "Количество дублирующих строк после удаления 0\n"
     ]
    }
   ],
   "source": [
    "#удалим дублирующие данные\n",
    "dat = data.drop_duplicates(inplace=True)\n",
    "print('Количество дублирующих строк после удаления', data.duplicated().sum())"
   ]
  },
  {
   "cell_type": "code",
   "execution_count": 9,
   "metadata": {},
   "outputs": [
    {
     "data": {
      "text/html": [
       "<div>\n",
       "<style scoped>\n",
       "    .dataframe tbody tr th:only-of-type {\n",
       "        vertical-align: middle;\n",
       "    }\n",
       "\n",
       "    .dataframe tbody tr th {\n",
       "        vertical-align: top;\n",
       "    }\n",
       "\n",
       "    .dataframe thead th {\n",
       "        text-align: right;\n",
       "    }\n",
       "</style>\n",
       "<table border=\"1\" class=\"dataframe\">\n",
       "  <thead>\n",
       "    <tr style=\"text-align: right;\">\n",
       "      <th></th>\n",
       "      <th>Пол</th>\n",
       "      <th>Возраст</th>\n",
       "      <th>Зарплата</th>\n",
       "      <th>Члены семьи</th>\n",
       "      <th>Страховые выплаты</th>\n",
       "    </tr>\n",
       "  </thead>\n",
       "  <tbody>\n",
       "    <tr>\n",
       "      <th>count</th>\n",
       "      <td>4847.000000</td>\n",
       "      <td>4847.000000</td>\n",
       "      <td>4847.000000</td>\n",
       "      <td>4847.000000</td>\n",
       "      <td>4847.000000</td>\n",
       "    </tr>\n",
       "    <tr>\n",
       "      <th>mean</th>\n",
       "      <td>0.498453</td>\n",
       "      <td>31.023932</td>\n",
       "      <td>39895.811223</td>\n",
       "      <td>1.203425</td>\n",
       "      <td>0.152259</td>\n",
       "    </tr>\n",
       "    <tr>\n",
       "      <th>std</th>\n",
       "      <td>0.500049</td>\n",
       "      <td>8.487995</td>\n",
       "      <td>9972.952441</td>\n",
       "      <td>1.098664</td>\n",
       "      <td>0.468934</td>\n",
       "    </tr>\n",
       "    <tr>\n",
       "      <th>min</th>\n",
       "      <td>0.000000</td>\n",
       "      <td>18.000000</td>\n",
       "      <td>5300.000000</td>\n",
       "      <td>0.000000</td>\n",
       "      <td>0.000000</td>\n",
       "    </tr>\n",
       "    <tr>\n",
       "      <th>25%</th>\n",
       "      <td>0.000000</td>\n",
       "      <td>24.000000</td>\n",
       "      <td>33200.000000</td>\n",
       "      <td>0.000000</td>\n",
       "      <td>0.000000</td>\n",
       "    </tr>\n",
       "    <tr>\n",
       "      <th>50%</th>\n",
       "      <td>0.000000</td>\n",
       "      <td>30.000000</td>\n",
       "      <td>40200.000000</td>\n",
       "      <td>1.000000</td>\n",
       "      <td>0.000000</td>\n",
       "    </tr>\n",
       "    <tr>\n",
       "      <th>75%</th>\n",
       "      <td>1.000000</td>\n",
       "      <td>37.000000</td>\n",
       "      <td>46600.000000</td>\n",
       "      <td>2.000000</td>\n",
       "      <td>0.000000</td>\n",
       "    </tr>\n",
       "    <tr>\n",
       "      <th>max</th>\n",
       "      <td>1.000000</td>\n",
       "      <td>65.000000</td>\n",
       "      <td>79000.000000</td>\n",
       "      <td>6.000000</td>\n",
       "      <td>5.000000</td>\n",
       "    </tr>\n",
       "  </tbody>\n",
       "</table>\n",
       "</div>"
      ],
      "text/plain": [
       "               Пол      Возраст      Зарплата  Члены семьи  Страховые выплаты\n",
       "count  4847.000000  4847.000000   4847.000000  4847.000000        4847.000000\n",
       "mean      0.498453    31.023932  39895.811223     1.203425           0.152259\n",
       "std       0.500049     8.487995   9972.952441     1.098664           0.468934\n",
       "min       0.000000    18.000000   5300.000000     0.000000           0.000000\n",
       "25%       0.000000    24.000000  33200.000000     0.000000           0.000000\n",
       "50%       0.000000    30.000000  40200.000000     1.000000           0.000000\n",
       "75%       1.000000    37.000000  46600.000000     2.000000           0.000000\n",
       "max       1.000000    65.000000  79000.000000     6.000000           5.000000"
      ]
     },
     "execution_count": 9,
     "metadata": {},
     "output_type": "execute_result"
    }
   ],
   "source": [
    "#посмотрим показатели предоставленных данных\n",
    "data.describe()"
   ]
  },
  {
   "cell_type": "code",
   "execution_count": 10,
   "metadata": {},
   "outputs": [
    {
     "data": {
      "image/png": "[encoded data removed]",
      "text/plain": [
       "<Figure size 432x288 with 1 Axes>"
      ]
     },
     "metadata": {
      "needs_background": "light"
     },
     "output_type": "display_data"
    },
    {
     "data": {
      "image/png": "[encoded data removed]",
      "text/plain": [
       "<Figure size 432x288 with 1 Axes>"
      ]
     },
     "metadata": {
      "needs_background": "light"
     },
     "output_type": "display_data"
    },
    {
     "data": {
      "image/png": "[encoded data removed]",
      "text/plain": [
       "<Figure size 432x288 with 1 Axes>"
      ]
     },
     "metadata": {
      "needs_background": "light"
     },
     "output_type": "display_data"
    },
    {
     "data": {
      "image/png": "[encoded data removed]",
      "text/plain": [
       "<Figure size 432x288 with 1 Axes>"
      ]
     },
     "metadata": {
      "needs_background": "light"
     },
     "output_type": "display_data"
    },
    {
     "data": {
      "image/png": "[encoded data removed]",
      "text/plain": [
       "<Figure size 432x288 with 1 Axes>"
      ]
     },
     "metadata": {
      "needs_background": "light"
     },
     "output_type": "display_data"
    },
    {
     "name": "stdout",
     "output_type": "stream",
     "text": [
      "Всего строчек/ количество признаков: 4847\n"
     ]
    }
   ],
   "source": [
    "#по каждому столбцу постоим графики для визуализации распределения данных\n",
    "for col in data.columns:\n",
    "    plt.figure(figsize=(6, 4))\n",
    "    data[col].plot(kind='hist', bins=60)\n",
    "    plt.title(f'Признак {col}')\n",
    "    plt.show()\n",
    "print(f'Всего строчек/ количество признаков: {data.shape[0]}')"
   ]
  },
  {
   "cell_type": "code",
   "execution_count": 11,
   "metadata": {},
   "outputs": [
    {
     "name": "stdout",
     "output_type": "stream",
     "text": [
      "____________________________________________\n",
      "Пол\n",
      "0    2431\n",
      "1    2416\n",
      "Name: Пол, dtype: int64\n",
      "____________________________________________\n",
      "Члены семьи\n",
      "1    1748\n",
      "0    1461\n",
      "2    1038\n",
      "3     437\n",
      "4     124\n",
      "5      32\n",
      "6       7\n",
      "Name: Члены семьи, dtype: int64\n",
      "____________________________________________\n",
      "Страховые выплаты\n",
      "0    4284\n",
      "1     423\n",
      "2     114\n",
      "3      18\n",
      "4       7\n",
      "5       1\n",
      "Name: Страховые выплаты, dtype: int64\n"
     ]
    }
   ],
   "source": [
    "columns_f = ['Пол', 'Члены семьи', 'Страховые выплаты']\n",
    "for col in columns_f:\n",
    "    print('____________________________________________')\n",
    "    print(col)\n",
    "    print(data[col].value_counts())"
   ]
  },
  {
   "cell_type": "markdown",
   "metadata": {},
   "source": [
    "Посмотрим как признаки влияют друг на друга и на целевой признак."
   ]
  },
  {
   "cell_type": "code",
   "execution_count": 12,
   "metadata": {},
   "outputs": [
    {
     "data": {
      "image/png": "[encoded data removed]",
      "text/plain": [
       "<Figure size 720x720 with 2 Axes>"
      ]
     },
     "metadata": {
      "needs_background": "light"
     },
     "output_type": "display_data"
    }
   ],
   "source": [
    "plt.figure(figsize=(10, 10))\n",
    "sns.heatmap(data.drop(columns='Пол').corr(method = 'spearman'), annot=True)\n",
    "plt.show()"
   ]
  },
  {
   "cell_type": "code",
   "execution_count": 13,
   "metadata": {},
   "outputs": [
    {
     "data": {
      "image/png": "[encoded data removed]",
      "text/plain": [
       "<Figure size 576x216 with 1 Axes>"
      ]
     },
     "metadata": {
      "needs_background": "light"
     },
     "output_type": "display_data"
    }
   ],
   "source": [
    "plt.figure(figsize=(8, 3))\n",
    "sns.scatterplot(x = 'Возраст', y = 'Страховые выплаты', data=data)\n",
    "plt.show()"
   ]
  },
  {
   "cell_type": "markdown",
   "metadata": {},
   "source": [
    "##   Общие выводы по предоставленным данным"
   ]
  },
  {
   "cell_type": "markdown",
   "metadata": {},
   "source": [
    "Загрузили/ открыли файл с данными. Ознакомились с датасетом. Произвели предобработку данных, выявили наличие дублирующих строчек и избавились от них, а также убедились в отсутствии пропусков в  данных. Привели столбцы 'Возраст' и 'Зарплата' к нужному типу данных. Произвели визуализацию данных, построили графики. Посмотрели как признаки коррелируют между собой.\n",
    "\n",
    "Из предоставленных данных, можно сказать, что возраст человека в большей степени влияет на целевой признак, то есть на страховые выплаты."
   ]
  },
  {
   "cell_type": "markdown",
   "metadata": {},
   "source": [
    "## Умножение матриц"
   ]
  },
  {
   "cell_type": "markdown",
   "metadata": {},
   "source": [
    "В этом задании вы можете записывать формулы в *Jupyter Notebook.*\n",
    "\n",
    "Чтобы записать формулу внутри текста, окружите её символами доллара \\\\$; если снаружи —  двойными символами \\\\$\\\\$. Эти формулы записываются на языке вёрстки *LaTeX.* \n",
    "\n",
    "Для примера мы записали формулы линейной регрессии. Можете их скопировать и отредактировать, чтобы решить задачу.\n",
    "\n",
    "Работать в *LaTeX* необязательно."
   ]
  },
  {
   "cell_type": "markdown",
   "metadata": {},
   "source": [
    "Обозначения:\n",
    "\n",
    "- $X$ — матрица признаков (нулевой столбец состоит из единиц)\n",
    "\n",
    "- $y$ — вектор целевого признака\n",
    "\n",
    "- $P$ — матрица, на которую умножаются признаки\n",
    "\n",
    "- $w$ — вектор весов линейной регрессии (нулевой элемент равен сдвигу)"
   ]
  },
  {
   "cell_type": "markdown",
   "metadata": {},
   "source": [
    "Предсказания:\n",
    "\n",
    "$$\n",
    "a = Xw\n",
    "$$\n",
    "\n",
    "Задача обучения:\n",
    "\n",
    "$$\n",
    "w = \\arg\\min_w MSE(Xw, y)\n",
    "$$\n",
    "\n",
    "Формула обучения:\n",
    "\n",
    "$$\n",
    "a = X (X^T X)^{-1} X^T y \n",
    "$$"
   ]
  },
  {
   "cell_type": "markdown",
   "metadata": {},
   "source": [
    "- Ответим на вопрос и обоснуем решение.\n",
    "    - Признаки умножают на обратимую матрицу. Изменится ли качество линейной регрессии? (Её можно обучить заново.)\n",
    "        - a. Изменится. Приведем примеры матриц.\n",
    "        - b. Не изменится. Укажем, как связаны параметры линейной регрессии в исходной задаче и в преобразованной.\n",
    "\n",
    "\n",
    "**Предсказания по нашим данным находятся по формуле:**\n",
    "\n",
    "\n",
    "$$\n",
    "a = Xw ;\n",
    "$$\n",
    "\n",
    "- где X - матрица с признаками;\n",
    "- w - это вектор весов, коэфициент влияния по признакам, который находится по следующей формуле:\n",
    "\n",
    "\n",
    "$$\n",
    "w = (X^T X)^{-1} X^T y ;\n",
    "$$\n",
    "\n",
    "- где X - матрица с признаками;\n",
    "- y - вектор целевого признака.\n",
    "\n",
    "Задача обучения состоит в нахождении наименьшего/ минимального значения метрики качества MSE, согласно данной формулы:\n",
    "\n",
    "$$\n",
    "w = \\arg\\min_w MSE(Xw, y) .\n",
    "$$\n",
    "\n",
    "Общая формула предсказания:\n",
    "\n",
    "$$\n",
    "a = Xw = X (X^T X)^{-1} X^T y\n",
    "$$\n",
    "\n",
    "**Предположим**, что изначальную матрицу X умножить на обрутную матрицу (назовем её P) и назовем наше предсказание a с индексом 1 (a1), тогда наши формулы примут следующий вид:\n",
    "\n",
    "$$\n",
    "a1 = XPw1 ;\n",
    "$$\n",
    "\n",
    "\n",
    "- где X - матрица с признаками;\n",
    "- P - обратная матрица;\n",
    "- w1 (w с индексом 1) - это вектор весов, коэфициент влияния по признакам и с учетом умножения на обратную матрицу P формула нахождение данного параметра примет следующий вид:\n",
    "\n",
    "\n",
    "$$\n",
    "w1 = ((XP)^T XP)^{-1} (XP)^T y ;\n",
    "$$\n",
    "\n",
    "- где X - матрица с признаками;\n",
    "- P - обратная матрица;\n",
    "- y - вектор целевого признака.\n",
    "\n",
    "Соберем общую формулу предсказания a1:\n",
    "\n",
    "$$\n",
    "a1 = XPw1 = XP((XP)^T XP)^{-1} (XP)^T y \n",
    "$$\n",
    "\n",
    "Попытаемся преобразовать данную формулу, для этого воспользуемся :\n",
    "- распределительное свойство произведения матриц:\n",
    "\n",
    "$$\n",
    "(AB)C = A(BC) ;\n",
    "$$\n",
    "\n",
    "- свойства единичной матрицы (E) и обратной матрицы и произведения с ними:\n",
    "\n",
    "$$\n",
    "AE = EA = A ;\n",
    "$$\n",
    "\n",
    "$$\n",
    "AA^{-1} = E ;\n",
    "$$\n",
    "\n",
    "$$\n",
    "AA^T = E ;\n",
    "$$\n",
    "        - где E - единичная матрица.\n",
    "\n",
    "- транспонирование матриц:\n",
    "\n",
    "$$\n",
    "(AB)^T = B^T A^T;\n",
    "$$\n",
    "\n",
    "$$\n",
    "(A^T)^T = A.\n",
    "$$\n",
    "\n",
    "$$\n",
    "(AB)^{-1} = B^{-1} A^{-1}\n",
    "$$\n",
    "\n",
    "Основываясь на данных свойствах преобразуем формулу a1:\n",
    "\n",
    "- воспользуемся свойствами транспонирования матриц:\n",
    "\n",
    "$$\n",
    "a1 = XP (P^T X^T XP)^{-1} P^T X^T y ;\n",
    "$$\n",
    "\n",
    "- воспользуемся распределительным свойством матриц при произведении и вынесем P^T из (P^T (X^T XP))^{-1}:\n",
    "\n",
    "$$\n",
    "a1 = XP (X^T XP)^{-1} (P^T)^{-1} P^T X^T y ;\n",
    "$$\n",
    "\n",
    "- согласно свойствам матриц AA^{-1} = E произведение (P^T)^{-1} и P^T дают матрицу E:\n",
    "\n",
    "$$\n",
    "a1 = XP (X^T XP)^{-1} E X^T y ;\n",
    "$$\n",
    "\n",
    "- воспользуемся распределительным свойством матриц при произведении и вынесем P из (X^T XP)^{-1}:\n",
    "\n",
    "$$\n",
    "a1 = XP P^{-1} (X^T X)^{-1} E X^T y ;\n",
    "$$\n",
    "\n",
    "- согласно свойствам матриц AA^{-1} = E произведение в начале формулы P и (P)^{-1} дают матрицу E:\n",
    "\n",
    "$$\n",
    "a1 = XE (X^T X)^{-1} E X^T y ;\n",
    "$$\n",
    "\n",
    "- согласно свойствам единичной матрицы, при произведении AE = EA = A, поэтому можно не брать в расчет E как коэфициент 1:\n",
    "\n",
    "$$\n",
    "a1 = X (X^T X)^{-1} X^T y .\n",
    "$$\n",
    "\n",
    "После нескольких преобразований в итоге мы молучили ту же самую формулу, то есть:\n",
    "\n",
    "$$\n",
    "a = a1 = X (X^T X)^{-1} X^T y ;\n",
    "$$\n",
    "\n",
    "**Ответ:**\n",
    "Исходя из всего можно сказать, что при умножении матрицы признаков на обрутную матрицу качество линейной регрессии **не изменится**. "
   ]
  },
  {
   "cell_type": "markdown",
   "metadata": {},
   "source": [
    "## Алгоритм преобразования"
   ]
  },
  {
   "cell_type": "markdown",
   "metadata": {},
   "source": [
    "**Алгоритм**\n",
    "\n",
    "Исходя из сделанных решений попробуем выполнить предсказания применив матричные операции для предоставленных данных. Проверим, что качество линейной регрессии из sklearn не отличается от предоставленных признаков для формулы **a** и после умножения этих признаков на обрутную матрицу, то есть формулы **a1**. Для точности применим метрику R2. \n",
    "\n",
    "Применим модель линейной регрессии основных признаков и для преобразованных признаков, то есть признаки умноженные на обратную матрицу.\n",
    "Вычислим метрики R2 для первой и второй модели."
   ]
  },
  {
   "cell_type": "markdown",
   "metadata": {},
   "source": [
    "**Обоснование**\n",
    "\n",
    "Ранее в теоретических расчетах выявили, что при умножении признаков на обрутную матрицу качество будет неизменным. Для этого сравним метрики R2 для двух моделей."
   ]
  },
  {
   "cell_type": "markdown",
   "metadata": {},
   "source": [
    "## Проверка алгоритма"
   ]
  },
  {
   "cell_type": "markdown",
   "metadata": {},
   "source": [
    "Для обучения модели выделим общие признаки и целевые"
   ]
  },
  {
   "cell_type": "code",
   "execution_count": 14,
   "metadata": {},
   "outputs": [
    {
     "name": "stdout",
     "output_type": "stream",
     "text": [
      "Размерность всех данные: строк 4847 столбцов 5\n",
      "Размерность признаков: строк 4847 столбцов 4\n",
      "Размерность целевого признака: строк 4847\n"
     ]
    }
   ],
   "source": [
    "features = data.drop(columns='Страховые выплаты')\n",
    "targets = data['Страховые выплаты']\n",
    "print(f'Размерность всех данные: строк {data.shape[0]} столбцов {data.shape[1]}')\n",
    "print(f'Размерность признаков: строк {features.shape[0]} столбцов {features.shape[1]}')\n",
    "print(f'Размерность целевого признака: строк {targets.shape[0]}')"
   ]
  },
  {
   "cell_type": "markdown",
   "metadata": {},
   "source": [
    "Сразу же сделаем преобразование с признаками, то есть умножим признаки на обратную матрицу.\n",
    " \n",
    "Для этого предварительно сгенерируем новую матрицу. По правилам умножения матриц:\n",
    "\n",
    "$$\n",
    "AB = C,\n",
    "$$ \n",
    "- где A - первая матрица;\n",
    "- B - вторая матрица;\n",
    "- С - третья матрица, результат произведения двух матриц.\n",
    "\n",
    "Для того чтобы произвести правильное умножение матриц, должны придерживаться следующего, при умножении матриц количество столбцов матрицы A (размерность k x m) должно соответствовать количеству строк матрицы B (размерностью m x n). Количество столбцов матрицы с признаками равно 4, то есть нужно сгенерировать матрицу B размерностью 4 x 4."
   ]
  },
  {
   "cell_type": "markdown",
   "metadata": {},
   "source": [
    "Сгенерируем матрицу B размерностью 4 х 4, применим метод random."
   ]
  },
  {
   "cell_type": "code",
   "execution_count": 15,
   "metadata": {},
   "outputs": [],
   "source": [
    "matrix_B = np.random.normal(size=(4, 4))"
   ]
  },
  {
   "cell_type": "markdown",
   "metadata": {},
   "source": [
    "Выведем полученную матрицу."
   ]
  },
  {
   "cell_type": "code",
   "execution_count": 16,
   "metadata": {},
   "outputs": [
    {
     "data": {
      "text/plain": [
       "array([[ 0.28932008, -1.3463791 ,  0.75372   ,  0.45973672],\n",
       "       [-0.78150063, -0.22818964,  0.3615833 , -0.56923821],\n",
       "       [ 0.48223882,  1.63680322,  1.13758606, -0.06794191],\n",
       "       [-0.76610067, -0.52240292,  0.91908973, -0.32433938]])"
      ]
     },
     "execution_count": 16,
     "metadata": {},
     "output_type": "execute_result"
    }
   ],
   "source": [
    "matrix_B"
   ]
  },
  {
   "cell_type": "markdown",
   "metadata": {},
   "source": [
    "Следует преобразовать матрицу B в обратную матрицу, для этого воспользуемся линейной алгеброй из библиотеки numpy метод linalg.inv() "
   ]
  },
  {
   "cell_type": "code",
   "execution_count": 17,
   "metadata": {},
   "outputs": [],
   "source": [
    "matrix_B = np.linalg.inv(matrix_B)"
   ]
  },
  {
   "cell_type": "markdown",
   "metadata": {},
   "source": [
    "Выведем полученную обратную матрицу."
   ]
  },
  {
   "cell_type": "code",
   "execution_count": 18,
   "metadata": {},
   "outputs": [
    {
     "data": {
      "text/plain": [
       "array([[ 1.72781033,  3.38915488,  0.72826013, -3.65166261],\n",
       "       [-0.81417719, -1.26382323,  0.0980818 ,  1.04349171],\n",
       "       [ 0.32934158,  0.03032095,  0.38162647,  0.33366945],\n",
       "       [-1.8365135 , -5.88377892, -0.79672664,  4.80697169]])"
      ]
     },
     "execution_count": 18,
     "metadata": {},
     "output_type": "execute_result"
    }
   ],
   "source": [
    "matrix_B"
   ]
  },
  {
   "cell_type": "markdown",
   "metadata": {},
   "source": [
    "Создадим признаки умноженные на обрутную матрицу."
   ]
  },
  {
   "cell_type": "code",
   "execution_count": 19,
   "metadata": {},
   "outputs": [],
   "source": [
    "reverse_fetures = features @ matrix_B"
   ]
  },
  {
   "cell_type": "markdown",
   "metadata": {},
   "source": [
    "Выведем полученные признаки."
   ]
  },
  {
   "cell_type": "code",
   "execution_count": 20,
   "metadata": {},
   "outputs": [
    {
     "data": {
      "text/html": [
       "<div>\n",
       "<style scoped>\n",
       "    .dataframe tbody tr th:only-of-type {\n",
       "        vertical-align: middle;\n",
       "    }\n",
       "\n",
       "    .dataframe tbody tr th {\n",
       "        vertical-align: top;\n",
       "    }\n",
       "\n",
       "    .dataframe thead th {\n",
       "        text-align: right;\n",
       "    }\n",
       "</style>\n",
       "<table border=\"1\" class=\"dataframe\">\n",
       "  <thead>\n",
       "    <tr style=\"text-align: right;\">\n",
       "      <th></th>\n",
       "      <th>0</th>\n",
       "      <th>1</th>\n",
       "      <th>2</th>\n",
       "      <th>3</th>\n",
       "    </tr>\n",
       "  </thead>\n",
       "  <tbody>\n",
       "    <tr>\n",
       "      <th>0</th>\n",
       "      <td>16301.852289</td>\n",
       "      <td>1449.607950</td>\n",
       "      <td>18932.625869</td>\n",
       "      <td>16593.942969</td>\n",
       "    </tr>\n",
       "    <tr>\n",
       "      <th>1</th>\n",
       "      <td>12475.691291</td>\n",
       "      <td>1088.176611</td>\n",
       "      <td>14505.520950</td>\n",
       "      <td>12732.246522</td>\n",
       "    </tr>\n",
       "    <tr>\n",
       "      <th>2</th>\n",
       "      <td>6892.561994</td>\n",
       "      <td>600.089164</td>\n",
       "      <td>8017.000272</td>\n",
       "      <td>7037.319617</td>\n",
       "    </tr>\n",
       "    <tr>\n",
       "      <th>3</th>\n",
       "      <td>13712.773044</td>\n",
       "      <td>1226.075943</td>\n",
       "      <td>15914.290122</td>\n",
       "      <td>13945.543149</td>\n",
       "    </tr>\n",
       "    <tr>\n",
       "      <th>4</th>\n",
       "      <td>8574.746028</td>\n",
       "      <td>759.379008</td>\n",
       "      <td>9963.925454</td>\n",
       "      <td>8734.338635</td>\n",
       "    </tr>\n",
       "    <tr>\n",
       "      <th>...</th>\n",
       "      <td>...</td>\n",
       "      <td>...</td>\n",
       "      <td>...</td>\n",
       "      <td>...</td>\n",
       "    </tr>\n",
       "    <tr>\n",
       "      <th>4995</th>\n",
       "      <td>11731.024338</td>\n",
       "      <td>1035.303455</td>\n",
       "      <td>13625.217867</td>\n",
       "      <td>11950.830918</td>\n",
       "    </tr>\n",
       "    <tr>\n",
       "      <th>4996</th>\n",
       "      <td>17227.980136</td>\n",
       "      <td>1539.964229</td>\n",
       "      <td>19999.765157</td>\n",
       "      <td>17524.564637</td>\n",
       "    </tr>\n",
       "    <tr>\n",
       "      <th>4997</th>\n",
       "      <td>11144.722915</td>\n",
       "      <td>990.836324</td>\n",
       "      <td>12937.505564</td>\n",
       "      <td>11341.877982</td>\n",
       "    </tr>\n",
       "    <tr>\n",
       "      <th>4998</th>\n",
       "      <td>10747.775964</td>\n",
       "      <td>949.428908</td>\n",
       "      <td>12479.681495</td>\n",
       "      <td>10944.716940</td>\n",
       "    </tr>\n",
       "    <tr>\n",
       "      <th>4999</th>\n",
       "      <td>13348.362392</td>\n",
       "      <td>1193.149064</td>\n",
       "      <td>15496.712563</td>\n",
       "      <td>13577.352567</td>\n",
       "    </tr>\n",
       "  </tbody>\n",
       "</table>\n",
       "<p>4847 rows × 4 columns</p>\n",
       "</div>"
      ],
      "text/plain": [
       "                 0            1             2             3\n",
       "0     16301.852289  1449.607950  18932.625869  16593.942969\n",
       "1     12475.691291  1088.176611  14505.520950  12732.246522\n",
       "2      6892.561994   600.089164   8017.000272   7037.319617\n",
       "3     13712.773044  1226.075943  15914.290122  13945.543149\n",
       "4      8574.746028   759.379008   9963.925454   8734.338635\n",
       "...            ...          ...           ...           ...\n",
       "4995  11731.024338  1035.303455  13625.217867  11950.830918\n",
       "4996  17227.980136  1539.964229  19999.765157  17524.564637\n",
       "4997  11144.722915   990.836324  12937.505564  11341.877982\n",
       "4998  10747.775964   949.428908  12479.681495  10944.716940\n",
       "4999  13348.362392  1193.149064  15496.712563  13577.352567\n",
       "\n",
       "[4847 rows x 4 columns]"
      ]
     },
     "execution_count": 20,
     "metadata": {},
     "output_type": "execute_result"
    }
   ],
   "source": [
    "reverse_fetures\n",
    "#reverse"
   ]
  },
  {
   "cell_type": "markdown",
   "metadata": {},
   "source": [
    "Создадим класс линейной регрессии LinearRegression."
   ]
  },
  {
   "cell_type": "code",
   "execution_count": 21,
   "metadata": {},
   "outputs": [],
   "source": [
    "class LinearRegression:\n",
    "    def fit(self, train_features, train_target):\n",
    "        X = np.concatenate((np.ones((train_features.shape[0], 1)), train_features), axis=1)\n",
    "        y = train_target\n",
    "        w = np.linalg.inv(X.T.dot(X)).dot(X.T).dot(y)  # < напишите код здесь >\n",
    "        self.w = w[1:]\n",
    "        self.w0 = w[0]\n",
    "\n",
    "    def predict(self, test_features):\n",
    "        return test_features.dot(self.w) + self.w0"
   ]
  },
  {
   "cell_type": "markdown",
   "metadata": {},
   "source": [
    "Обучим модель по основным признакам features."
   ]
  },
  {
   "cell_type": "code",
   "execution_count": 22,
   "metadata": {},
   "outputs": [],
   "source": [
    "#модель по изначальным/ неизмененным признакам\n",
    "model = LinearRegression()\n",
    "model.fit(features, targets)\n",
    "predictions = model.predict(features)"
   ]
  },
  {
   "cell_type": "markdown",
   "metadata": {},
   "source": [
    "Обучим модель по измененным признакам reverse_fetures."
   ]
  },
  {
   "cell_type": "code",
   "execution_count": 23,
   "metadata": {},
   "outputs": [],
   "source": [
    "#модель по измененным признакам\n",
    "model_1 = LinearRegression()\n",
    "model_1.fit(reverse_fetures, targets)\n",
    "predictions_1 = model_1.predict(reverse_fetures)"
   ]
  },
  {
   "cell_type": "markdown",
   "metadata": {},
   "source": [
    "Выведем показатель R2 по двум моделям."
   ]
  },
  {
   "cell_type": "code",
   "execution_count": 24,
   "metadata": {},
   "outputs": [
    {
     "name": "stdout",
     "output_type": "stream",
     "text": [
      "Показатель R2 для основных/ неизмененных признаков: 0.4302\n",
      "Показатель R2 для измененных признаков: 0.4302\n"
     ]
    }
   ],
   "source": [
    "print(f'Показатель R2 для основных/ неизмененных признаков: {r2_score(targets, predictions).round(4)}')\n",
    "print(f'Показатель R2 для измененных признаков: {r2_score(targets, predictions_1).round(4)}')"
   ]
  },
  {
   "cell_type": "markdown",
   "metadata": {},
   "source": [
    "На практике исходя из полученного результата можно сказать, что качество линейной регрессии не измениться при умножении признаков на обратную матрицу."
   ]
  },
  {
   "cell_type": "code",
   "execution_count": 25,
   "metadata": {},
   "outputs": [
    {
     "data": {
      "text/html": [
       "<div>\n",
       "<style scoped>\n",
       "    .dataframe tbody tr th:only-of-type {\n",
       "        vertical-align: middle;\n",
       "    }\n",
       "\n",
       "    .dataframe tbody tr th {\n",
       "        vertical-align: top;\n",
       "    }\n",
       "\n",
       "    .dataframe thead th {\n",
       "        text-align: right;\n",
       "    }\n",
       "</style>\n",
       "<table border=\"1\" class=\"dataframe\">\n",
       "  <thead>\n",
       "    <tr style=\"text-align: right;\">\n",
       "      <th></th>\n",
       "      <th>0</th>\n",
       "      <th>1</th>\n",
       "      <th>2</th>\n",
       "      <th>3</th>\n",
       "    </tr>\n",
       "  </thead>\n",
       "  <tbody>\n",
       "    <tr>\n",
       "      <th>0</th>\n",
       "      <td>0</td>\n",
       "      <td>40</td>\n",
       "      <td>49600</td>\n",
       "      <td>0</td>\n",
       "    </tr>\n",
       "    <tr>\n",
       "      <th>1</th>\n",
       "      <td>0</td>\n",
       "      <td>45</td>\n",
       "      <td>38000</td>\n",
       "      <td>0</td>\n",
       "    </tr>\n",
       "    <tr>\n",
       "      <th>2</th>\n",
       "      <td>0</td>\n",
       "      <td>28</td>\n",
       "      <td>21000</td>\n",
       "      <td>0</td>\n",
       "    </tr>\n",
       "    <tr>\n",
       "      <th>3</th>\n",
       "      <td>0</td>\n",
       "      <td>20</td>\n",
       "      <td>41700</td>\n",
       "      <td>1</td>\n",
       "    </tr>\n",
       "    <tr>\n",
       "      <th>4</th>\n",
       "      <td>0</td>\n",
       "      <td>27</td>\n",
       "      <td>26100</td>\n",
       "      <td>0</td>\n",
       "    </tr>\n",
       "    <tr>\n",
       "      <th>...</th>\n",
       "      <td>...</td>\n",
       "      <td>...</td>\n",
       "      <td>...</td>\n",
       "      <td>...</td>\n",
       "    </tr>\n",
       "    <tr>\n",
       "      <th>4995</th>\n",
       "      <td>0</td>\n",
       "      <td>27</td>\n",
       "      <td>35700</td>\n",
       "      <td>1</td>\n",
       "    </tr>\n",
       "    <tr>\n",
       "      <th>4996</th>\n",
       "      <td>0</td>\n",
       "      <td>33</td>\n",
       "      <td>52400</td>\n",
       "      <td>0</td>\n",
       "    </tr>\n",
       "    <tr>\n",
       "      <th>4997</th>\n",
       "      <td>0</td>\n",
       "      <td>19</td>\n",
       "      <td>33900</td>\n",
       "      <td>1</td>\n",
       "    </tr>\n",
       "    <tr>\n",
       "      <th>4998</th>\n",
       "      <td>0</td>\n",
       "      <td>21</td>\n",
       "      <td>32700</td>\n",
       "      <td>2</td>\n",
       "    </tr>\n",
       "    <tr>\n",
       "      <th>4999</th>\n",
       "      <td>0</td>\n",
       "      <td>27</td>\n",
       "      <td>40600</td>\n",
       "      <td>0</td>\n",
       "    </tr>\n",
       "  </tbody>\n",
       "</table>\n",
       "<p>4847 rows × 4 columns</p>\n",
       "</div>"
      ],
      "text/plain": [
       "      0   1      2  3\n",
       "0     0  40  49600  0\n",
       "1     0  45  38000  0\n",
       "2     0  28  21000  0\n",
       "3     0  20  41700  1\n",
       "4     0  27  26100  0\n",
       "...  ..  ..    ... ..\n",
       "4995  0  27  35700  1\n",
       "4996  0  33  52400  0\n",
       "4997  0  19  33900  1\n",
       "4998  0  21  32700  2\n",
       "4999  0  27  40600  0\n",
       "\n",
       "[4847 rows x 4 columns]"
      ]
     },
     "metadata": {},
     "output_type": "display_data"
    }
   ],
   "source": [
    "# если я правильно понимаю то декодировка данных будет происходить как то так\n",
    "display(reverse_fetures.dot(np.linalg.inv(matrix_B)).astype('int'))"
   ]
  },
  {
   "cell_type": "code",
   "execution_count": 26,
   "metadata": {},
   "outputs": [
    {
     "data": {
      "text/html": [
       "<div>\n",
       "<style scoped>\n",
       "    .dataframe tbody tr th:only-of-type {\n",
       "        vertical-align: middle;\n",
       "    }\n",
       "\n",
       "    .dataframe tbody tr th {\n",
       "        vertical-align: top;\n",
       "    }\n",
       "\n",
       "    .dataframe thead th {\n",
       "        text-align: right;\n",
       "    }\n",
       "</style>\n",
       "<table border=\"1\" class=\"dataframe\">\n",
       "  <thead>\n",
       "    <tr style=\"text-align: right;\">\n",
       "      <th></th>\n",
       "      <th>Пол</th>\n",
       "      <th>Возраст</th>\n",
       "      <th>Зарплата</th>\n",
       "      <th>Члены семьи</th>\n",
       "    </tr>\n",
       "  </thead>\n",
       "  <tbody>\n",
       "    <tr>\n",
       "      <th>0</th>\n",
       "      <td>1</td>\n",
       "      <td>41</td>\n",
       "      <td>49600</td>\n",
       "      <td>1</td>\n",
       "    </tr>\n",
       "    <tr>\n",
       "      <th>1</th>\n",
       "      <td>0</td>\n",
       "      <td>46</td>\n",
       "      <td>38000</td>\n",
       "      <td>1</td>\n",
       "    </tr>\n",
       "    <tr>\n",
       "      <th>2</th>\n",
       "      <td>0</td>\n",
       "      <td>29</td>\n",
       "      <td>21000</td>\n",
       "      <td>0</td>\n",
       "    </tr>\n",
       "    <tr>\n",
       "      <th>3</th>\n",
       "      <td>0</td>\n",
       "      <td>21</td>\n",
       "      <td>41700</td>\n",
       "      <td>2</td>\n",
       "    </tr>\n",
       "    <tr>\n",
       "      <th>4</th>\n",
       "      <td>1</td>\n",
       "      <td>28</td>\n",
       "      <td>26100</td>\n",
       "      <td>0</td>\n",
       "    </tr>\n",
       "    <tr>\n",
       "      <th>...</th>\n",
       "      <td>...</td>\n",
       "      <td>...</td>\n",
       "      <td>...</td>\n",
       "      <td>...</td>\n",
       "    </tr>\n",
       "    <tr>\n",
       "      <th>4995</th>\n",
       "      <td>0</td>\n",
       "      <td>28</td>\n",
       "      <td>35700</td>\n",
       "      <td>2</td>\n",
       "    </tr>\n",
       "    <tr>\n",
       "      <th>4996</th>\n",
       "      <td>0</td>\n",
       "      <td>34</td>\n",
       "      <td>52400</td>\n",
       "      <td>1</td>\n",
       "    </tr>\n",
       "    <tr>\n",
       "      <th>4997</th>\n",
       "      <td>0</td>\n",
       "      <td>20</td>\n",
       "      <td>33900</td>\n",
       "      <td>2</td>\n",
       "    </tr>\n",
       "    <tr>\n",
       "      <th>4998</th>\n",
       "      <td>1</td>\n",
       "      <td>22</td>\n",
       "      <td>32700</td>\n",
       "      <td>3</td>\n",
       "    </tr>\n",
       "    <tr>\n",
       "      <th>4999</th>\n",
       "      <td>1</td>\n",
       "      <td>28</td>\n",
       "      <td>40600</td>\n",
       "      <td>1</td>\n",
       "    </tr>\n",
       "  </tbody>\n",
       "</table>\n",
       "<p>4847 rows × 4 columns</p>\n",
       "</div>"
      ],
      "text/plain": [
       "      Пол  Возраст  Зарплата  Члены семьи\n",
       "0       1       41     49600            1\n",
       "1       0       46     38000            1\n",
       "2       0       29     21000            0\n",
       "3       0       21     41700            2\n",
       "4       1       28     26100            0\n",
       "...   ...      ...       ...          ...\n",
       "4995    0       28     35700            2\n",
       "4996    0       34     52400            1\n",
       "4997    0       20     33900            2\n",
       "4998    1       22     32700            3\n",
       "4999    1       28     40600            1\n",
       "\n",
       "[4847 rows x 4 columns]"
      ]
     },
     "metadata": {},
     "output_type": "display_data"
    }
   ],
   "source": [
    "display(features)"
   ]
  },
  {
   "cell_type": "markdown",
   "metadata": {},
   "source": [
    "## Общий вывод"
   ]
  },
  {
   "cell_type": "markdown",
   "metadata": {},
   "source": [
    "Загрузили/ открыли файл с данными. Ознакомились с датасетом. Произвели предобработку данных, выявили наличие дублирующих строчек и избавились от них, а также убедились в отсутствии пропусков в  данных. Привели столбцы 'Возраст' и 'Зарплата' к нужному типу данных. Произвели визуализацию данных, построили графики. Посмотрели как признаки коррелируют между собой.\n",
    "\n",
    "В теоретической части доказали неизменность качества модели линейной регрессии при умножении признаков на обратную матрицу. В практической части реализовали модель линейной регрессии, после чего обучили на основных и преобразованных данных. Вывели показатели качества метрикой R2. Сравнили показатель R2 до преобразования и после,  и убедились в том, что качество линейной регрессии не измениться при умножении признаков на обратную матрицу."
   ]
  }
 ],
 "metadata": {
  "ExecuteTimeLog": [
   {
    "duration": 53,
    "start_time": "2023-02-13T17:50:42.040Z"
   },
   {
    "duration": 2280,
    "start_time": "2023-02-13T17:50:44.436Z"
   },
   {
    "duration": 95,
    "start_time": "2023-02-13T17:56:26.049Z"
   },
   {
    "duration": 1677,
    "start_time": "2023-02-13T18:01:39.030Z"
   },
   {
    "duration": 105,
    "start_time": "2023-02-13T18:01:41.525Z"
   },
   {
    "duration": 17,
    "start_time": "2023-02-13T18:01:42.277Z"
   },
   {
    "duration": 13,
    "start_time": "2023-02-13T18:01:42.648Z"
   },
   {
    "duration": 14,
    "start_time": "2023-02-13T18:01:43.364Z"
   },
   {
    "duration": 7,
    "start_time": "2023-02-13T18:01:43.729Z"
   },
   {
    "duration": 6,
    "start_time": "2023-02-13T18:01:44.133Z"
   },
   {
    "duration": 8,
    "start_time": "2023-02-13T18:01:44.882Z"
   },
   {
    "duration": 29,
    "start_time": "2023-02-13T18:01:57.677Z"
   },
   {
    "duration": 1147,
    "start_time": "2023-02-13T18:01:58.366Z"
   },
   {
    "duration": 11,
    "start_time": "2023-02-13T18:01:59.515Z"
   },
   {
    "duration": 398,
    "start_time": "2023-02-13T18:02:00.022Z"
   },
   {
    "duration": 157,
    "start_time": "2023-02-13T18:02:13.944Z"
   },
   {
    "duration": 7,
    "start_time": "2023-02-13T18:02:22.702Z"
   },
   {
    "duration": 3,
    "start_time": "2023-02-13T18:02:24.238Z"
   },
   {
    "duration": 5,
    "start_time": "2023-02-13T18:02:25.478Z"
   },
   {
    "duration": 3,
    "start_time": "2023-02-13T18:02:26.128Z"
   },
   {
    "duration": 5,
    "start_time": "2023-02-13T18:02:26.478Z"
   },
   {
    "duration": 3,
    "start_time": "2023-02-13T18:02:26.876Z"
   },
   {
    "duration": 13,
    "start_time": "2023-02-13T18:02:27.233Z"
   },
   {
    "duration": 4,
    "start_time": "2023-02-13T18:02:29.159Z"
   },
   {
    "duration": 5,
    "start_time": "2023-02-13T18:02:30.784Z"
   },
   {
    "duration": 9,
    "start_time": "2023-02-13T18:02:31.189Z"
   },
   {
    "duration": 6,
    "start_time": "2023-02-13T18:02:32.639Z"
   },
   {
    "duration": 9,
    "start_time": "2023-02-13T18:02:33.983Z"
   },
   {
    "duration": 11,
    "start_time": "2023-02-13T18:02:34.249Z"
   }
  ],
  "kernelspec": {
   "display_name": "Python 3 (ipykernel)",
   "language": "python",
   "name": "python3"
  },
  "language_info": {
   "codemirror_mode": {
    "name": "ipython",
    "version": 3
   },
   "file_extension": ".py",
   "mimetype": "text/x-python",
   "name": "python",
   "nbconvert_exporter": "python",
   "pygments_lexer": "ipython3",
   "version": "3.10.9"
  },
  "toc": {
   "base_numbering": 1,
   "nav_menu": {},
   "number_sections": true,
   "sideBar": true,
   "skip_h1_title": true,
   "title_cell": "Содержание",
   "title_sidebar": "Contents",
   "toc_cell": true,
   "toc_position": {},
   "toc_section_display": true,
   "toc_window_display": true
  }
 },
 "nbformat": 4,
 "nbformat_minor": 2
}
