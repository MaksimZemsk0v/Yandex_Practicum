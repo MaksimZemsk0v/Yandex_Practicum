{
 "cells": [
  {
   "cell_type": "markdown",
   "metadata": {
    "id": "E0vqbgi9ay0H"
   },
   "source": [
    "# Яндекс Музыка"
   ]
  },
  {
   "cell_type": "markdown",
   "metadata": {
    "id": "VUC88oWjTJw2"
   },
   "source": [
    "Сравнение Москвы и Петербурга окружено мифами. Например:\n",
    " * Москва — мегаполис, подчинённый жёсткому ритму рабочей недели;\n",
    " * Петербург — культурная столица, со своими вкусами.\n",
    "\n",
    "На данных Яндекс Музыки вы сравните поведение пользователей двух столиц.\n",
    "\n",
    "**Цель исследования** — проверить три гипотезы:\n",
    "1. Активность пользователей зависит от дня недели. Причём в Москве и Петербурге это проявляется по-разному.\n",
    "2. В понедельник утром в Москве преобладают одни жанры, а в Петербурге — другие. Так же и вечером пятницы преобладают разные жанры — в зависимости от города. \n",
    "3. Москва и Петербург предпочитают разные жанры музыки. В Москве чаще слушают поп-музыку, в Петербурге — русский рэп."
   ]
  },
  {
   "cell_type": "markdown",
   "metadata": {
    "id": "Ml1hmfXC_Zcs"
   },
   "source": [
    "## Обзор данных\n",
    "\n",
    "Составим первое представление о данных Яндекс Музыки"
   ]
  },
  {
   "cell_type": "code",
   "execution_count": 1,
   "metadata": {
    "id": "AXN7PHPN_Zcs"
   },
   "outputs": [],
   "source": [
    "import pandas as pd"
   ]
  },
  {
   "cell_type": "code",
   "execution_count": 40,
   "metadata": {
    "id": "fFVu7vqh_Zct"
   },
   "outputs": [],
   "source": [
    "# чтение файла с данными и сохранение в df\n",
    "df = pd.read_csv('/datasets/yandex_music_project.csv')"
   ]
  },
  {
   "cell_type": "markdown",
   "metadata": {
    "id": "rDoOMd3uTqnZ",
    "tags": [
     "start_task"
    ]
   },
   "source": [
    "Выведем на экран первые десять строк таблицы:"
   ]
  },
  {
   "cell_type": "code",
   "execution_count": 41,
   "metadata": {
    "deletable": false,
    "id": "oWTVX3gW_Zct"
   },
   "outputs": [
    {
     "name": "stdout",
     "output_type": "stream",
     "text": [
      "     userID                        Track            artist   genre  \\\n",
      "0  FFB692EC            Kamigata To Boots  The Mass Missile    rock   \n",
      "1  55204538  Delayed Because of Accident  Andreas Rönnberg    rock   \n",
      "2    20EC38            Funiculì funiculà       Mario Lanza     pop   \n",
      "3  A3DD03C9        Dragons in the Sunset        Fire + Ice    folk   \n",
      "4  E2DC1FAE                  Soul People        Space Echo   dance   \n",
      "5  842029A1                    Преданная         IMPERVTOR  rusrap   \n",
      "6  4CB90AA5                         True      Roman Messer   dance   \n",
      "7  F03E1C1F             Feeling This Way   Polina Griffith   dance   \n",
      "8  8FA1D3BE     И вновь продолжается бой               NaN  ruspop   \n",
      "9  E772D5C0                    Pessimist               NaN   dance   \n",
      "\n",
      "             City        time        Day  \n",
      "0  Saint-Petersburg  20:28:33  Wednesday  \n",
      "1            Moscow  14:07:09     Friday  \n",
      "2  Saint-Petersburg  20:58:07  Wednesday  \n",
      "3  Saint-Petersburg  08:37:09     Monday  \n",
      "4            Moscow  08:34:34     Monday  \n",
      "5  Saint-Petersburg  13:09:41     Friday  \n",
      "6            Moscow  13:00:07  Wednesday  \n",
      "7            Moscow  20:47:49  Wednesday  \n",
      "8            Moscow  09:17:40     Friday  \n",
      "9  Saint-Petersburg  21:20:49  Wednesday  \n"
     ]
    }
   ],
   "source": [
    "print(df.head(10))"
   ]
  },
  {
   "cell_type": "markdown",
   "metadata": {
    "id": "EO73Kwic_Zct",
    "tags": [
     "start_task"
    ]
   },
   "source": [
    "Получим общую информацию о таблице c помощью метода `info()`"
   ]
  },
  {
   "cell_type": "code",
   "execution_count": 42,
   "metadata": {
    "deletable": false,
    "id": "DSf2kIb-_Zct"
   },
   "outputs": [
    {
     "name": "stdout",
     "output_type": "stream",
     "text": [
      "<class 'pandas.core.frame.DataFrame'>\n",
      "RangeIndex: 65079 entries, 0 to 65078\n",
      "Data columns (total 7 columns):\n",
      " #   Column    Non-Null Count  Dtype \n",
      "---  ------    --------------  ----- \n",
      " 0     userID  65079 non-null  object\n",
      " 1   Track     63848 non-null  object\n",
      " 2   artist    57876 non-null  object\n",
      " 3   genre     63881 non-null  object\n",
      " 4     City    65079 non-null  object\n",
      " 5   time      65079 non-null  object\n",
      " 6   Day       65079 non-null  object\n",
      "dtypes: object(7)\n",
      "memory usage: 3.5+ MB\n"
     ]
    }
   ],
   "source": [
    "# получение общей информации о данных в таблице df\n",
    "df.info()"
   ]
  },
  {
   "cell_type": "markdown",
   "metadata": {
    "deletable": false,
    "editable": false,
    "id": "TaQ2Iwbr_Zct"
   },
   "source": [
    "Итак, в таблице семь столбцов. Тип данных во всех столбцах — `object`.\n",
    "\n",
    "Согласно документации к данным:\n",
    "* `userID` — идентификатор пользователя;\n",
    "* `Track` — название трека;  \n",
    "* `artist` — имя исполнителя;\n",
    "* `genre` — название жанра;\n",
    "* `City` — город пользователя;\n",
    "* `time` — время начала прослушивания;\n",
    "* `Day` — день недели.\n",
    "\n",
    "Количество значений в столбцах различается. Значит, в данных есть пропущенные значения."
   ]
  },
  {
   "cell_type": "markdown",
   "metadata": {
    "id": "rAfziTBDmf2h",
    "tags": [
     "start_task"
    ]
   },
   "source": [
    "В названиях колонок видны нарушения стиля:\n",
    "* Строчные буквы сочетаются с прописными.\n",
    "* Встречаются пробелы.\n",
    "* Разделение слов пробелом, а не нижним подчеркиванием."
   ]
  },
  {
   "cell_type": "markdown",
   "metadata": {
    "id": "MCB6-dXG_Zct"
   },
   "source": [
    "**Выводы**\n",
    "\n",
    "В каждой строке таблицы — данные о прослушанном треке. Часть колонок описывает саму композицию: название, исполнителя и жанр. Остальные данные рассказывают о пользователе: из какого он города, когда он слушал музыку. \n",
    "\n",
    "Предварительно можно утверждать, что данных достаточно для проверки гипотез. Но встречаются пропуски в данных, а в названиях колонок — расхождения с 'хорошим' стилем.\n",
    "\n",
    "Чтобы двигаться дальше, нужно устранить проблемы в данных."
   ]
  },
  {
   "cell_type": "markdown",
   "metadata": {
    "id": "SjYF6Ub9_Zct"
   },
   "source": [
    "## Предобработка данных"
   ]
  },
  {
   "cell_type": "markdown",
   "metadata": {},
   "source": [
    "Исправим стиль в заголовках столбцов, исключим пропуски. Затем проверим данные на дубликаты."
   ]
  },
  {
   "cell_type": "markdown",
   "metadata": {
    "id": "dIaKXr29_Zct",
    "tags": [
     "start_task"
    ]
   },
   "source": [
    "Выведем на экран названия столбцов:"
   ]
  },
  {
   "cell_type": "code",
   "execution_count": 44,
   "metadata": {
    "id": "oKOTdF_Q_Zct"
   },
   "outputs": [
    {
     "name": "stdout",
     "output_type": "stream",
     "text": [
      "Index(['  userID', 'Track', 'artist', 'genre', '  City  ', 'time', 'Day'], dtype='object')\n"
     ]
    }
   ],
   "source": [
    "print(df.columns)"
   ]
  },
  {
   "cell_type": "markdown",
   "metadata": {
    "id": "zj5534cv_Zct",
    "tags": [
     "start_task"
    ]
   },
   "source": [
    "Приведем названия в соответствие с 'хорошим' стилем:\n",
    "* несколько слов в названии запишем в «змеином_регистре»,\n",
    "* все символы сделаем строчными,\n",
    "* устраним пробелы.\n",
    "\n",
    "Для этого переименуем колонки так:\n",
    "* `'  userID'` → `'user_id'`;\n",
    "* `'Track'` → `'track'`;\n",
    "* `'  City  '` → `'city'`;\n",
    "* `'Day'` → `'day'`."
   ]
  },
  {
   "cell_type": "code",
   "execution_count": 45,
   "metadata": {
    "id": "ISlFqs5y_Zct"
   },
   "outputs": [],
   "source": [
    "df = df.rename(columns={'  userID': 'user_id', 'Track': 'track', '  City  ': 'city', 'Day': 'day'})"
   ]
  },
  {
   "cell_type": "markdown",
   "metadata": {
    "id": "1dqbh00J_Zct",
    "tags": [
     "start_task"
    ]
   },
   "source": [
    "Проверим результат. Для этого ещё раз выведем на экран названия столбцов:"
   ]
  },
  {
   "cell_type": "code",
   "execution_count": 46,
   "metadata": {
    "id": "d4NOAmTW_Zct"
   },
   "outputs": [
    {
     "name": "stdout",
     "output_type": "stream",
     "text": [
      "Index(['user_id', 'track', 'artist', 'genre', 'city', 'time', 'day'], dtype='object')\n"
     ]
    }
   ],
   "source": [
    "print(df.columns)"
   ]
  },
  {
   "cell_type": "markdown",
   "metadata": {
    "id": "5ISfbcfY_Zct",
    "tags": [
     "start_task"
    ]
   },
   "source": [
    "Сначала посчитаем, сколько в таблице пропущенных значений"
   ]
  },
  {
   "cell_type": "code",
   "execution_count": 47,
   "metadata": {
    "id": "RskX29qr_Zct"
   },
   "outputs": [
    {
     "name": "stdout",
     "output_type": "stream",
     "text": [
      "user_id       0\n",
      "track      1231\n",
      "artist     7203\n",
      "genre      1198\n",
      "city          0\n",
      "time          0\n",
      "day           0\n",
      "dtype: int64\n"
     ]
    }
   ],
   "source": [
    "print(df.isna().sum())"
   ]
  },
  {
   "cell_type": "markdown",
   "metadata": {
    "id": "qubhgnlO_Zct"
   },
   "source": [
    "Не все пропущенные значения влияют на исследование. Так в `track` и `artist` пропуски не важны для вашей работы. Достаточно заменить их явными обозначениями.\n",
    "\n",
    "Но пропуски в `genre` могут помешать сравнению музыкальных вкусов в Москве и Санкт-Петербурге. На практике было бы правильно установить причину пропусков и восстановить данные. Такой возможности нет в учебном проекте. Следует:\n",
    "* заполнить и эти пропуски явными обозначениями;\n",
    "* оценить, насколько они повредят расчётам. "
   ]
  },
  {
   "cell_type": "markdown",
   "metadata": {
    "id": "fSv2laPA_Zct",
    "tags": [
     "start_task"
    ]
   },
   "source": [
    "Заменим пропущенные значения в столбцах `track`, `artist` и `genre` на строку `'unknown'`. Для этого создадим список `columns_to_replace`, где переберем все элементы этого столбца циклом `for` и для каждого столбца выполните замену пропущенных значений"
   ]
  },
  {
   "cell_type": "code",
   "execution_count": 48,
   "metadata": {
    "deletable": false,
    "id": "KplB5qWs_Zct"
   },
   "outputs": [],
   "source": [
    "# перебор названий столбцов в цикле и замена пропущенных значений на 'unknown'\n",
    "columns_to_replace = ['track', 'artist', 'genre']\n",
    "for column in columns_to_replace:\n",
    "    df[column] = df[column].fillna('unknown')"
   ]
  },
  {
   "cell_type": "markdown",
   "metadata": {
    "id": "Ilsm-MZo_Zct",
    "tags": [
     "start_task"
    ]
   },
   "source": [
    "Убедимся, что в таблице не осталось пропусков. Для этого ещё раз посчитаем пропущенные значения."
   ]
  },
  {
   "cell_type": "code",
   "execution_count": 49,
   "metadata": {
    "deletable": false,
    "id": "Tq4nYRX4_Zct"
   },
   "outputs": [
    {
     "name": "stdout",
     "output_type": "stream",
     "text": [
      "user_id    0\n",
      "track      0\n",
      "artist     0\n",
      "genre      0\n",
      "city       0\n",
      "time       0\n",
      "day        0\n",
      "dtype: int64\n"
     ]
    }
   ],
   "source": [
    "# подсчёт пропусков\n",
    "print(df.isna().sum())"
   ]
  },
  {
   "cell_type": "markdown",
   "metadata": {
    "id": "BWKRtBJ3_Zct",
    "tags": [
     "start_task"
    ]
   },
   "source": [
    "Посчитаем явные дубликаты в таблице"
   ]
  },
  {
   "cell_type": "code",
   "execution_count": 50,
   "metadata": {
    "deletable": false,
    "id": "36eES_S0_Zct"
   },
   "outputs": [
    {
     "name": "stdout",
     "output_type": "stream",
     "text": [
      "3826\n"
     ]
    }
   ],
   "source": [
    "# подсчёт явных дубликатов\n",
    "print(df.duplicated().sum())"
   ]
  },
  {
   "cell_type": "markdown",
   "metadata": {
    "id": "Ot25h6XR_Zct",
    "tags": [
     "start_task"
    ]
   },
   "source": [
    "Избавимся от явных дубликатов"
   ]
  },
  {
   "cell_type": "code",
   "execution_count": 51,
   "metadata": {
    "deletable": false,
    "id": "exFHq6tt_Zct"
   },
   "outputs": [],
   "source": [
    "# удаление явных дубликатов\n",
    "df = df.drop_duplicates()"
   ]
  },
  {
   "cell_type": "code",
   "execution_count": 52,
   "metadata": {
    "deletable": false,
    "id": "-8PuNWQ0_Zct"
   },
   "outputs": [
    {
     "name": "stdout",
     "output_type": "stream",
     "text": [
      "0\n"
     ]
    }
   ],
   "source": [
    "# проверка на отсутствие дубликатов\n",
    "print(df.duplicated().sum())"
   ]
  },
  {
   "cell_type": "markdown",
   "metadata": {
    "id": "QlFBsxAr_Zct"
   },
   "source": [
    "Теперь рассмотрим колонку `genre` и избавимся от неявных дубликатов. Название одного и того же жанра может быть записано немного по-разному. Такие ошибки повлияют на результат исследования"
   ]
  },
  {
   "cell_type": "markdown",
   "metadata": {
    "id": "eSjWwsOh_Zct",
    "tags": [
     "start_task"
    ]
   },
   "source": [
    "Выведем на экран список уникальных названий жанров, отсортированный в алфавитном порядке. Для этого:\n",
    "1. извлечем нужный столбец датафрейма; \n",
    "2. применим к нему метод сортировки;\n",
    "3. для отсортированного столбца вызовем метод, который вернёт уникальные значения из столбца."
   ]
  },
  {
   "cell_type": "code",
   "execution_count": 53,
   "metadata": {
    "deletable": false,
    "id": "JIUcqzZN_Zct"
   },
   "outputs": [
    {
     "data": {
      "text/plain": [
       "array(['acid', 'acoustic', 'action', 'adult', 'africa', 'afrikaans',\n",
       "       'alternative', 'alternativepunk', 'ambient', 'americana',\n",
       "       'animated', 'anime', 'arabesk', 'arabic', 'arena',\n",
       "       'argentinetango', 'art', 'audiobook', 'author', 'avantgarde',\n",
       "       'axé', 'baile', 'balkan', 'beats', 'bigroom', 'black', 'bluegrass',\n",
       "       'blues', 'bollywood', 'bossa', 'brazilian', 'breakbeat', 'breaks',\n",
       "       'broadway', 'cantautori', 'cantopop', 'canzone', 'caribbean',\n",
       "       'caucasian', 'celtic', 'chamber', 'chanson', 'children', 'chill',\n",
       "       'chinese', 'choral', 'christian', 'christmas', 'classical',\n",
       "       'classicmetal', 'club', 'colombian', 'comedy', 'conjazz',\n",
       "       'contemporary', 'country', 'cuban', 'dance', 'dancehall',\n",
       "       'dancepop', 'dark', 'death', 'deep', 'deutschrock', 'deutschspr',\n",
       "       'dirty', 'disco', 'dnb', 'documentary', 'downbeat', 'downtempo',\n",
       "       'drum', 'dub', 'dubstep', 'eastern', 'easy', 'electronic',\n",
       "       'electropop', 'emo', 'entehno', 'epicmetal', 'estrada', 'ethnic',\n",
       "       'eurofolk', 'european', 'experimental', 'extrememetal', 'fado',\n",
       "       'fairytail', 'film', 'fitness', 'flamenco', 'folk', 'folklore',\n",
       "       'folkmetal', 'folkrock', 'folktronica', 'forró', 'frankreich',\n",
       "       'französisch', 'french', 'funk', 'future', 'gangsta', 'garage',\n",
       "       'german', 'ghazal', 'gitarre', 'glitch', 'gospel', 'gothic',\n",
       "       'grime', 'grunge', 'gypsy', 'handsup', \"hard'n'heavy\", 'hardcore',\n",
       "       'hardstyle', 'hardtechno', 'hip', 'hip-hop', 'hiphop',\n",
       "       'historisch', 'holiday', 'hop', 'horror', 'house', 'hymn', 'idm',\n",
       "       'independent', 'indian', 'indie', 'indipop', 'industrial',\n",
       "       'inspirational', 'instrumental', 'international', 'irish', 'jam',\n",
       "       'japanese', 'jazz', 'jewish', 'jpop', 'jungle', 'k-pop',\n",
       "       'karadeniz', 'karaoke', 'kayokyoku', 'korean', 'laiko', 'latin',\n",
       "       'latino', 'leftfield', 'local', 'lounge', 'loungeelectronic',\n",
       "       'lovers', 'malaysian', 'mandopop', 'marschmusik', 'meditative',\n",
       "       'mediterranean', 'melodic', 'metal', 'metalcore', 'mexican',\n",
       "       'middle', 'minimal', 'miscellaneous', 'modern', 'mood', 'mpb',\n",
       "       'muslim', 'native', 'neoklassik', 'neue', 'new', 'newage',\n",
       "       'newwave', 'nu', 'nujazz', 'numetal', 'oceania', 'old', 'opera',\n",
       "       'orchestral', 'other', 'piano', 'podcasts', 'pop', 'popdance',\n",
       "       'popelectronic', 'popeurodance', 'poprussian', 'post',\n",
       "       'posthardcore', 'postrock', 'power', 'progmetal', 'progressive',\n",
       "       'psychedelic', 'punjabi', 'punk', 'quebecois', 'ragga', 'ram',\n",
       "       'rancheras', 'rap', 'rave', 'reggae', 'reggaeton', 'regional',\n",
       "       'relax', 'religious', 'retro', 'rhythm', 'rnb', 'rnr', 'rock',\n",
       "       'rockabilly', 'rockalternative', 'rockindie', 'rockother',\n",
       "       'romance', 'roots', 'ruspop', 'rusrap', 'rusrock', 'russian',\n",
       "       'salsa', 'samba', 'scenic', 'schlager', 'self', 'sertanejo',\n",
       "       'shanson', 'shoegazing', 'showtunes', 'singer', 'ska', 'skarock',\n",
       "       'slow', 'smooth', 'soft', 'soul', 'soulful', 'sound', 'soundtrack',\n",
       "       'southern', 'specialty', 'speech', 'spiritual', 'sport',\n",
       "       'stonerrock', 'surf', 'swing', 'synthpop', 'synthrock',\n",
       "       'sängerportrait', 'tango', 'tanzorchester', 'taraftar', 'tatar',\n",
       "       'tech', 'techno', 'teen', 'thrash', 'top', 'traditional',\n",
       "       'tradjazz', 'trance', 'tribal', 'trip', 'triphop', 'tropical',\n",
       "       'türk', 'türkçe', 'ukrrock', 'unknown', 'urban', 'uzbek',\n",
       "       'variété', 'vi', 'videogame', 'vocal', 'western', 'world',\n",
       "       'worldbeat', 'ïîï', 'электроника'], dtype=object)"
      ]
     },
     "execution_count": 53,
     "metadata": {},
     "output_type": "execute_result"
    }
   ],
   "source": [
    "# Просмотр уникальных названий жанров\n",
    "genre_table = df['genre']\n",
    "genre_table.sort_values().unique()\n",
    "#print(df[['genre']].sort_values(by='genre')['genre'].unique())"
   ]
  },
  {
   "cell_type": "markdown",
   "metadata": {
    "id": "qej-Qmuo_Zct",
    "tags": [
     "start_task"
    ]
   },
   "source": [
    "Просмотрим список и найдем неявные дубликаты названия `hiphop`. Это могут быть названия с ошибками или альтернативные названия того же жанра.\n",
    "\n",
    "Видно, что есть неявные дубликаты названия `hiphop`:\n",
    "* *hip*,\n",
    "* *hop*,\n",
    "* *hip-hop*.\n",
    "\n",
    "Приведем к одному виду."
   ]
  },
  {
   "cell_type": "code",
   "execution_count": 54,
   "metadata": {
    "deletable": false,
    "id": "ErNDkmns_Zct"
   },
   "outputs": [],
   "source": [
    "# Устранение неявных дубликатов\n",
    "df['genre'] = df['genre'].replace(['hip', 'hop', 'hip-hop'], 'hiphop')"
   ]
  },
  {
   "cell_type": "markdown",
   "metadata": {
    "id": "zQKF16_RG15m",
    "tags": [
     "start_task"
    ]
   },
   "source": [
    "Проверим, что заменили неправильные названия. Выведем отсортированный список уникальных значений столбца `genre`:"
   ]
  },
  {
   "cell_type": "code",
   "execution_count": 55,
   "metadata": {
    "deletable": false,
    "id": "wvixALnFG15m"
   },
   "outputs": [
    {
     "data": {
      "text/plain": [
       "array(['acid', 'acoustic', 'action', 'adult', 'africa', 'afrikaans',\n",
       "       'alternative', 'alternativepunk', 'ambient', 'americana',\n",
       "       'animated', 'anime', 'arabesk', 'arabic', 'arena',\n",
       "       'argentinetango', 'art', 'audiobook', 'author', 'avantgarde',\n",
       "       'axé', 'baile', 'balkan', 'beats', 'bigroom', 'black', 'bluegrass',\n",
       "       'blues', 'bollywood', 'bossa', 'brazilian', 'breakbeat', 'breaks',\n",
       "       'broadway', 'cantautori', 'cantopop', 'canzone', 'caribbean',\n",
       "       'caucasian', 'celtic', 'chamber', 'chanson', 'children', 'chill',\n",
       "       'chinese', 'choral', 'christian', 'christmas', 'classical',\n",
       "       'classicmetal', 'club', 'colombian', 'comedy', 'conjazz',\n",
       "       'contemporary', 'country', 'cuban', 'dance', 'dancehall',\n",
       "       'dancepop', 'dark', 'death', 'deep', 'deutschrock', 'deutschspr',\n",
       "       'dirty', 'disco', 'dnb', 'documentary', 'downbeat', 'downtempo',\n",
       "       'drum', 'dub', 'dubstep', 'eastern', 'easy', 'electronic',\n",
       "       'electropop', 'emo', 'entehno', 'epicmetal', 'estrada', 'ethnic',\n",
       "       'eurofolk', 'european', 'experimental', 'extrememetal', 'fado',\n",
       "       'fairytail', 'film', 'fitness', 'flamenco', 'folk', 'folklore',\n",
       "       'folkmetal', 'folkrock', 'folktronica', 'forró', 'frankreich',\n",
       "       'französisch', 'french', 'funk', 'future', 'gangsta', 'garage',\n",
       "       'german', 'ghazal', 'gitarre', 'glitch', 'gospel', 'gothic',\n",
       "       'grime', 'grunge', 'gypsy', 'handsup', \"hard'n'heavy\", 'hardcore',\n",
       "       'hardstyle', 'hardtechno', 'hiphop', 'historisch', 'holiday',\n",
       "       'horror', 'house', 'hymn', 'idm', 'independent', 'indian', 'indie',\n",
       "       'indipop', 'industrial', 'inspirational', 'instrumental',\n",
       "       'international', 'irish', 'jam', 'japanese', 'jazz', 'jewish',\n",
       "       'jpop', 'jungle', 'k-pop', 'karadeniz', 'karaoke', 'kayokyoku',\n",
       "       'korean', 'laiko', 'latin', 'latino', 'leftfield', 'local',\n",
       "       'lounge', 'loungeelectronic', 'lovers', 'malaysian', 'mandopop',\n",
       "       'marschmusik', 'meditative', 'mediterranean', 'melodic', 'metal',\n",
       "       'metalcore', 'mexican', 'middle', 'minimal', 'miscellaneous',\n",
       "       'modern', 'mood', 'mpb', 'muslim', 'native', 'neoklassik', 'neue',\n",
       "       'new', 'newage', 'newwave', 'nu', 'nujazz', 'numetal', 'oceania',\n",
       "       'old', 'opera', 'orchestral', 'other', 'piano', 'podcasts', 'pop',\n",
       "       'popdance', 'popelectronic', 'popeurodance', 'poprussian', 'post',\n",
       "       'posthardcore', 'postrock', 'power', 'progmetal', 'progressive',\n",
       "       'psychedelic', 'punjabi', 'punk', 'quebecois', 'ragga', 'ram',\n",
       "       'rancheras', 'rap', 'rave', 'reggae', 'reggaeton', 'regional',\n",
       "       'relax', 'religious', 'retro', 'rhythm', 'rnb', 'rnr', 'rock',\n",
       "       'rockabilly', 'rockalternative', 'rockindie', 'rockother',\n",
       "       'romance', 'roots', 'ruspop', 'rusrap', 'rusrock', 'russian',\n",
       "       'salsa', 'samba', 'scenic', 'schlager', 'self', 'sertanejo',\n",
       "       'shanson', 'shoegazing', 'showtunes', 'singer', 'ska', 'skarock',\n",
       "       'slow', 'smooth', 'soft', 'soul', 'soulful', 'sound', 'soundtrack',\n",
       "       'southern', 'specialty', 'speech', 'spiritual', 'sport',\n",
       "       'stonerrock', 'surf', 'swing', 'synthpop', 'synthrock',\n",
       "       'sängerportrait', 'tango', 'tanzorchester', 'taraftar', 'tatar',\n",
       "       'tech', 'techno', 'teen', 'thrash', 'top', 'traditional',\n",
       "       'tradjazz', 'trance', 'tribal', 'trip', 'triphop', 'tropical',\n",
       "       'türk', 'türkçe', 'ukrrock', 'unknown', 'urban', 'uzbek',\n",
       "       'variété', 'vi', 'videogame', 'vocal', 'western', 'world',\n",
       "       'worldbeat', 'ïîï', 'электроника'], dtype=object)"
      ]
     },
     "execution_count": 55,
     "metadata": {},
     "output_type": "execute_result"
    }
   ],
   "source": [
    "# Проверка на неявные дубликаты\n",
    "genre_table = df['genre']\n",
    "genre_table.sort_values().unique()"
   ]
  },
  {
   "cell_type": "markdown",
   "metadata": {
    "id": "jz6a9-7HQUDd"
   },
   "source": [
    "**Выводы**\n",
    "\n",
    "Предобработка обнаружила три проблемы в данных:\n",
    "\n",
    "- нарушения в стиле заголовков,\n",
    "- пропущенные значения,\n",
    "- дубликаты — явные и неявные.\n",
    "\n",
    "Исправили заголовки, чтобы упростить работу с таблицей. Без дубликатов исследование станет более точным.\n",
    "\n",
    "Пропущенные значения заменили на `'unknown'`."
   ]
  },
  {
   "cell_type": "markdown",
   "metadata": {
    "deletable": false,
    "editable": false,
    "id": "WttZHXH0SqKk"
   },
   "source": [
    "## Проверка гипотез"
   ]
  },
  {
   "cell_type": "markdown",
   "metadata": {
    "deletable": false,
    "editable": false,
    "id": "Im936VVi_Zcu"
   },
   "source": [
    "### Сравнение поведения пользователей двух столиц"
   ]
  },
  {
   "cell_type": "markdown",
   "metadata": {
    "id": "nwt_MuaL_Zcu"
   },
   "source": [
    "Первая гипотеза утверждает, что пользователи по-разному слушают музыку в Москве и Санкт-Петербурге. Проверим это предположение по данным о трёх днях недели — понедельнике, среде и пятнице. Для этого:\n",
    "\n",
    "* Разделим пользователей Москвы и Санкт-Петербурга.\n",
    "* Сравним, сколько треков послушала каждая группа пользователей в понедельник, среду и пятницу.\n"
   ]
  },
  {
   "cell_type": "markdown",
   "metadata": {
    "id": "8Dw_YMmT_Zcu",
    "tags": [
     "start_task"
    ]
   },
   "source": [
    "Для тренировки сначала выполним каждый из расчётов по отдельности. \n",
    "\n",
    "Оценим активность пользователей в каждом городе. Сгруппируем данные по городу и посчитаем прослушивания в каждой группе.\n",
    "\n"
   ]
  },
  {
   "cell_type": "code",
   "execution_count": 56,
   "metadata": {
    "deletable": false,
    "id": "0_Qs96oh_Zcu"
   },
   "outputs": [
    {
     "name": "stdout",
     "output_type": "stream",
     "text": [
      "city\n",
      "Moscow              42741\n",
      "Saint-Petersburg    18512\n",
      "Name: time, dtype: int64\n"
     ]
    }
   ],
   "source": [
    "# Подсчёт прослушиваний в каждом городе\n",
    "print(df.groupby('city')['time'].count())"
   ]
  },
  {
   "cell_type": "markdown",
   "metadata": {
    "id": "dzli3w8o_Zcu",
    "tags": [
     "start_task"
    ]
   },
   "source": [
    "В Москве прослушиваний больше, чем в Петербурге. Из этого не следует, что московские пользователи чаще слушают музыку. Просто самих пользователей в Москве больше.\n",
    "\n",
    "Теперь сгруппируем данные по дню недели и посчитаем прослушивания в понедельник, среду и пятницу"
   ]
  },
  {
   "cell_type": "code",
   "execution_count": 57,
   "metadata": {
    "deletable": false,
    "id": "uZMKjiJz_Zcu"
   },
   "outputs": [
    {
     "data": {
      "text/plain": [
       "day\n",
       "Friday       21840\n",
       "Monday       21354\n",
       "Wednesday    18059\n",
       "Name: time, dtype: int64"
      ]
     },
     "execution_count": 57,
     "metadata": {},
     "output_type": "execute_result"
    }
   ],
   "source": [
    "# Подсчёт прослушиваний в каждый из трёх дней\n",
    "df.groupby('day')['time'].count()"
   ]
  },
  {
   "cell_type": "markdown",
   "metadata": {
    "deletable": false,
    "editable": false,
    "id": "cC2tNrlL_Zcu"
   },
   "source": [
    "В среднем пользователи из двух городов менее активны по средам. Но картина может измениться, если рассмотреть каждый город в отдельности."
   ]
  },
  {
   "cell_type": "markdown",
   "metadata": {
    "id": "POzs8bGa_Zcu",
    "tags": [
     "start_task"
    ]
   },
   "source": [
    "Посмотрели как работает группировка по городу и по дням недели. Теперь напишем функцию, которая объединит два эти расчёта.\n",
    "Создадим функцию `number_tracks()`, которая посчитает прослушивания для заданного дня и города. В эту функцию заложим два параметра:\n",
    "* день недели,\n",
    "* название города.\n",
    "\n",
    "В функции объявим новую переменную куда сохраним строки исходной таблицы, у которых значение:\n",
    "  * в колонке `day` равно параметру `day`,\n",
    "  * в колонке `city` равно параметру `city`."
   ]
  },
  {
   "cell_type": "code",
   "execution_count": 58,
   "metadata": {
    "deletable": false,
    "id": "Nz3GdQB1_Zcu"
   },
   "outputs": [],
   "source": [
    "# <создание функции number_tracks()>\n",
    "# Объявляется функция с двумя параметрами: day, city.\n",
    "# В переменной track_list сохраняются те строки таблицы df, для которых \n",
    "# значение в столбце 'day' равно параметру day и одновременно значение\n",
    "# в столбце 'city' равно параметру city (используйте последовательную фильтрацию\n",
    "# с помощью логической индексации или сложные логические выражения в одну строку, если вы уже знакомы с ними).\n",
    "# В переменной track_list_count сохраняется число значений столбца 'user_id',\n",
    "# рассчитанное методом count() для таблицы track_list.\n",
    "# Функция возвращает число - значение track_list_count.\n",
    "def number_tracks(day, city):\n",
    "    track_list = df[(df['day'] == day) & (df['city'] == city)]\n",
    "    track_list_count = track_list['user_id'].count()\n",
    "    return track_list_count\n",
    "# Функция для подсчёта прослушиваний для конкретного города и дня.\n",
    "# С помощью последовательной фильтрации с логической индексацией она \n",
    "# сначала получит из исходной таблицы строки с нужным днём,\n",
    "# затем из результата отфильтрует строки с нужным городом,\n",
    "# методом count() посчитает количество значений в колонке user_id. \n",
    "# Это количество функция вернёт в качестве результата"
   ]
  },
  {
   "cell_type": "markdown",
   "metadata": {
    "id": "ytf7xFrFJQ2r",
    "tags": [
     "start_task"
    ]
   },
   "source": [
    "Вызовем `number_tracks()` шесть раз, меняя значение параметров — так, чтобы получить данные для каждого города в каждый из трёх дней."
   ]
  },
  {
   "cell_type": "code",
   "execution_count": 59,
   "metadata": {
    "deletable": false,
    "id": "rJcRATNQ_Zcu"
   },
   "outputs": [
    {
     "data": {
      "text/plain": [
       "15740"
      ]
     },
     "execution_count": 59,
     "metadata": {},
     "output_type": "execute_result"
    }
   ],
   "source": [
    "# количество прослушиваний в Москве по понедельникам\n",
    "number_tracks('Monday', 'Moscow')"
   ]
  },
  {
   "cell_type": "code",
   "execution_count": 60,
   "metadata": {
    "deletable": false,
    "id": "hq_ncZ5T_Zcu"
   },
   "outputs": [
    {
     "data": {
      "text/plain": [
       "5614"
      ]
     },
     "execution_count": 60,
     "metadata": {},
     "output_type": "execute_result"
    }
   ],
   "source": [
    "# количество прослушиваний в Санкт-Петербурге по понедельникам\n",
    "number_tracks('Monday', 'Saint-Petersburg')"
   ]
  },
  {
   "cell_type": "code",
   "execution_count": 61,
   "metadata": {
    "deletable": false,
    "id": "_NTy2VPU_Zcu"
   },
   "outputs": [
    {
     "data": {
      "text/plain": [
       "11056"
      ]
     },
     "execution_count": 61,
     "metadata": {},
     "output_type": "execute_result"
    }
   ],
   "source": [
    "# количество прослушиваний в Москве по средам\n",
    "number_tracks('Wednesday', 'Moscow')"
   ]
  },
  {
   "cell_type": "code",
   "execution_count": 62,
   "metadata": {
    "deletable": false,
    "id": "j2y3TAwo_Zcu"
   },
   "outputs": [
    {
     "data": {
      "text/plain": [
       "7003"
      ]
     },
     "execution_count": 62,
     "metadata": {},
     "output_type": "execute_result"
    }
   ],
   "source": [
    "# количество прослушиваний в Санкт-Петербурге по средам\n",
    "number_tracks('Wednesday', 'Saint-Petersburg')"
   ]
  },
  {
   "cell_type": "code",
   "execution_count": 63,
   "metadata": {
    "deletable": false,
    "id": "vYDw5u_K_Zcu"
   },
   "outputs": [
    {
     "data": {
      "text/plain": [
       "15945"
      ]
     },
     "execution_count": 63,
     "metadata": {},
     "output_type": "execute_result"
    }
   ],
   "source": [
    "# количество прослушиваний в Москве по пятницам\n",
    "number_tracks('Friday', 'Moscow')"
   ]
  },
  {
   "cell_type": "code",
   "execution_count": 64,
   "metadata": {
    "deletable": false,
    "id": "8_yzFtW3_Zcu"
   },
   "outputs": [
    {
     "data": {
      "text/plain": [
       "5895"
      ]
     },
     "execution_count": 64,
     "metadata": {},
     "output_type": "execute_result"
    }
   ],
   "source": [
    "# количество прослушиваний в Санкт-Петербурге по пятницам\n",
    "number_tracks('Friday', 'Saint-Petersburg')"
   ]
  },
  {
   "cell_type": "markdown",
   "metadata": {
    "id": "7QXffbO-_Zcu",
    "tags": [
     "start_task"
    ]
   },
   "source": [
    "Создадим c помощью конструктора `pd.DataFrame` таблицу, где\n",
    "* названия колонок — `['city', 'monday', 'wednesday', 'friday']`;\n",
    "* данные — результаты, которые вы получили с помощью `number_tracks`."
   ]
  },
  {
   "cell_type": "code",
   "execution_count": 65,
   "metadata": {
    "deletable": false,
    "id": "APAcLpOr_Zcu"
   },
   "outputs": [
    {
     "data": {
      "text/html": [
       "<div>\n",
       "<style scoped>\n",
       "    .dataframe tbody tr th:only-of-type {\n",
       "        vertical-align: middle;\n",
       "    }\n",
       "\n",
       "    .dataframe tbody tr th {\n",
       "        vertical-align: top;\n",
       "    }\n",
       "\n",
       "    .dataframe thead th {\n",
       "        text-align: right;\n",
       "    }\n",
       "</style>\n",
       "<table border=\"1\" class=\"dataframe\">\n",
       "  <thead>\n",
       "    <tr style=\"text-align: right;\">\n",
       "      <th></th>\n",
       "      <th>city</th>\n",
       "      <th>monday</th>\n",
       "      <th>wednesday</th>\n",
       "      <th>friday</th>\n",
       "    </tr>\n",
       "  </thead>\n",
       "  <tbody>\n",
       "    <tr>\n",
       "      <th>0</th>\n",
       "      <td>Москва</td>\n",
       "      <td>15740</td>\n",
       "      <td>11056</td>\n",
       "      <td>15945</td>\n",
       "    </tr>\n",
       "    <tr>\n",
       "      <th>1</th>\n",
       "      <td>Санкт_Петербург</td>\n",
       "      <td>5614</td>\n",
       "      <td>7003</td>\n",
       "      <td>5895</td>\n",
       "    </tr>\n",
       "  </tbody>\n",
       "</table>\n",
       "</div>"
      ],
      "text/plain": [
       "              city  monday  wednesday  friday\n",
       "0           Москва   15740      11056   15945\n",
       "1  Санкт_Петербург    5614       7003    5895"
      ]
     },
     "execution_count": 65,
     "metadata": {},
     "output_type": "execute_result"
    }
   ],
   "source": [
    "# Таблица с результатами\n",
    "data = [['Москва', number_tracks('Monday', 'Moscow'), number_tracks('Wednesday', 'Moscow'), number_tracks('Friday', 'Moscow')], \n",
    "        ['Санкт_Петербург', number_tracks('Monday', 'Saint-Petersburg'), number_tracks('Wednesday', 'Saint-Petersburg'), number_tracks('Friday', 'Saint-Petersburg')]]\n",
    "columns = ['city', 'monday', 'wednesday', 'friday']\n",
    "info = pd.DataFrame(data=data, columns=columns)\n",
    "info"
   ]
  },
  {
   "cell_type": "markdown",
   "metadata": {
    "deletable": false,
    "editable": false,
    "id": "-EgPIHYu_Zcu"
   },
   "source": [
    "**Выводы**\n",
    "\n",
    "Данные показывают разницу поведения пользователей:\n",
    "\n",
    "- В Москве пик прослушиваний приходится на понедельник и пятницу, а в среду заметен спад.\n",
    "- В Петербурге, наоборот, больше слушают музыку по средам. Активность в понедельник и пятницу здесь почти в равной мере уступает среде.\n",
    "\n",
    "Значит, данные говорят в пользу первой гипотезы."
   ]
  },
  {
   "cell_type": "markdown",
   "metadata": {
    "deletable": false,
    "editable": false,
    "id": "atZAxtq4_Zcu"
   },
   "source": [
    "### Музыка в начале и в конце недели"
   ]
  },
  {
   "cell_type": "markdown",
   "metadata": {
    "deletable": false,
    "editable": false,
    "id": "eXrQqXFH_Zcu"
   },
   "source": [
    "Согласно второй гипотезе, утром в понедельник в Москве преобладают одни жанры, а в Петербурге — другие. Так же и вечером пятницы преобладают разные жанры — в зависимости от города."
   ]
  },
  {
   "cell_type": "markdown",
   "metadata": {
    "id": "S8UcW6Hw_Zcu",
    "tags": [
     "start_task"
    ]
   },
   "source": [
    "Сохраним таблицы с данными в две переменные:\n",
    "* по Москве — в `moscow_general`;\n",
    "* по Санкт-Петербургу — в `spb_general`."
   ]
  },
  {
   "cell_type": "code",
   "execution_count": 66,
   "metadata": {
    "deletable": false,
    "id": "qeaFfM_P_Zcu"
   },
   "outputs": [],
   "source": [
    "# получение таблицы moscow_general из тех строк таблицы df, \n",
    "# для которых значение в столбце 'city' равно 'Moscow'\n",
    "moscow_general = df[df['city'] == 'Moscow']"
   ]
  },
  {
   "cell_type": "code",
   "execution_count": 67,
   "metadata": {
    "deletable": false,
    "id": "ORaVRKto_Zcu"
   },
   "outputs": [],
   "source": [
    "# получение таблицы spb_general из тех строк таблицы df,\n",
    "# для которых значение в столбце 'city' равно 'Saint-Petersburg'\n",
    "spb_general = df[df['city'] == 'Saint-Petersburg']"
   ]
  },
  {
   "cell_type": "markdown",
   "metadata": {
    "id": "MEJV-CX2_Zcu",
    "tags": [
     "start_task"
    ]
   },
   "source": [
    "Создадим функцию `genre_weekday()` с четырьмя параметрами:\n",
    "* таблица (датафрейм) с данными,\n",
    "* день недели,\n",
    "* начальная временная метка в формате 'hh:mm', \n",
    "* последняя временная метка в формате 'hh:mm'.\n",
    "\n",
    "Функция должна будет вернуть информацию о топ-10 жанров тех треков, которые прослушивали в указанный день, в промежутке между двумя отметками времени."
   ]
  },
  {
   "cell_type": "code",
   "execution_count": 68,
   "metadata": {
    "deletable": false,
    "id": "laJT9BYl_Zcu"
   },
   "outputs": [],
   "source": [
    "# Объявление функции genre_weekday() с параметрами table, day, time1, time2,\n",
    "# которая возвращает информацию о самых популярных жанрах в указанный день в\n",
    "# заданное время:\n",
    "# 1) в переменную genre_df сохраняются те строки переданного датафрейма table, для\n",
    "#    которых одновременно:\n",
    "#    - значение в столбце day равно значению аргумента day\n",
    "#    - значение в столбце time больше значения аргумента time1\n",
    "#    - значение в столбце time меньше значения аргумента time2\n",
    "#    Используйте последовательную фильтрацию с помощью логической индексации.\n",
    "# 2) сгруппировать датафрейм genre_df по столбцу genre, взять один из его\n",
    "#    столбцов и посчитать методом count() количество записей для каждого из\n",
    "#    присутствующих жанров, получившийся Series записать в переменную\n",
    "#    genre_df_count\n",
    "# 3) отсортировать genre_df_count по убыванию встречаемости и сохранить\n",
    "#    в переменную genre_df_sorted\n",
    "# 4) вернуть Series из 10 первых значений genre_df_sorted, это будут топ-10\n",
    "#    популярных жанров (в указанный день, в заданное время)\n",
    "\n",
    "def genre_weekday(df, day, time1, time2):\n",
    "    # последовательная фильтрация\n",
    "    # оставляем в genre_df только те строки df, у которых день равен day\n",
    "    genre_df = df[df['day'] == day] # ваш код здесь\n",
    "    # оставляем в genre_df только те строки genre_df, у которых время меньше time2\n",
    "    genre_df = genre_df[genre_df['time'] < time2] # ваш код здесь\n",
    "    # оставляем в genre_df только те строки genre_df, у которых время больше time1\n",
    "    genre_df = genre_df[genre_df['time'] > time1] # ваш код здесь\n",
    "    # сгруппируем отфильтрованный датафрейм по столбцу с названиями жанров, возьмём столбец genre и посчитаем кол-во строк для каждого жанра методом count()\n",
    "    genre_df_grouped = genre_df.groupby('genre')['genre'].count() # ваш код здесь\n",
    "    # отсортируем результат по убыванию (чтобы в начале Series оказались самые популярные жанры)\n",
    "    genre_df_sorted =  genre_df_grouped.sort_values(ascending=False)# ваш код здесь\n",
    "    # вернём Series с 10 самыми популярными жанрами в указанный отрезок времени заданного дня\n",
    "    return genre_df_sorted[:10]"
   ]
  },
  {
   "cell_type": "markdown",
   "metadata": {
    "id": "la2s2_PF_Zcu",
    "tags": [
     "start_task"
    ]
   },
   "source": [
    "Cравним результаты функции `genre_weekday()` для Москвы и Санкт-Петербурга в понедельник утром (с 7:00 до 11:00) и в пятницу вечером (с 17:00 до 23:00):"
   ]
  },
  {
   "cell_type": "code",
   "execution_count": 69,
   "metadata": {
    "deletable": false,
    "id": "yz7itPUQ_Zcu"
   },
   "outputs": [
    {
     "data": {
      "text/plain": [
       "genre\n",
       "pop            781\n",
       "dance          549\n",
       "electronic     480\n",
       "rock           474\n",
       "hiphop         286\n",
       "ruspop         186\n",
       "world          181\n",
       "rusrap         175\n",
       "alternative    164\n",
       "unknown        161\n",
       "Name: genre, dtype: int64"
      ]
     },
     "execution_count": 69,
     "metadata": {},
     "output_type": "execute_result"
    }
   ],
   "source": [
    "# вызов функции для утра понедельника в Москве (вместо df — таблица moscow_general)\n",
    "# объекты, хранящие время, являются строками и сравниваются как строки\n",
    "# пример вызова: genre_weekday(moscow_general, 'Monday', '07:00', '11:00')\n",
    "genre_weekday(moscow_general, 'Monday', '07:00', '11:00')"
   ]
  },
  {
   "cell_type": "code",
   "execution_count": 70,
   "metadata": {
    "deletable": false,
    "id": "kwUcHPdy_Zcu"
   },
   "outputs": [
    {
     "data": {
      "text/plain": [
       "genre\n",
       "pop            218\n",
       "dance          182\n",
       "rock           162\n",
       "electronic     147\n",
       "hiphop          80\n",
       "ruspop          64\n",
       "alternative     58\n",
       "rusrap          55\n",
       "jazz            44\n",
       "classical       40\n",
       "Name: genre, dtype: int64"
      ]
     },
     "execution_count": 70,
     "metadata": {},
     "output_type": "execute_result"
    }
   ],
   "source": [
    "# вызов функции для утра понедельника в Петербурге (вместо df — таблица spb_general)\n",
    "genre_weekday(spb_general, 'Monday', '07:00', '11:00')"
   ]
  },
  {
   "cell_type": "code",
   "execution_count": 71,
   "metadata": {
    "deletable": false,
    "id": "EzXVRE1o_Zcu"
   },
   "outputs": [
    {
     "data": {
      "text/plain": [
       "genre\n",
       "pop            713\n",
       "rock           517\n",
       "dance          495\n",
       "electronic     482\n",
       "hiphop         273\n",
       "world          208\n",
       "ruspop         170\n",
       "alternative    163\n",
       "classical      163\n",
       "rusrap         142\n",
       "Name: genre, dtype: int64"
      ]
     },
     "execution_count": 71,
     "metadata": {},
     "output_type": "execute_result"
    }
   ],
   "source": [
    "# вызов функции для вечера пятницы в Москве\n",
    "genre_weekday(moscow_general, 'Friday', '17:00', '23:00')"
   ]
  },
  {
   "cell_type": "code",
   "execution_count": 72,
   "metadata": {
    "deletable": false,
    "id": "JZaEKu5v_Zcu"
   },
   "outputs": [
    {
     "data": {
      "text/plain": [
       "genre\n",
       "pop            256\n",
       "electronic     216\n",
       "rock           216\n",
       "dance          210\n",
       "hiphop          97\n",
       "alternative     63\n",
       "jazz            61\n",
       "classical       60\n",
       "rusrap          59\n",
       "world           54\n",
       "Name: genre, dtype: int64"
      ]
     },
     "execution_count": 72,
     "metadata": {},
     "output_type": "execute_result"
    }
   ],
   "source": [
    "# вызов функции для вечера пятницы в Петербурге\n",
    "genre_weekday(spb_general, 'Friday', '17:00', '23:00')"
   ]
  },
  {
   "cell_type": "markdown",
   "metadata": {
    "id": "wrCe4MNX_Zcu"
   },
   "source": [
    "**Выводы**\n",
    "\n",
    "Если сравнить топ-10 жанров в понедельник утром, можно сделать такие выводы:\n",
    "\n",
    "1. В Москве и Петербурге слушают похожую музыку. Единственное отличие — в московский рейтинг вошёл жанр “world”, а в петербургский — джаз и классика.\n",
    "\n",
    "2. В Москве пропущенных значений оказалось так много, что значение `'unknown'` заняло десятое место среди самых популярных жанров. Значит, пропущенные значения занимают существенную долю в данных и угрожают достоверности исследования.\n",
    "\n",
    "Вечер пятницы не меняет эту картину. Некоторые жанры поднимаются немного выше, другие спускаются, но в целом топ-10 остаётся тем же самым.\n",
    "\n",
    "Таким образом, вторая гипотеза подтвердилась лишь частично:\n",
    "* Пользователи слушают похожую музыку в начале недели и в конце.\n",
    "* Разница между Москвой и Петербургом не слишком выражена. В Москве чаще слушают русскую популярную музыку, в Петербурге — джаз.\n",
    "\n",
    "Однако пропуски в данных ставят под сомнение этот результат. В Москве их так много, что рейтинг топ-10 мог бы выглядеть иначе, если бы не утерянные  данные о жанрах."
   ]
  },
  {
   "cell_type": "markdown",
   "metadata": {
    "deletable": false,
    "editable": false,
    "id": "JolODAqr_Zcu"
   },
   "source": [
    "### Жанровые предпочтения в Москве и Петербурге\n",
    "\n",
    "Гипотеза: Петербург — столица рэпа, музыку этого жанра там слушают чаще, чем в Москве.  А Москва — город контрастов, в котором, тем не менее, преобладает поп-музыка."
   ]
  },
  {
   "cell_type": "markdown",
   "metadata": {
    "id": "DlegSvaT_Zcu",
    "tags": [
     "start_task"
    ]
   },
   "source": [
    "Сгруппируем таблицу `moscow_general` по жанру и посчитаем прослушивания треков каждого жанра методом `count()`. Затем отсортируем результат в порядке убывания и сохраним его в таблице `moscow_genres`."
   ]
  },
  {
   "cell_type": "code",
   "execution_count": 73,
   "metadata": {
    "deletable": false,
    "id": "r19lIPke_Zcu"
   },
   "outputs": [],
   "source": [
    "# одной строкой: группировка таблицы moscow_general по столбцу 'genre', \n",
    "# подсчёт числа значений 'genre' в этой группировке методом count(), \n",
    "# сортировка получившегося Series в порядке убывания и сохранение в moscow_genres\n",
    "moscow_genres = moscow_general.groupby('genre')['genre'].count().sort_values(ascending=False)"
   ]
  },
  {
   "cell_type": "markdown",
   "metadata": {
    "id": "6kMuomxTiIr8",
    "tags": [
     "start_task"
    ]
   },
   "source": [
    "Выведем на экран первые десять строк `moscow_genres`:"
   ]
  },
  {
   "cell_type": "code",
   "execution_count": 74,
   "metadata": {
    "deletable": false,
    "id": "WhCSooF8_Zcv"
   },
   "outputs": [
    {
     "data": {
      "text/plain": [
       "genre\n",
       "pop            5892\n",
       "dance          4435\n",
       "rock           3965\n",
       "electronic     3786\n",
       "hiphop         2096\n",
       "classical      1616\n",
       "world          1432\n",
       "alternative    1379\n",
       "ruspop         1372\n",
       "rusrap         1161\n",
       "Name: genre, dtype: int64"
      ]
     },
     "execution_count": 74,
     "metadata": {},
     "output_type": "execute_result"
    }
   ],
   "source": [
    "# просмотр первых 10 строк moscow_genres\n",
    "moscow_genres.head(10)"
   ]
  },
  {
   "cell_type": "markdown",
   "metadata": {
    "id": "cnPG2vnN_Zcv",
    "tags": [
     "start_task"
    ]
   },
   "source": [
    "Теперь повторим то же и для Петербурга.\n",
    "\n",
    "Сгруппируем таблицу `spb_general` по жанру. Посчитаем прослушивания треков каждого жанра. Результат отсортируем в порядке убывания и сохраним в таблице `spb_genres`:\n"
   ]
  },
  {
   "cell_type": "code",
   "execution_count": 75,
   "metadata": {
    "deletable": false,
    "id": "gluLIpE7_Zcv"
   },
   "outputs": [],
   "source": [
    "# одной строкой: группировка таблицы spb_general по столбцу 'genre', \n",
    "# подсчёт числа значений 'genre' в этой группировке методом count(), \n",
    "# сортировка получившегося Series в порядке убывания и сохранение в spb_genres\n",
    "spb_genres = spb_general.groupby('genre')['genre'].count().sort_values(ascending=False)"
   ]
  },
  {
   "cell_type": "markdown",
   "metadata": {
    "id": "5Doha_ODgyQ8",
    "tags": [
     "start_task"
    ]
   },
   "source": [
    "Выведем на экран первые десять строк `spb_genres`:"
   ]
  },
  {
   "cell_type": "code",
   "execution_count": 76,
   "metadata": {
    "deletable": false,
    "id": "uaGJHjVU_Zcv"
   },
   "outputs": [
    {
     "data": {
      "text/plain": [
       "genre\n",
       "pop            2431\n",
       "dance          1932\n",
       "rock           1879\n",
       "electronic     1736\n",
       "hiphop          960\n",
       "alternative     649\n",
       "classical       646\n",
       "rusrap          564\n",
       "ruspop          538\n",
       "world           515\n",
       "Name: genre, dtype: int64"
      ]
     },
     "execution_count": 76,
     "metadata": {},
     "output_type": "execute_result"
    }
   ],
   "source": [
    "# просмотр первых 10 строк spb_genres\n",
    "spb_genres.head(10)"
   ]
  },
  {
   "cell_type": "markdown",
   "metadata": {
    "id": "RY51YJYu_Zcv"
   },
   "source": [
    "**Выводы**"
   ]
  },
  {
   "cell_type": "markdown",
   "metadata": {
    "id": "nVhnJEm__Zcv"
   },
   "source": [
    "Гипотеза частично подтвердилась:\n",
    "* Поп-музыка — самый популярный жанр в Москве, как и предполагала гипотеза. Более того, в топ-10 жанров встречается близкий жанр — русская популярная музыка.\n",
    "* Вопреки ожиданиям, рэп одинаково популярен в Москве и Петербурге. \n"
   ]
  },
  {
   "cell_type": "markdown",
   "metadata": {
    "deletable": false,
    "editable": false,
    "id": "ykKQ0N65_Zcv"
   },
   "source": [
    "## Итоги исследования"
   ]
  },
  {
   "cell_type": "markdown",
   "metadata": {
    "id": "tjUwbHb3_Zcv"
   },
   "source": [
    "Проверили три гипотезы и установили:\n",
    "\n",
    "1. День недели по-разному влияет на активность пользователей в Москве и Петербурге. \n",
    "\n",
    "Первая гипотеза полностью подтвердилась.\n",
    "\n",
    "2. Музыкальные предпочтения не сильно меняются в течение недели — будь то Москва или Петербург. Небольшие различия заметны в начале недели, по понедельникам:\n",
    "* в Москве слушают музыку жанра “world”,\n",
    "* в Петербурге — джаз и классику.\n",
    "\n",
    "Таким образом, вторая гипотеза подтвердилась лишь отчасти. Этот результат мог оказаться иным, если бы не пропуски в данных.\n",
    "\n",
    "3. Во вкусах пользователей Москвы и Петербурга больше общего чем различий. Вопреки ожиданиям, предпочтения жанров в Петербурге напоминают московские.\n",
    "\n",
    "Третья гипотеза не подтвердилась. Если различия в предпочтениях и существуют, на основной массе пользователей они незаметны."
   ]
  }
 ],
 "metadata": {
  "ExecuteTimeLog": [
   {
    "duration": 427,
    "start_time": "2022-09-09T19:06:21.752Z"
   },
   {
    "duration": 225,
    "start_time": "2022-09-09T19:06:56.672Z"
   },
   {
    "duration": 10,
    "start_time": "2022-09-09T19:07:18.233Z"
   },
   {
    "duration": 34,
    "start_time": "2022-09-09T19:07:46.636Z"
   },
   {
    "duration": 2,
    "start_time": "2022-09-09T19:16:50.742Z"
   },
   {
    "duration": 3,
    "start_time": "2022-09-09T19:18:00.189Z"
   },
   {
    "duration": 3,
    "start_time": "2022-09-09T19:18:56.639Z"
   },
   {
    "duration": 64,
    "start_time": "2022-09-09T19:21:23.188Z"
   },
   {
    "duration": 12,
    "start_time": "2022-09-09T19:22:01.516Z"
   },
   {
    "duration": 4,
    "start_time": "2022-09-09T19:22:35.284Z"
   },
   {
    "duration": 44,
    "start_time": "2022-09-10T09:56:17.512Z"
   },
   {
    "duration": 6,
    "start_time": "2022-09-10T09:56:46.964Z"
   },
   {
    "duration": 5,
    "start_time": "2022-09-10T09:56:53.150Z"
   },
   {
    "duration": 343,
    "start_time": "2022-09-10T09:56:58.529Z"
   },
   {
    "duration": 219,
    "start_time": "2022-09-10T09:57:01.298Z"
   },
   {
    "duration": 184,
    "start_time": "2022-09-10T09:57:05.231Z"
   },
   {
    "duration": 8,
    "start_time": "2022-09-10T09:57:08.896Z"
   },
   {
    "duration": 26,
    "start_time": "2022-09-10T09:57:11.948Z"
   },
   {
    "duration": 2,
    "start_time": "2022-09-10T09:57:15.906Z"
   },
   {
    "duration": 3,
    "start_time": "2022-09-10T09:57:18.065Z"
   },
   {
    "duration": 11,
    "start_time": "2022-09-10T09:57:21.256Z"
   },
   {
    "duration": 5,
    "start_time": "2022-09-10T09:57:25.183Z"
   },
   {
    "duration": 22,
    "start_time": "2022-09-10T09:57:27.575Z"
   },
   {
    "duration": 28,
    "start_time": "2022-09-10T10:00:20.798Z"
   },
   {
    "duration": 7,
    "start_time": "2022-09-10T10:00:29.705Z"
   },
   {
    "duration": 17,
    "start_time": "2022-09-10T10:00:39.212Z"
   },
   {
    "duration": 22,
    "start_time": "2022-09-10T10:01:11.009Z"
   },
   {
    "duration": 71,
    "start_time": "2022-09-10T10:02:57.522Z"
   },
   {
    "duration": 9,
    "start_time": "2022-09-10T10:03:59.464Z"
   },
   {
    "duration": 65,
    "start_time": "2022-09-10T10:04:43.971Z"
   },
   {
    "duration": 67,
    "start_time": "2022-09-10T10:04:46.676Z"
   },
   {
    "duration": 54,
    "start_time": "2022-09-10T10:04:56.793Z"
   },
   {
    "duration": 7,
    "start_time": "2022-09-10T10:06:35.344Z"
   },
   {
    "duration": 10,
    "start_time": "2022-09-10T10:08:49.809Z"
   },
   {
    "duration": 9,
    "start_time": "2022-09-10T10:09:33.967Z"
   },
   {
    "duration": 48,
    "start_time": "2022-09-10T10:09:55.223Z"
   },
   {
    "duration": 41,
    "start_time": "2022-09-10T10:14:40.639Z"
   },
   {
    "duration": 2,
    "start_time": "2022-09-10T10:14:46.064Z"
   },
   {
    "duration": 171,
    "start_time": "2022-09-10T10:14:48.320Z"
   },
   {
    "duration": 8,
    "start_time": "2022-09-10T10:14:50.497Z"
   },
   {
    "duration": 3,
    "start_time": "2022-09-10T10:14:53.502Z"
   },
   {
    "duration": 4,
    "start_time": "2022-09-10T10:14:55.466Z"
   },
   {
    "duration": 8,
    "start_time": "2022-09-10T10:14:57.804Z"
   },
   {
    "duration": 3,
    "start_time": "2022-09-10T10:14:58.760Z"
   },
   {
    "duration": 23,
    "start_time": "2022-09-10T10:15:00.093Z"
   },
   {
    "duration": 18,
    "start_time": "2022-09-10T10:15:01.508Z"
   },
   {
    "duration": 24,
    "start_time": "2022-09-10T10:15:03.139Z"
   },
   {
    "duration": 57,
    "start_time": "2022-09-10T10:15:04.265Z"
   },
   {
    "duration": 72,
    "start_time": "2022-09-10T10:15:05.348Z"
   },
   {
    "duration": 58,
    "start_time": "2022-09-10T10:15:07.152Z"
   },
   {
    "duration": 45,
    "start_time": "2022-09-10T10:15:08.512Z"
   },
   {
    "duration": 54,
    "start_time": "2022-09-10T10:15:50.716Z"
   },
   {
    "duration": 7,
    "start_time": "2022-09-10T10:17:17.671Z"
   },
   {
    "duration": 45,
    "start_time": "2022-09-10T10:17:33.130Z"
   },
   {
    "duration": 7,
    "start_time": "2022-09-10T10:19:37.593Z"
   },
   {
    "duration": 41,
    "start_time": "2022-09-10T10:19:58.209Z"
   },
   {
    "duration": 42,
    "start_time": "2022-09-10T10:21:59.566Z"
   },
   {
    "duration": 42,
    "start_time": "2022-09-10T10:24:24.301Z"
   },
   {
    "duration": 49,
    "start_time": "2022-09-10T10:26:42.568Z"
   },
   {
    "duration": 9,
    "start_time": "2022-09-10T10:35:20.904Z"
   },
   {
    "duration": 4,
    "start_time": "2022-09-10T10:35:48.580Z"
   },
   {
    "duration": 44,
    "start_time": "2022-09-10T10:36:31.742Z"
   },
   {
    "duration": 43,
    "start_time": "2022-09-10T10:37:03.690Z"
   },
   {
    "duration": 67,
    "start_time": "2022-09-10T10:37:15.048Z"
   },
   {
    "duration": 41,
    "start_time": "2022-09-10T10:37:25.120Z"
   },
   {
    "duration": 44,
    "start_time": "2022-09-10T10:37:39.588Z"
   },
   {
    "duration": 77,
    "start_time": "2022-09-10T10:40:51.342Z"
   },
   {
    "duration": 7,
    "start_time": "2022-09-10T10:42:24.067Z"
   },
   {
    "duration": 207,
    "start_time": "2022-09-10T10:45:04.302Z"
   },
   {
    "duration": 48,
    "start_time": "2022-09-10T10:45:14.522Z"
   },
   {
    "duration": 8,
    "start_time": "2022-09-10T10:47:59.216Z"
   },
   {
    "duration": 2,
    "start_time": "2022-09-10T10:48:25.790Z"
   },
   {
    "duration": 154,
    "start_time": "2022-09-10T10:48:27.733Z"
   },
   {
    "duration": 6,
    "start_time": "2022-09-10T10:48:28.800Z"
   },
   {
    "duration": 28,
    "start_time": "2022-09-10T10:48:31.077Z"
   },
   {
    "duration": 2,
    "start_time": "2022-09-10T10:48:32.596Z"
   },
   {
    "duration": 3,
    "start_time": "2022-09-10T10:48:34.684Z"
   },
   {
    "duration": 13,
    "start_time": "2022-09-10T10:48:36.423Z"
   },
   {
    "duration": 3,
    "start_time": "2022-09-10T10:48:37.196Z"
   },
   {
    "duration": 21,
    "start_time": "2022-09-10T10:48:38.623Z"
   },
   {
    "duration": 17,
    "start_time": "2022-09-10T10:48:40.633Z"
   },
   {
    "duration": 23,
    "start_time": "2022-09-10T10:48:41.915Z"
   },
   {
    "duration": 63,
    "start_time": "2022-09-10T10:48:43.515Z"
   },
   {
    "duration": 67,
    "start_time": "2022-09-10T10:48:44.633Z"
   },
   {
    "duration": 64,
    "start_time": "2022-09-10T10:48:45.610Z"
   },
   {
    "duration": 9,
    "start_time": "2022-09-10T10:48:47.520Z"
   },
   {
    "duration": 11,
    "start_time": "2022-09-10T10:48:50.198Z"
   },
   {
    "duration": 9,
    "start_time": "2022-09-10T10:48:52.578Z"
   },
   {
    "duration": 43,
    "start_time": "2022-09-10T10:49:12.451Z"
   },
   {
    "duration": 2,
    "start_time": "2022-09-10T10:49:20.311Z"
   },
   {
    "duration": 138,
    "start_time": "2022-09-10T10:49:21.325Z"
   },
   {
    "duration": 6,
    "start_time": "2022-09-10T10:49:22.363Z"
   },
   {
    "duration": 25,
    "start_time": "2022-09-10T10:49:24.160Z"
   },
   {
    "duration": 3,
    "start_time": "2022-09-10T10:49:25.676Z"
   },
   {
    "duration": 3,
    "start_time": "2022-09-10T10:49:27.458Z"
   },
   {
    "duration": 12,
    "start_time": "2022-09-10T10:49:28.695Z"
   },
   {
    "duration": 3,
    "start_time": "2022-09-10T10:49:29.570Z"
   },
   {
    "duration": 23,
    "start_time": "2022-09-10T10:49:30.538Z"
   },
   {
    "duration": 18,
    "start_time": "2022-09-10T10:49:32.001Z"
   },
   {
    "duration": 20,
    "start_time": "2022-09-10T10:49:33.113Z"
   },
   {
    "duration": 56,
    "start_time": "2022-09-10T10:49:34.497Z"
   },
   {
    "duration": 58,
    "start_time": "2022-09-10T10:49:35.432Z"
   },
   {
    "duration": 57,
    "start_time": "2022-09-10T10:49:36.524Z"
   },
   {
    "duration": 48,
    "start_time": "2022-09-10T10:49:38.521Z"
   },
   {
    "duration": 9,
    "start_time": "2022-09-10T10:49:39.940Z"
   },
   {
    "duration": 42,
    "start_time": "2022-09-10T10:49:41.170Z"
   },
   {
    "duration": 3,
    "start_time": "2022-09-10T10:56:57.783Z"
   },
   {
    "duration": 52,
    "start_time": "2022-09-10T10:57:22.543Z"
   },
   {
    "duration": 3,
    "start_time": "2022-09-10T10:58:00.751Z"
   },
   {
    "duration": 164,
    "start_time": "2022-09-10T10:58:01.720Z"
   },
   {
    "duration": 7,
    "start_time": "2022-09-10T10:58:02.654Z"
   },
   {
    "duration": 26,
    "start_time": "2022-09-10T10:58:03.627Z"
   },
   {
    "duration": 2,
    "start_time": "2022-09-10T10:58:04.919Z"
   },
   {
    "duration": 4,
    "start_time": "2022-09-10T10:58:07.236Z"
   },
   {
    "duration": 8,
    "start_time": "2022-09-10T10:58:08.420Z"
   },
   {
    "duration": 3,
    "start_time": "2022-09-10T10:58:09.191Z"
   },
   {
    "duration": 20,
    "start_time": "2022-09-10T10:58:10.165Z"
   },
   {
    "duration": 17,
    "start_time": "2022-09-10T10:58:11.453Z"
   },
   {
    "duration": 22,
    "start_time": "2022-09-10T10:58:12.459Z"
   },
   {
    "duration": 60,
    "start_time": "2022-09-10T10:58:13.599Z"
   },
   {
    "duration": 74,
    "start_time": "2022-09-10T10:58:14.448Z"
   },
   {
    "duration": 55,
    "start_time": "2022-09-10T10:58:15.377Z"
   },
   {
    "duration": 48,
    "start_time": "2022-09-10T10:58:16.939Z"
   },
   {
    "duration": 3,
    "start_time": "2022-09-10T10:59:45.300Z"
   },
   {
    "duration": 158,
    "start_time": "2022-09-10T10:59:46.248Z"
   },
   {
    "duration": 7,
    "start_time": "2022-09-10T10:59:47.040Z"
   },
   {
    "duration": 28,
    "start_time": "2022-09-10T10:59:48.330Z"
   },
   {
    "duration": 3,
    "start_time": "2022-09-10T10:59:50.311Z"
   },
   {
    "duration": 3,
    "start_time": "2022-09-10T10:59:52.030Z"
   },
   {
    "duration": 8,
    "start_time": "2022-09-10T10:59:53.158Z"
   },
   {
    "duration": 4,
    "start_time": "2022-09-10T10:59:54.115Z"
   },
   {
    "duration": 23,
    "start_time": "2022-09-10T10:59:55.049Z"
   },
   {
    "duration": 23,
    "start_time": "2022-09-10T10:59:56.240Z"
   },
   {
    "duration": 21,
    "start_time": "2022-09-10T10:59:57.103Z"
   },
   {
    "duration": 71,
    "start_time": "2022-09-10T10:59:58.552Z"
   },
   {
    "duration": 62,
    "start_time": "2022-09-10T10:59:59.375Z"
   },
   {
    "duration": 55,
    "start_time": "2022-09-10T11:00:00.492Z"
   },
   {
    "duration": 45,
    "start_time": "2022-09-10T11:00:04.164Z"
   },
   {
    "duration": 44,
    "start_time": "2022-09-10T11:00:36.813Z"
   },
   {
    "duration": 44,
    "start_time": "2022-09-10T11:18:02.062Z"
   },
   {
    "duration": 83,
    "start_time": "2022-09-10T12:01:27.386Z"
   },
   {
    "duration": 6,
    "start_time": "2022-09-10T12:01:34.684Z"
   },
   {
    "duration": 10,
    "start_time": "2022-09-10T12:02:04.373Z"
   },
   {
    "duration": 9,
    "start_time": "2022-09-10T12:02:35.826Z"
   },
   {
    "duration": 9,
    "start_time": "2022-09-10T12:03:01.360Z"
   },
   {
    "duration": 3,
    "start_time": "2022-09-10T12:03:13.467Z"
   },
   {
    "duration": 3,
    "start_time": "2022-09-10T12:03:14.608Z"
   },
   {
    "duration": 156,
    "start_time": "2022-09-10T12:03:15.925Z"
   },
   {
    "duration": 6,
    "start_time": "2022-09-10T12:03:19.480Z"
   },
   {
    "duration": 30,
    "start_time": "2022-09-10T12:03:21.199Z"
   },
   {
    "duration": 3,
    "start_time": "2022-09-10T12:03:23.029Z"
   },
   {
    "duration": 3,
    "start_time": "2022-09-10T12:03:24.732Z"
   },
   {
    "duration": 8,
    "start_time": "2022-09-10T12:03:26.858Z"
   },
   {
    "duration": 3,
    "start_time": "2022-09-10T12:03:27.862Z"
   },
   {
    "duration": 22,
    "start_time": "2022-09-10T12:03:29.535Z"
   },
   {
    "duration": 17,
    "start_time": "2022-09-10T12:03:31.192Z"
   },
   {
    "duration": 22,
    "start_time": "2022-09-10T12:03:32.357Z"
   },
   {
    "duration": 57,
    "start_time": "2022-09-10T12:03:33.662Z"
   },
   {
    "duration": 60,
    "start_time": "2022-09-10T12:03:34.841Z"
   },
   {
    "duration": 55,
    "start_time": "2022-09-10T12:03:36.095Z"
   },
   {
    "duration": 9,
    "start_time": "2022-09-10T12:03:37.920Z"
   },
   {
    "duration": 8,
    "start_time": "2022-09-10T12:04:42.560Z"
   },
   {
    "duration": 10,
    "start_time": "2022-09-10T12:05:54.554Z"
   },
   {
    "duration": 10,
    "start_time": "2022-09-10T12:06:03.873Z"
   },
   {
    "duration": 12,
    "start_time": "2022-09-10T12:07:05.305Z"
   },
   {
    "duration": 10,
    "start_time": "2022-09-10T12:07:18.083Z"
   },
   {
    "duration": 4,
    "start_time": "2022-09-10T12:07:26.520Z"
   },
   {
    "duration": 158,
    "start_time": "2022-09-10T12:07:27.636Z"
   },
   {
    "duration": 6,
    "start_time": "2022-09-10T12:07:28.793Z"
   },
   {
    "duration": 26,
    "start_time": "2022-09-10T12:07:29.762Z"
   },
   {
    "duration": 2,
    "start_time": "2022-09-10T12:07:31.240Z"
   },
   {
    "duration": 3,
    "start_time": "2022-09-10T12:07:32.724Z"
   },
   {
    "duration": 8,
    "start_time": "2022-09-10T12:07:34.132Z"
   },
   {
    "duration": 3,
    "start_time": "2022-09-10T12:07:34.911Z"
   },
   {
    "duration": 27,
    "start_time": "2022-09-10T12:07:36.777Z"
   },
   {
    "duration": 19,
    "start_time": "2022-09-10T12:07:38.437Z"
   },
   {
    "duration": 22,
    "start_time": "2022-09-10T12:07:39.731Z"
   },
   {
    "duration": 63,
    "start_time": "2022-09-10T12:07:41.273Z"
   },
   {
    "duration": 63,
    "start_time": "2022-09-10T12:07:41.955Z"
   },
   {
    "duration": 57,
    "start_time": "2022-09-10T12:07:43.055Z"
   },
   {
    "duration": 10,
    "start_time": "2022-09-10T12:07:45.117Z"
   },
   {
    "duration": 8,
    "start_time": "2022-09-10T12:08:43.129Z"
   },
   {
    "duration": 7,
    "start_time": "2022-09-10T12:10:32.759Z"
   },
   {
    "duration": 34,
    "start_time": "2022-09-10T12:11:23.936Z"
   },
   {
    "duration": 35,
    "start_time": "2022-09-10T12:12:19.766Z"
   },
   {
    "duration": 35,
    "start_time": "2022-09-10T12:13:03.207Z"
   },
   {
    "duration": 34,
    "start_time": "2022-09-10T12:15:28.422Z"
   },
   {
    "duration": 51,
    "start_time": "2022-09-10T12:18:16.211Z"
   },
   {
    "duration": 36,
    "start_time": "2022-09-10T12:19:03.269Z"
   },
   {
    "duration": 45,
    "start_time": "2022-09-10T12:19:19.576Z"
   },
   {
    "duration": 44,
    "start_time": "2022-09-10T12:19:27.418Z"
   },
   {
    "duration": 44,
    "start_time": "2022-09-10T12:19:35.292Z"
   },
   {
    "duration": 37,
    "start_time": "2022-09-10T12:19:47.300Z"
   },
   {
    "duration": 33,
    "start_time": "2022-09-10T12:20:38.354Z"
   },
   {
    "duration": 35,
    "start_time": "2022-09-10T12:20:46.533Z"
   },
   {
    "duration": 35,
    "start_time": "2022-09-10T12:23:36.240Z"
   },
   {
    "duration": 37,
    "start_time": "2022-09-10T12:24:37.522Z"
   },
   {
    "duration": 2,
    "start_time": "2022-09-10T12:24:57.136Z"
   },
   {
    "duration": 158,
    "start_time": "2022-09-10T12:24:58.131Z"
   },
   {
    "duration": 6,
    "start_time": "2022-09-10T12:24:59.178Z"
   },
   {
    "duration": 27,
    "start_time": "2022-09-10T12:25:00.470Z"
   },
   {
    "duration": 2,
    "start_time": "2022-09-10T12:25:01.901Z"
   },
   {
    "duration": 3,
    "start_time": "2022-09-10T12:25:03.990Z"
   },
   {
    "duration": 10,
    "start_time": "2022-09-10T12:25:05.294Z"
   },
   {
    "duration": 3,
    "start_time": "2022-09-10T12:25:06.420Z"
   },
   {
    "duration": 23,
    "start_time": "2022-09-10T12:25:08.015Z"
   },
   {
    "duration": 18,
    "start_time": "2022-09-10T12:25:09.678Z"
   },
   {
    "duration": 24,
    "start_time": "2022-09-10T12:25:10.867Z"
   },
   {
    "duration": 55,
    "start_time": "2022-09-10T12:25:12.136Z"
   },
   {
    "duration": 60,
    "start_time": "2022-09-10T12:25:13.091Z"
   },
   {
    "duration": 54,
    "start_time": "2022-09-10T12:25:14.493Z"
   },
   {
    "duration": 38,
    "start_time": "2022-09-10T12:25:16.999Z"
   },
   {
    "duration": 34,
    "start_time": "2022-09-10T12:25:32.464Z"
   },
   {
    "duration": 36,
    "start_time": "2022-09-10T12:28:06.470Z"
   },
   {
    "duration": 33,
    "start_time": "2022-09-10T12:28:53.957Z"
   },
   {
    "duration": 37,
    "start_time": "2022-09-10T12:28:57.181Z"
   },
   {
    "duration": 41,
    "start_time": "2022-09-10T12:29:04.607Z"
   },
   {
    "duration": 35,
    "start_time": "2022-09-10T12:29:43.527Z"
   },
   {
    "duration": 3,
    "start_time": "2022-09-10T12:30:39.029Z"
   },
   {
    "duration": 152,
    "start_time": "2022-09-10T12:30:40.027Z"
   },
   {
    "duration": 7,
    "start_time": "2022-09-10T12:30:41.158Z"
   },
   {
    "duration": 27,
    "start_time": "2022-09-10T12:30:42.153Z"
   },
   {
    "duration": 3,
    "start_time": "2022-09-10T12:30:48.462Z"
   },
   {
    "duration": 185,
    "start_time": "2022-09-10T12:30:50.453Z"
   },
   {
    "duration": 7,
    "start_time": "2022-09-10T12:30:53.053Z"
   },
   {
    "duration": 29,
    "start_time": "2022-09-10T12:30:55.609Z"
   },
   {
    "duration": 3,
    "start_time": "2022-09-10T12:30:58.651Z"
   },
   {
    "duration": 3,
    "start_time": "2022-09-10T12:31:01.838Z"
   },
   {
    "duration": 10,
    "start_time": "2022-09-10T12:31:05.205Z"
   },
   {
    "duration": 4,
    "start_time": "2022-09-10T12:31:08.356Z"
   },
   {
    "duration": 23,
    "start_time": "2022-09-10T12:31:11.063Z"
   },
   {
    "duration": 16,
    "start_time": "2022-09-10T12:31:13.742Z"
   },
   {
    "duration": 22,
    "start_time": "2022-09-10T12:31:16.099Z"
   },
   {
    "duration": 57,
    "start_time": "2022-09-10T12:31:18.634Z"
   },
   {
    "duration": 71,
    "start_time": "2022-09-10T12:31:20.929Z"
   },
   {
    "duration": 53,
    "start_time": "2022-09-10T12:31:22.726Z"
   },
   {
    "duration": 35,
    "start_time": "2022-09-10T12:31:24.981Z"
   },
   {
    "duration": 39,
    "start_time": "2022-09-10T12:32:07.243Z"
   },
   {
    "duration": 45,
    "start_time": "2022-09-10T12:32:31.353Z"
   },
   {
    "duration": 41,
    "start_time": "2022-09-10T12:36:34.217Z"
   },
   {
    "duration": 2,
    "start_time": "2022-09-10T12:37:44.067Z"
   },
   {
    "duration": 157,
    "start_time": "2022-09-10T12:37:45.181Z"
   },
   {
    "duration": 6,
    "start_time": "2022-09-10T12:37:46.365Z"
   },
   {
    "duration": 28,
    "start_time": "2022-09-10T12:37:47.334Z"
   },
   {
    "duration": 2,
    "start_time": "2022-09-10T12:37:50.238Z"
   },
   {
    "duration": 3,
    "start_time": "2022-09-10T12:37:51.689Z"
   },
   {
    "duration": 8,
    "start_time": "2022-09-10T12:37:53.012Z"
   },
   {
    "duration": 3,
    "start_time": "2022-09-10T12:37:53.843Z"
   },
   {
    "duration": 26,
    "start_time": "2022-09-10T12:37:55.156Z"
   },
   {
    "duration": 18,
    "start_time": "2022-09-10T12:37:56.793Z"
   },
   {
    "duration": 22,
    "start_time": "2022-09-10T12:37:58.192Z"
   },
   {
    "duration": 57,
    "start_time": "2022-09-10T12:37:59.137Z"
   },
   {
    "duration": 65,
    "start_time": "2022-09-10T12:38:00.027Z"
   },
   {
    "duration": 54,
    "start_time": "2022-09-10T12:38:01.507Z"
   },
   {
    "duration": 44,
    "start_time": "2022-09-10T12:38:02.965Z"
   },
   {
    "duration": 3,
    "start_time": "2022-09-10T12:38:30.805Z"
   },
   {
    "duration": 2,
    "start_time": "2022-09-10T12:38:36.032Z"
   },
   {
    "duration": 42,
    "start_time": "2022-09-10T12:38:39.549Z"
   },
   {
    "duration": 3,
    "start_time": "2022-09-10T12:38:52.563Z"
   },
   {
    "duration": 161,
    "start_time": "2022-09-10T12:38:53.978Z"
   },
   {
    "duration": 6,
    "start_time": "2022-09-10T12:38:54.802Z"
   },
   {
    "duration": 26,
    "start_time": "2022-09-10T12:38:55.834Z"
   },
   {
    "duration": 2,
    "start_time": "2022-09-10T12:38:57.355Z"
   },
   {
    "duration": 3,
    "start_time": "2022-09-10T12:38:58.866Z"
   },
   {
    "duration": 9,
    "start_time": "2022-09-10T12:39:00.187Z"
   },
   {
    "duration": 3,
    "start_time": "2022-09-10T12:39:00.959Z"
   },
   {
    "duration": 23,
    "start_time": "2022-09-10T12:39:02.358Z"
   },
   {
    "duration": 23,
    "start_time": "2022-09-10T12:39:03.994Z"
   },
   {
    "duration": 25,
    "start_time": "2022-09-10T12:39:05.069Z"
   },
   {
    "duration": 62,
    "start_time": "2022-09-10T12:39:06.215Z"
   },
   {
    "duration": 70,
    "start_time": "2022-09-10T12:39:07.498Z"
   },
   {
    "duration": 63,
    "start_time": "2022-09-10T12:39:08.485Z"
   },
   {
    "duration": 45,
    "start_time": "2022-09-10T12:39:09.987Z"
   },
   {
    "duration": 8,
    "start_time": "2022-09-10T12:41:14.037Z"
   },
   {
    "duration": 62,
    "start_time": "2022-09-10T12:41:25.293Z"
   },
   {
    "duration": 5,
    "start_time": "2022-09-10T12:42:51.321Z"
   },
   {
    "duration": 9,
    "start_time": "2022-09-10T12:43:30.128Z"
   },
   {
    "duration": 33,
    "start_time": "2022-09-10T12:43:49.989Z"
   },
   {
    "duration": 39,
    "start_time": "2022-09-10T12:44:08.578Z"
   },
   {
    "duration": 9,
    "start_time": "2022-09-10T13:06:23.193Z"
   },
   {
    "duration": 34,
    "start_time": "2022-09-10T13:06:42.781Z"
   },
   {
    "duration": 9,
    "start_time": "2022-09-10T13:06:46.291Z"
   },
   {
    "duration": 36,
    "start_time": "2022-09-10T13:06:50.148Z"
   },
   {
    "duration": 8,
    "start_time": "2022-09-10T13:14:55.085Z"
   },
   {
    "duration": 38,
    "start_time": "2022-09-10T13:15:25.234Z"
   },
   {
    "duration": 7,
    "start_time": "2022-09-10T13:16:35.874Z"
   },
   {
    "duration": 36,
    "start_time": "2022-09-10T13:16:58.579Z"
   },
   {
    "duration": 29,
    "start_time": "2022-09-10T13:17:22.736Z"
   },
   {
    "duration": 10,
    "start_time": "2022-09-10T13:18:31.550Z"
   },
   {
    "duration": 12,
    "start_time": "2022-09-10T13:21:07.969Z"
   },
   {
    "duration": 5,
    "start_time": "2022-09-10T13:32:22.050Z"
   },
   {
    "duration": 6,
    "start_time": "2022-09-10T13:32:50.366Z"
   },
   {
    "duration": 734,
    "start_time": "2022-09-10T13:34:58.522Z"
   },
   {
    "duration": 4,
    "start_time": "2022-09-10T13:35:42.952Z"
   },
   {
    "duration": 859,
    "start_time": "2022-09-10T13:35:45.514Z"
   },
   {
    "duration": 3,
    "start_time": "2022-09-10T13:36:39.093Z"
   },
   {
    "duration": 734,
    "start_time": "2022-09-10T13:36:41.134Z"
   },
   {
    "duration": 2,
    "start_time": "2022-09-10T13:36:48.618Z"
   },
   {
    "duration": 165,
    "start_time": "2022-09-10T13:36:49.562Z"
   },
   {
    "duration": 8,
    "start_time": "2022-09-10T13:36:50.576Z"
   },
   {
    "duration": 27,
    "start_time": "2022-09-10T13:36:52.075Z"
   },
   {
    "duration": 2,
    "start_time": "2022-09-10T13:36:54.443Z"
   },
   {
    "duration": 3,
    "start_time": "2022-09-10T13:36:56.044Z"
   },
   {
    "duration": 8,
    "start_time": "2022-09-10T13:36:57.580Z"
   },
   {
    "duration": 4,
    "start_time": "2022-09-10T13:36:58.524Z"
   },
   {
    "duration": 22,
    "start_time": "2022-09-10T13:37:00.077Z"
   },
   {
    "duration": 24,
    "start_time": "2022-09-10T13:37:02.044Z"
   },
   {
    "duration": 35,
    "start_time": "2022-09-10T13:37:03.549Z"
   },
   {
    "duration": 70,
    "start_time": "2022-09-10T13:37:04.630Z"
   },
   {
    "duration": 62,
    "start_time": "2022-09-10T13:37:06.182Z"
   },
   {
    "duration": 58,
    "start_time": "2022-09-10T13:37:07.988Z"
   },
   {
    "duration": 38,
    "start_time": "2022-09-10T13:37:10.019Z"
   },
   {
    "duration": 10,
    "start_time": "2022-09-10T13:37:11.547Z"
   },
   {
    "duration": 33,
    "start_time": "2022-09-10T13:37:13.351Z"
   },
   {
    "duration": 12,
    "start_time": "2022-09-10T13:37:16.974Z"
   },
   {
    "duration": 12,
    "start_time": "2022-09-10T13:37:19.834Z"
   },
   {
    "duration": 4,
    "start_time": "2022-09-10T13:37:22.250Z"
   },
   {
    "duration": 733,
    "start_time": "2022-09-10T13:37:28.397Z"
   },
   {
    "duration": 3,
    "start_time": "2022-09-10T13:38:10.906Z"
   },
   {
    "duration": 1109,
    "start_time": "2022-09-10T13:38:13.208Z"
   },
   {
    "duration": 4,
    "start_time": "2022-09-10T13:48:07.233Z"
   },
   {
    "duration": 759,
    "start_time": "2022-09-10T13:48:09.863Z"
   },
   {
    "duration": 10,
    "start_time": "2022-09-10T13:49:26.989Z"
   },
   {
    "duration": 723,
    "start_time": "2022-09-10T13:50:07.072Z"
   },
   {
    "duration": 5,
    "start_time": "2022-09-10T13:50:29.739Z"
   },
   {
    "duration": 828,
    "start_time": "2022-09-10T13:50:38.569Z"
   },
   {
    "duration": 585,
    "start_time": "2022-09-10T13:51:00.470Z"
   },
   {
    "duration": 8,
    "start_time": "2022-09-10T13:51:32.712Z"
   },
   {
    "duration": 20,
    "start_time": "2022-09-10T13:51:40.054Z"
   },
   {
    "duration": 21,
    "start_time": "2022-09-10T13:51:44.741Z"
   },
   {
    "duration": 8,
    "start_time": "2022-09-10T13:51:48.573Z"
   },
   {
    "duration": 4,
    "start_time": "2022-09-10T13:52:36.184Z"
   },
   {
    "duration": 762,
    "start_time": "2022-09-10T13:52:39.094Z"
   },
   {
    "duration": 4,
    "start_time": "2022-09-10T13:53:35.138Z"
   },
   {
    "duration": 4,
    "start_time": "2022-09-10T13:53:43.295Z"
   },
   {
    "duration": 813,
    "start_time": "2022-09-10T13:53:49.478Z"
   },
   {
    "duration": 3,
    "start_time": "2022-09-10T13:54:11.205Z"
   },
   {
    "duration": 797,
    "start_time": "2022-09-10T13:54:13.325Z"
   },
   {
    "duration": 4,
    "start_time": "2022-09-10T13:54:49.548Z"
   },
   {
    "duration": 729,
    "start_time": "2022-09-10T13:54:52.901Z"
   },
   {
    "duration": 3,
    "start_time": "2022-09-10T14:01:23.625Z"
   },
   {
    "duration": 9,
    "start_time": "2022-09-10T14:01:36.742Z"
   },
   {
    "duration": 5,
    "start_time": "2022-09-10T14:01:46.152Z"
   },
   {
    "duration": 23,
    "start_time": "2022-09-10T14:01:48.850Z"
   },
   {
    "duration": 20,
    "start_time": "2022-09-10T14:03:32.158Z"
   },
   {
    "duration": 17,
    "start_time": "2022-09-10T14:03:34.004Z"
   },
   {
    "duration": 15,
    "start_time": "2022-09-10T14:03:35.663Z"
   },
   {
    "duration": 17,
    "start_time": "2022-09-10T14:03:37.035Z"
   },
   {
    "duration": 15,
    "start_time": "2022-09-10T14:03:38.507Z"
   },
   {
    "duration": 14,
    "start_time": "2022-09-10T14:03:39.278Z"
   },
   {
    "duration": 24,
    "start_time": "2022-09-10T14:04:37.701Z"
   },
   {
    "duration": 18,
    "start_time": "2022-09-10T14:04:38.275Z"
   },
   {
    "duration": 15,
    "start_time": "2022-09-10T14:04:38.770Z"
   },
   {
    "duration": 22,
    "start_time": "2022-09-10T14:04:39.212Z"
   },
   {
    "duration": 18,
    "start_time": "2022-09-10T14:04:39.824Z"
   },
   {
    "duration": 63,
    "start_time": "2022-09-10T14:04:40.255Z"
   },
   {
    "duration": 6,
    "start_time": "2022-09-10T14:04:50.709Z"
   },
   {
    "duration": 25,
    "start_time": "2022-09-10T14:04:52.974Z"
   },
   {
    "duration": 14,
    "start_time": "2022-09-10T14:04:53.855Z"
   },
   {
    "duration": 12,
    "start_time": "2022-09-10T14:04:54.589Z"
   },
   {
    "duration": 13,
    "start_time": "2022-09-10T14:04:55.464Z"
   },
   {
    "duration": 16,
    "start_time": "2022-09-10T14:04:56.190Z"
   },
   {
    "duration": 74,
    "start_time": "2022-09-10T14:04:56.882Z"
   },
   {
    "duration": 14,
    "start_time": "2022-09-10T14:05:01.503Z"
   },
   {
    "duration": 14,
    "start_time": "2022-09-10T14:05:16.096Z"
   },
   {
    "duration": 17,
    "start_time": "2022-09-10T14:05:32.701Z"
   },
   {
    "duration": 24,
    "start_time": "2022-09-10T14:06:04.076Z"
   },
   {
    "duration": 20,
    "start_time": "2022-09-10T14:06:04.948Z"
   },
   {
    "duration": 22,
    "start_time": "2022-09-10T14:07:00.496Z"
   },
   {
    "duration": 21,
    "start_time": "2022-09-10T14:07:01.120Z"
   },
   {
    "duration": 17,
    "start_time": "2022-09-10T14:07:01.608Z"
   },
   {
    "duration": 14,
    "start_time": "2022-09-10T14:07:02.095Z"
   },
   {
    "duration": 23,
    "start_time": "2022-09-10T14:07:02.576Z"
   },
   {
    "duration": 16,
    "start_time": "2022-09-10T14:07:03.021Z"
   },
   {
    "duration": 10,
    "start_time": "2022-09-10T14:12:55.329Z"
   },
   {
    "duration": 55,
    "start_time": "2022-09-10T14:20:40.654Z"
   },
   {
    "duration": 46,
    "start_time": "2022-09-10T14:23:07.111Z"
   },
   {
    "duration": 40,
    "start_time": "2022-09-10T14:24:29.622Z"
   },
   {
    "duration": 44,
    "start_time": "2022-09-10T14:25:04.996Z"
   },
   {
    "duration": 47,
    "start_time": "2022-09-10T14:25:21.396Z"
   },
   {
    "duration": 53,
    "start_time": "2022-09-10T14:25:34.608Z"
   },
   {
    "duration": 59,
    "start_time": "2022-09-10T14:29:46.336Z"
   },
   {
    "duration": 69,
    "start_time": "2022-09-10T14:29:54.550Z"
   },
   {
    "duration": 19,
    "start_time": "2022-09-10T14:40:35.590Z"
   },
   {
    "duration": 13,
    "start_time": "2022-09-10T14:40:51.477Z"
   },
   {
    "duration": 9,
    "start_time": "2022-09-10T14:41:42.850Z"
   },
   {
    "duration": 32,
    "start_time": "2022-09-10T14:41:50.442Z"
   },
   {
    "duration": 9,
    "start_time": "2022-09-10T14:41:55.989Z"
   },
   {
    "duration": 4,
    "start_time": "2022-09-10T14:52:41.148Z"
   },
   {
    "duration": 4,
    "start_time": "2022-09-10T14:52:43.856Z"
   },
   {
    "duration": 9,
    "start_time": "2022-09-10T14:52:59.421Z"
   },
   {
    "duration": 11,
    "start_time": "2022-09-10T14:53:10.316Z"
   },
   {
    "duration": 4,
    "start_time": "2022-09-10T14:53:23.134Z"
   },
   {
    "duration": 17,
    "start_time": "2022-09-10T14:56:33.142Z"
   },
   {
    "duration": 13,
    "start_time": "2022-09-10T14:56:55.087Z"
   },
   {
    "duration": 19,
    "start_time": "2022-09-10T14:57:51.312Z"
   },
   {
    "duration": 12,
    "start_time": "2022-09-10T14:57:53.253Z"
   },
   {
    "duration": 32,
    "start_time": "2022-09-10T15:04:53.517Z"
   },
   {
    "duration": 25,
    "start_time": "2022-09-10T15:05:37.127Z"
   },
   {
    "duration": 10,
    "start_time": "2022-09-10T15:05:50.798Z"
   },
   {
    "duration": 12,
    "start_time": "2022-09-10T15:06:17.645Z"
   },
   {
    "duration": 30,
    "start_time": "2022-09-10T15:06:22.598Z"
   },
   {
    "duration": 11,
    "start_time": "2022-09-10T15:14:58.621Z"
   },
   {
    "duration": 10,
    "start_time": "2022-09-10T15:14:59.968Z"
   },
   {
    "duration": 4,
    "start_time": "2022-09-10T15:15:02.187Z"
   },
   {
    "duration": 15,
    "start_time": "2022-09-10T15:15:05.087Z"
   },
   {
    "duration": 18,
    "start_time": "2022-09-10T15:15:10.439Z"
   },
   {
    "duration": 16,
    "start_time": "2022-09-10T15:15:11.010Z"
   },
   {
    "duration": 40,
    "start_time": "2022-09-10T15:16:38.550Z"
   },
   {
    "duration": 13,
    "start_time": "2022-09-10T15:18:00.977Z"
   },
   {
    "duration": 10,
    "start_time": "2022-09-10T15:18:01.534Z"
   },
   {
    "duration": 4,
    "start_time": "2022-09-10T15:18:02.946Z"
   },
   {
    "duration": 17,
    "start_time": "2022-09-10T15:18:03.860Z"
   },
   {
    "duration": 11,
    "start_time": "2022-09-10T15:18:04.257Z"
   },
   {
    "duration": 19,
    "start_time": "2022-09-10T15:18:04.589Z"
   },
   {
    "duration": 13,
    "start_time": "2022-09-10T15:18:04.868Z"
   },
   {
    "duration": 4,
    "start_time": "2022-09-10T15:18:07.830Z"
   },
   {
    "duration": 3,
    "start_time": "2022-09-10T15:18:22.715Z"
   },
   {
    "duration": 27,
    "start_time": "2022-09-10T15:18:44.590Z"
   },
   {
    "duration": 14,
    "start_time": "2022-09-10T15:20:17.005Z"
   },
   {
    "duration": 52,
    "start_time": "2022-09-10T15:20:55.681Z"
   },
   {
    "duration": 11,
    "start_time": "2022-09-10T15:21:00.225Z"
   },
   {
    "duration": 13,
    "start_time": "2022-09-10T15:21:31.731Z"
   },
   {
    "duration": 11,
    "start_time": "2022-09-10T15:22:01.166Z"
   },
   {
    "duration": 17,
    "start_time": "2022-09-10T15:23:09.325Z"
   },
   {
    "duration": 12,
    "start_time": "2022-09-10T15:23:25.332Z"
   },
   {
    "duration": 10,
    "start_time": "2022-09-10T15:24:15.327Z"
   },
   {
    "duration": 10,
    "start_time": "2022-09-10T15:24:21.431Z"
   },
   {
    "duration": 28,
    "start_time": "2022-09-10T15:24:31.651Z"
   },
   {
    "duration": 11,
    "start_time": "2022-09-10T15:24:46.600Z"
   },
   {
    "duration": 11,
    "start_time": "2022-09-10T15:25:22.227Z"
   },
   {
    "duration": 11,
    "start_time": "2022-09-10T15:26:06.582Z"
   },
   {
    "duration": 3,
    "start_time": "2022-09-10T15:26:35.960Z"
   },
   {
    "duration": 163,
    "start_time": "2022-09-10T15:26:37.156Z"
   },
   {
    "duration": 7,
    "start_time": "2022-09-10T15:26:38.984Z"
   },
   {
    "duration": 28,
    "start_time": "2022-09-10T15:26:39.330Z"
   },
   {
    "duration": 2,
    "start_time": "2022-09-10T15:26:39.825Z"
   },
   {
    "duration": 4,
    "start_time": "2022-09-10T15:26:40.646Z"
   },
   {
    "duration": 11,
    "start_time": "2022-09-10T15:26:40.997Z"
   },
   {
    "duration": 4,
    "start_time": "2022-09-10T15:26:41.502Z"
   },
   {
    "duration": 24,
    "start_time": "2022-09-10T15:26:41.904Z"
   },
   {
    "duration": 18,
    "start_time": "2022-09-10T15:26:42.426Z"
   },
   {
    "duration": 23,
    "start_time": "2022-09-10T15:26:42.762Z"
   },
   {
    "duration": 61,
    "start_time": "2022-09-10T15:26:43.095Z"
   },
   {
    "duration": 63,
    "start_time": "2022-09-10T15:26:43.450Z"
   },
   {
    "duration": 59,
    "start_time": "2022-09-10T15:26:43.795Z"
   },
   {
    "duration": 36,
    "start_time": "2022-09-10T15:26:44.307Z"
   },
   {
    "duration": 11,
    "start_time": "2022-09-10T15:26:44.688Z"
   },
   {
    "duration": 44,
    "start_time": "2022-09-10T15:26:45.142Z"
   },
   {
    "duration": 11,
    "start_time": "2022-09-10T15:26:46.924Z"
   },
   {
    "duration": 11,
    "start_time": "2022-09-10T15:26:47.473Z"
   },
   {
    "duration": 4,
    "start_time": "2022-09-10T15:26:48.372Z"
   },
   {
    "duration": 18,
    "start_time": "2022-09-10T15:26:50.182Z"
   },
   {
    "duration": 16,
    "start_time": "2022-09-10T15:26:50.462Z"
   },
   {
    "duration": 18,
    "start_time": "2022-09-10T15:26:50.729Z"
   },
   {
    "duration": 14,
    "start_time": "2022-09-10T15:26:51.000Z"
   },
   {
    "duration": 16,
    "start_time": "2022-09-10T15:26:51.474Z"
   },
   {
    "duration": 19,
    "start_time": "2022-09-10T15:26:51.932Z"
   },
   {
    "duration": 76,
    "start_time": "2022-09-10T15:26:54.345Z"
   },
   {
    "duration": 15,
    "start_time": "2022-09-10T15:26:58.158Z"
   },
   {
    "duration": 10,
    "start_time": "2022-09-10T15:26:58.721Z"
   },
   {
    "duration": 5,
    "start_time": "2022-09-10T15:27:00.001Z"
   },
   {
    "duration": 17,
    "start_time": "2022-09-10T15:27:02.286Z"
   },
   {
    "duration": 12,
    "start_time": "2022-09-10T15:27:04.160Z"
   },
   {
    "duration": 24,
    "start_time": "2022-09-10T15:27:05.171Z"
   },
   {
    "duration": 13,
    "start_time": "2022-09-10T15:27:05.924Z"
   },
   {
    "duration": 12,
    "start_time": "2022-09-10T15:27:10.301Z"
   },
   {
    "duration": 25,
    "start_time": "2022-09-10T15:30:31.093Z"
   },
   {
    "duration": 29,
    "start_time": "2022-09-10T15:30:54.818Z"
   },
   {
    "duration": 12,
    "start_time": "2022-09-10T15:31:20.889Z"
   },
   {
    "duration": 15,
    "start_time": "2022-09-10T15:31:28.940Z"
   },
   {
    "duration": 9,
    "start_time": "2022-09-10T15:31:50.337Z"
   },
   {
    "duration": 8,
    "start_time": "2022-09-10T15:32:27.394Z"
   },
   {
    "duration": 5,
    "start_time": "2022-09-10T15:33:14.252Z"
   },
   {
    "duration": 5,
    "start_time": "2022-09-10T15:34:03.328Z"
   },
   {
    "duration": 5,
    "start_time": "2022-09-10T15:34:29.603Z"
   },
   {
    "duration": 467,
    "start_time": "2023-05-08T08:05:59.072Z"
   },
   {
    "duration": 251,
    "start_time": "2023-05-08T08:05:59.541Z"
   },
   {
    "duration": 12,
    "start_time": "2023-05-08T08:05:59.794Z"
   },
   {
    "duration": 40,
    "start_time": "2023-05-08T08:05:59.809Z"
   },
   {
    "duration": 3,
    "start_time": "2023-05-08T08:05:59.851Z"
   },
   {
    "duration": 6,
    "start_time": "2023-05-08T08:05:59.855Z"
   },
   {
    "duration": 29,
    "start_time": "2023-05-08T08:05:59.863Z"
   },
   {
    "duration": 6,
    "start_time": "2023-05-08T08:05:59.894Z"
   },
   {
    "duration": 26,
    "start_time": "2023-05-08T08:05:59.901Z"
   },
   {
    "duration": 25,
    "start_time": "2023-05-08T08:05:59.929Z"
   },
   {
    "duration": 62,
    "start_time": "2023-05-08T08:05:59.957Z"
   },
   {
    "duration": 85,
    "start_time": "2023-05-08T08:06:00.021Z"
   },
   {
    "duration": 77,
    "start_time": "2023-05-08T08:06:00.108Z"
   },
   {
    "duration": 60,
    "start_time": "2023-05-08T08:06:00.188Z"
   },
   {
    "duration": 56,
    "start_time": "2023-05-08T08:06:00.250Z"
   },
   {
    "duration": 10,
    "start_time": "2023-05-08T08:06:00.308Z"
   },
   {
    "duration": 78,
    "start_time": "2023-05-08T08:06:00.320Z"
   },
   {
    "duration": 12,
    "start_time": "2023-05-08T08:06:00.400Z"
   },
   {
    "duration": 43,
    "start_time": "2023-05-08T08:06:00.414Z"
   },
   {
    "duration": 17,
    "start_time": "2023-05-08T08:06:00.458Z"
   },
   {
    "duration": 75,
    "start_time": "2023-05-08T08:06:00.477Z"
   },
   {
    "duration": 61,
    "start_time": "2023-05-08T08:06:00.554Z"
   },
   {
    "duration": 65,
    "start_time": "2023-05-08T08:06:00.617Z"
   },
   {
    "duration": 32,
    "start_time": "2023-05-08T08:06:00.684Z"
   },
   {
    "duration": 28,
    "start_time": "2023-05-08T08:06:00.718Z"
   },
   {
    "duration": 47,
    "start_time": "2023-05-08T08:06:00.749Z"
   },
   {
    "duration": 121,
    "start_time": "2023-05-08T08:06:00.799Z"
   },
   {
    "duration": 12,
    "start_time": "2023-05-08T08:06:00.921Z"
   },
   {
    "duration": 70,
    "start_time": "2023-05-08T08:06:00.935Z"
   },
   {
    "duration": 55,
    "start_time": "2023-05-08T08:06:01.007Z"
   },
   {
    "duration": 82,
    "start_time": "2023-05-08T08:06:01.064Z"
   },
   {
    "duration": 33,
    "start_time": "2023-05-08T08:06:01.149Z"
   },
   {
    "duration": 37,
    "start_time": "2023-05-08T08:06:01.184Z"
   },
   {
    "duration": 44,
    "start_time": "2023-05-08T08:06:01.223Z"
   },
   {
    "duration": 76,
    "start_time": "2023-05-08T08:06:01.269Z"
   },
   {
    "duration": 53,
    "start_time": "2023-05-08T08:06:01.347Z"
   },
   {
    "duration": 52,
    "start_time": "2023-05-08T08:06:01.401Z"
   },
   {
    "duration": 59,
    "start_time": "2023-05-08T08:06:01.454Z"
   },
   {
    "duration": 3,
    "start_time": "2023-05-08T08:06:19.863Z"
   },
   {
    "duration": 174,
    "start_time": "2023-05-08T08:06:20.804Z"
   },
   {
    "duration": 7,
    "start_time": "2023-05-08T08:06:21.237Z"
   },
   {
    "duration": 30,
    "start_time": "2023-05-08T08:06:21.728Z"
   },
   {
    "duration": 2,
    "start_time": "2023-05-08T08:06:22.278Z"
   },
   {
    "duration": 3,
    "start_time": "2023-05-08T08:06:22.981Z"
   },
   {
    "duration": 9,
    "start_time": "2023-05-08T08:06:23.334Z"
   },
   {
    "duration": 3,
    "start_time": "2023-05-08T08:06:23.707Z"
   },
   {
    "duration": 30,
    "start_time": "2023-05-08T08:06:24.002Z"
   },
   {
    "duration": 17,
    "start_time": "2023-05-08T08:06:24.550Z"
   },
   {
    "duration": 23,
    "start_time": "2023-05-08T08:06:24.908Z"
   },
   {
    "duration": 64,
    "start_time": "2023-05-08T08:06:25.293Z"
   },
   {
    "duration": 99,
    "start_time": "2023-05-08T08:06:25.689Z"
   },
   {
    "duration": 60,
    "start_time": "2023-05-08T08:06:26.077Z"
   },
   {
    "duration": 45,
    "start_time": "2023-05-08T08:06:26.708Z"
   },
   {
    "duration": 18,
    "start_time": "2023-05-08T08:06:27.103Z"
   },
   {
    "duration": 53,
    "start_time": "2023-05-08T08:06:27.503Z"
   },
   {
    "duration": 11,
    "start_time": "2023-05-08T08:06:28.671Z"
   },
   {
    "duration": 13,
    "start_time": "2023-05-08T08:06:29.081Z"
   },
   {
    "duration": 4,
    "start_time": "2023-05-08T08:06:30.570Z"
   },
   {
    "duration": 17,
    "start_time": "2023-05-08T08:06:31.834Z"
   },
   {
    "duration": 14,
    "start_time": "2023-05-08T08:06:32.243Z"
   },
   {
    "duration": 15,
    "start_time": "2023-05-08T08:06:32.566Z"
   },
   {
    "duration": 16,
    "start_time": "2023-05-08T08:06:32.919Z"
   },
   {
    "duration": 17,
    "start_time": "2023-05-08T08:06:33.302Z"
   },
   {
    "duration": 14,
    "start_time": "2023-05-08T08:06:33.592Z"
   },
   {
    "duration": 72,
    "start_time": "2023-05-08T08:06:34.238Z"
   },
   {
    "duration": 14,
    "start_time": "2023-05-08T08:06:35.997Z"
   },
   {
    "duration": 12,
    "start_time": "2023-05-08T08:06:36.463Z"
   },
   {
    "duration": 4,
    "start_time": "2023-05-08T08:06:37.440Z"
   },
   {
    "duration": 22,
    "start_time": "2023-05-08T08:06:38.279Z"
   },
   {
    "duration": 12,
    "start_time": "2023-05-08T08:06:38.791Z"
   },
   {
    "duration": 19,
    "start_time": "2023-05-08T08:06:39.294Z"
   },
   {
    "duration": 13,
    "start_time": "2023-05-08T08:06:39.611Z"
   },
   {
    "duration": 10,
    "start_time": "2023-05-08T08:06:41.523Z"
   },
   {
    "duration": 5,
    "start_time": "2023-05-08T08:06:42.454Z"
   },
   {
    "duration": 6,
    "start_time": "2023-05-08T08:06:43.671Z"
   },
   {
    "duration": 5,
    "start_time": "2023-05-08T08:06:44.685Z"
   }
  ],
  "colab": {
   "collapsed_sections": [
    "E0vqbgi9ay0H",
    "VUC88oWjTJw2"
   ],
   "name": "automatization_template_upd4.ipynb",
   "provenance": []
  },
  "kernelspec": {
   "display_name": "Python 3 (ipykernel)",
   "language": "python",
   "name": "python3"
  },
  "language_info": {
   "codemirror_mode": {
    "name": "ipython",
    "version": 3
   },
   "file_extension": ".py",
   "mimetype": "text/x-python",
   "name": "python",
   "nbconvert_exporter": "python",
   "pygments_lexer": "ipython3",
   "version": "3.10.9"
  },
  "toc": {
   "base_numbering": 1,
   "nav_menu": {
    "height": "215px",
    "width": "403px"
   },
   "number_sections": true,
   "sideBar": true,
   "skip_h1_title": true,
   "title_cell": "Table of Contents",
   "title_sidebar": "Contents",
   "toc_cell": false,
   "toc_position": {
    "height": "calc(100% - 180px)",
    "left": "10px",
    "top": "150px",
    "width": "285.825px"
   },
   "toc_section_display": true,
   "toc_window_display": false
  }
 },
 "nbformat": 4,
 "nbformat_minor": 1
}
