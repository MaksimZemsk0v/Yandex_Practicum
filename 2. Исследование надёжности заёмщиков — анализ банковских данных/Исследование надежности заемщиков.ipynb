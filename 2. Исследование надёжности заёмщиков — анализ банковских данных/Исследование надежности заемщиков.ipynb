{
 "cells": [
  {
   "cell_type": "markdown",
   "id": "c6845054",
   "metadata": {
    "deletable": false,
    "editable": false,
    "id": "c81daeeb"
   },
   "source": [
    "# Исследование надежности заемщиков\n"
   ]
  },
  {
   "cell_type": "markdown",
   "id": "7e599103",
   "metadata": {},
   "source": [
    "## Описание проекта\n",
    "Заказчик — кредитный отдел банка. Нужно разобраться, влияет ли семейное положение и количество детей клиента на факт погашения кредита в срок. Входные данные от банка — статистика о платёжеспособности клиентов.\n",
    "\n",
    "Результаты исследования будут учтены при построении модели кредитного скоринга — специальной системы, которая оценивает способность потенциального заёмщика вернуть кредит банку.\n",
    "\n",
    "Описание данных:\n",
    "- children — количество детей в семье;\n",
    "- days_employed — общий трудовой стаж в днях;\n",
    "- dob_years — возраст клиента в годах;\n",
    "- education — уровень образования клиента;\n",
    "- education_id — идентификатор уровня образования;\n",
    "- family_status — семейное положение;\n",
    "- family_status_id — идентификатор семейного положения;\n",
    "- gender — пол клиента;\n",
    "- income_type — тип занятости;\n",
    "- debt — имел ли задолженность по возврату кредитов;\n",
    "- total_income — ежемесячный доход;\n",
    "- purpose — цель получения кредита."
   ]
  },
  {
   "cell_type": "markdown",
   "id": "14554f62",
   "metadata": {
    "id": "744d7639"
   },
   "source": [
    "## Откроем таблицу и изучим общую информацию о данных"
   ]
  },
  {
   "cell_type": "code",
   "execution_count": 1,
   "id": "df2a3529",
   "metadata": {
    "deletable": false,
    "id": "7bcf75c9"
   },
   "outputs": [],
   "source": [
    "import pandas as pd"
   ]
  },
  {
   "cell_type": "code",
   "execution_count": 2,
   "id": "dbd505d7",
   "metadata": {},
   "outputs": [],
   "source": [
    "try:\n",
    "    data = pd.read_csv('/datasets/data.csv')\n",
    "except:\n",
    "    data = pd.read_csv('https://code.s3.yandex.net/datasets/data.csv')"
   ]
  },
  {
   "cell_type": "code",
   "execution_count": 98,
   "id": "b5aa8a4e",
   "metadata": {
    "deletable": false,
    "id": "2a7cab99",
    "outputId": "1a8f3ef2-d323-4ec2-ddf7-89670b5944c4"
   },
   "outputs": [
    {
     "data": {
      "text/html": [
       "<div>\n",
       "<style scoped>\n",
       "    .dataframe tbody tr th:only-of-type {\n",
       "        vertical-align: middle;\n",
       "    }\n",
       "\n",
       "    .dataframe tbody tr th {\n",
       "        vertical-align: top;\n",
       "    }\n",
       "\n",
       "    .dataframe thead th {\n",
       "        text-align: right;\n",
       "    }\n",
       "</style>\n",
       "<table border=\"1\" class=\"dataframe\">\n",
       "  <thead>\n",
       "    <tr style=\"text-align: right;\">\n",
       "      <th></th>\n",
       "      <th>children</th>\n",
       "      <th>days_employed</th>\n",
       "      <th>dob_years</th>\n",
       "      <th>education</th>\n",
       "      <th>education_id</th>\n",
       "      <th>family_status</th>\n",
       "      <th>family_status_id</th>\n",
       "      <th>gender</th>\n",
       "      <th>income_type</th>\n",
       "      <th>debt</th>\n",
       "      <th>total_income</th>\n",
       "      <th>purpose</th>\n",
       "    </tr>\n",
       "  </thead>\n",
       "  <tbody>\n",
       "    <tr>\n",
       "      <th>0</th>\n",
       "      <td>1</td>\n",
       "      <td>-8437.673028</td>\n",
       "      <td>42</td>\n",
       "      <td>высшее</td>\n",
       "      <td>0</td>\n",
       "      <td>женат / замужем</td>\n",
       "      <td>0</td>\n",
       "      <td>F</td>\n",
       "      <td>сотрудник</td>\n",
       "      <td>0</td>\n",
       "      <td>253875.639453</td>\n",
       "      <td>покупка жилья</td>\n",
       "    </tr>\n",
       "    <tr>\n",
       "      <th>1</th>\n",
       "      <td>1</td>\n",
       "      <td>-4024.803754</td>\n",
       "      <td>36</td>\n",
       "      <td>среднее</td>\n",
       "      <td>1</td>\n",
       "      <td>женат / замужем</td>\n",
       "      <td>0</td>\n",
       "      <td>F</td>\n",
       "      <td>сотрудник</td>\n",
       "      <td>0</td>\n",
       "      <td>112080.014102</td>\n",
       "      <td>приобретение автомобиля</td>\n",
       "    </tr>\n",
       "    <tr>\n",
       "      <th>2</th>\n",
       "      <td>0</td>\n",
       "      <td>-5623.422610</td>\n",
       "      <td>33</td>\n",
       "      <td>Среднее</td>\n",
       "      <td>1</td>\n",
       "      <td>женат / замужем</td>\n",
       "      <td>0</td>\n",
       "      <td>M</td>\n",
       "      <td>сотрудник</td>\n",
       "      <td>0</td>\n",
       "      <td>145885.952297</td>\n",
       "      <td>покупка жилья</td>\n",
       "    </tr>\n",
       "    <tr>\n",
       "      <th>3</th>\n",
       "      <td>3</td>\n",
       "      <td>-4124.747207</td>\n",
       "      <td>32</td>\n",
       "      <td>среднее</td>\n",
       "      <td>1</td>\n",
       "      <td>женат / замужем</td>\n",
       "      <td>0</td>\n",
       "      <td>M</td>\n",
       "      <td>сотрудник</td>\n",
       "      <td>0</td>\n",
       "      <td>267628.550329</td>\n",
       "      <td>дополнительное образование</td>\n",
       "    </tr>\n",
       "    <tr>\n",
       "      <th>4</th>\n",
       "      <td>0</td>\n",
       "      <td>340266.072047</td>\n",
       "      <td>53</td>\n",
       "      <td>среднее</td>\n",
       "      <td>1</td>\n",
       "      <td>гражданский брак</td>\n",
       "      <td>1</td>\n",
       "      <td>F</td>\n",
       "      <td>пенсионер</td>\n",
       "      <td>0</td>\n",
       "      <td>158616.077870</td>\n",
       "      <td>сыграть свадьбу</td>\n",
       "    </tr>\n",
       "    <tr>\n",
       "      <th>5</th>\n",
       "      <td>0</td>\n",
       "      <td>-926.185831</td>\n",
       "      <td>27</td>\n",
       "      <td>высшее</td>\n",
       "      <td>0</td>\n",
       "      <td>гражданский брак</td>\n",
       "      <td>1</td>\n",
       "      <td>M</td>\n",
       "      <td>компаньон</td>\n",
       "      <td>0</td>\n",
       "      <td>255763.565419</td>\n",
       "      <td>покупка жилья</td>\n",
       "    </tr>\n",
       "    <tr>\n",
       "      <th>6</th>\n",
       "      <td>0</td>\n",
       "      <td>-2879.202052</td>\n",
       "      <td>43</td>\n",
       "      <td>высшее</td>\n",
       "      <td>0</td>\n",
       "      <td>женат / замужем</td>\n",
       "      <td>0</td>\n",
       "      <td>F</td>\n",
       "      <td>компаньон</td>\n",
       "      <td>0</td>\n",
       "      <td>240525.971920</td>\n",
       "      <td>операции с жильем</td>\n",
       "    </tr>\n",
       "    <tr>\n",
       "      <th>7</th>\n",
       "      <td>0</td>\n",
       "      <td>-152.779569</td>\n",
       "      <td>50</td>\n",
       "      <td>СРЕДНЕЕ</td>\n",
       "      <td>1</td>\n",
       "      <td>женат / замужем</td>\n",
       "      <td>0</td>\n",
       "      <td>M</td>\n",
       "      <td>сотрудник</td>\n",
       "      <td>0</td>\n",
       "      <td>135823.934197</td>\n",
       "      <td>образование</td>\n",
       "    </tr>\n",
       "    <tr>\n",
       "      <th>8</th>\n",
       "      <td>2</td>\n",
       "      <td>-6929.865299</td>\n",
       "      <td>35</td>\n",
       "      <td>ВЫСШЕЕ</td>\n",
       "      <td>0</td>\n",
       "      <td>гражданский брак</td>\n",
       "      <td>1</td>\n",
       "      <td>F</td>\n",
       "      <td>сотрудник</td>\n",
       "      <td>0</td>\n",
       "      <td>95856.832424</td>\n",
       "      <td>на проведение свадьбы</td>\n",
       "    </tr>\n",
       "    <tr>\n",
       "      <th>9</th>\n",
       "      <td>0</td>\n",
       "      <td>-2188.756445</td>\n",
       "      <td>41</td>\n",
       "      <td>среднее</td>\n",
       "      <td>1</td>\n",
       "      <td>женат / замужем</td>\n",
       "      <td>0</td>\n",
       "      <td>M</td>\n",
       "      <td>сотрудник</td>\n",
       "      <td>0</td>\n",
       "      <td>144425.938277</td>\n",
       "      <td>покупка жилья для семьи</td>\n",
       "    </tr>\n",
       "    <tr>\n",
       "      <th>10</th>\n",
       "      <td>2</td>\n",
       "      <td>-4171.483647</td>\n",
       "      <td>36</td>\n",
       "      <td>высшее</td>\n",
       "      <td>0</td>\n",
       "      <td>женат / замужем</td>\n",
       "      <td>0</td>\n",
       "      <td>M</td>\n",
       "      <td>компаньон</td>\n",
       "      <td>0</td>\n",
       "      <td>113943.491460</td>\n",
       "      <td>покупка недвижимости</td>\n",
       "    </tr>\n",
       "    <tr>\n",
       "      <th>11</th>\n",
       "      <td>0</td>\n",
       "      <td>-792.701887</td>\n",
       "      <td>40</td>\n",
       "      <td>среднее</td>\n",
       "      <td>1</td>\n",
       "      <td>женат / замужем</td>\n",
       "      <td>0</td>\n",
       "      <td>F</td>\n",
       "      <td>сотрудник</td>\n",
       "      <td>0</td>\n",
       "      <td>77069.234271</td>\n",
       "      <td>покупка коммерческой недвижимости</td>\n",
       "    </tr>\n",
       "    <tr>\n",
       "      <th>12</th>\n",
       "      <td>0</td>\n",
       "      <td>NaN</td>\n",
       "      <td>65</td>\n",
       "      <td>среднее</td>\n",
       "      <td>1</td>\n",
       "      <td>гражданский брак</td>\n",
       "      <td>1</td>\n",
       "      <td>M</td>\n",
       "      <td>пенсионер</td>\n",
       "      <td>0</td>\n",
       "      <td>NaN</td>\n",
       "      <td>сыграть свадьбу</td>\n",
       "    </tr>\n",
       "    <tr>\n",
       "      <th>13</th>\n",
       "      <td>0</td>\n",
       "      <td>-1846.641941</td>\n",
       "      <td>54</td>\n",
       "      <td>неоконченное высшее</td>\n",
       "      <td>2</td>\n",
       "      <td>женат / замужем</td>\n",
       "      <td>0</td>\n",
       "      <td>F</td>\n",
       "      <td>сотрудник</td>\n",
       "      <td>0</td>\n",
       "      <td>130458.228857</td>\n",
       "      <td>приобретение автомобиля</td>\n",
       "    </tr>\n",
       "    <tr>\n",
       "      <th>14</th>\n",
       "      <td>0</td>\n",
       "      <td>-1844.956182</td>\n",
       "      <td>56</td>\n",
       "      <td>высшее</td>\n",
       "      <td>0</td>\n",
       "      <td>гражданский брак</td>\n",
       "      <td>1</td>\n",
       "      <td>F</td>\n",
       "      <td>компаньон</td>\n",
       "      <td>1</td>\n",
       "      <td>165127.911772</td>\n",
       "      <td>покупка жилой недвижимости</td>\n",
       "    </tr>\n",
       "    <tr>\n",
       "      <th>15</th>\n",
       "      <td>1</td>\n",
       "      <td>-972.364419</td>\n",
       "      <td>26</td>\n",
       "      <td>среднее</td>\n",
       "      <td>1</td>\n",
       "      <td>женат / замужем</td>\n",
       "      <td>0</td>\n",
       "      <td>F</td>\n",
       "      <td>сотрудник</td>\n",
       "      <td>0</td>\n",
       "      <td>116820.904450</td>\n",
       "      <td>строительство собственной недвижимости</td>\n",
       "    </tr>\n",
       "    <tr>\n",
       "      <th>16</th>\n",
       "      <td>0</td>\n",
       "      <td>-1719.934226</td>\n",
       "      <td>35</td>\n",
       "      <td>среднее</td>\n",
       "      <td>1</td>\n",
       "      <td>женат / замужем</td>\n",
       "      <td>0</td>\n",
       "      <td>F</td>\n",
       "      <td>сотрудник</td>\n",
       "      <td>0</td>\n",
       "      <td>289202.704229</td>\n",
       "      <td>недвижимость</td>\n",
       "    </tr>\n",
       "    <tr>\n",
       "      <th>17</th>\n",
       "      <td>0</td>\n",
       "      <td>-2369.999720</td>\n",
       "      <td>33</td>\n",
       "      <td>высшее</td>\n",
       "      <td>0</td>\n",
       "      <td>гражданский брак</td>\n",
       "      <td>1</td>\n",
       "      <td>M</td>\n",
       "      <td>сотрудник</td>\n",
       "      <td>0</td>\n",
       "      <td>90410.586745</td>\n",
       "      <td>строительство недвижимости</td>\n",
       "    </tr>\n",
       "    <tr>\n",
       "      <th>18</th>\n",
       "      <td>0</td>\n",
       "      <td>400281.136913</td>\n",
       "      <td>53</td>\n",
       "      <td>среднее</td>\n",
       "      <td>1</td>\n",
       "      <td>вдовец / вдова</td>\n",
       "      <td>2</td>\n",
       "      <td>F</td>\n",
       "      <td>пенсионер</td>\n",
       "      <td>0</td>\n",
       "      <td>56823.777243</td>\n",
       "      <td>на покупку подержанного автомобиля</td>\n",
       "    </tr>\n",
       "    <tr>\n",
       "      <th>19</th>\n",
       "      <td>0</td>\n",
       "      <td>-10038.818549</td>\n",
       "      <td>48</td>\n",
       "      <td>СРЕДНЕЕ</td>\n",
       "      <td>1</td>\n",
       "      <td>в разводе</td>\n",
       "      <td>3</td>\n",
       "      <td>F</td>\n",
       "      <td>сотрудник</td>\n",
       "      <td>0</td>\n",
       "      <td>242831.107982</td>\n",
       "      <td>на покупку своего автомобиля</td>\n",
       "    </tr>\n",
       "  </tbody>\n",
       "</table>\n",
       "</div>"
      ],
      "text/plain": [
       "    children  days_employed  dob_years            education  education_id  \\\n",
       "0          1   -8437.673028         42               высшее             0   \n",
       "1          1   -4024.803754         36              среднее             1   \n",
       "2          0   -5623.422610         33              Среднее             1   \n",
       "3          3   -4124.747207         32              среднее             1   \n",
       "4          0  340266.072047         53              среднее             1   \n",
       "5          0    -926.185831         27               высшее             0   \n",
       "6          0   -2879.202052         43               высшее             0   \n",
       "7          0    -152.779569         50              СРЕДНЕЕ             1   \n",
       "8          2   -6929.865299         35               ВЫСШЕЕ             0   \n",
       "9          0   -2188.756445         41              среднее             1   \n",
       "10         2   -4171.483647         36               высшее             0   \n",
       "11         0    -792.701887         40              среднее             1   \n",
       "12         0            NaN         65              среднее             1   \n",
       "13         0   -1846.641941         54  неоконченное высшее             2   \n",
       "14         0   -1844.956182         56               высшее             0   \n",
       "15         1    -972.364419         26              среднее             1   \n",
       "16         0   -1719.934226         35              среднее             1   \n",
       "17         0   -2369.999720         33               высшее             0   \n",
       "18         0  400281.136913         53              среднее             1   \n",
       "19         0  -10038.818549         48              СРЕДНЕЕ             1   \n",
       "\n",
       "       family_status  family_status_id gender income_type  debt  \\\n",
       "0    женат / замужем                 0      F   сотрудник     0   \n",
       "1    женат / замужем                 0      F   сотрудник     0   \n",
       "2    женат / замужем                 0      M   сотрудник     0   \n",
       "3    женат / замужем                 0      M   сотрудник     0   \n",
       "4   гражданский брак                 1      F   пенсионер     0   \n",
       "5   гражданский брак                 1      M   компаньон     0   \n",
       "6    женат / замужем                 0      F   компаньон     0   \n",
       "7    женат / замужем                 0      M   сотрудник     0   \n",
       "8   гражданский брак                 1      F   сотрудник     0   \n",
       "9    женат / замужем                 0      M   сотрудник     0   \n",
       "10   женат / замужем                 0      M   компаньон     0   \n",
       "11   женат / замужем                 0      F   сотрудник     0   \n",
       "12  гражданский брак                 1      M   пенсионер     0   \n",
       "13   женат / замужем                 0      F   сотрудник     0   \n",
       "14  гражданский брак                 1      F   компаньон     1   \n",
       "15   женат / замужем                 0      F   сотрудник     0   \n",
       "16   женат / замужем                 0      F   сотрудник     0   \n",
       "17  гражданский брак                 1      M   сотрудник     0   \n",
       "18    вдовец / вдова                 2      F   пенсионер     0   \n",
       "19         в разводе                 3      F   сотрудник     0   \n",
       "\n",
       "     total_income                                 purpose  \n",
       "0   253875.639453                           покупка жилья  \n",
       "1   112080.014102                 приобретение автомобиля  \n",
       "2   145885.952297                           покупка жилья  \n",
       "3   267628.550329              дополнительное образование  \n",
       "4   158616.077870                         сыграть свадьбу  \n",
       "5   255763.565419                           покупка жилья  \n",
       "6   240525.971920                       операции с жильем  \n",
       "7   135823.934197                             образование  \n",
       "8    95856.832424                   на проведение свадьбы  \n",
       "9   144425.938277                 покупка жилья для семьи  \n",
       "10  113943.491460                    покупка недвижимости  \n",
       "11   77069.234271       покупка коммерческой недвижимости  \n",
       "12            NaN                         сыграть свадьбу  \n",
       "13  130458.228857                 приобретение автомобиля  \n",
       "14  165127.911772              покупка жилой недвижимости  \n",
       "15  116820.904450  строительство собственной недвижимости  \n",
       "16  289202.704229                            недвижимость  \n",
       "17   90410.586745              строительство недвижимости  \n",
       "18   56823.777243      на покупку подержанного автомобиля  \n",
       "19  242831.107982            на покупку своего автомобиля  "
      ]
     },
     "execution_count": 98,
     "metadata": {},
     "output_type": "execute_result"
    }
   ],
   "source": [
    "data.head(20)"
   ]
  },
  {
   "cell_type": "code",
   "execution_count": 99,
   "id": "bcbe7a8f",
   "metadata": {
    "deletable": false,
    "id": "2b757bca",
    "outputId": "15376089-8dad-46c9-b520-c05248d43158"
   },
   "outputs": [
    {
     "name": "stdout",
     "output_type": "stream",
     "text": [
      "<class 'pandas.core.frame.DataFrame'>\n",
      "RangeIndex: 21525 entries, 0 to 21524\n",
      "Data columns (total 12 columns):\n",
      " #   Column            Non-Null Count  Dtype  \n",
      "---  ------            --------------  -----  \n",
      " 0   children          21525 non-null  int64  \n",
      " 1   days_employed     19351 non-null  float64\n",
      " 2   dob_years         21525 non-null  int64  \n",
      " 3   education         21525 non-null  object \n",
      " 4   education_id      21525 non-null  int64  \n",
      " 5   family_status     21525 non-null  object \n",
      " 6   family_status_id  21525 non-null  int64  \n",
      " 7   gender            21525 non-null  object \n",
      " 8   income_type       21525 non-null  object \n",
      " 9   debt              21525 non-null  int64  \n",
      " 10  total_income      19351 non-null  float64\n",
      " 11  purpose           21525 non-null  object \n",
      "dtypes: float64(2), int64(5), object(5)\n",
      "memory usage: 2.0+ MB\n"
     ]
    }
   ],
   "source": [
    "data.info()"
   ]
  },
  {
   "cell_type": "markdown",
   "id": "7a4142fa",
   "metadata": {
    "deletable": false,
    "editable": false,
    "id": "333ec665"
   },
   "source": [
    "## Предобработка данных"
   ]
  },
  {
   "cell_type": "markdown",
   "id": "3488487e",
   "metadata": {
    "deletable": false,
    "editable": false,
    "id": "02d92d53"
   },
   "source": [
    "### Удаление пропусков"
   ]
  },
  {
   "cell_type": "code",
   "execution_count": 100,
   "id": "7f2524d9",
   "metadata": {
    "deletable": false,
    "id": "7f9b2309",
    "outputId": "81f4d817-781c-465c-ed15-91ce4446810d"
   },
   "outputs": [
    {
     "data": {
      "text/plain": [
       "children               0\n",
       "days_employed       2174\n",
       "dob_years              0\n",
       "education              0\n",
       "education_id           0\n",
       "family_status          0\n",
       "family_status_id       0\n",
       "gender                 0\n",
       "income_type            0\n",
       "debt                   0\n",
       "total_income        2174\n",
       "purpose                0\n",
       "dtype: int64"
      ]
     },
     "execution_count": 100,
     "metadata": {},
     "output_type": "execute_result"
    }
   ],
   "source": [
    "data.isna().sum()"
   ]
  },
  {
   "cell_type": "markdown",
   "id": "d0565832",
   "metadata": {
    "id": "db86e27b"
   },
   "source": [
    "В двух столбцах есть пропущенные значения. Один из них — `total_income` — хранит данные о доходах. На сумму дохода сильнее всего влияет тип занятости, поэтому заполнить пропуски в этом столбце следует медианным значением по каждому типу из столбца `income_type`"
   ]
  },
  {
   "cell_type": "code",
   "execution_count": 101,
   "id": "bd6cfa85",
   "metadata": {
    "deletable": false,
    "id": "42006a93"
   },
   "outputs": [],
   "source": [
    "for t in data['income_type'].unique():\n",
    "    data.loc[(data['income_type'] == t) & (data['total_income'].isna()), 'total_income'] = \\\n",
    "    data.loc[(data['income_type'] == t), 'total_income'].median()"
   ]
  },
  {
   "cell_type": "markdown",
   "id": "270f17c2",
   "metadata": {
    "deletable": false,
    "editable": false,
    "id": "89da5ece"
   },
   "source": [
    "### Обработка аномальных значений"
   ]
  },
  {
   "cell_type": "markdown",
   "id": "3657b0ed",
   "metadata": {
    "id": "57964554"
   },
   "source": [
    "В данных могут встречаться артефакты (аномалии) — значения, которые не отражают действительность и появились по какой-то ошибке. таким артефактом будет отрицательное количество дней трудового стажа в столбце `days_employed`. Для реальных данных это нормально. Обработайте значения в этом столбце: замените все отрицательные значения положительными с помощью метода `abs()`"
   ]
  },
  {
   "cell_type": "code",
   "execution_count": 102,
   "id": "4b05277b",
   "metadata": {
    "deletable": false,
    "id": "f6f055bf"
   },
   "outputs": [],
   "source": [
    "data['days_employed'] = data['days_employed'].abs()"
   ]
  },
  {
   "cell_type": "markdown",
   "id": "c942731a",
   "metadata": {
    "id": "6107dd2f"
   },
   "source": [
    "Для каждого типа занятости выведем медианное значение трудового стажа `days_employed` в днях"
   ]
  },
  {
   "cell_type": "code",
   "execution_count": 103,
   "id": "8cc9dced",
   "metadata": {
    "deletable": false,
    "id": "85a5faf6",
    "outputId": "801ef80e-522b-4668-f34e-565af7432bcf"
   },
   "outputs": [
    {
     "data": {
      "text/plain": [
       "income_type\n",
       "безработный        366413.652744\n",
       "в декрете            3296.759962\n",
       "госслужащий          2689.368353\n",
       "компаньон            1547.382223\n",
       "пенсионер          365213.306266\n",
       "предприниматель       520.848083\n",
       "сотрудник            1574.202821\n",
       "студент               578.751554\n",
       "Name: days_employed, dtype: float64"
      ]
     },
     "execution_count": 103,
     "metadata": {},
     "output_type": "execute_result"
    }
   ],
   "source": [
    "data.groupby('income_type')['days_employed'].agg('median')"
   ]
  },
  {
   "cell_type": "markdown",
   "id": "d756b840",
   "metadata": {
    "id": "38d1a030"
   },
   "source": [
    "У двух типов (безработные и пенсионеры) получатся аномально большие значения. Исправить такие значения сложно, поэтому оставиме их как есть. Тем более этот столбец не понадобится для исследования."
   ]
  },
  {
   "cell_type": "markdown",
   "id": "8676ed49",
   "metadata": {
    "id": "d8a9f147"
   },
   "source": [
    "Выведем перечень уникальных значений столбца `children`"
   ]
  },
  {
   "cell_type": "code",
   "execution_count": 104,
   "id": "6de32d70",
   "metadata": {
    "deletable": false,
    "id": "ef5056eb",
    "outputId": "6975b15c-7f95-4697-d16d-a0c79b657b03"
   },
   "outputs": [
    {
     "data": {
      "text/plain": [
       "array([ 1,  0,  3,  2, -1,  4, 20,  5])"
      ]
     },
     "execution_count": 104,
     "metadata": {},
     "output_type": "execute_result"
    }
   ],
   "source": [
    "data['children'].unique()"
   ]
  },
  {
   "cell_type": "markdown",
   "id": "ecf1c544",
   "metadata": {
    "id": "40b9ebf2"
   },
   "source": [
    "В столбце `children` есть два аномальных значения. Удалим строки, в которых встречаются такие аномальные значения из датафрейма `data`"
   ]
  },
  {
   "cell_type": "code",
   "execution_count": 105,
   "id": "c97c42c5",
   "metadata": {
    "deletable": false,
    "id": "3ff9801d"
   },
   "outputs": [],
   "source": [
    "data = data[(data['children'] != -1) & (data['children'] != 20)]"
   ]
  },
  {
   "cell_type": "markdown",
   "id": "9c72b1c7",
   "metadata": {},
   "source": [
    "Ещё раз выведем перечень уникальных значений столбца `children`, чтобы убедиться, что выбросы удалены"
   ]
  },
  {
   "cell_type": "code",
   "execution_count": 106,
   "id": "ddcf720d",
   "metadata": {
    "deletable": false,
    "id": "ad4fa8b7",
    "outputId": "b2097101-d49d-44d9-901b-32a65c9463d1"
   },
   "outputs": [
    {
     "data": {
      "text/plain": [
       "array([1, 0, 3, 2, 4, 5])"
      ]
     },
     "execution_count": 106,
     "metadata": {},
     "output_type": "execute_result"
    }
   ],
   "source": [
    "data['children'].unique()"
   ]
  },
  {
   "cell_type": "markdown",
   "id": "c980dcc7",
   "metadata": {
    "deletable": false,
    "editable": false,
    "id": "75440b63"
   },
   "source": [
    "### Удаление пропусков (продолжение)"
   ]
  },
  {
   "cell_type": "markdown",
   "id": "4a9219f4",
   "metadata": {},
   "source": [
    "Заполним пропуски в столбце `days_employed` медианными значениями по каждого типа занятости `income_type`"
   ]
  },
  {
   "cell_type": "code",
   "execution_count": 107,
   "id": "0d6e9678",
   "metadata": {
    "deletable": false,
    "id": "af6b1a7e"
   },
   "outputs": [],
   "source": [
    "for t in data['income_type'].unique():\n",
    "    data.loc[(data['income_type'] == t) & (data['days_employed'].isna()), 'days_employed'] = \\\n",
    "    data.loc[(data['income_type'] == t), 'days_employed'].median()"
   ]
  },
  {
   "cell_type": "markdown",
   "id": "6392215e",
   "metadata": {},
   "source": [
    "Убедимся, что все пропуски заполнены. Проверим себя и ещё раз выведем количество пропущенных значений для каждого столбца"
   ]
  },
  {
   "cell_type": "code",
   "execution_count": 108,
   "id": "77c4d772",
   "metadata": {
    "deletable": false,
    "id": "55f78bc2",
    "outputId": "8da1e4e1-358e-4e87-98c9-f261bce0a7b2"
   },
   "outputs": [
    {
     "data": {
      "text/plain": [
       "children            0\n",
       "days_employed       0\n",
       "dob_years           0\n",
       "education           0\n",
       "education_id        0\n",
       "family_status       0\n",
       "family_status_id    0\n",
       "gender              0\n",
       "income_type         0\n",
       "debt                0\n",
       "total_income        0\n",
       "purpose             0\n",
       "dtype: int64"
      ]
     },
     "execution_count": 108,
     "metadata": {},
     "output_type": "execute_result"
    }
   ],
   "source": [
    "data.isna().sum()"
   ]
  },
  {
   "cell_type": "markdown",
   "id": "f9ecf4cc",
   "metadata": {
    "deletable": false,
    "editable": false,
    "id": "ddc81e43"
   },
   "source": [
    "### Изменение типов данных"
   ]
  },
  {
   "cell_type": "markdown",
   "id": "754e55e9",
   "metadata": {},
   "source": [
    "Заменим вещественный тип данных в столбце `total_income` на целочисленный"
   ]
  },
  {
   "cell_type": "code",
   "execution_count": 109,
   "id": "7cd8a8f5",
   "metadata": {
    "deletable": false,
    "id": "920b65ad"
   },
   "outputs": [],
   "source": [
    "data['total_income'] = data['total_income'].astype(int)"
   ]
  },
  {
   "cell_type": "markdown",
   "id": "43f12bcb",
   "metadata": {
    "deletable": false,
    "editable": false,
    "id": "80c420ba"
   },
   "source": [
    "### Обработка дубликатов"
   ]
  },
  {
   "cell_type": "markdown",
   "id": "79ea07db",
   "metadata": {},
   "source": [
    "Обработаем неявные дубликаты в столбце `education`. В этом столбце есть одни и те же значения, но записанные по-разному: с использованием заглавных и строчных букв. Приведем их к нижнему регистру. Проверим и остальные столбцы"
   ]
  },
  {
   "cell_type": "code",
   "execution_count": 110,
   "id": "3c2d0ea4",
   "metadata": {
    "deletable": false
   },
   "outputs": [],
   "source": [
    "data['education'] = data['education'].str.lower()"
   ]
  },
  {
   "cell_type": "markdown",
   "id": "b5e0a147",
   "metadata": {},
   "source": [
    "Выведем на экран количество строк-дубликатов в данных. Если такие строки присутствуют, удалим их"
   ]
  },
  {
   "cell_type": "code",
   "execution_count": 111,
   "id": "5341625e",
   "metadata": {
    "deletable": false,
    "id": "3ee445e4",
    "outputId": "9684deba-1934-42d1-99e1-cda61740f822"
   },
   "outputs": [
    {
     "data": {
      "text/plain": [
       "71"
      ]
     },
     "execution_count": 111,
     "metadata": {},
     "output_type": "execute_result"
    }
   ],
   "source": [
    "data.duplicated().sum()"
   ]
  },
  {
   "cell_type": "code",
   "execution_count": 112,
   "id": "1bc4b36e",
   "metadata": {
    "deletable": false,
    "id": "8575fe05"
   },
   "outputs": [],
   "source": [
    "data = data.drop_duplicates()"
   ]
  },
  {
   "cell_type": "markdown",
   "id": "f4014b15",
   "metadata": {
    "deletable": false,
    "editable": false,
    "id": "9904cf55"
   },
   "source": [
    "### Категоризация данных"
   ]
  },
  {
   "cell_type": "markdown",
   "id": "c7b31d14",
   "metadata": {},
   "source": [
    "На основании диапазонов, указанных ниже, создадим в датафрейме `data` столбец `total_income_category` с категориями:\n",
    "\n",
    "- 0–30000 — `'E'`;\n",
    "- 30001–50000 — `'D'`;\n",
    "- 50001–200000 — `'C'`;\n",
    "- 200001–1000000 — `'B'`;\n",
    "- 1000001 и выше — `'A'`."
   ]
  },
  {
   "cell_type": "code",
   "execution_count": 113,
   "id": "52f737df",
   "metadata": {
    "deletable": false,
    "id": "e1771346"
   },
   "outputs": [],
   "source": [
    "def categorize_income(income):\n",
    "    try:\n",
    "        if 0 <= income <= 30000:\n",
    "            return 'E'\n",
    "        elif 30001 <= income <= 50000:\n",
    "            return 'D'\n",
    "        elif 50001 <= income <= 200000:\n",
    "            return 'C'\n",
    "        elif 200001 <= income <= 1000000:\n",
    "            return 'B'\n",
    "        elif income >= 1000001:\n",
    "            return 'A'\n",
    "    except:\n",
    "        pass"
   ]
  },
  {
   "cell_type": "code",
   "execution_count": 114,
   "id": "bef42bd7",
   "metadata": {
    "deletable": false,
    "id": "d5f3586d"
   },
   "outputs": [
    {
     "name": "stdout",
     "output_type": "stream",
     "text": [
      "       children  days_employed  dob_years education  education_id  \\\n",
      "0             1    8437.673028         42    высшее             0   \n",
      "1             1    4024.803754         36   среднее             1   \n",
      "2             0    5623.422610         33   среднее             1   \n",
      "3             3    4124.747207         32   среднее             1   \n",
      "4             0  340266.072047         53   среднее             1   \n",
      "...         ...            ...        ...       ...           ...   \n",
      "21520         1    4529.316663         43   среднее             1   \n",
      "21521         0  343937.404131         67   среднее             1   \n",
      "21522         1    2113.346888         38   среднее             1   \n",
      "21523         3    3112.481705         38   среднее             1   \n",
      "21524         2    1984.507589         40   среднее             1   \n",
      "\n",
      "          family_status  family_status_id gender income_type  debt  \\\n",
      "0       женат / замужем                 0      F   сотрудник     0   \n",
      "1       женат / замужем                 0      F   сотрудник     0   \n",
      "2       женат / замужем                 0      M   сотрудник     0   \n",
      "3       женат / замужем                 0      M   сотрудник     0   \n",
      "4      гражданский брак                 1      F   пенсионер     0   \n",
      "...                 ...               ...    ...         ...   ...   \n",
      "21520  гражданский брак                 1      F   компаньон     0   \n",
      "21521   женат / замужем                 0      F   пенсионер     0   \n",
      "21522  гражданский брак                 1      M   сотрудник     1   \n",
      "21523   женат / замужем                 0      M   сотрудник     1   \n",
      "21524   женат / замужем                 0      F   сотрудник     0   \n",
      "\n",
      "       total_income                       purpose total_income_category  \n",
      "0            253875                 покупка жилья                     B  \n",
      "1            112080       приобретение автомобиля                     C  \n",
      "2            145885                 покупка жилья                     C  \n",
      "3            267628    дополнительное образование                     B  \n",
      "4            158616               сыграть свадьбу                     C  \n",
      "...             ...                           ...                   ...  \n",
      "21520        224791             операции с жильем                     B  \n",
      "21521        155999          сделка с автомобилем                     C  \n",
      "21522         89672                  недвижимость                     C  \n",
      "21523        244093  на покупку своего автомобиля                     B  \n",
      "21524         82047         на покупку автомобиля                     C  \n",
      "\n",
      "[21331 rows x 13 columns]\n"
     ]
    }
   ],
   "source": [
    "data['total_income_category'] = data['total_income'].apply(categorize_income)\n",
    "print(data)"
   ]
  },
  {
   "cell_type": "markdown",
   "id": "e213732d",
   "metadata": {},
   "source": [
    "Выведем на экран перечень уникальных целей взятия кредита из столбца `purpose`"
   ]
  },
  {
   "cell_type": "code",
   "execution_count": 115,
   "id": "69c35859",
   "metadata": {
    "deletable": false,
    "id": "f67ce9b3",
    "outputId": "673c12d9-7d7e-4ae0-9812-c622c89dd244"
   },
   "outputs": [
    {
     "data": {
      "text/plain": [
       "array(['покупка жилья', 'приобретение автомобиля',\n",
       "       'дополнительное образование', 'сыграть свадьбу',\n",
       "       'операции с жильем', 'образование', 'на проведение свадьбы',\n",
       "       'покупка жилья для семьи', 'покупка недвижимости',\n",
       "       'покупка коммерческой недвижимости', 'покупка жилой недвижимости',\n",
       "       'строительство собственной недвижимости', 'недвижимость',\n",
       "       'строительство недвижимости', 'на покупку подержанного автомобиля',\n",
       "       'на покупку своего автомобиля',\n",
       "       'операции с коммерческой недвижимостью',\n",
       "       'строительство жилой недвижимости', 'жилье',\n",
       "       'операции со своей недвижимостью', 'автомобили',\n",
       "       'заняться образованием', 'сделка с подержанным автомобилем',\n",
       "       'получение образования', 'автомобиль', 'свадьба',\n",
       "       'получение дополнительного образования', 'покупка своего жилья',\n",
       "       'операции с недвижимостью', 'получение высшего образования',\n",
       "       'свой автомобиль', 'сделка с автомобилем',\n",
       "       'профильное образование', 'высшее образование',\n",
       "       'покупка жилья для сдачи', 'на покупку автомобиля', 'ремонт жилью',\n",
       "       'заняться высшим образованием'], dtype=object)"
      ]
     },
     "execution_count": 115,
     "metadata": {},
     "output_type": "execute_result"
    }
   ],
   "source": [
    "data['purpose'].unique()"
   ]
  },
  {
   "cell_type": "markdown",
   "id": "03766918",
   "metadata": {},
   "source": [
    "Создадим функцию, которая на основании данных из столбца `purpose` сформирует новый столбец `purpose_category`, в который войдут следующие категории:\n",
    "\n",
    "- `'операции с автомобилем'`,\n",
    "- `'операции с недвижимостью'`,\n",
    "- `'проведение свадьбы'`,\n",
    "- `'получение образования'`."
   ]
  },
  {
   "cell_type": "code",
   "execution_count": 116,
   "id": "a26961f1",
   "metadata": {
    "deletable": false,
    "id": "e149fab4"
   },
   "outputs": [],
   "source": [
    "def categorize_purpose(row):\n",
    "    try:\n",
    "        if 'автом' in row:\n",
    "            return 'операции с автомобилем'\n",
    "        elif 'жил' in row or 'недвиж' in row:\n",
    "            return 'операции с недвижимостью'\n",
    "        elif 'свад' in row:\n",
    "            return 'проведение свадьбы'\n",
    "        elif 'образов' in row:\n",
    "            return 'получение образования'\n",
    "    except:\n",
    "        return 'нет категории'"
   ]
  },
  {
   "cell_type": "code",
   "execution_count": 117,
   "id": "92cc4576",
   "metadata": {
    "deletable": false,
    "id": "bf36e69b"
   },
   "outputs": [],
   "source": [
    "data['purpose_category'] = data['purpose'].apply(categorize_purpose)"
   ]
  },
  {
   "cell_type": "markdown",
   "id": "736ae8b0",
   "metadata": {},
   "source": [
    "### Исследуем данные"
   ]
  },
  {
   "cell_type": "markdown",
   "id": "4579badf",
   "metadata": {},
   "source": [
    "#### Определим есть ли зависимость между количеством детей и возвратом кредита в срок?"
   ]
  },
  {
   "cell_type": "code",
   "execution_count": 118,
   "id": "905799f6",
   "metadata": {},
   "outputs": [
    {
     "data": {
      "text/html": [
       "<style  type=\"text/css\" >\n",
       "</style><table id=\"T_ebdca_\" ><thead>    <tr>        <th class=\"blank level0\" ></th>        <th class=\"col_heading level0 col0\" >count</th>        <th class=\"col_heading level0 col1\" >sum</th>        <th class=\"col_heading level0 col2\" >mean</th>    </tr>    <tr>        <th class=\"blank level1\" ></th>        <th class=\"col_heading level1 col0\" >debt</th>        <th class=\"col_heading level1 col1\" >debt</th>        <th class=\"col_heading level1 col2\" >debt</th>    </tr>    <tr>        <th class=\"index_name level0\" >children</th>        <th class=\"blank\" ></th>        <th class=\"blank\" ></th>        <th class=\"blank\" ></th>    </tr></thead><tbody>\n",
       "                <tr>\n",
       "                        <th id=\"T_ebdca_level0_row0\" class=\"row_heading level0 row0\" >4</th>\n",
       "                        <td id=\"T_ebdca_row0_col0\" class=\"data row0 col0\" >41</td>\n",
       "                        <td id=\"T_ebdca_row0_col1\" class=\"data row0 col1\" >4</td>\n",
       "                        <td id=\"T_ebdca_row0_col2\" class=\"data row0 col2\" >9.76%</td>\n",
       "            </tr>\n",
       "            <tr>\n",
       "                        <th id=\"T_ebdca_level0_row1\" class=\"row_heading level0 row1\" >2</th>\n",
       "                        <td id=\"T_ebdca_row1_col0\" class=\"data row1 col0\" >2052</td>\n",
       "                        <td id=\"T_ebdca_row1_col1\" class=\"data row1 col1\" >194</td>\n",
       "                        <td id=\"T_ebdca_row1_col2\" class=\"data row1 col2\" >9.45%</td>\n",
       "            </tr>\n",
       "            <tr>\n",
       "                        <th id=\"T_ebdca_level0_row2\" class=\"row_heading level0 row2\" >1</th>\n",
       "                        <td id=\"T_ebdca_row2_col0\" class=\"data row2 col0\" >4808</td>\n",
       "                        <td id=\"T_ebdca_row2_col1\" class=\"data row2 col1\" >444</td>\n",
       "                        <td id=\"T_ebdca_row2_col2\" class=\"data row2 col2\" >9.23%</td>\n",
       "            </tr>\n",
       "            <tr>\n",
       "                        <th id=\"T_ebdca_level0_row3\" class=\"row_heading level0 row3\" >3</th>\n",
       "                        <td id=\"T_ebdca_row3_col0\" class=\"data row3 col0\" >330</td>\n",
       "                        <td id=\"T_ebdca_row3_col1\" class=\"data row3 col1\" >27</td>\n",
       "                        <td id=\"T_ebdca_row3_col2\" class=\"data row3 col2\" >8.18%</td>\n",
       "            </tr>\n",
       "            <tr>\n",
       "                        <th id=\"T_ebdca_level0_row4\" class=\"row_heading level0 row4\" >0</th>\n",
       "                        <td id=\"T_ebdca_row4_col0\" class=\"data row4 col0\" >14091</td>\n",
       "                        <td id=\"T_ebdca_row4_col1\" class=\"data row4 col1\" >1063</td>\n",
       "                        <td id=\"T_ebdca_row4_col2\" class=\"data row4 col2\" >7.54%</td>\n",
       "            </tr>\n",
       "            <tr>\n",
       "                        <th id=\"T_ebdca_level0_row5\" class=\"row_heading level0 row5\" >5</th>\n",
       "                        <td id=\"T_ebdca_row5_col0\" class=\"data row5 col0\" >9</td>\n",
       "                        <td id=\"T_ebdca_row5_col1\" class=\"data row5 col1\" >0</td>\n",
       "                        <td id=\"T_ebdca_row5_col2\" class=\"data row5 col2\" >0.00%</td>\n",
       "            </tr>\n",
       "    </tbody></table>"
      ],
      "text/plain": [
       "<pandas.io.formats.style.Styler at 0x7fb585647a30>"
      ]
     },
     "execution_count": 118,
     "metadata": {},
     "output_type": "execute_result"
    }
   ],
   "source": [
    "data.pivot_table(index = 'children', values = 'debt', aggfunc = ['count', 'sum', 'mean'])\\\n",
    "    .sort_values(by = ('mean', 'debt'), ascending = False)\\\n",
    "    .style.format({('mean', 'debt') : '{:.2%}'})"
   ]
  },
  {
   "cell_type": "markdown",
   "id": "0a2f6487",
   "metadata": {
    "deletable": false,
    "id": "3a6b99ec"
   },
   "source": [
    "Исходя из данного датасета можно сказать, что колличестсво детей у заемщика в достаточной степени влияет на возврат кредита в срок. Можно выделить самую большую группу заемщиков у которых нет детей и срок их погашения кредита быстрее, в сравнении с другими группами."
   ]
  },
  {
   "cell_type": "markdown",
   "id": "f4d12937",
   "metadata": {},
   "source": [
    "#### Определим есть ли зависимость между семейным положением и возвратом кредита в срок?"
   ]
  },
  {
   "cell_type": "code",
   "execution_count": 119,
   "id": "73d2604c",
   "metadata": {},
   "outputs": [
    {
     "data": {
      "text/html": [
       "<style  type=\"text/css\" >\n",
       "</style><table id=\"T_98fd7_\" ><thead>    <tr>        <th class=\"blank level0\" ></th>        <th class=\"col_heading level0 col0\" >count</th>        <th class=\"col_heading level0 col1\" >sum</th>        <th class=\"col_heading level0 col2\" >mean</th>    </tr>    <tr>        <th class=\"blank level1\" ></th>        <th class=\"col_heading level1 col0\" >debt</th>        <th class=\"col_heading level1 col1\" >debt</th>        <th class=\"col_heading level1 col2\" >debt</th>    </tr>    <tr>        <th class=\"index_name level0\" >family_status</th>        <th class=\"blank\" ></th>        <th class=\"blank\" ></th>        <th class=\"blank\" ></th>    </tr></thead><tbody>\n",
       "                <tr>\n",
       "                        <th id=\"T_98fd7_level0_row0\" class=\"row_heading level0 row0\" >Не женат / не замужем</th>\n",
       "                        <td id=\"T_98fd7_row0_col0\" class=\"data row0 col0\" >2796</td>\n",
       "                        <td id=\"T_98fd7_row0_col1\" class=\"data row0 col1\" >273</td>\n",
       "                        <td id=\"T_98fd7_row0_col2\" class=\"data row0 col2\" >9.76%</td>\n",
       "            </tr>\n",
       "            <tr>\n",
       "                        <th id=\"T_98fd7_level0_row1\" class=\"row_heading level0 row1\" >гражданский брак</th>\n",
       "                        <td id=\"T_98fd7_row1_col0\" class=\"data row1 col0\" >4134</td>\n",
       "                        <td id=\"T_98fd7_row1_col1\" class=\"data row1 col1\" >385</td>\n",
       "                        <td id=\"T_98fd7_row1_col2\" class=\"data row1 col2\" >9.31%</td>\n",
       "            </tr>\n",
       "            <tr>\n",
       "                        <th id=\"T_98fd7_level0_row2\" class=\"row_heading level0 row2\" >женат / замужем</th>\n",
       "                        <td id=\"T_98fd7_row2_col0\" class=\"data row2 col0\" >12261</td>\n",
       "                        <td id=\"T_98fd7_row2_col1\" class=\"data row2 col1\" >927</td>\n",
       "                        <td id=\"T_98fd7_row2_col2\" class=\"data row2 col2\" >7.56%</td>\n",
       "            </tr>\n",
       "            <tr>\n",
       "                        <th id=\"T_98fd7_level0_row3\" class=\"row_heading level0 row3\" >в разводе</th>\n",
       "                        <td id=\"T_98fd7_row3_col0\" class=\"data row3 col0\" >1189</td>\n",
       "                        <td id=\"T_98fd7_row3_col1\" class=\"data row3 col1\" >84</td>\n",
       "                        <td id=\"T_98fd7_row3_col2\" class=\"data row3 col2\" >7.06%</td>\n",
       "            </tr>\n",
       "            <tr>\n",
       "                        <th id=\"T_98fd7_level0_row4\" class=\"row_heading level0 row4\" >вдовец / вдова</th>\n",
       "                        <td id=\"T_98fd7_row4_col0\" class=\"data row4 col0\" >951</td>\n",
       "                        <td id=\"T_98fd7_row4_col1\" class=\"data row4 col1\" >63</td>\n",
       "                        <td id=\"T_98fd7_row4_col2\" class=\"data row4 col2\" >6.62%</td>\n",
       "            </tr>\n",
       "    </tbody></table>"
      ],
      "text/plain": [
       "<pandas.io.formats.style.Styler at 0x7fb5858522b0>"
      ]
     },
     "execution_count": 119,
     "metadata": {},
     "output_type": "execute_result"
    }
   ],
   "source": [
    "data.pivot_table(index = 'family_status', values = 'debt', aggfunc = ['count', 'sum', 'mean'])\\\n",
    "    .sort_values(by = ('mean', 'debt'), ascending = False)\\\n",
    "    .style.format({('mean', 'debt') : '{:.2%}'})"
   ]
  },
  {
   "cell_type": "markdown",
   "id": "2954c742",
   "metadata": {},
   "source": [
    "Семейное положение незначительно влияет на возврат кредита в срок. Исходя из данного датасета можно выделить две значительные группы: 1 группа (не женат/ не замужем, гражданский брак), 2 группа (женат/ замужем, в разводе, вдовец/ вдова).\n",
    "Основная численность заемщиков числится во 2 группе и в сравнении с 1 группой возвращают кредит быстрее."
   ]
  },
  {
   "cell_type": "markdown",
   "id": "afac59a9",
   "metadata": {},
   "source": [
    "#### Определим есть ли зависимость между уровнем дохода и возвратом кредита в срок?"
   ]
  },
  {
   "cell_type": "code",
   "execution_count": 120,
   "id": "c25ad44c",
   "metadata": {},
   "outputs": [
    {
     "data": {
      "text/html": [
       "<style  type=\"text/css\" >\n",
       "</style><table id=\"T_29ec0_\" ><thead>    <tr>        <th class=\"blank level0\" ></th>        <th class=\"col_heading level0 col0\" >count</th>        <th class=\"col_heading level0 col1\" >sum</th>        <th class=\"col_heading level0 col2\" >mean</th>    </tr>    <tr>        <th class=\"blank level1\" ></th>        <th class=\"col_heading level1 col0\" >debt</th>        <th class=\"col_heading level1 col1\" >debt</th>        <th class=\"col_heading level1 col2\" >debt</th>    </tr>    <tr>        <th class=\"index_name level0\" >total_income_category</th>        <th class=\"blank\" ></th>        <th class=\"blank\" ></th>        <th class=\"blank\" ></th>    </tr></thead><tbody>\n",
       "                <tr>\n",
       "                        <th id=\"T_29ec0_level0_row0\" class=\"row_heading level0 row0\" >E</th>\n",
       "                        <td id=\"T_29ec0_row0_col0\" class=\"data row0 col0\" >22</td>\n",
       "                        <td id=\"T_29ec0_row0_col1\" class=\"data row0 col1\" >2</td>\n",
       "                        <td id=\"T_29ec0_row0_col2\" class=\"data row0 col2\" >9.09%</td>\n",
       "            </tr>\n",
       "            <tr>\n",
       "                        <th id=\"T_29ec0_level0_row1\" class=\"row_heading level0 row1\" >C</th>\n",
       "                        <td id=\"T_29ec0_row1_col0\" class=\"data row1 col0\" >15921</td>\n",
       "                        <td id=\"T_29ec0_row1_col1\" class=\"data row1 col1\" >1353</td>\n",
       "                        <td id=\"T_29ec0_row1_col2\" class=\"data row1 col2\" >8.50%</td>\n",
       "            </tr>\n",
       "            <tr>\n",
       "                        <th id=\"T_29ec0_level0_row2\" class=\"row_heading level0 row2\" >A</th>\n",
       "                        <td id=\"T_29ec0_row2_col0\" class=\"data row2 col0\" >25</td>\n",
       "                        <td id=\"T_29ec0_row2_col1\" class=\"data row2 col1\" >2</td>\n",
       "                        <td id=\"T_29ec0_row2_col2\" class=\"data row2 col2\" >8.00%</td>\n",
       "            </tr>\n",
       "            <tr>\n",
       "                        <th id=\"T_29ec0_level0_row3\" class=\"row_heading level0 row3\" >B</th>\n",
       "                        <td id=\"T_29ec0_row3_col0\" class=\"data row3 col0\" >5014</td>\n",
       "                        <td id=\"T_29ec0_row3_col1\" class=\"data row3 col1\" >354</td>\n",
       "                        <td id=\"T_29ec0_row3_col2\" class=\"data row3 col2\" >7.06%</td>\n",
       "            </tr>\n",
       "            <tr>\n",
       "                        <th id=\"T_29ec0_level0_row4\" class=\"row_heading level0 row4\" >D</th>\n",
       "                        <td id=\"T_29ec0_row4_col0\" class=\"data row4 col0\" >349</td>\n",
       "                        <td id=\"T_29ec0_row4_col1\" class=\"data row4 col1\" >21</td>\n",
       "                        <td id=\"T_29ec0_row4_col2\" class=\"data row4 col2\" >6.02%</td>\n",
       "            </tr>\n",
       "    </tbody></table>"
      ],
      "text/plain": [
       "<pandas.io.formats.style.Styler at 0x7fb544fa4fd0>"
      ]
     },
     "execution_count": 120,
     "metadata": {},
     "output_type": "execute_result"
    }
   ],
   "source": [
    "data.pivot_table(index = 'total_income_category', values = 'debt', aggfunc = ['count', 'sum', 'mean'])\\\n",
    "    .sort_values(by = ('mean', 'debt'), ascending = False)\\\n",
    "    .style.format({('mean', 'debt') : '{:.2%}'})"
   ]
  },
  {
   "cell_type": "markdown",
   "id": "e90e74e6",
   "metadata": {},
   "source": [
    "Исходя из данного датасета, уровень дохода значительно влияет на возврат кредита в срок."
   ]
  },
  {
   "cell_type": "markdown",
   "id": "fd5cbbe4",
   "metadata": {},
   "source": [
    "#### Посмотрим как разные цели кредита влияют на его возврат в срок?"
   ]
  },
  {
   "cell_type": "code",
   "execution_count": 121,
   "id": "6707a2c2",
   "metadata": {},
   "outputs": [
    {
     "data": {
      "text/html": [
       "<style  type=\"text/css\" >\n",
       "</style><table id=\"T_0fff5_\" ><thead>    <tr>        <th class=\"blank level0\" ></th>        <th class=\"col_heading level0 col0\" >count</th>        <th class=\"col_heading level0 col1\" >sum</th>        <th class=\"col_heading level0 col2\" >mean</th>    </tr>    <tr>        <th class=\"blank level1\" ></th>        <th class=\"col_heading level1 col0\" >debt</th>        <th class=\"col_heading level1 col1\" >debt</th>        <th class=\"col_heading level1 col2\" >debt</th>    </tr>    <tr>        <th class=\"index_name level0\" >purpose_category</th>        <th class=\"blank\" ></th>        <th class=\"blank\" ></th>        <th class=\"blank\" ></th>    </tr></thead><tbody>\n",
       "                <tr>\n",
       "                        <th id=\"T_0fff5_level0_row0\" class=\"row_heading level0 row0\" >операции с автомобилем</th>\n",
       "                        <td id=\"T_0fff5_row0_col0\" class=\"data row0 col0\" >4279</td>\n",
       "                        <td id=\"T_0fff5_row0_col1\" class=\"data row0 col1\" >400</td>\n",
       "                        <td id=\"T_0fff5_row0_col2\" class=\"data row0 col2\" >9.35%</td>\n",
       "            </tr>\n",
       "            <tr>\n",
       "                        <th id=\"T_0fff5_level0_row1\" class=\"row_heading level0 row1\" >получение образования</th>\n",
       "                        <td id=\"T_0fff5_row1_col0\" class=\"data row1 col0\" >3988</td>\n",
       "                        <td id=\"T_0fff5_row1_col1\" class=\"data row1 col1\" >369</td>\n",
       "                        <td id=\"T_0fff5_row1_col2\" class=\"data row1 col2\" >9.25%</td>\n",
       "            </tr>\n",
       "            <tr>\n",
       "                        <th id=\"T_0fff5_level0_row2\" class=\"row_heading level0 row2\" >проведение свадьбы</th>\n",
       "                        <td id=\"T_0fff5_row2_col0\" class=\"data row2 col0\" >2313</td>\n",
       "                        <td id=\"T_0fff5_row2_col1\" class=\"data row2 col1\" >183</td>\n",
       "                        <td id=\"T_0fff5_row2_col2\" class=\"data row2 col2\" >7.91%</td>\n",
       "            </tr>\n",
       "            <tr>\n",
       "                        <th id=\"T_0fff5_level0_row3\" class=\"row_heading level0 row3\" >операции с недвижимостью</th>\n",
       "                        <td id=\"T_0fff5_row3_col0\" class=\"data row3 col0\" >10751</td>\n",
       "                        <td id=\"T_0fff5_row3_col1\" class=\"data row3 col1\" >780</td>\n",
       "                        <td id=\"T_0fff5_row3_col2\" class=\"data row3 col2\" >7.26%</td>\n",
       "            </tr>\n",
       "    </tbody></table>"
      ],
      "text/plain": [
       "<pandas.io.formats.style.Styler at 0x7fb585647580>"
      ]
     },
     "execution_count": 121,
     "metadata": {},
     "output_type": "execute_result"
    }
   ],
   "source": [
    "data.pivot_table(index = 'purpose_category', values = 'debt', aggfunc = ['count', 'sum', 'mean'])\\\n",
    "    .sort_values(by = ('mean', 'debt'), ascending = False)\\\n",
    "    .style.format({('mean', 'debt') : '{:.2%}'})"
   ]
  },
  {
   "cell_type": "markdown",
   "id": "bd3ffaaf",
   "metadata": {},
   "source": [
    "Исходя из данного датасета, цели кредита значительно влияют на возврат кредита в срок. Так можно выделить "
   ]
  },
  {
   "cell_type": "markdown",
   "id": "c29e1aae",
   "metadata": {},
   "source": [
    "#### Приведем возможные причины появления пропусков в исходных данных."
   ]
  },
  {
   "cell_type": "markdown",
   "id": "226492b8",
   "metadata": {
    "deletable": false,
    "id": "9da2ceda"
   },
   "source": [
    "*Ответ:* По всей видимости, заемщик не смог предоставить все данные для банка в момент обращения/ уточнения предложения по кредитам."
   ]
  },
  {
   "cell_type": "markdown",
   "id": "2aff1f29",
   "metadata": {},
   "source": [
    "#### Объяснение, почему заполнить пропуски медианным значением — лучшее решение для количественных переменных."
   ]
  },
  {
   "cell_type": "markdown",
   "id": "821ba87a",
   "metadata": {
    "deletable": false,
    "id": "7ecf2b8e"
   },
   "source": [
    "*Ответ:* Медианные значения по разбивке на определенные группам не искажают общей информации для количественным переменным."
   ]
  },
  {
   "cell_type": "markdown",
   "id": "26c363a3",
   "metadata": {},
   "source": [
    "### Общий вывод."
   ]
  },
  {
   "cell_type": "markdown",
   "id": "4365e4f9",
   "metadata": {
    "deletable": false,
    "id": "bad65432"
   },
   "source": [
    "Исследовали исходные данные и произвели предобработку данных. Разбили заемщиков по категориям и для каждой категории оценили способность возврата кредита в банк в положенные сроки. Убедились, что параметры/ данные о заемщике влияют на способность потенциального заемщика вернуть кредит банку. "
   ]
  }
 ],
 "metadata": {
  "ExecuteTimeLog": [
   {
    "duration": 42,
    "start_time": "2022-09-28T17:35:51.439Z"
   },
   {
    "duration": 378,
    "start_time": "2022-09-28T17:35:59.660Z"
   },
   {
    "duration": 21,
    "start_time": "2022-09-28T17:36:00.039Z"
   },
   {
    "duration": 15,
    "start_time": "2022-09-28T17:36:00.277Z"
   },
   {
    "duration": 10,
    "start_time": "2022-09-28T17:36:00.864Z"
   },
   {
    "duration": 30,
    "start_time": "2022-09-28T17:36:01.131Z"
   },
   {
    "duration": 4,
    "start_time": "2022-09-28T17:36:01.556Z"
   },
   {
    "duration": 8,
    "start_time": "2022-09-28T17:36:01.840Z"
   },
   {
    "duration": 5,
    "start_time": "2022-09-28T17:36:02.280Z"
   },
   {
    "duration": 7,
    "start_time": "2022-09-28T17:36:02.857Z"
   },
   {
    "duration": 4,
    "start_time": "2022-09-28T17:36:03.166Z"
   },
   {
    "duration": 28,
    "start_time": "2022-09-28T17:36:03.657Z"
   },
   {
    "duration": 10,
    "start_time": "2022-09-28T17:36:04.687Z"
   },
   {
    "duration": 4,
    "start_time": "2022-09-28T17:36:05.395Z"
   },
   {
    "duration": 10,
    "start_time": "2022-09-28T17:36:06.146Z"
   },
   {
    "duration": 18,
    "start_time": "2022-09-28T17:36:06.752Z"
   },
   {
    "duration": 16,
    "start_time": "2022-09-28T17:36:06.967Z"
   },
   {
    "duration": 3,
    "start_time": "2022-09-28T17:36:08.191Z"
   },
   {
    "duration": 8,
    "start_time": "2022-09-28T17:36:08.647Z"
   },
   {
    "duration": 5,
    "start_time": "2022-09-28T17:36:09.692Z"
   },
   {
    "duration": 3,
    "start_time": "2022-09-28T17:36:10.705Z"
   },
   {
    "duration": 8,
    "start_time": "2022-09-28T17:36:11.140Z"
   },
   {
    "duration": 9,
    "start_time": "2022-09-28T17:36:12.602Z"
   },
   {
    "duration": 662,
    "start_time": "2022-10-01T10:22:53.552Z"
   },
   {
    "duration": 21,
    "start_time": "2022-10-01T10:22:54.215Z"
   },
   {
    "duration": 14,
    "start_time": "2022-10-01T10:22:54.590Z"
   },
   {
    "duration": 10,
    "start_time": "2022-10-01T10:22:55.270Z"
   },
   {
    "duration": 32,
    "start_time": "2022-10-01T10:22:55.772Z"
   },
   {
    "duration": 4,
    "start_time": "2022-10-01T10:22:56.303Z"
   },
   {
    "duration": 7,
    "start_time": "2022-10-01T10:22:56.797Z"
   },
   {
    "duration": 5,
    "start_time": "2022-10-01T10:22:57.328Z"
   },
   {
    "duration": 6,
    "start_time": "2022-10-01T10:22:57.678Z"
   },
   {
    "duration": 4,
    "start_time": "2022-10-01T10:22:58.181Z"
   },
   {
    "duration": 30,
    "start_time": "2022-10-01T10:22:58.761Z"
   },
   {
    "duration": 10,
    "start_time": "2022-10-01T10:22:59.147Z"
   },
   {
    "duration": 4,
    "start_time": "2022-10-01T10:22:59.697Z"
   },
   {
    "duration": 10,
    "start_time": "2022-10-01T10:23:00.258Z"
   },
   {
    "duration": 19,
    "start_time": "2022-10-01T10:23:00.620Z"
   },
   {
    "duration": 16,
    "start_time": "2022-10-01T10:23:00.811Z"
   },
   {
    "duration": 3,
    "start_time": "2022-10-01T10:23:01.364Z"
   },
   {
    "duration": 11,
    "start_time": "2022-10-01T10:23:01.564Z"
   },
   {
    "duration": 5,
    "start_time": "2022-10-01T10:23:02.025Z"
   },
   {
    "duration": 3,
    "start_time": "2022-10-01T10:23:03.035Z"
   },
   {
    "duration": 8,
    "start_time": "2022-10-01T10:23:03.803Z"
   },
   {
    "duration": 9,
    "start_time": "2022-10-01T10:23:05.030Z"
   },
   {
    "duration": 2,
    "start_time": "2022-10-01T10:23:06.776Z"
   },
   {
    "duration": 10,
    "start_time": "2022-10-01T10:30:59.501Z"
   },
   {
    "duration": 3,
    "start_time": "2022-10-01T10:31:07.169Z"
   },
   {
    "duration": 17,
    "start_time": "2022-10-01T10:31:22.912Z"
   },
   {
    "duration": 5,
    "start_time": "2022-10-01T10:32:11.380Z"
   },
   {
    "duration": 16,
    "start_time": "2022-10-01T10:33:28.535Z"
   },
   {
    "duration": 10,
    "start_time": "2022-10-01T10:33:42.415Z"
   },
   {
    "duration": 3,
    "start_time": "2022-10-01T10:34:25.879Z"
   },
   {
    "duration": 9,
    "start_time": "2022-10-01T10:34:36.997Z"
   },
   {
    "duration": 3,
    "start_time": "2022-10-01T10:34:54.857Z"
   },
   {
    "duration": 12,
    "start_time": "2022-10-01T10:35:00.672Z"
   },
   {
    "duration": 58,
    "start_time": "2022-10-01T10:43:48.186Z"
   },
   {
    "duration": 12,
    "start_time": "2022-10-01T10:44:26.776Z"
   },
   {
    "duration": 7,
    "start_time": "2022-10-01T10:45:50.264Z"
   },
   {
    "duration": 65,
    "start_time": "2022-10-01T10:46:31.932Z"
   },
   {
    "duration": 14,
    "start_time": "2022-10-01T10:46:32.272Z"
   },
   {
    "duration": 15,
    "start_time": "2022-10-01T10:46:32.550Z"
   },
   {
    "duration": 10,
    "start_time": "2022-10-01T10:46:33.116Z"
   },
   {
    "duration": 33,
    "start_time": "2022-10-01T10:46:33.719Z"
   },
   {
    "duration": 4,
    "start_time": "2022-10-01T10:46:34.137Z"
   },
   {
    "duration": 11,
    "start_time": "2022-10-01T10:46:34.449Z"
   },
   {
    "duration": 7,
    "start_time": "2022-10-01T10:46:34.936Z"
   },
   {
    "duration": 7,
    "start_time": "2022-10-01T10:46:35.261Z"
   },
   {
    "duration": 5,
    "start_time": "2022-10-01T10:46:35.609Z"
   },
   {
    "duration": 40,
    "start_time": "2022-10-01T10:46:36.084Z"
   },
   {
    "duration": 10,
    "start_time": "2022-10-01T10:46:36.538Z"
   },
   {
    "duration": 3,
    "start_time": "2022-10-01T10:46:37.016Z"
   },
   {
    "duration": 12,
    "start_time": "2022-10-01T10:46:37.542Z"
   },
   {
    "duration": 17,
    "start_time": "2022-10-01T10:46:37.867Z"
   },
   {
    "duration": 16,
    "start_time": "2022-10-01T10:46:38.056Z"
   },
   {
    "duration": 3,
    "start_time": "2022-10-01T10:46:38.746Z"
   },
   {
    "duration": 11,
    "start_time": "2022-10-01T10:46:38.910Z"
   },
   {
    "duration": 5,
    "start_time": "2022-10-01T10:46:39.312Z"
   },
   {
    "duration": 3,
    "start_time": "2022-10-01T10:46:39.690Z"
   },
   {
    "duration": 8,
    "start_time": "2022-10-01T10:46:39.997Z"
   },
   {
    "duration": 5,
    "start_time": "2022-10-01T10:46:41.052Z"
   },
   {
    "duration": 5,
    "start_time": "2022-10-01T10:47:32.483Z"
   },
   {
    "duration": 6,
    "start_time": "2022-10-01T10:47:40.798Z"
   },
   {
    "duration": 14,
    "start_time": "2022-10-01T10:49:54.652Z"
   },
   {
    "duration": 17,
    "start_time": "2022-10-01T10:50:21.108Z"
   },
   {
    "duration": 18,
    "start_time": "2022-10-01T10:59:16.599Z"
   },
   {
    "duration": 10,
    "start_time": "2022-10-01T10:59:25.861Z"
   },
   {
    "duration": 11,
    "start_time": "2022-10-01T11:01:46.694Z"
   },
   {
    "duration": 7,
    "start_time": "2022-10-01T11:03:37.664Z"
   },
   {
    "duration": 4,
    "start_time": "2022-10-01T11:03:45.107Z"
   },
   {
    "duration": 6,
    "start_time": "2022-10-01T11:05:05.916Z"
   },
   {
    "duration": 7,
    "start_time": "2022-10-01T11:05:27.156Z"
   },
   {
    "duration": 13,
    "start_time": "2022-10-01T11:06:31.539Z"
   },
   {
    "duration": 5,
    "start_time": "2022-10-01T11:08:13.036Z"
   },
   {
    "duration": 10,
    "start_time": "2022-10-01T11:08:20.170Z"
   },
   {
    "duration": 14,
    "start_time": "2022-10-01T11:08:35.154Z"
   },
   {
    "duration": 18,
    "start_time": "2022-10-01T11:16:54.103Z"
   },
   {
    "duration": 16,
    "start_time": "2022-10-01T11:17:04.665Z"
   },
   {
    "duration": 16,
    "start_time": "2022-10-01T11:17:39.497Z"
   },
   {
    "duration": 23,
    "start_time": "2022-10-01T11:27:08.318Z"
   },
   {
    "duration": 1383,
    "start_time": "2022-10-01T11:27:52.217Z"
   },
   {
    "duration": 12,
    "start_time": "2022-10-01T11:28:01.027Z"
   },
   {
    "duration": 12,
    "start_time": "2022-10-01T11:28:09.844Z"
   },
   {
    "duration": 19,
    "start_time": "2022-10-01T11:28:51.443Z"
   },
   {
    "duration": 12,
    "start_time": "2022-10-01T11:29:03.516Z"
   },
   {
    "duration": 12,
    "start_time": "2022-10-01T11:30:13.316Z"
   },
   {
    "duration": 66,
    "start_time": "2022-10-01T11:30:46.058Z"
   },
   {
    "duration": 15,
    "start_time": "2022-10-01T11:30:46.412Z"
   },
   {
    "duration": 14,
    "start_time": "2022-10-01T11:30:46.827Z"
   },
   {
    "duration": 12,
    "start_time": "2022-10-01T11:30:47.437Z"
   },
   {
    "duration": 32,
    "start_time": "2022-10-01T11:30:47.780Z"
   },
   {
    "duration": 3,
    "start_time": "2022-10-01T11:30:48.271Z"
   },
   {
    "duration": 9,
    "start_time": "2022-10-01T11:30:48.607Z"
   },
   {
    "duration": 4,
    "start_time": "2022-10-01T11:30:49.096Z"
   },
   {
    "duration": 5,
    "start_time": "2022-10-01T11:30:49.602Z"
   },
   {
    "duration": 4,
    "start_time": "2022-10-01T11:30:49.938Z"
   },
   {
    "duration": 30,
    "start_time": "2022-10-01T11:30:50.448Z"
   },
   {
    "duration": 9,
    "start_time": "2022-10-01T11:30:50.808Z"
   },
   {
    "duration": 4,
    "start_time": "2022-10-01T11:30:51.350Z"
   },
   {
    "duration": 11,
    "start_time": "2022-10-01T11:30:51.892Z"
   },
   {
    "duration": 19,
    "start_time": "2022-10-01T11:30:52.604Z"
   },
   {
    "duration": 19,
    "start_time": "2022-10-01T11:30:52.863Z"
   },
   {
    "duration": 4,
    "start_time": "2022-10-01T11:30:54.373Z"
   },
   {
    "duration": 10,
    "start_time": "2022-10-01T11:30:54.837Z"
   },
   {
    "duration": 6,
    "start_time": "2022-10-01T11:30:55.781Z"
   },
   {
    "duration": 3,
    "start_time": "2022-10-01T11:30:56.660Z"
   },
   {
    "duration": 8,
    "start_time": "2022-10-01T11:30:56.988Z"
   },
   {
    "duration": 15,
    "start_time": "2022-10-01T11:30:58.877Z"
   },
   {
    "duration": 14,
    "start_time": "2022-10-01T11:32:45.448Z"
   },
   {
    "duration": 69,
    "start_time": "2022-10-01T11:46:45.078Z"
   },
   {
    "duration": 15,
    "start_time": "2022-10-01T11:46:45.373Z"
   },
   {
    "duration": 15,
    "start_time": "2022-10-01T11:46:45.674Z"
   },
   {
    "duration": 10,
    "start_time": "2022-10-01T11:46:46.359Z"
   },
   {
    "duration": 32,
    "start_time": "2022-10-01T11:46:46.868Z"
   },
   {
    "duration": 4,
    "start_time": "2022-10-01T11:46:47.401Z"
   },
   {
    "duration": 7,
    "start_time": "2022-10-01T11:46:47.775Z"
   },
   {
    "duration": 5,
    "start_time": "2022-10-01T11:46:48.336Z"
   },
   {
    "duration": 5,
    "start_time": "2022-10-01T11:46:48.675Z"
   },
   {
    "duration": 5,
    "start_time": "2022-10-01T11:46:49.016Z"
   },
   {
    "duration": 36,
    "start_time": "2022-10-01T11:46:49.536Z"
   },
   {
    "duration": 10,
    "start_time": "2022-10-01T11:46:49.874Z"
   },
   {
    "duration": 5,
    "start_time": "2022-10-01T11:46:50.384Z"
   },
   {
    "duration": 10,
    "start_time": "2022-10-01T11:46:50.843Z"
   },
   {
    "duration": 18,
    "start_time": "2022-10-01T11:46:51.163Z"
   },
   {
    "duration": 17,
    "start_time": "2022-10-01T11:46:51.331Z"
   },
   {
    "duration": 3,
    "start_time": "2022-10-01T11:46:51.787Z"
   },
   {
    "duration": 12,
    "start_time": "2022-10-01T11:46:51.954Z"
   },
   {
    "duration": 6,
    "start_time": "2022-10-01T11:46:52.290Z"
   },
   {
    "duration": 5,
    "start_time": "2022-10-01T11:46:52.607Z"
   },
   {
    "duration": 15,
    "start_time": "2022-10-01T11:46:52.788Z"
   },
   {
    "duration": 6,
    "start_time": "2022-10-01T11:46:53.311Z"
   },
   {
    "duration": 10,
    "start_time": "2022-10-01T11:47:22.131Z"
   },
   {
    "duration": 9,
    "start_time": "2022-10-01T11:59:52.745Z"
   },
   {
    "duration": 13,
    "start_time": "2022-10-01T12:00:25.403Z"
   },
   {
    "duration": 10,
    "start_time": "2022-10-01T12:09:31.156Z"
   },
   {
    "duration": 17,
    "start_time": "2022-10-01T12:09:52.586Z"
   },
   {
    "duration": 7,
    "start_time": "2022-10-01T12:11:56.870Z"
   },
   {
    "duration": 9,
    "start_time": "2022-10-01T12:12:04.004Z"
   },
   {
    "duration": 15,
    "start_time": "2022-10-01T12:33:02.318Z"
   },
   {
    "duration": 11,
    "start_time": "2022-10-01T12:33:53.007Z"
   },
   {
    "duration": 10,
    "start_time": "2022-10-01T12:34:38.261Z"
   },
   {
    "duration": 14,
    "start_time": "2022-10-01T12:37:43.106Z"
   },
   {
    "duration": 17,
    "start_time": "2022-10-01T12:38:04.804Z"
   },
   {
    "duration": 31,
    "start_time": "2022-10-01T12:38:44.340Z"
   },
   {
    "duration": 18,
    "start_time": "2022-10-01T12:39:00.848Z"
   },
   {
    "duration": 17,
    "start_time": "2022-10-01T12:42:42.650Z"
   },
   {
    "duration": 18,
    "start_time": "2022-10-01T12:44:19.088Z"
   },
   {
    "duration": 19,
    "start_time": "2022-10-01T12:44:37.442Z"
   },
   {
    "duration": 20,
    "start_time": "2022-10-01T12:45:21.350Z"
   },
   {
    "duration": 19,
    "start_time": "2022-10-01T12:45:33.226Z"
   },
   {
    "duration": 21,
    "start_time": "2022-10-01T12:46:55.143Z"
   },
   {
    "duration": 18,
    "start_time": "2022-10-01T12:48:45.890Z"
   },
   {
    "duration": 19,
    "start_time": "2022-10-01T12:54:44.599Z"
   },
   {
    "duration": 19,
    "start_time": "2022-10-01T12:56:03.442Z"
   },
   {
    "duration": 51,
    "start_time": "2022-10-01T12:56:30.085Z"
   },
   {
    "duration": 19,
    "start_time": "2022-10-01T12:56:40.027Z"
   },
   {
    "duration": 19,
    "start_time": "2022-10-01T12:57:06.426Z"
   },
   {
    "duration": 18,
    "start_time": "2022-10-01T13:02:47.974Z"
   },
   {
    "duration": 12,
    "start_time": "2022-10-01T13:04:31.602Z"
   },
   {
    "duration": 18,
    "start_time": "2022-10-01T13:06:02.233Z"
   },
   {
    "duration": 21,
    "start_time": "2022-10-01T13:06:14.723Z"
   },
   {
    "duration": 18,
    "start_time": "2022-10-01T13:07:21.414Z"
   },
   {
    "duration": 19,
    "start_time": "2022-10-01T13:07:27.963Z"
   },
   {
    "duration": 17,
    "start_time": "2022-10-01T13:07:34.191Z"
   },
   {
    "duration": 21,
    "start_time": "2022-10-01T13:08:03.108Z"
   },
   {
    "duration": 19,
    "start_time": "2022-10-01T13:09:29.171Z"
   },
   {
    "duration": 18,
    "start_time": "2022-10-01T13:10:09.347Z"
   },
   {
    "duration": 22,
    "start_time": "2022-10-01T13:11:47.638Z"
   },
   {
    "duration": 20,
    "start_time": "2022-10-01T13:12:26.872Z"
   },
   {
    "duration": 21,
    "start_time": "2022-10-01T13:12:41.524Z"
   },
   {
    "duration": 22,
    "start_time": "2022-10-01T13:15:21.448Z"
   },
   {
    "duration": 19,
    "start_time": "2022-10-01T13:16:18.663Z"
   },
   {
    "duration": 71,
    "start_time": "2022-10-01T13:17:12.488Z"
   },
   {
    "duration": 25,
    "start_time": "2022-10-01T13:17:40.594Z"
   },
   {
    "duration": 19,
    "start_time": "2022-10-01T13:18:19.056Z"
   },
   {
    "duration": 18,
    "start_time": "2022-10-01T13:18:55.069Z"
   },
   {
    "duration": 20,
    "start_time": "2022-10-01T13:18:55.895Z"
   },
   {
    "duration": 21,
    "start_time": "2022-10-01T13:18:57.111Z"
   },
   {
    "duration": 20,
    "start_time": "2022-10-01T13:21:14.964Z"
   },
   {
    "duration": 19,
    "start_time": "2022-10-01T13:22:56.071Z"
   },
   {
    "duration": 19,
    "start_time": "2022-10-01T13:23:26.996Z"
   },
   {
    "duration": 21,
    "start_time": "2022-10-01T13:24:16.094Z"
   },
   {
    "duration": 20,
    "start_time": "2022-10-01T13:24:16.617Z"
   },
   {
    "duration": 28,
    "start_time": "2022-10-01T13:24:17.325Z"
   },
   {
    "duration": 24,
    "start_time": "2022-10-01T13:28:58.321Z"
   },
   {
    "duration": 21,
    "start_time": "2022-10-01T14:02:55.916Z"
   },
   {
    "duration": 49,
    "start_time": "2022-10-01T17:39:40.992Z"
   },
   {
    "duration": 510,
    "start_time": "2022-10-01T17:39:46.241Z"
   },
   {
    "duration": 22,
    "start_time": "2022-10-01T17:39:46.753Z"
   },
   {
    "duration": 16,
    "start_time": "2022-10-01T17:39:47.105Z"
   },
   {
    "duration": 10,
    "start_time": "2022-10-01T17:39:47.659Z"
   },
   {
    "duration": 34,
    "start_time": "2022-10-01T17:39:47.942Z"
   },
   {
    "duration": 4,
    "start_time": "2022-10-01T17:39:48.494Z"
   },
   {
    "duration": 8,
    "start_time": "2022-10-01T17:39:48.769Z"
   },
   {
    "duration": 5,
    "start_time": "2022-10-01T17:39:49.208Z"
   },
   {
    "duration": 7,
    "start_time": "2022-10-01T17:39:49.521Z"
   },
   {
    "duration": 4,
    "start_time": "2022-10-01T17:39:49.800Z"
   },
   {
    "duration": 38,
    "start_time": "2022-10-01T17:39:50.296Z"
   },
   {
    "duration": 11,
    "start_time": "2022-10-01T17:39:51.094Z"
   },
   {
    "duration": 3,
    "start_time": "2022-10-01T17:39:51.594Z"
   },
   {
    "duration": 15,
    "start_time": "2022-10-01T17:39:52.033Z"
   },
   {
    "duration": 20,
    "start_time": "2022-10-01T17:39:52.328Z"
   },
   {
    "duration": 18,
    "start_time": "2022-10-01T17:39:52.495Z"
   },
   {
    "duration": 3,
    "start_time": "2022-10-01T17:39:52.940Z"
   },
   {
    "duration": 22,
    "start_time": "2022-10-01T17:39:53.102Z"
   },
   {
    "duration": 6,
    "start_time": "2022-10-01T17:39:54.099Z"
   },
   {
    "duration": 3,
    "start_time": "2022-10-01T17:39:56.934Z"
   },
   {
    "duration": 10,
    "start_time": "2022-10-01T17:39:57.389Z"
   },
   {
    "duration": 471,
    "start_time": "2022-10-01T17:39:59.209Z"
   },
   {
    "duration": 47,
    "start_time": "2022-10-01T17:41:04.241Z"
   },
   {
    "duration": 43,
    "start_time": "2022-10-01T17:43:50.866Z"
   },
   {
    "duration": 48,
    "start_time": "2022-10-01T17:49:18.046Z"
   },
   {
    "duration": 48,
    "start_time": "2022-10-01T17:52:42.837Z"
   },
   {
    "duration": 47,
    "start_time": "2022-10-01T17:52:54.180Z"
   },
   {
    "duration": 82,
    "start_time": "2022-10-01T17:53:02.950Z"
   },
   {
    "duration": 55,
    "start_time": "2022-10-01T17:53:11.577Z"
   },
   {
    "duration": 49,
    "start_time": "2022-10-01T17:53:25.704Z"
   },
   {
    "duration": 42,
    "start_time": "2022-10-01T17:57:12.888Z"
   },
   {
    "duration": 23,
    "start_time": "2022-10-01T17:57:22.355Z"
   },
   {
    "duration": 25,
    "start_time": "2022-10-01T17:57:49.493Z"
   },
   {
    "duration": 54,
    "start_time": "2022-10-01T17:58:40.015Z"
   },
   {
    "duration": 28,
    "start_time": "2022-10-01T17:58:48.594Z"
   },
   {
    "duration": 21,
    "start_time": "2022-10-01T18:14:07.880Z"
   },
   {
    "duration": 27,
    "start_time": "2022-10-01T18:14:29.487Z"
   },
   {
    "duration": 64,
    "start_time": "2022-10-01T18:14:41.954Z"
   },
   {
    "duration": 145,
    "start_time": "2022-10-01T18:23:33.782Z"
   },
   {
    "duration": 87,
    "start_time": "2022-10-01T18:23:58.249Z"
   },
   {
    "duration": 81,
    "start_time": "2022-10-01T18:24:11.631Z"
   },
   {
    "duration": 97,
    "start_time": "2022-10-01T18:26:07.017Z"
   },
   {
    "duration": 69,
    "start_time": "2022-10-01T18:26:21.265Z"
   },
   {
    "duration": 79,
    "start_time": "2022-10-01T18:26:25.334Z"
   },
   {
    "duration": 102,
    "start_time": "2022-10-01T18:26:52.920Z"
   },
   {
    "duration": 94,
    "start_time": "2022-10-01T18:27:44.284Z"
   },
   {
    "duration": 89,
    "start_time": "2022-10-01T18:28:11.407Z"
   },
   {
    "duration": 75,
    "start_time": "2022-10-01T18:29:14.683Z"
   },
   {
    "duration": 99,
    "start_time": "2022-10-01T18:29:28.121Z"
   },
   {
    "duration": 81,
    "start_time": "2022-10-01T18:29:50.732Z"
   },
   {
    "duration": 18,
    "start_time": "2022-10-01T18:29:50.816Z"
   },
   {
    "duration": 16,
    "start_time": "2022-10-01T18:29:50.880Z"
   },
   {
    "duration": 11,
    "start_time": "2022-10-01T18:29:51.000Z"
   },
   {
    "duration": 33,
    "start_time": "2022-10-01T18:29:51.065Z"
   },
   {
    "duration": 4,
    "start_time": "2022-10-01T18:29:51.179Z"
   },
   {
    "duration": 10,
    "start_time": "2022-10-01T18:29:51.230Z"
   },
   {
    "duration": 4,
    "start_time": "2022-10-01T18:29:51.323Z"
   },
   {
    "duration": 6,
    "start_time": "2022-10-01T18:29:51.409Z"
   },
   {
    "duration": 4,
    "start_time": "2022-10-01T18:29:51.464Z"
   },
   {
    "duration": 34,
    "start_time": "2022-10-01T18:29:51.555Z"
   },
   {
    "duration": 10,
    "start_time": "2022-10-01T18:29:51.635Z"
   },
   {
    "duration": 3,
    "start_time": "2022-10-01T18:29:51.728Z"
   },
   {
    "duration": 13,
    "start_time": "2022-10-01T18:29:51.824Z"
   },
   {
    "duration": 23,
    "start_time": "2022-10-01T18:29:51.900Z"
   },
   {
    "duration": 23,
    "start_time": "2022-10-01T18:29:51.931Z"
   },
   {
    "duration": 4,
    "start_time": "2022-10-01T18:29:52.027Z"
   },
   {
    "duration": 29,
    "start_time": "2022-10-01T18:29:52.059Z"
   },
   {
    "duration": 8,
    "start_time": "2022-10-01T18:29:52.122Z"
   },
   {
    "duration": 4,
    "start_time": "2022-10-01T18:29:52.196Z"
   },
   {
    "duration": 9,
    "start_time": "2022-10-01T18:29:52.224Z"
   },
   {
    "duration": 44,
    "start_time": "2022-10-01T18:29:52.320Z"
   },
   {
    "duration": 95,
    "start_time": "2022-10-01T18:29:52.384Z"
   },
   {
    "duration": 23,
    "start_time": "2022-10-01T18:29:52.485Z"
   },
   {
    "duration": 40,
    "start_time": "2022-10-01T18:29:52.620Z"
   },
   {
    "duration": 31,
    "start_time": "2022-10-01T18:29:52.747Z"
   },
   {
    "duration": 91,
    "start_time": "2022-10-01T18:30:20.247Z"
   },
   {
    "duration": 26,
    "start_time": "2022-10-01T18:37:54.561Z"
   },
   {
    "duration": 56,
    "start_time": "2022-10-01T18:43:45.658Z"
   },
   {
    "duration": 37,
    "start_time": "2022-10-01T18:43:58.784Z"
   },
   {
    "duration": 33,
    "start_time": "2022-10-01T18:46:48.801Z"
   },
   {
    "duration": 32,
    "start_time": "2022-10-01T18:47:07.005Z"
   },
   {
    "duration": 73,
    "start_time": "2022-10-01T19:09:23.524Z"
   },
   {
    "duration": 70,
    "start_time": "2022-10-01T19:09:28.263Z"
   },
   {
    "duration": 71,
    "start_time": "2022-10-01T19:09:38.940Z"
   },
   {
    "duration": 95,
    "start_time": "2022-10-01T19:09:48.284Z"
   },
   {
    "duration": 73,
    "start_time": "2022-10-01T19:10:16.010Z"
   },
   {
    "duration": 22,
    "start_time": "2022-10-01T19:10:42.905Z"
   },
   {
    "duration": 50,
    "start_time": "2022-10-01T19:11:06.639Z"
   },
   {
    "duration": 31,
    "start_time": "2022-10-01T19:11:18.095Z"
   },
   {
    "duration": 26,
    "start_time": "2022-10-01T19:11:40.568Z"
   },
   {
    "duration": 31,
    "start_time": "2022-10-01T19:11:41.684Z"
   },
   {
    "duration": 29,
    "start_time": "2022-10-01T19:11:42.660Z"
   },
   {
    "duration": 29,
    "start_time": "2022-10-01T19:11:49.098Z"
   },
   {
    "duration": 72,
    "start_time": "2022-10-01T19:12:47.948Z"
   },
   {
    "duration": 50,
    "start_time": "2022-10-01T19:29:26.430Z"
   },
   {
    "duration": 73,
    "start_time": "2022-10-01T19:43:53.555Z"
   },
   {
    "duration": 15,
    "start_time": "2022-10-01T19:43:53.629Z"
   },
   {
    "duration": 15,
    "start_time": "2022-10-01T19:43:53.687Z"
   },
   {
    "duration": 11,
    "start_time": "2022-10-01T19:43:53.809Z"
   },
   {
    "duration": 34,
    "start_time": "2022-10-01T19:43:53.897Z"
   },
   {
    "duration": 4,
    "start_time": "2022-10-01T19:43:53.984Z"
   },
   {
    "duration": 9,
    "start_time": "2022-10-01T19:43:54.049Z"
   },
   {
    "duration": 5,
    "start_time": "2022-10-01T19:43:54.143Z"
   },
   {
    "duration": 6,
    "start_time": "2022-10-01T19:43:54.221Z"
   },
   {
    "duration": 4,
    "start_time": "2022-10-01T19:43:54.284Z"
   },
   {
    "duration": 35,
    "start_time": "2022-10-01T19:43:54.380Z"
   },
   {
    "duration": 10,
    "start_time": "2022-10-01T19:43:54.446Z"
   },
   {
    "duration": 4,
    "start_time": "2022-10-01T19:43:54.537Z"
   },
   {
    "duration": 11,
    "start_time": "2022-10-01T19:43:54.648Z"
   },
   {
    "duration": 21,
    "start_time": "2022-10-01T19:43:54.705Z"
   },
   {
    "duration": 21,
    "start_time": "2022-10-01T19:43:54.743Z"
   },
   {
    "duration": 4,
    "start_time": "2022-10-01T19:43:54.830Z"
   },
   {
    "duration": 20,
    "start_time": "2022-10-01T19:43:54.884Z"
   },
   {
    "duration": 6,
    "start_time": "2022-10-01T19:43:54.944Z"
   },
   {
    "duration": 3,
    "start_time": "2022-10-01T19:43:55.004Z"
   },
   {
    "duration": 11,
    "start_time": "2022-10-01T19:43:55.033Z"
   },
   {
    "duration": 32,
    "start_time": "2022-10-01T19:43:55.135Z"
   },
   {
    "duration": 31,
    "start_time": "2022-10-01T19:43:55.302Z"
   },
   {
    "duration": 29,
    "start_time": "2022-10-01T19:43:55.432Z"
   },
   {
    "duration": 32,
    "start_time": "2022-10-01T19:43:55.599Z"
   }
  ],
  "celltoolbar": "Edit Metadata",
  "colab": {
   "name": "dpp_template_part2.ipynb",
   "provenance": []
  },
  "kernelspec": {
   "display_name": "Python 3 (ipykernel)",
   "language": "python",
   "name": "python3"
  },
  "language_info": {
   "codemirror_mode": {
    "name": "ipython",
    "version": 3
   },
   "file_extension": ".py",
   "mimetype": "text/x-python",
   "name": "python",
   "nbconvert_exporter": "python",
   "pygments_lexer": "ipython3",
   "version": "3.10.9"
  },
  "toc": {
   "base_numbering": 1,
   "nav_menu": {},
   "number_sections": true,
   "sideBar": true,
   "skip_h1_title": true,
   "title_cell": "Table of Contents",
   "title_sidebar": "Contents",
   "toc_cell": false,
   "toc_position": {
    "height": "calc(100% - 180px)",
    "left": "10px",
    "top": "150px",
    "width": "165px"
   },
   "toc_section_display": true,
   "toc_window_display": true
  }
 },
 "nbformat": 4,
 "nbformat_minor": 5
}
