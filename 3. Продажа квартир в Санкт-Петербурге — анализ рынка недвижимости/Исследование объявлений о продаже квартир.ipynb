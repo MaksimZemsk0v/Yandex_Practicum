{
 "cells": [
  {
   "cell_type": "markdown",
   "metadata": {},
   "source": [
    "# Исследование объявлений о продаже квартир\n",
    "\n",
    "В вашем распоряжении данные сервиса Яндекс.Недвижимость — архив объявлений о продаже квартир в Санкт-Петербурге и соседних населённых пунктов за несколько лет. Нужно научиться определять рыночную стоимость объектов недвижимости. Ваша задача — установить параметры. Это позволит построить автоматизированную систему: она отследит аномалии и мошенническую деятельность. \n",
    "\n",
    "По каждой квартире на продажу доступны два вида данных. Первые вписаны пользователем, вторые — получены автоматически на основе картографических данных. Например, расстояние до центра, аэропорта, ближайшего парка и водоёма. "
   ]
  },
  {
   "cell_type": "markdown",
   "metadata": {},
   "source": [
    "### Откроем файл с данными и изучим общую информацию. "
   ]
  },
  {
   "cell_type": "code",
   "execution_count": 1,
   "metadata": {},
   "outputs": [],
   "source": [
    "import pandas as pd  #вызываем библиотеку pandas\n",
    "import matplotlib.pyplot as plt  #вызываем библиотеку matplotlib\n",
    "pd.set_option('display.max_rows', 50)\n",
    "pd.set_option('display.max_columns', 50)\n",
    "pd.set_option('display.width', 100)"
   ]
  },
  {
   "cell_type": "code",
   "execution_count": 2,
   "metadata": {},
   "outputs": [
    {
     "name": "stdout",
     "output_type": "stream",
     "text": [
      "<class 'pandas.core.frame.DataFrame'>\n",
      "RangeIndex: 23699 entries, 0 to 23698\n",
      "Data columns (total 22 columns):\n",
      " #   Column                Non-Null Count  Dtype  \n",
      "---  ------                --------------  -----  \n",
      " 0   total_images          23699 non-null  int64  \n",
      " 1   last_price            23699 non-null  float64\n",
      " 2   total_area            23699 non-null  float64\n",
      " 3   first_day_exposition  23699 non-null  object \n",
      " 4   rooms                 23699 non-null  int64  \n",
      " 5   ceiling_height        14504 non-null  float64\n",
      " 6   floors_total          23613 non-null  float64\n",
      " 7   living_area           21796 non-null  float64\n",
      " 8   floor                 23699 non-null  int64  \n",
      " 9   is_apartment          2775 non-null   object \n",
      " 10  studio                23699 non-null  bool   \n",
      " 11  open_plan             23699 non-null  bool   \n",
      " 12  kitchen_area          21421 non-null  float64\n",
      " 13  balcony               12180 non-null  float64\n",
      " 14  locality_name         23650 non-null  object \n",
      " 15  airports_nearest      18157 non-null  float64\n",
      " 16  cityCenters_nearest   18180 non-null  float64\n",
      " 17  parks_around3000      18181 non-null  float64\n",
      " 18  parks_nearest         8079 non-null   float64\n",
      " 19  ponds_around3000      18181 non-null  float64\n",
      " 20  ponds_nearest         9110 non-null   float64\n",
      " 21  days_exposition       20518 non-null  float64\n",
      "dtypes: bool(2), float64(14), int64(3), object(3)\n",
      "memory usage: 3.7+ MB\n"
     ]
    }
   ],
   "source": [
    "#прочитаем и загрузим данные из файла в датафрейм\n",
    "data = pd.read_csv('/datasets/real_estate_data.csv', sep='\\t')\n",
    "data.info()"
   ]
  },
  {
   "cell_type": "code",
   "execution_count": 3,
   "metadata": {},
   "outputs": [
    {
     "data": {
      "text/html": [
       "<div>\n",
       "<style scoped>\n",
       "    .dataframe tbody tr th:only-of-type {\n",
       "        vertical-align: middle;\n",
       "    }\n",
       "\n",
       "    .dataframe tbody tr th {\n",
       "        vertical-align: top;\n",
       "    }\n",
       "\n",
       "    .dataframe thead th {\n",
       "        text-align: right;\n",
       "    }\n",
       "</style>\n",
       "<table border=\"1\" class=\"dataframe\">\n",
       "  <thead>\n",
       "    <tr style=\"text-align: right;\">\n",
       "      <th></th>\n",
       "      <th>total_images</th>\n",
       "      <th>last_price</th>\n",
       "      <th>total_area</th>\n",
       "      <th>first_day_exposition</th>\n",
       "      <th>rooms</th>\n",
       "      <th>ceiling_height</th>\n",
       "      <th>floors_total</th>\n",
       "      <th>living_area</th>\n",
       "      <th>floor</th>\n",
       "      <th>is_apartment</th>\n",
       "      <th>studio</th>\n",
       "      <th>open_plan</th>\n",
       "      <th>kitchen_area</th>\n",
       "      <th>balcony</th>\n",
       "      <th>locality_name</th>\n",
       "      <th>airports_nearest</th>\n",
       "      <th>cityCenters_nearest</th>\n",
       "      <th>parks_around3000</th>\n",
       "      <th>parks_nearest</th>\n",
       "      <th>ponds_around3000</th>\n",
       "      <th>ponds_nearest</th>\n",
       "      <th>days_exposition</th>\n",
       "    </tr>\n",
       "  </thead>\n",
       "  <tbody>\n",
       "    <tr>\n",
       "      <th>0</th>\n",
       "      <td>20</td>\n",
       "      <td>13000000.0</td>\n",
       "      <td>108.0</td>\n",
       "      <td>2019-03-07T00:00:00</td>\n",
       "      <td>3</td>\n",
       "      <td>2.70</td>\n",
       "      <td>16.0</td>\n",
       "      <td>51.0</td>\n",
       "      <td>8</td>\n",
       "      <td>NaN</td>\n",
       "      <td>False</td>\n",
       "      <td>False</td>\n",
       "      <td>25.0</td>\n",
       "      <td>NaN</td>\n",
       "      <td>Санкт-Петербург</td>\n",
       "      <td>18863.0</td>\n",
       "      <td>16028.0</td>\n",
       "      <td>1.0</td>\n",
       "      <td>482.0</td>\n",
       "      <td>2.0</td>\n",
       "      <td>755.0</td>\n",
       "      <td>NaN</td>\n",
       "    </tr>\n",
       "    <tr>\n",
       "      <th>1</th>\n",
       "      <td>7</td>\n",
       "      <td>3350000.0</td>\n",
       "      <td>40.4</td>\n",
       "      <td>2018-12-04T00:00:00</td>\n",
       "      <td>1</td>\n",
       "      <td>NaN</td>\n",
       "      <td>11.0</td>\n",
       "      <td>18.6</td>\n",
       "      <td>1</td>\n",
       "      <td>NaN</td>\n",
       "      <td>False</td>\n",
       "      <td>False</td>\n",
       "      <td>11.0</td>\n",
       "      <td>2.0</td>\n",
       "      <td>посёлок Шушары</td>\n",
       "      <td>12817.0</td>\n",
       "      <td>18603.0</td>\n",
       "      <td>0.0</td>\n",
       "      <td>NaN</td>\n",
       "      <td>0.0</td>\n",
       "      <td>NaN</td>\n",
       "      <td>81.0</td>\n",
       "    </tr>\n",
       "    <tr>\n",
       "      <th>2</th>\n",
       "      <td>10</td>\n",
       "      <td>5196000.0</td>\n",
       "      <td>56.0</td>\n",
       "      <td>2015-08-20T00:00:00</td>\n",
       "      <td>2</td>\n",
       "      <td>NaN</td>\n",
       "      <td>5.0</td>\n",
       "      <td>34.3</td>\n",
       "      <td>4</td>\n",
       "      <td>NaN</td>\n",
       "      <td>False</td>\n",
       "      <td>False</td>\n",
       "      <td>8.3</td>\n",
       "      <td>0.0</td>\n",
       "      <td>Санкт-Петербург</td>\n",
       "      <td>21741.0</td>\n",
       "      <td>13933.0</td>\n",
       "      <td>1.0</td>\n",
       "      <td>90.0</td>\n",
       "      <td>2.0</td>\n",
       "      <td>574.0</td>\n",
       "      <td>558.0</td>\n",
       "    </tr>\n",
       "    <tr>\n",
       "      <th>3</th>\n",
       "      <td>0</td>\n",
       "      <td>64900000.0</td>\n",
       "      <td>159.0</td>\n",
       "      <td>2015-07-24T00:00:00</td>\n",
       "      <td>3</td>\n",
       "      <td>NaN</td>\n",
       "      <td>14.0</td>\n",
       "      <td>NaN</td>\n",
       "      <td>9</td>\n",
       "      <td>NaN</td>\n",
       "      <td>False</td>\n",
       "      <td>False</td>\n",
       "      <td>NaN</td>\n",
       "      <td>0.0</td>\n",
       "      <td>Санкт-Петербург</td>\n",
       "      <td>28098.0</td>\n",
       "      <td>6800.0</td>\n",
       "      <td>2.0</td>\n",
       "      <td>84.0</td>\n",
       "      <td>3.0</td>\n",
       "      <td>234.0</td>\n",
       "      <td>424.0</td>\n",
       "    </tr>\n",
       "    <tr>\n",
       "      <th>4</th>\n",
       "      <td>2</td>\n",
       "      <td>10000000.0</td>\n",
       "      <td>100.0</td>\n",
       "      <td>2018-06-19T00:00:00</td>\n",
       "      <td>2</td>\n",
       "      <td>3.03</td>\n",
       "      <td>14.0</td>\n",
       "      <td>32.0</td>\n",
       "      <td>13</td>\n",
       "      <td>NaN</td>\n",
       "      <td>False</td>\n",
       "      <td>False</td>\n",
       "      <td>41.0</td>\n",
       "      <td>NaN</td>\n",
       "      <td>Санкт-Петербург</td>\n",
       "      <td>31856.0</td>\n",
       "      <td>8098.0</td>\n",
       "      <td>2.0</td>\n",
       "      <td>112.0</td>\n",
       "      <td>1.0</td>\n",
       "      <td>48.0</td>\n",
       "      <td>121.0</td>\n",
       "    </tr>\n",
       "  </tbody>\n",
       "</table>\n",
       "</div>"
      ],
      "text/plain": [
       "   total_images  last_price  total_area first_day_exposition  rooms  ceiling_height  floors_total  \\\n",
       "0            20  13000000.0       108.0  2019-03-07T00:00:00      3            2.70          16.0   \n",
       "1             7   3350000.0        40.4  2018-12-04T00:00:00      1             NaN          11.0   \n",
       "2            10   5196000.0        56.0  2015-08-20T00:00:00      2             NaN           5.0   \n",
       "3             0  64900000.0       159.0  2015-07-24T00:00:00      3             NaN          14.0   \n",
       "4             2  10000000.0       100.0  2018-06-19T00:00:00      2            3.03          14.0   \n",
       "\n",
       "   living_area  floor is_apartment  studio  open_plan  kitchen_area  balcony    locality_name  \\\n",
       "0         51.0      8          NaN   False      False          25.0      NaN  Санкт-Петербург   \n",
       "1         18.6      1          NaN   False      False          11.0      2.0   посёлок Шушары   \n",
       "2         34.3      4          NaN   False      False           8.3      0.0  Санкт-Петербург   \n",
       "3          NaN      9          NaN   False      False           NaN      0.0  Санкт-Петербург   \n",
       "4         32.0     13          NaN   False      False          41.0      NaN  Санкт-Петербург   \n",
       "\n",
       "   airports_nearest  cityCenters_nearest  parks_around3000  parks_nearest  ponds_around3000  \\\n",
       "0           18863.0              16028.0               1.0          482.0               2.0   \n",
       "1           12817.0              18603.0               0.0            NaN               0.0   \n",
       "2           21741.0              13933.0               1.0           90.0               2.0   \n",
       "3           28098.0               6800.0               2.0           84.0               3.0   \n",
       "4           31856.0               8098.0               2.0          112.0               1.0   \n",
       "\n",
       "   ponds_nearest  days_exposition  \n",
       "0          755.0              NaN  \n",
       "1            NaN             81.0  \n",
       "2          574.0            558.0  \n",
       "3          234.0            424.0  \n",
       "4           48.0            121.0  "
      ]
     },
     "metadata": {},
     "output_type": "display_data"
    },
    {
     "data": {
      "text/html": [
       "<div>\n",
       "<style scoped>\n",
       "    .dataframe tbody tr th:only-of-type {\n",
       "        vertical-align: middle;\n",
       "    }\n",
       "\n",
       "    .dataframe tbody tr th {\n",
       "        vertical-align: top;\n",
       "    }\n",
       "\n",
       "    .dataframe thead th {\n",
       "        text-align: right;\n",
       "    }\n",
       "</style>\n",
       "<table border=\"1\" class=\"dataframe\">\n",
       "  <thead>\n",
       "    <tr style=\"text-align: right;\">\n",
       "      <th></th>\n",
       "      <th>total_images</th>\n",
       "      <th>last_price</th>\n",
       "      <th>total_area</th>\n",
       "      <th>first_day_exposition</th>\n",
       "      <th>rooms</th>\n",
       "      <th>ceiling_height</th>\n",
       "      <th>floors_total</th>\n",
       "      <th>living_area</th>\n",
       "      <th>floor</th>\n",
       "      <th>is_apartment</th>\n",
       "      <th>studio</th>\n",
       "      <th>open_plan</th>\n",
       "      <th>kitchen_area</th>\n",
       "      <th>balcony</th>\n",
       "      <th>locality_name</th>\n",
       "      <th>airports_nearest</th>\n",
       "      <th>cityCenters_nearest</th>\n",
       "      <th>parks_around3000</th>\n",
       "      <th>parks_nearest</th>\n",
       "      <th>ponds_around3000</th>\n",
       "      <th>ponds_nearest</th>\n",
       "      <th>days_exposition</th>\n",
       "    </tr>\n",
       "  </thead>\n",
       "  <tbody>\n",
       "    <tr>\n",
       "      <th>23694</th>\n",
       "      <td>9</td>\n",
       "      <td>9700000.0</td>\n",
       "      <td>133.81</td>\n",
       "      <td>2017-03-21T00:00:00</td>\n",
       "      <td>3</td>\n",
       "      <td>3.7</td>\n",
       "      <td>5.0</td>\n",
       "      <td>73.3</td>\n",
       "      <td>3</td>\n",
       "      <td>NaN</td>\n",
       "      <td>False</td>\n",
       "      <td>False</td>\n",
       "      <td>13.83</td>\n",
       "      <td>NaN</td>\n",
       "      <td>Санкт-Петербург</td>\n",
       "      <td>24665.0</td>\n",
       "      <td>4232.0</td>\n",
       "      <td>1.0</td>\n",
       "      <td>796.0</td>\n",
       "      <td>3.0</td>\n",
       "      <td>381.0</td>\n",
       "      <td>NaN</td>\n",
       "    </tr>\n",
       "    <tr>\n",
       "      <th>23695</th>\n",
       "      <td>14</td>\n",
       "      <td>3100000.0</td>\n",
       "      <td>59.00</td>\n",
       "      <td>2018-01-15T00:00:00</td>\n",
       "      <td>3</td>\n",
       "      <td>NaN</td>\n",
       "      <td>5.0</td>\n",
       "      <td>38.0</td>\n",
       "      <td>4</td>\n",
       "      <td>NaN</td>\n",
       "      <td>False</td>\n",
       "      <td>False</td>\n",
       "      <td>8.50</td>\n",
       "      <td>NaN</td>\n",
       "      <td>Тосно</td>\n",
       "      <td>NaN</td>\n",
       "      <td>NaN</td>\n",
       "      <td>NaN</td>\n",
       "      <td>NaN</td>\n",
       "      <td>NaN</td>\n",
       "      <td>NaN</td>\n",
       "      <td>45.0</td>\n",
       "    </tr>\n",
       "    <tr>\n",
       "      <th>23696</th>\n",
       "      <td>18</td>\n",
       "      <td>2500000.0</td>\n",
       "      <td>56.70</td>\n",
       "      <td>2018-02-11T00:00:00</td>\n",
       "      <td>2</td>\n",
       "      <td>NaN</td>\n",
       "      <td>3.0</td>\n",
       "      <td>29.7</td>\n",
       "      <td>1</td>\n",
       "      <td>NaN</td>\n",
       "      <td>False</td>\n",
       "      <td>False</td>\n",
       "      <td>NaN</td>\n",
       "      <td>NaN</td>\n",
       "      <td>село Рождествено</td>\n",
       "      <td>NaN</td>\n",
       "      <td>NaN</td>\n",
       "      <td>NaN</td>\n",
       "      <td>NaN</td>\n",
       "      <td>NaN</td>\n",
       "      <td>NaN</td>\n",
       "      <td>NaN</td>\n",
       "    </tr>\n",
       "    <tr>\n",
       "      <th>23697</th>\n",
       "      <td>13</td>\n",
       "      <td>11475000.0</td>\n",
       "      <td>76.75</td>\n",
       "      <td>2017-03-28T00:00:00</td>\n",
       "      <td>2</td>\n",
       "      <td>3.0</td>\n",
       "      <td>17.0</td>\n",
       "      <td>NaN</td>\n",
       "      <td>12</td>\n",
       "      <td>NaN</td>\n",
       "      <td>False</td>\n",
       "      <td>False</td>\n",
       "      <td>23.30</td>\n",
       "      <td>2.0</td>\n",
       "      <td>Санкт-Петербург</td>\n",
       "      <td>39140.0</td>\n",
       "      <td>10364.0</td>\n",
       "      <td>2.0</td>\n",
       "      <td>173.0</td>\n",
       "      <td>3.0</td>\n",
       "      <td>196.0</td>\n",
       "      <td>602.0</td>\n",
       "    </tr>\n",
       "    <tr>\n",
       "      <th>23698</th>\n",
       "      <td>4</td>\n",
       "      <td>1350000.0</td>\n",
       "      <td>32.30</td>\n",
       "      <td>2017-07-21T00:00:00</td>\n",
       "      <td>1</td>\n",
       "      <td>2.5</td>\n",
       "      <td>5.0</td>\n",
       "      <td>12.3</td>\n",
       "      <td>1</td>\n",
       "      <td>NaN</td>\n",
       "      <td>False</td>\n",
       "      <td>False</td>\n",
       "      <td>9.00</td>\n",
       "      <td>NaN</td>\n",
       "      <td>поселок Новый Учхоз</td>\n",
       "      <td>NaN</td>\n",
       "      <td>NaN</td>\n",
       "      <td>NaN</td>\n",
       "      <td>NaN</td>\n",
       "      <td>NaN</td>\n",
       "      <td>NaN</td>\n",
       "      <td>NaN</td>\n",
       "    </tr>\n",
       "  </tbody>\n",
       "</table>\n",
       "</div>"
      ],
      "text/plain": [
       "       total_images  last_price  total_area first_day_exposition  rooms  ceiling_height  \\\n",
       "23694             9   9700000.0      133.81  2017-03-21T00:00:00      3             3.7   \n",
       "23695            14   3100000.0       59.00  2018-01-15T00:00:00      3             NaN   \n",
       "23696            18   2500000.0       56.70  2018-02-11T00:00:00      2             NaN   \n",
       "23697            13  11475000.0       76.75  2017-03-28T00:00:00      2             3.0   \n",
       "23698             4   1350000.0       32.30  2017-07-21T00:00:00      1             2.5   \n",
       "\n",
       "       floors_total  living_area  floor is_apartment  studio  open_plan  kitchen_area  balcony  \\\n",
       "23694           5.0         73.3      3          NaN   False      False         13.83      NaN   \n",
       "23695           5.0         38.0      4          NaN   False      False          8.50      NaN   \n",
       "23696           3.0         29.7      1          NaN   False      False           NaN      NaN   \n",
       "23697          17.0          NaN     12          NaN   False      False         23.30      2.0   \n",
       "23698           5.0         12.3      1          NaN   False      False          9.00      NaN   \n",
       "\n",
       "             locality_name  airports_nearest  cityCenters_nearest  parks_around3000  \\\n",
       "23694      Санкт-Петербург           24665.0               4232.0               1.0   \n",
       "23695                Тосно               NaN                  NaN               NaN   \n",
       "23696     село Рождествено               NaN                  NaN               NaN   \n",
       "23697      Санкт-Петербург           39140.0              10364.0               2.0   \n",
       "23698  поселок Новый Учхоз               NaN                  NaN               NaN   \n",
       "\n",
       "       parks_nearest  ponds_around3000  ponds_nearest  days_exposition  \n",
       "23694          796.0               3.0          381.0              NaN  \n",
       "23695            NaN               NaN            NaN             45.0  \n",
       "23696            NaN               NaN            NaN              NaN  \n",
       "23697          173.0               3.0          196.0            602.0  \n",
       "23698            NaN               NaN            NaN              NaN  "
      ]
     },
     "metadata": {},
     "output_type": "display_data"
    }
   ],
   "source": [
    "#ознакомимся с данными ,выведем первые и последние 5 строчек данных\n",
    "display(data.head(5))\n",
    "display(data.tail(5))"
   ]
  },
  {
   "cell_type": "code",
   "execution_count": 4,
   "metadata": {},
   "outputs": [
    {
     "data": {
      "image/png": "[encoded data removed]",
      "text/plain": [
       "<Figure size 1080x1440 with 20 Axes>"
      ]
     },
     "metadata": {
      "needs_background": "light"
     },
     "output_type": "display_data"
    }
   ],
   "source": [
    "#построим общую гистограмму по всем данным\n",
    "data.hist(figsize=(15, 20))\n",
    "plt.show()"
   ]
  },
  {
   "cell_type": "markdown",
   "metadata": {},
   "source": [
    "При ознакомлении с общей информацией и начальными гистограммами по каждому столбцу заметил следующее:\n",
    "\n",
    "    floors_total имеет формат вещественного числа типа float64, а должен быть int, так как не может быть количество этажей не целым значением;\n",
    "    is_apartment имеет тип данных object, хотя должен иметь значения bool - True or False;\n",
    "    balcony имеет формат вещественного числа типа float64, а должен быть int, так как не может быть количество балконов не целым значением;\n",
    "    parks_around3000 имеет формат вещественного числа типа float64, а должен быть int, так как не может быть количество парков не целым значением;\n",
    "    ponds_around3000 имеет формат вещественного числа типа float64, а должен быть int, так как не может быть количество прудов не целым значением;\n",
    "    days_exposition данный параметр имеет вещественный тип данных float64, не может количество дней быть не целым значением."
   ]
  },
  {
   "cell_type": "markdown",
   "metadata": {},
   "source": [
    "### Предобработка данных"
   ]
  },
  {
   "cell_type": "code",
   "execution_count": 5,
   "metadata": {},
   "outputs": [
    {
     "data": {
      "text/plain": [
       "total_images                0\n",
       "last_price                  0\n",
       "total_area                  0\n",
       "first_day_exposition        0\n",
       "rooms                       0\n",
       "ceiling_height           9195\n",
       "floors_total               86\n",
       "living_area              1903\n",
       "floor                       0\n",
       "is_apartment            20924\n",
       "studio                      0\n",
       "open_plan                   0\n",
       "kitchen_area             2278\n",
       "balcony                 11519\n",
       "locality_name              49\n",
       "airports_nearest         5542\n",
       "cityCenters_nearest      5519\n",
       "parks_around3000         5518\n",
       "parks_nearest           15620\n",
       "ponds_around3000         5518\n",
       "ponds_nearest           14589\n",
       "days_exposition          3181\n",
       "dtype: int64"
      ]
     },
     "execution_count": 5,
     "metadata": {},
     "output_type": "execute_result"
    }
   ],
   "source": [
    "#посмотрим есть ли пропуски\n",
    "data.isna().sum()"
   ]
  },
  {
   "cell_type": "markdown",
   "metadata": {},
   "source": [
    "Видим, что данные не идеальны и есть пропуски.\n",
    "\n",
    "Много пропусков, но в особенности выделяются столбцы:\n",
    "         \n",
    "    ceiling_height - высота потолков; \n",
    "    is_apartment - апартаменты; \n",
    "    balcony - число балконов; \n",
    "    parks_nearest - расстояние до ближайшего парка;\n",
    "    ponds_nearest - расстояние до ближайшего водоема.\n",
    "Примерно равно количество пропусков в столбцах:\n",
    "\n",
    "    airports_nearest - расстояние до ближайшего аэропорта,\n",
    "    cityCenters_nearest - расстояние до центра города, \n",
    "    parks_around3000 - число парков в радиусе 3 км, \n",
    "    ponds_around3000 - число водоемов в радиусе 3 км. \n",
    "    \n",
    "Также есть пропущенные значения столбцов:\n",
    "    \n",
    "    living_area - жилая площадь,\n",
    "    kitchen_area - площадь кухни, \n",
    "    days_exposition - сколько было размещено объявление от публикации до снятия,\n",
    "    floors_total - количество этажей в доме, \n",
    "    locality_name - название населенного пункта.\n",
    "    \n",
    "Проведем предобработку данных и по возможности постараемся заполнить пропущенные значения."
   ]
  },
  {
   "cell_type": "code",
   "execution_count": 6,
   "metadata": {},
   "outputs": [],
   "source": [
    "#обработаем данные и заполним пропуски по возможности\n",
    "#заполним пропущенные значения в данном столбце значением - False\n",
    "data['is_apartment'] = data['is_apartment'].fillna(False)\n",
    "\n",
    "#заполним пропущенные значения в данном столбце как отсутсвие балкона, то есть 0\n",
    "data['balcony'] = data['balcony'].fillna(0)\n",
    "\n",
    "#заполним пропущенные значения locality_name как unknown\n",
    "data['locality_name'] = data['locality_name'].fillna('unknown')\n",
    "\n",
    "#в столбце floors_total отсутсвует значения количества этажей в доме\n",
    "#данные параметры являются точными и их невозможно заполнить, если только как unknown, но таким образом скорее всего они приведут к погрешностям в анализе\n",
    "#так как количесвто пропусков по даннону параметру немного - 86, стоит их убрать\n",
    "data = data.dropna(subset=['floors_total'])"
   ]
  },
  {
   "cell_type": "markdown",
   "metadata": {},
   "source": [
    "В столбце is_apartment слишком много пропусков для bool значений, видимо данные пропуски не являются апартаментами в следствии чего не указали данный тип/параметр. В столбце balcony не указано число балконов, пользователь видимо не указал данный параметр возможно в следствии отсутствия балконов. В столбцах parks_around3000 и ponds_around3000 много пропущенных значений, возможно данных просто нет, а возможно просто нет ближайших парков и прудов.\n",
    "\n",
    "Скорее всего пользователь больше обращает внимание на основные параметры недвижимости, такие как: число комнат, жилая площадь, количество этажей в доме, какой этаж, цена.Такие параметры как высота потолков, площадь кухни и наличие балкона обращают внимание реже.\n",
    "\n",
    "Другие же параметры, такие как: расстояние до ближайшего парка или водоема, количество ближайших парков и водоем, и расстояние до центра города возможно не всегда указываются в картографических данных, да и подбор данных параметров возможно ёмкий процесс."
   ]
  },
  {
   "cell_type": "code",
   "execution_count": 7,
   "metadata": {},
   "outputs": [
    {
     "data": {
      "text/plain": [
       "total_images              int64\n",
       "last_price              float64\n",
       "total_area              float64\n",
       "first_day_exposition     object\n",
       "rooms                     int64\n",
       "ceiling_height          float64\n",
       "floors_total            float64\n",
       "living_area             float64\n",
       "floor                     int64\n",
       "is_apartment               bool\n",
       "studio                     bool\n",
       "open_plan                  bool\n",
       "kitchen_area            float64\n",
       "balcony                 float64\n",
       "locality_name            object\n",
       "airports_nearest        float64\n",
       "cityCenters_nearest     float64\n",
       "parks_around3000        float64\n",
       "parks_nearest           float64\n",
       "ponds_around3000        float64\n",
       "ponds_nearest           float64\n",
       "days_exposition         float64\n",
       "dtype: object"
      ]
     },
     "execution_count": 7,
     "metadata": {},
     "output_type": "execute_result"
    }
   ],
   "source": [
    "#рассмотрим тип данных\n",
    "data.dtypes"
   ]
  },
  {
   "cell_type": "code",
   "execution_count": 8,
   "metadata": {},
   "outputs": [
    {
     "data": {
      "text/plain": [
       "total_images              int64\n",
       "last_price              float64\n",
       "total_area              float64\n",
       "first_day_exposition     object\n",
       "rooms                     int64\n",
       "ceiling_height          float64\n",
       "floors_total              int64\n",
       "living_area             float64\n",
       "floor                     int64\n",
       "is_apartment               bool\n",
       "studio                     bool\n",
       "open_plan                  bool\n",
       "kitchen_area            float64\n",
       "balcony                   int64\n",
       "locality_name            object\n",
       "airports_nearest        float64\n",
       "cityCenters_nearest     float64\n",
       "parks_around3000          int64\n",
       "parks_nearest           float64\n",
       "ponds_around3000          int64\n",
       "ponds_nearest           float64\n",
       "days_exposition           int64\n",
       "dtype: object"
      ]
     },
     "execution_count": 8,
     "metadata": {},
     "output_type": "execute_result"
    }
   ],
   "source": [
    "#внесем некоторые корректировки в тип данных\n",
    "data['floors_total'] = data['floors_total'].astype(\"int64\")\n",
    "data['balcony'] = data['balcony'].astype(\"int64\")\n",
    "data['parks_around3000'] = data['parks_around3000'].fillna(0).astype(\"int64\")\n",
    "data['ponds_around3000'] = data['ponds_around3000'].fillna(0).astype(\"int64\")\n",
    "data['days_exposition'] = data['days_exposition'].fillna(0).astype(\"int64\")\n",
    "#убедимся в изменении типа данных\n",
    "data.dtypes"
   ]
  },
  {
   "cell_type": "markdown",
   "metadata": {},
   "source": [
    "В столбцах floors_total, balcony, parks_around3000, ponds_around3000 и days_exposition изменили тип данных на int.\n",
    "\n",
    "Все эти данные не могут иметь вещественный тип данных, так как floors_total(количество этажей в доме) - не может быть 1,5 (полтора) этажа. По аналогии к остальным данным также."
   ]
  },
  {
   "cell_type": "code",
   "execution_count": 9,
   "metadata": {},
   "outputs": [
    {
     "name": "stdout",
     "output_type": "stream",
     "text": [
      "['unknown' 'Бокситогорск' 'Волосово' 'Волхов' 'Всеволожск' 'Выборг'\n",
      " 'Высоцк' 'Гатчина' 'Зеленогорск' 'Ивангород' 'Каменногорск' 'Кингисепп'\n",
      " 'Кириши' 'Кировск' 'Колпино' 'Коммунар' 'Красное Село' 'Кронштадт'\n",
      " 'Кудрово' 'Лодейное Поле' 'Ломоносов' 'Луга' 'Любань' 'Мурино'\n",
      " 'Никольское' 'Новая Ладога' 'Отрадное' 'Павловск' 'Петергоф' 'Пикалёво'\n",
      " 'Подпорожье' 'Приморск' 'Приозерск' 'Пушкин' 'Санкт-Петербург'\n",
      " 'Светогорск' 'Сертолово' 'Сестрорецк' 'Сланцы' 'Сосновый Бор' 'Сясьстрой'\n",
      " 'Тихвин' 'Тосно' 'Шлиссельбург' 'городской поселок Большая Ижора'\n",
      " 'городской поселок Янино-1' 'городской посёлок Будогощь'\n",
      " 'городской посёлок Виллози' 'городской посёлок Лесогорский'\n",
      " 'городской посёлок Мга' 'городской посёлок Назия'\n",
      " 'городской посёлок Новоселье' 'городской посёлок Павлово'\n",
      " 'городской посёлок Рощино' 'городской посёлок Свирьстрой'\n",
      " 'городской посёлок Советский' 'городской посёлок Фёдоровское'\n",
      " 'городской посёлок Янино-1' 'деревня Агалатово' 'деревня Аро'\n",
      " 'деревня Батово' 'деревня Бегуницы' 'деревня Белогорка'\n",
      " 'деревня Большая Вруда' 'деревня Большая Пустомержа'\n",
      " 'деревня Большие Колпаны' 'деревня Большое Рейзино'\n",
      " 'деревня Большой Сабск' 'деревня Бор' 'деревня Борисова Грива'\n",
      " 'деревня Ваганово' 'деревня Вартемяги' 'деревня Вахнова Кара'\n",
      " 'деревня Выскатка' 'деревня Гарболово' 'деревня Глинка'\n",
      " 'деревня Горбунки' 'деревня Гостилицы' 'деревня Заклинье'\n",
      " 'деревня Заневка' 'деревня Зимитицы' 'деревня Извара' 'деревня Иссад'\n",
      " 'деревня Калитино' 'деревня Кальтино' 'деревня Камышовка'\n",
      " 'деревня Каськово' 'деревня Келози' 'деревня Кипень' 'деревня Кисельня'\n",
      " 'деревня Колтуши' 'деревня Коркино' 'деревня Котлы' 'деревня Кривко'\n",
      " 'деревня Кудрово' 'деревня Кузьмолово' 'деревня Курковицы'\n",
      " 'деревня Куровицы' 'деревня Куттузи' 'деревня Лаврики' 'деревня Лаголово'\n",
      " 'деревня Лампово' 'деревня Лесколово' 'деревня Лопухинка'\n",
      " 'деревня Лупполово' 'деревня Малая Романовка' 'деревня Малое Верево'\n",
      " 'деревня Малое Карлино' 'деревня Малые Колпаны' 'деревня Мануйлово'\n",
      " 'деревня Меньково' 'деревня Мины' 'деревня Мистолово' 'деревня Ненимяки'\n",
      " 'деревня Нижние Осельки' 'деревня Нижняя' 'деревня Низино'\n",
      " 'деревня Новое Девяткино' 'деревня Новолисино' 'деревня Нурма'\n",
      " 'деревня Оржицы' 'деревня Парицы' 'деревня Пельгора' 'деревня Пеники'\n",
      " 'деревня Пижма' 'деревня Пикколово' 'деревня Пудомяги' 'деревня Пустынка'\n",
      " 'деревня Пчева' 'деревня Рабитицы' 'деревня Разбегаево'\n",
      " 'деревня Раздолье' 'деревня Разметелево' 'деревня Рапполово'\n",
      " 'деревня Реброво' 'деревня Русско' 'деревня Сижно' 'деревня Снегирёвка'\n",
      " 'деревня Старая' 'деревня Старая Пустошь' 'деревня Старое Хинколово'\n",
      " 'деревня Старополье' 'деревня Старосиверская' 'деревня Старые Бегуницы'\n",
      " 'деревня Суоранда' 'деревня Сяськелево' 'деревня Тарасово'\n",
      " 'деревня Терпилицы' 'деревня Тихковицы' 'деревня Тойворово'\n",
      " 'деревня Торосово' 'деревня Торошковичи' 'деревня Трубников Бор'\n",
      " 'деревня Фалилеево' 'деревня Фёдоровское' 'деревня Хапо-Ое'\n",
      " 'деревня Хязельки' 'деревня Чудской Бор' 'деревня Шпаньково'\n",
      " 'деревня Щеглово' 'деревня Юкки' 'деревня Ялгино' 'деревня Яльгелево'\n",
      " 'деревня Ям-Тесово' 'коттеджный поселок Кивеннапа Север'\n",
      " 'коттеджный поселок Счастье' 'коттеджный посёлок Лесное' 'поселок Аннино'\n",
      " 'поселок Барышево' 'поселок Бугры' 'поселок Возрождение'\n",
      " 'поселок Войсковицы' 'поселок Володарское' 'поселок Гаврилово'\n",
      " 'поселок Гарболово' 'поселок Гладкое' 'поселок Глажево'\n",
      " 'поселок Глебычево' 'поселок Гончарово' 'поселок Громово'\n",
      " 'поселок Дружноселье' 'поселок Елизаветино' 'поселок Жилгородок'\n",
      " 'поселок Жилпосёлок' 'поселок Житково' 'поселок Заводской'\n",
      " 'поселок Запорожское' 'поселок Зимитицы' 'поселок Ильичёво'\n",
      " 'поселок Калитино' 'поселок Каложицы' 'поселок Кингисеппский'\n",
      " 'поселок Кирпичное' 'поселок Кобралово' 'поселок Кобринское'\n",
      " 'поселок Коммунары' 'поселок Коробицыно' 'поселок Котельский'\n",
      " 'поселок Красная Долина' 'поселок Красносельское' 'поселок Лесное'\n",
      " 'поселок Лисий Нос' 'поселок Лукаши' 'поселок Любань'\n",
      " 'поселок Мельниково' 'поселок Мичуринское' 'поселок Молодцово'\n",
      " 'поселок Мурино' 'поселок Новый Свет' 'поселок Новый Учхоз'\n",
      " 'поселок Оредеж' 'поселок Пансионат Зелёный Бор' 'поселок Первомайское'\n",
      " 'поселок Перово' 'поселок Петровское' 'поселок Победа' 'поселок Поляны'\n",
      " 'поселок Почап' 'поселок Починок' 'поселок Пушное' 'поселок Пчевжа'\n",
      " 'поселок Рабитицы' 'поселок Романовка' 'поселок Ромашки' 'поселок Рябово'\n",
      " 'поселок Севастьяново' 'поселок Селезнёво' 'поселок Сельцо'\n",
      " 'поселок Семиозерье' 'поселок Семрино' 'поселок Серебрянский'\n",
      " 'поселок Совхозный' 'поселок Старая Малукса' 'поселок Стеклянный'\n",
      " 'поселок Сумино' 'поселок Суходолье' 'поселок Тельмана'\n",
      " 'поселок Терволово' 'поселок Торковичи' 'поселок Тёсово-4'\n",
      " 'поселок Углово' 'поселок Усть-Луга' 'поселок Ушаки'\n",
      " 'поселок Цвелодубово' 'поселок Цвылёво'\n",
      " 'поселок городского типа Большая Ижора' 'поселок городского типа Вырица'\n",
      " 'поселок городского типа Дружная Горка'\n",
      " 'поселок городского типа Дубровка' 'поселок городского типа Ефимовский'\n",
      " 'поселок городского типа Кондратьево'\n",
      " 'поселок городского типа Красный Бор'\n",
      " 'поселок городского типа Кузьмоловский' 'поселок городского типа Лебяжье'\n",
      " 'поселок городского типа Лесогорский' 'поселок городского типа Назия'\n",
      " 'поселок городского типа Никольский'\n",
      " 'поселок городского типа Приладожский' 'поселок городского типа Рахья'\n",
      " 'поселок городского типа Рощино' 'поселок городского типа Рябово'\n",
      " 'поселок городского типа Синявино' 'поселок городского типа Советский'\n",
      " 'поселок городского типа Токсово' 'поселок городского типа Форносово'\n",
      " 'поселок городского типа имени Свердлова' 'поселок станции Вещево'\n",
      " 'поселок станции Корнево' 'поселок станции Лужайка'\n",
      " 'поселок станции Приветнинское' 'посёлок Александровская'\n",
      " 'посёлок Алексеевка' 'посёлок Аннино' 'посёлок Белоостров'\n",
      " 'посёлок Бугры' 'посёлок Возрождение' 'посёлок Войскорово'\n",
      " 'посёлок Высокоключевой' 'посёлок Гаврилово' 'посёлок Дзержинского'\n",
      " 'посёлок Жилгородок' 'посёлок Ильичёво' 'посёлок Кикерино'\n",
      " 'посёлок Кобралово' 'посёлок Коробицыно' 'посёлок Левашово'\n",
      " 'посёлок Ленинское' 'посёлок Лисий Нос' 'посёлок Мельниково'\n",
      " 'посёлок Металлострой' 'посёлок Мичуринское' 'посёлок Молодёжное'\n",
      " 'посёлок Мурино' 'посёлок Мыза-Ивановка' 'посёлок Новогорелово'\n",
      " 'посёлок Новый Свет' 'посёлок Пансионат Зелёный Бор' 'посёлок Парголово'\n",
      " 'посёлок Перово' 'посёлок Песочный' 'посёлок Петро-Славянка'\n",
      " 'посёлок Петровское' 'посёлок Платформа 69-й километр' 'посёлок Плодовое'\n",
      " 'посёлок Плоское' 'посёлок Победа' 'посёлок Поляны' 'посёлок Понтонный'\n",
      " 'посёлок Пригородный' 'посёлок Пудость' 'посёлок Репино' 'посёлок Ропша'\n",
      " 'посёлок Сапёрное' 'посёлок Сапёрный' 'посёлок Сосново'\n",
      " 'посёлок Старая Малукса' 'посёлок Стеклянный' 'посёлок Стрельна'\n",
      " 'посёлок Суйда' 'посёлок Сумино' 'посёлок Тельмана' 'посёлок Терволово'\n",
      " 'посёлок Торфяное' 'посёлок Усть-Ижора' 'посёлок Усть-Луга'\n",
      " 'посёлок Форт Красная Горка' 'посёлок Шугозеро' 'посёлок Шушары'\n",
      " 'посёлок Щеглово' 'посёлок городского типа Важины'\n",
      " 'посёлок городского типа Вознесенье' 'посёлок городского типа Вырица'\n",
      " 'посёлок городского типа Красный Бор' 'посёлок городского типа Кузнечное'\n",
      " 'посёлок городского типа Кузьмоловский' 'посёлок городского типа Лебяжье'\n",
      " 'посёлок городского типа Мга' 'посёлок городского типа Павлово'\n",
      " 'посёлок городского типа Рощино' 'посёлок городского типа Рябово'\n",
      " 'посёлок городского типа Сиверский' 'посёлок городского типа Тайцы'\n",
      " 'посёлок городского типа Токсово' 'посёлок городского типа Ульяновка'\n",
      " 'посёлок городского типа Форносово'\n",
      " 'посёлок городского типа имени Морозова'\n",
      " 'посёлок городского типа имени Свердлова'\n",
      " 'посёлок при железнодорожной станции Вещево'\n",
      " 'посёлок при железнодорожной станции Приветнинское'\n",
      " 'посёлок станции Громово' 'посёлок станции Свирь'\n",
      " 'садоводческое некоммерческое товарищество Лесная Поляна'\n",
      " 'садовое товарищество Новая Ропша' 'садовое товарищество Приладожский'\n",
      " 'садовое товарищество Рахья' 'садовое товарищество Садко' 'село Копорье'\n",
      " 'село Никольское' 'село Павлово' 'село Паша' 'село Путилово'\n",
      " 'село Рождествено' 'село Русско-Высоцкое' 'село Старая Ладога' 'село Шум']\n",
      "\n",
      "Количество уникальных значений населенных пунктов: 365\n"
     ]
    }
   ],
   "source": [
    "#рассмотрим таблицу locality_name и посмотрим наличие дубликатов\n",
    "print(data['locality_name'].sort_values().unique())\n",
    "print()\n",
    "print('Количество уникальных значений населенных пунктов:', len(data['locality_name'].unique()))"
   ]
  },
  {
   "cell_type": "markdown",
   "metadata": {},
   "source": [
    "В данных есть неявные дубликаты, например: посёлок при железнодорожной станции Вещево и поселок станции Вещево. Следует избавиться от таких данных, привести к одному виду."
   ]
  },
  {
   "cell_type": "code",
   "execution_count": 10,
   "metadata": {},
   "outputs": [
    {
     "name": "stdout",
     "output_type": "stream",
     "text": [
      "['unknown' 'Бокситогорск' 'Волосово' 'Волхов' 'Всеволожск' 'Выборг'\n",
      " 'Высоцк' 'Гатчина' 'Зеленогорск' 'Ивангород' 'Каменногорск' 'Кингисепп'\n",
      " 'Кириши' 'Кировск' 'Колпино' 'Коммунар' 'Красное Село' 'Кронштадт'\n",
      " 'Кудрово' 'Лодейное Поле' 'Ломоносов' 'Луга' 'Любань' 'Мурино'\n",
      " 'Никольское' 'Новая Ладога' 'Отрадное' 'Павловск' 'Петергоф' 'Пикалёво'\n",
      " 'Подпорожье' 'Приморск' 'Приозерск' 'Пушкин' 'Санкт-Петербург'\n",
      " 'Светогорск' 'Сертолово' 'Сестрорецк' 'Сланцы' 'Сосновый Бор' 'Сясьстрой'\n",
      " 'Тихвин' 'Тосно' 'Шлиссельбург' 'деревня Агалатово' 'деревня Аро'\n",
      " 'деревня Батово' 'деревня Бегуницы' 'деревня Белогорка'\n",
      " 'деревня Большая Вруда' 'деревня Большая Пустомержа'\n",
      " 'деревня Большие Колпаны' 'деревня Большое Рейзино'\n",
      " 'деревня Большой Сабск' 'деревня Бор' 'деревня Борисова Грива'\n",
      " 'деревня Ваганово' 'деревня Вартемяги' 'деревня Вахнова Кара'\n",
      " 'деревня Выскатка' 'деревня Гарболово' 'деревня Глинка'\n",
      " 'деревня Горбунки' 'деревня Гостилицы' 'деревня Заклинье'\n",
      " 'деревня Заневка' 'деревня Зимитицы' 'деревня Извара' 'деревня Иссад'\n",
      " 'деревня Калитино' 'деревня Кальтино' 'деревня Камышовка'\n",
      " 'деревня Каськово' 'деревня Келози' 'деревня Кипень' 'деревня Кисельня'\n",
      " 'деревня Колтуши' 'деревня Коркино' 'деревня Котлы' 'деревня Кривко'\n",
      " 'деревня Кудрово' 'деревня Кузьмолово' 'деревня Курковицы'\n",
      " 'деревня Куровицы' 'деревня Куттузи' 'деревня Лаврики' 'деревня Лаголово'\n",
      " 'деревня Лампово' 'деревня Лесколово' 'деревня Лопухинка'\n",
      " 'деревня Лупполово' 'деревня Малая Романовка' 'деревня Малое Верево'\n",
      " 'деревня Малое Карлино' 'деревня Малые Колпаны' 'деревня Мануйлово'\n",
      " 'деревня Меньково' 'деревня Мины' 'деревня Мистолово' 'деревня Ненимяки'\n",
      " 'деревня Нижние Осельки' 'деревня Нижняя' 'деревня Низино'\n",
      " 'деревня Новое Девяткино' 'деревня Новолисино' 'деревня Нурма'\n",
      " 'деревня Оржицы' 'деревня Парицы' 'деревня Пельгора' 'деревня Пеники'\n",
      " 'деревня Пижма' 'деревня Пикколово' 'деревня Пудомяги' 'деревня Пустынка'\n",
      " 'деревня Пчева' 'деревня Рабитицы' 'деревня Разбегаево'\n",
      " 'деревня Раздолье' 'деревня Разметелево' 'деревня Рапполово'\n",
      " 'деревня Реброво' 'деревня Русско' 'деревня Сижно' 'деревня Снегирёвка'\n",
      " 'деревня Старая' 'деревня Старая Пустошь' 'деревня Старое Хинколово'\n",
      " 'деревня Старополье' 'деревня Старосиверская' 'деревня Старые Бегуницы'\n",
      " 'деревня Суоранда' 'деревня Сяськелево' 'деревня Тарасово'\n",
      " 'деревня Терпилицы' 'деревня Тихковицы' 'деревня Тойворово'\n",
      " 'деревня Торосово' 'деревня Торошковичи' 'деревня Трубников Бор'\n",
      " 'деревня Фалилеево' 'деревня Фёдоровское' 'деревня Хапо-Ое'\n",
      " 'деревня Хязельки' 'деревня Чудской Бор' 'деревня Шпаньково'\n",
      " 'деревня Щеглово' 'деревня Юкки' 'деревня Ялгино' 'деревня Яльгелево'\n",
      " 'деревня Ям-Тесово' 'поселок Александровская' 'поселок Алексеевка'\n",
      " 'поселок Аннино' 'поселок Барышево' 'поселок Белоостров'\n",
      " 'поселок Большая Ижора' 'поселок Бугры' 'поселок Будогощь'\n",
      " 'поселок Важины' 'поселок Вещево' 'поселок Виллози' 'поселок Вознесенье'\n",
      " 'поселок Возрождение' 'поселок Войсковицы' 'поселок Войскорово'\n",
      " 'поселок Володарское' 'поселок Вырица' 'поселок Высокоключевой'\n",
      " 'поселок Гаврилово' 'поселок Гарболово' 'поселок Гладкое'\n",
      " 'поселок Глажево' 'поселок Глебычево' 'поселок Гончарово'\n",
      " 'поселок Громово' 'поселок Дзержинского' 'поселок Дружная Горка'\n",
      " 'поселок Дружноселье' 'поселок Дубровка' 'поселок Елизаветино'\n",
      " 'поселок Ефимовский' 'поселок Жилгородок' 'поселок Жилпоселок'\n",
      " 'поселок Житково' 'поселок Заводской' 'поселок Запорожское'\n",
      " 'поселок Зимитицы' 'поселок Ильичёво' 'поселок Калитино'\n",
      " 'поселок Каложицы' 'поселок Кивеннапа Север' 'поселок Кикерино'\n",
      " 'поселок Кингисеппский' 'поселок Кирпичное' 'поселок Кобралово'\n",
      " 'поселок Кобринское' 'поселок Коммунары' 'поселок Кондратьево'\n",
      " 'поселок Корнево' 'поселок Коробицыно' 'поселок Котельский'\n",
      " 'поселок Красная Долина' 'поселок Красносельское' 'поселок Красный Бор'\n",
      " 'поселок Кузнечное' 'поселок Кузьмоловский' 'поселок Лебяжье'\n",
      " 'поселок Левашово' 'поселок Ленинское' 'поселок Лесное'\n",
      " 'поселок Лесогорский' 'поселок Лисий Нос' 'поселок Лужайка'\n",
      " 'поселок Лукаши' 'поселок Любань' 'поселок Мга' 'поселок Мельниково'\n",
      " 'поселок Металлострой' 'поселок Мичуринское' 'поселок Молодцово'\n",
      " 'поселок Молодёжное' 'поселок Морозова' 'поселок Мурино'\n",
      " 'поселок Мыза-Ивановка' 'поселок Назия' 'поселок Никольский'\n",
      " 'поселок Новогорелово' 'поселок Новоселье' 'поселок Новый Свет'\n",
      " 'поселок Новый Учхоз' 'поселок Оредеж' 'поселок Павлово'\n",
      " 'поселок Пансионат Зелёный Бор' 'поселок Парголово'\n",
      " 'поселок Первомайское' 'поселок Перово' 'поселок Песочный'\n",
      " 'поселок Петро-Славянка' 'поселок Петровское'\n",
      " 'поселок Платформа 69-й километр' 'поселок Плодовое' 'поселок Плоское'\n",
      " 'поселок Победа' 'поселок Поляны' 'поселок Понтонный' 'поселок Почап'\n",
      " 'поселок Починок' 'поселок Приветнинское' 'поселок Пригородный'\n",
      " 'поселок Приладожский' 'поселок Пудость' 'поселок Пушное'\n",
      " 'поселок Пчевжа' 'поселок Рабитицы' 'поселок Рахья' 'поселок Репино'\n",
      " 'поселок Романовка' 'поселок Ромашки' 'поселок Ропша' 'поселок Рощино'\n",
      " 'поселок Рябово' 'поселок Сапёрное' 'поселок Сапёрный'\n",
      " 'поселок Свердлова' 'поселок Свирь' 'поселок Свирьстрой'\n",
      " 'поселок Севастьяново' 'поселок Селезнёво' 'поселок Сельцо'\n",
      " 'поселок Семиозерье' 'поселок Семрино' 'поселок Серебрянский'\n",
      " 'поселок Сиверский' 'поселок Синявино' 'поселок Советский'\n",
      " 'поселок Совхозный' 'поселок Сосново' 'поселок Старая Малукса'\n",
      " 'поселок Стеклянный' 'поселок Стрельна' 'поселок Суйда' 'поселок Сумино'\n",
      " 'поселок Суходолье' 'поселок Счастье' 'поселок Тайцы' 'поселок Тельмана'\n",
      " 'поселок Терволово' 'поселок Токсово' 'поселок Торковичи'\n",
      " 'поселок Торфяное' 'поселок Тёсово-4' 'поселок Углово'\n",
      " 'поселок Ульяновка' 'поселок Усть-Ижора' 'поселок Усть-Луга'\n",
      " 'поселок Ушаки' 'поселок Форносово' 'поселок Форт Красная Горка'\n",
      " 'поселок Фёдоровское' 'поселок Цвелодубово' 'поселок Цвылёво'\n",
      " 'поселок Шугозеро' 'поселок Шушары' 'поселок Щеглово' 'поселок Янино-1'\n",
      " 'садоводческое некоммерческое товарищество Лесная Поляна'\n",
      " 'садовое товарищество Новая Ропша' 'садовое товарищество Приладожский'\n",
      " 'садовое товарищество Рахья' 'садовое товарищество Садко' 'село Копорье'\n",
      " 'село Никольское' 'село Павлово' 'село Паша' 'село Путилово'\n",
      " 'село Рождествено' 'село Русско-Высоцкое' 'село Старая Ладога' 'село Шум']\n",
      "\n",
      "Количество уникальных значений населенных пунктов: 319\n"
     ]
    }
   ],
   "source": [
    "duplicate_names = ['городской поселок', 'городской посёлок'\\\n",
    "                  , 'коттеджный поселок', 'коттеджный посёлок'\\\n",
    "                  , 'поселок городского типа имени', 'посёлок городского типа имени'\\\n",
    "                  , 'поселок городского типа', 'посёлок городского типа'\\\n",
    "                  , 'поселок станции', 'посёлок станции'\\\n",
    "                  , 'поселок при железнодорожной станции'\\\n",
    "                  , 'посёлок при железнодорожной станции'\\\n",
    "                  , 'посёлок']\n",
    "good_name = 'поселок'\n",
    "data['locality_name'] = data['locality_name'].replace(duplicate_names, good_name, regex=True)\n",
    "print(data['locality_name'].sort_values().unique())\n",
    "print()\n",
    "print('Количество уникальных значений населенных пунктов:', len(data['locality_name'].unique()))"
   ]
  },
  {
   "cell_type": "markdown",
   "metadata": {},
   "source": [
    "С неявными дубликатами разобрались. Рассмотрим недостающие данный относящиеся к недвижимости, в частности столбцы:\n",
    "\n",
    "    ceiling_height - высота потолков;\n",
    "    living_area - жилая площадь;\n",
    "    kitchen_area - площадь кухни."
   ]
  },
  {
   "cell_type": "code",
   "execution_count": 11,
   "metadata": {},
   "outputs": [
    {
     "name": "stdout",
     "output_type": "stream",
     "text": [
      "count    14495.000000\n",
      "mean         2.771495\n",
      "std          1.261445\n",
      "min          1.000000\n",
      "25%          2.520000\n",
      "50%          2.650000\n",
      "75%          2.800000\n",
      "max        100.000000\n",
      "Name: ceiling_height, dtype: float64\n",
      "\n",
      "[  1.     1.2    1.75   2.     2.2    2.25   2.3    2.34   2.4    2.45\n",
      "   2.46   2.47   2.48   2.49   2.5    2.51   2.52   2.53   2.54   2.55\n",
      "   2.56   2.57   2.58   2.59   2.6    2.61   2.62   2.63   2.64   2.65\n",
      "   2.66   2.67   2.68   2.69   2.7    2.71   2.72   2.73   2.74   2.75\n",
      "   2.76   2.77   2.78   2.79   2.8    2.81   2.82   2.83   2.84   2.85\n",
      "   2.86   2.87   2.88   2.89   2.9    2.91   2.92   2.93   2.94   2.95\n",
      "   2.96   2.97   2.98   2.99   3.     3.01   3.02   3.03   3.04   3.05\n",
      "   3.06   3.07   3.08   3.09   3.1    3.11   3.12   3.13   3.14   3.15\n",
      "   3.16   3.17   3.18   3.2    3.21   3.22   3.23   3.24   3.25   3.26\n",
      "   3.27   3.28   3.29   3.3    3.31   3.32   3.33   3.34   3.35   3.36\n",
      "   3.37   3.38   3.39   3.4    3.42   3.43   3.44   3.45   3.46   3.47\n",
      "   3.48   3.49   3.5    3.51   3.52   3.53   3.54   3.55   3.56   3.57\n",
      "   3.58   3.59   3.6    3.62   3.63   3.65   3.66   3.67   3.68   3.69\n",
      "   3.7    3.75   3.76   3.78   3.8    3.82   3.83   3.84   3.85   3.86\n",
      "   3.87   3.88   3.9    3.93   3.95   3.98   4.     4.06   4.1    4.14\n",
      "   4.15   4.19   4.2    4.25   4.3    4.37   4.4    4.45   4.5    4.65\n",
      "   4.7    4.8    4.9    5.     5.2    5.3    5.5    5.6    5.8    6.\n",
      "   8.     8.3   10.3   14.    20.    22.6   24.    25.    26.    27.\n",
      "  27.5   32.   100.      nan]\n"
     ]
    }
   ],
   "source": [
    "#рассмотрим значения колонки ceiling_height\n",
    "#рассмотрим общие показатели и уникальные значения\n",
    "print(data['ceiling_height'].describe())  #общие показатели\n",
    "print()\n",
    "print(data['ceiling_height'].sort_values().unique())  #вывели уникальные значения, для просмотра всех возможных значений"
   ]
  },
  {
   "cell_type": "code",
   "execution_count": 12,
   "metadata": {},
   "outputs": [
    {
     "name": "stdout",
     "output_type": "stream",
     "text": [
      "[  1.    1.2   1.8   2.    2.2   2.3   2.4   2.5   2.6   2.7   2.8   2.9\n",
      "   3.    3.1   3.2   3.3   3.4   3.5   3.6   3.7   3.8   3.9   4.    4.1\n",
      "   4.2   4.3   4.4   4.5   4.6   4.7   4.8   4.9   5.    5.2   5.3   5.5\n",
      "   5.6   5.8   6.    8.    8.3  10.3  14.   20.   22.6  24.   25.   26.\n",
      "  27.   27.5  32.  100.    nan]\n"
     ]
    }
   ],
   "source": [
    "#округлим значения до десятых \n",
    "data['ceiling_height'] = data['ceiling_height'].round(1)\n",
    "print(data['ceiling_height'].sort_values().unique())"
   ]
  },
  {
   "cell_type": "code",
   "execution_count": 13,
   "metadata": {},
   "outputs": [
    {
     "data": {
      "image/png": "[encoded data removed]",
      "text/plain": [
       "<Figure size 432x288 with 1 Axes>"
      ]
     },
     "metadata": {
      "needs_background": "light"
     },
     "output_type": "display_data"
    },
    {
     "data": {
      "image/png": "[encoded data removed]",
      "text/plain": [
       "<Figure size 432x288 with 1 Axes>"
      ]
     },
     "metadata": {
      "needs_background": "light"
     },
     "output_type": "display_data"
    },
    {
     "data": {
      "image/png": "[encoded data removed]",
      "text/plain": [
       "<Figure size 432x288 with 1 Axes>"
      ]
     },
     "metadata": {
      "needs_background": "light"
     },
     "output_type": "display_data"
    }
   ],
   "source": [
    "#создадим новую переменную и присвоим ей все данные таблицы ceiling_height и очистим от пропущенных значений\n",
    "ceiling_height_data = data.loc[:, ['ceiling_height']].dropna()  \n",
    "\n",
    "#построим boxplot(\"ящик с усами\") для визуализации данных, определим редкие и выбивающиеся значения\n",
    "ceiling_height_data.boxplot(column='ceiling_height')\n",
    "plt.ylim(min(ceiling_height_data['ceiling_height'])\\\n",
    "         , max(ceiling_height_data['ceiling_height']))\n",
    "plt.show()\n",
    "ceiling_height_data.boxplot(column='ceiling_height')\n",
    "plt.ylim(1, 8)\n",
    "plt.show()\n",
    "ceiling_height_data.boxplot(column='ceiling_height')\n",
    "plt.ylim(1, 4)\n",
    "plt.show()"
   ]
  },
  {
   "cell_type": "markdown",
   "metadata": {},
   "source": [
    "По boxplot видно, что основная часть данных в диапазоне размаха от 2.2 до 3.2 м. Часть данных есть за границей в диапазоне от 3.2 до 5 м. Скорректируем значения от 22.6 до 32 метров, после чего посмотрим количество значений меннее 2.2 метра и более 5 метров."
   ]
  },
  {
   "cell_type": "code",
   "execution_count": 14,
   "metadata": {},
   "outputs": [
    {
     "name": "stdout",
     "output_type": "stream",
     "text": [
      "Количество данных высоты потолка менее 2.2 метра и более 5 метров: 31\n"
     ]
    }
   ],
   "source": [
    "ceiling_height_data.loc[(ceiling_height_data['ceiling_height'] > 22)\\\n",
    "                        & (ceiling_height_data['ceiling_height'] < 32)\\\n",
    "                        , 'ceiling_height'] = ceiling_height_data['ceiling_height'] / 10\n",
    "print('Количество данных высоты потолка менее 2.2 метра и более 5 метров:'\\\n",
    "      , len(ceiling_height_data.query('(ceiling_height < 2.2) | (ceiling_height > 5)')))"
   ]
  },
  {
   "cell_type": "markdown",
   "metadata": {},
   "source": [
    "Небольшое количество аномальных данных стоит их убрать в общих данных data. Исправим значения в data['ceiling_height'] и заполним пропуски медианным значением"
   ]
  },
  {
   "cell_type": "code",
   "execution_count": 15,
   "metadata": {
    "scrolled": true
   },
   "outputs": [
    {
     "data": {
      "text/plain": [
       "total_images                0\n",
       "last_price                  0\n",
       "total_area                  0\n",
       "first_day_exposition        0\n",
       "rooms                       0\n",
       "ceiling_height              0\n",
       "floors_total                0\n",
       "living_area              1844\n",
       "floor                       0\n",
       "is_apartment                0\n",
       "studio                      0\n",
       "open_plan                   0\n",
       "kitchen_area             2198\n",
       "balcony                     0\n",
       "locality_name               0\n",
       "airports_nearest         5427\n",
       "cityCenters_nearest      5404\n",
       "parks_around3000            0\n",
       "parks_nearest           15451\n",
       "ponds_around3000            0\n",
       "ponds_nearest           14438\n",
       "days_exposition             0\n",
       "dtype: int64"
      ]
     },
     "execution_count": 15,
     "metadata": {},
     "output_type": "execute_result"
    }
   ],
   "source": [
    "#изменим значения которые скорее всего были внесены неправильно\n",
    "data.loc[(data['ceiling_height'] > 22) & (data['ceiling_height'] < 32)\\\n",
    "         , 'ceiling_height'] = data['ceiling_height'] / 10  \n",
    "\n",
    "#заполним пропущенные значения\n",
    "data['ceiling_height'] = data['ceiling_height']\\\n",
    "                              .fillna(data.groupby('locality_name')['ceiling_height']\\\n",
    "                              .transform('median'))\n",
    "\n",
    "#удалим значения менее 2.2 метра и более 5 метров\n",
    "data = data.query('(ceiling_height <= 5) & (ceiling_height >= 2.2)')\n",
    "data['ceiling_height'] = data['ceiling_height']\\\n",
    "                              .fillna(data.groupby('locality_name')['ceiling_height']\\\n",
    "                              .transform('median'))\n",
    "#убедимся в заполнении пропусков\n",
    "data.isna().sum()"
   ]
  },
  {
   "cell_type": "markdown",
   "metadata": {},
   "source": [
    "Рассмотрим столбцы living_area и kitchen_area"
   ]
  },
  {
   "cell_type": "code",
   "execution_count": 16,
   "metadata": {},
   "outputs": [
    {
     "data": {
      "text/html": [
       "<div>\n",
       "<style scoped>\n",
       "    .dataframe tbody tr th:only-of-type {\n",
       "        vertical-align: middle;\n",
       "    }\n",
       "\n",
       "    .dataframe tbody tr th {\n",
       "        vertical-align: top;\n",
       "    }\n",
       "\n",
       "    .dataframe thead th {\n",
       "        text-align: right;\n",
       "    }\n",
       "</style>\n",
       "<table border=\"1\" class=\"dataframe\">\n",
       "  <thead>\n",
       "    <tr style=\"text-align: right;\">\n",
       "      <th></th>\n",
       "      <th>living_area</th>\n",
       "      <th>kitchen_area</th>\n",
       "      <th>total_area</th>\n",
       "      <th>rooms</th>\n",
       "    </tr>\n",
       "  </thead>\n",
       "  <tbody>\n",
       "    <tr>\n",
       "      <th>count</th>\n",
       "      <td>20847.000000</td>\n",
       "      <td>20847.000000</td>\n",
       "      <td>20847.000000</td>\n",
       "      <td>20847.000000</td>\n",
       "    </tr>\n",
       "    <tr>\n",
       "      <th>mean</th>\n",
       "      <td>34.642266</td>\n",
       "      <td>10.516426</td>\n",
       "      <td>60.536783</td>\n",
       "      <td>2.096273</td>\n",
       "    </tr>\n",
       "    <tr>\n",
       "      <th>std</th>\n",
       "      <td>21.899034</td>\n",
       "      <td>5.837809</td>\n",
       "      <td>34.443107</td>\n",
       "      <td>1.065309</td>\n",
       "    </tr>\n",
       "    <tr>\n",
       "      <th>min</th>\n",
       "      <td>2.000000</td>\n",
       "      <td>1.300000</td>\n",
       "      <td>14.000000</td>\n",
       "      <td>1.000000</td>\n",
       "    </tr>\n",
       "    <tr>\n",
       "      <th>25%</th>\n",
       "      <td>18.800000</td>\n",
       "      <td>7.000000</td>\n",
       "      <td>40.500000</td>\n",
       "      <td>1.000000</td>\n",
       "    </tr>\n",
       "    <tr>\n",
       "      <th>50%</th>\n",
       "      <td>30.100000</td>\n",
       "      <td>9.000000</td>\n",
       "      <td>52.200000</td>\n",
       "      <td>2.000000</td>\n",
       "    </tr>\n",
       "    <tr>\n",
       "      <th>75%</th>\n",
       "      <td>42.600000</td>\n",
       "      <td>12.000000</td>\n",
       "      <td>70.000000</td>\n",
       "      <td>3.000000</td>\n",
       "    </tr>\n",
       "    <tr>\n",
       "      <th>max</th>\n",
       "      <td>409.700000</td>\n",
       "      <td>112.000000</td>\n",
       "      <td>900.000000</td>\n",
       "      <td>19.000000</td>\n",
       "    </tr>\n",
       "  </tbody>\n",
       "</table>\n",
       "</div>"
      ],
      "text/plain": [
       "        living_area  kitchen_area    total_area         rooms\n",
       "count  20847.000000  20847.000000  20847.000000  20847.000000\n",
       "mean      34.642266     10.516426     60.536783      2.096273\n",
       "std       21.899034      5.837809     34.443107      1.065309\n",
       "min        2.000000      1.300000     14.000000      1.000000\n",
       "25%       18.800000      7.000000     40.500000      1.000000\n",
       "50%       30.100000      9.000000     52.200000      2.000000\n",
       "75%       42.600000     12.000000     70.000000      3.000000\n",
       "max      409.700000    112.000000    900.000000     19.000000"
      ]
     },
     "metadata": {},
     "output_type": "display_data"
    }
   ],
   "source": [
    "#для определения и заполнения пропущенных значений living_area и kitchen_area следует рассмотреть зависимость данных\n",
    "#создадим новую переменную данные о недвижимости по основным помещениям и общей площади\n",
    "apartment_data = data.loc[:, ['living_area', 'kitchen_area', 'total_area', 'rooms']]\n",
    "#следует рассмотреть зависимость между данными, но для этого предварительно очистим пропуски для более точных утверждений\n",
    "apartment_data = apartment_data.dropna(subset=['living_area', 'kitchen_area'])\n",
    "display(apartment_data.describe())  #выведем и изучим числовые характеристики"
   ]
  },
  {
   "cell_type": "markdown",
   "metadata": {},
   "source": [
    "Следует посмотреть зависимость значений между собой. Построим диаграмму рассеивания"
   ]
  },
  {
   "cell_type": "code",
   "execution_count": 17,
   "metadata": {},
   "outputs": [
    {
     "data": {
      "text/plain": [
       "<AxesSubplot:xlabel='rooms', ylabel='living_area'>"
      ]
     },
     "execution_count": 17,
     "metadata": {},
     "output_type": "execute_result"
    },
    {
     "data": {
      "image/png": "[encoded data removed]",
      "text/plain": [
       "<Figure size 432x288 with 1 Axes>"
      ]
     },
     "metadata": {
      "needs_background": "light"
     },
     "output_type": "display_data"
    },
    {
     "data": {
      "image/png": "[encoded data removed]",
      "text/plain": [
       "<Figure size 432x288 with 1 Axes>"
      ]
     },
     "metadata": {
      "needs_background": "light"
     },
     "output_type": "display_data"
    },
    {
     "data": {
      "image/png": "[encoded data removed]",
      "text/plain": [
       "<Figure size 432x288 with 1 Axes>"
      ]
     },
     "metadata": {
      "needs_background": "light"
     },
     "output_type": "display_data"
    },
    {
     "data": {
      "image/png": "[encoded data removed]",
      "text/plain": [
       "<Figure size 432x288 with 1 Axes>"
      ]
     },
     "metadata": {
      "needs_background": "light"
     },
     "output_type": "display_data"
    },
    {
     "data": {
      "image/png": "[encoded data removed]",
      "text/plain": [
       "<Figure size 432x288 with 1 Axes>"
      ]
     },
     "metadata": {
      "needs_background": "light"
     },
     "output_type": "display_data"
    }
   ],
   "source": [
    "apartment_data.plot(x='total_area', y='living_area', kind='scatter')\n",
    "apartment_data.plot(x='total_area', y='kitchen_area', kind='scatter')\n",
    "apartment_data.plot(x='living_area', y='kitchen_area', kind='scatter')\n",
    "apartment_data.plot(x='rooms', y='total_area', kind='scatter')\n",
    "apartment_data.plot(x='rooms', y='living_area', kind='scatter')"
   ]
  },
  {
   "cell_type": "code",
   "execution_count": 18,
   "metadata": {},
   "outputs": [
    {
     "name": "stdout",
     "output_type": "stream",
     "text": [
      "Корреляция жилой площади и общей площади: 0.94\n",
      "Корреляция количества комнат и жилой площади: 0.85\n",
      "Корреляция кухни и общей площади: 0.61\n",
      "Корреляция количества комнат и площади кухни: 0.27\n",
      "Корреляция кухни и жилой площади: 0.43\n",
      "Корреляция количества комнат и общей площади: 0.77\n"
     ]
    }
   ],
   "source": [
    "#определим коэффициент корреляции, для точного определения как один показатель влияет на другой\n",
    "print('Корреляция жилой площади и общей площади:', apartment_data['living_area'].corr(apartment_data['total_area']).round(2))\n",
    "print('Корреляция количества комнат и жилой площади:', apartment_data['rooms'].corr(apartment_data['living_area']).round(2))\n",
    "print('Корреляция кухни и общей площади:', apartment_data['total_area'].corr(apartment_data['kitchen_area']).round(2))\n",
    "print('Корреляция количества комнат и площади кухни:', apartment_data['rooms'].corr(apartment_data['kitchen_area']).round(2))\n",
    "print('Корреляция кухни и жилой площади:', apartment_data['living_area'].corr(apartment_data['kitchen_area']).round(2))\n",
    "print('Корреляция количества комнат и общей площади:', apartment_data['rooms'].corr(apartment_data['total_area']).round(2))"
   ]
  },
  {
   "cell_type": "markdown",
   "metadata": {},
   "source": [
    "По положительной уверенной корреляции видим, что есть зависимость между жилой площадью и общей площадью, а также зависимость между кухней и жилой площадью."
   ]
  },
  {
   "cell_type": "code",
   "execution_count": 19,
   "metadata": {},
   "outputs": [],
   "source": [
    "#в следствии зависимости параметров между собой заполним пропущенные значения как медианное значение отношений параметров умноженное на общую площадь\n",
    "data['koef_living_area'] = apartment_data['living_area'] / apartment_data['total_area']  #коэфициент жилой площади и обшей площади\n",
    "data['koef_kitchen_area'] = apartment_data['kitchen_area'] / apartment_data['total_area']  #коэфициент площади кухни и обшей площади\n",
    "data['koef_living_area'] = data['koef_living_area']\\\n",
    "                                .fillna(data.groupby('rooms')['koef_living_area']\n",
    "                               .transform('median'))  #заполнили пропущенные коэфициенты\n",
    "data['koef_kitchen_area'] = data['koef_kitchen_area']\\\n",
    "                                .fillna(data.groupby('rooms')['koef_kitchen_area']\\\n",
    "                                .transform('median'))  #заполнили пропущенные коэфициенты\n",
    "data['living_area'] = data['living_area'].fillna(data['koef_living_area'] * data['total_area']).round(2)  #заполнили пропущенные значения\n",
    "data['kitchen_area'] = data['kitchen_area'].fillna(data['koef_kitchen_area'] * data['total_area']).round(2)  #заполнили пропущенные значения"
   ]
  },
  {
   "cell_type": "markdown",
   "metadata": {},
   "source": [
    "Пропуски еще остались возможно не хватило данных для заполнения, убедимся в одновременном пропуске значений в обоих столбцах"
   ]
  },
  {
   "cell_type": "code",
   "execution_count": 20,
   "metadata": {},
   "outputs": [
    {
     "data": {
      "text/html": [
       "<div>\n",
       "<style scoped>\n",
       "    .dataframe tbody tr th:only-of-type {\n",
       "        vertical-align: middle;\n",
       "    }\n",
       "\n",
       "    .dataframe tbody tr th {\n",
       "        vertical-align: top;\n",
       "    }\n",
       "\n",
       "    .dataframe thead th {\n",
       "        text-align: right;\n",
       "    }\n",
       "</style>\n",
       "<table border=\"1\" class=\"dataframe\">\n",
       "  <thead>\n",
       "    <tr style=\"text-align: right;\">\n",
       "      <th></th>\n",
       "      <th>total_images</th>\n",
       "      <th>last_price</th>\n",
       "      <th>total_area</th>\n",
       "      <th>first_day_exposition</th>\n",
       "      <th>rooms</th>\n",
       "      <th>ceiling_height</th>\n",
       "      <th>floors_total</th>\n",
       "      <th>living_area</th>\n",
       "      <th>floor</th>\n",
       "      <th>is_apartment</th>\n",
       "      <th>studio</th>\n",
       "      <th>open_plan</th>\n",
       "      <th>kitchen_area</th>\n",
       "      <th>balcony</th>\n",
       "      <th>locality_name</th>\n",
       "      <th>airports_nearest</th>\n",
       "      <th>cityCenters_nearest</th>\n",
       "      <th>parks_around3000</th>\n",
       "      <th>parks_nearest</th>\n",
       "      <th>ponds_around3000</th>\n",
       "      <th>ponds_nearest</th>\n",
       "      <th>days_exposition</th>\n",
       "      <th>koef_living_area</th>\n",
       "      <th>koef_kitchen_area</th>\n",
       "    </tr>\n",
       "  </thead>\n",
       "  <tbody>\n",
       "    <tr>\n",
       "      <th>608</th>\n",
       "      <td>2</td>\n",
       "      <td>1850000.0</td>\n",
       "      <td>25.0</td>\n",
       "      <td>2019-02-20T00:00:00</td>\n",
       "      <td>0</td>\n",
       "      <td>2.6</td>\n",
       "      <td>10</td>\n",
       "      <td>NaN</td>\n",
       "      <td>7</td>\n",
       "      <td>False</td>\n",
       "      <td>True</td>\n",
       "      <td>False</td>\n",
       "      <td>NaN</td>\n",
       "      <td>0</td>\n",
       "      <td>поселок Шушары</td>\n",
       "      <td>NaN</td>\n",
       "      <td>NaN</td>\n",
       "      <td>0</td>\n",
       "      <td>NaN</td>\n",
       "      <td>0</td>\n",
       "      <td>NaN</td>\n",
       "      <td>29</td>\n",
       "      <td>NaN</td>\n",
       "      <td>NaN</td>\n",
       "    </tr>\n",
       "    <tr>\n",
       "      <th>780</th>\n",
       "      <td>9</td>\n",
       "      <td>2600000.0</td>\n",
       "      <td>26.1</td>\n",
       "      <td>2018-02-20T00:00:00</td>\n",
       "      <td>0</td>\n",
       "      <td>2.7</td>\n",
       "      <td>18</td>\n",
       "      <td>NaN</td>\n",
       "      <td>8</td>\n",
       "      <td>False</td>\n",
       "      <td>False</td>\n",
       "      <td>True</td>\n",
       "      <td>NaN</td>\n",
       "      <td>1</td>\n",
       "      <td>поселок Мурино</td>\n",
       "      <td>NaN</td>\n",
       "      <td>NaN</td>\n",
       "      <td>0</td>\n",
       "      <td>NaN</td>\n",
       "      <td>0</td>\n",
       "      <td>NaN</td>\n",
       "      <td>45</td>\n",
       "      <td>NaN</td>\n",
       "      <td>NaN</td>\n",
       "    </tr>\n",
       "    <tr>\n",
       "      <th>3147</th>\n",
       "      <td>7</td>\n",
       "      <td>2170000.0</td>\n",
       "      <td>31.0</td>\n",
       "      <td>2017-12-30T00:00:00</td>\n",
       "      <td>0</td>\n",
       "      <td>2.6</td>\n",
       "      <td>12</td>\n",
       "      <td>NaN</td>\n",
       "      <td>12</td>\n",
       "      <td>False</td>\n",
       "      <td>True</td>\n",
       "      <td>False</td>\n",
       "      <td>NaN</td>\n",
       "      <td>0</td>\n",
       "      <td>Тосно</td>\n",
       "      <td>NaN</td>\n",
       "      <td>NaN</td>\n",
       "      <td>0</td>\n",
       "      <td>NaN</td>\n",
       "      <td>0</td>\n",
       "      <td>NaN</td>\n",
       "      <td>198</td>\n",
       "      <td>NaN</td>\n",
       "      <td>NaN</td>\n",
       "    </tr>\n",
       "    <tr>\n",
       "      <th>3874</th>\n",
       "      <td>13</td>\n",
       "      <td>1700000.0</td>\n",
       "      <td>21.4</td>\n",
       "      <td>2015-02-11T00:00:00</td>\n",
       "      <td>0</td>\n",
       "      <td>2.7</td>\n",
       "      <td>3</td>\n",
       "      <td>NaN</td>\n",
       "      <td>2</td>\n",
       "      <td>False</td>\n",
       "      <td>True</td>\n",
       "      <td>False</td>\n",
       "      <td>NaN</td>\n",
       "      <td>0</td>\n",
       "      <td>Всеволожск</td>\n",
       "      <td>NaN</td>\n",
       "      <td>NaN</td>\n",
       "      <td>0</td>\n",
       "      <td>NaN</td>\n",
       "      <td>0</td>\n",
       "      <td>NaN</td>\n",
       "      <td>0</td>\n",
       "      <td>NaN</td>\n",
       "      <td>NaN</td>\n",
       "    </tr>\n",
       "    <tr>\n",
       "      <th>5749</th>\n",
       "      <td>20</td>\n",
       "      <td>3590000.0</td>\n",
       "      <td>25.0</td>\n",
       "      <td>2017-08-30T00:00:00</td>\n",
       "      <td>0</td>\n",
       "      <td>2.8</td>\n",
       "      <td>35</td>\n",
       "      <td>NaN</td>\n",
       "      <td>26</td>\n",
       "      <td>False</td>\n",
       "      <td>False</td>\n",
       "      <td>True</td>\n",
       "      <td>NaN</td>\n",
       "      <td>2</td>\n",
       "      <td>Санкт-Петербург</td>\n",
       "      <td>18732.0</td>\n",
       "      <td>20444.0</td>\n",
       "      <td>0</td>\n",
       "      <td>NaN</td>\n",
       "      <td>3</td>\n",
       "      <td>80.0</td>\n",
       "      <td>198</td>\n",
       "      <td>NaN</td>\n",
       "      <td>NaN</td>\n",
       "    </tr>\n",
       "    <tr>\n",
       "      <th>7818</th>\n",
       "      <td>11</td>\n",
       "      <td>3300000.0</td>\n",
       "      <td>27.3</td>\n",
       "      <td>2018-04-06T00:00:00</td>\n",
       "      <td>0</td>\n",
       "      <td>2.7</td>\n",
       "      <td>20</td>\n",
       "      <td>NaN</td>\n",
       "      <td>9</td>\n",
       "      <td>False</td>\n",
       "      <td>False</td>\n",
       "      <td>True</td>\n",
       "      <td>NaN</td>\n",
       "      <td>2</td>\n",
       "      <td>Санкт-Петербург</td>\n",
       "      <td>15990.0</td>\n",
       "      <td>13853.0</td>\n",
       "      <td>0</td>\n",
       "      <td>NaN</td>\n",
       "      <td>1</td>\n",
       "      <td>584.0</td>\n",
       "      <td>31</td>\n",
       "      <td>NaN</td>\n",
       "      <td>NaN</td>\n",
       "    </tr>\n",
       "    <tr>\n",
       "      <th>8454</th>\n",
       "      <td>7</td>\n",
       "      <td>2250000.0</td>\n",
       "      <td>19.0</td>\n",
       "      <td>2019-03-12T00:00:00</td>\n",
       "      <td>0</td>\n",
       "      <td>3.0</td>\n",
       "      <td>6</td>\n",
       "      <td>NaN</td>\n",
       "      <td>2</td>\n",
       "      <td>False</td>\n",
       "      <td>True</td>\n",
       "      <td>False</td>\n",
       "      <td>NaN</td>\n",
       "      <td>0</td>\n",
       "      <td>Санкт-Петербург</td>\n",
       "      <td>12430.0</td>\n",
       "      <td>7316.0</td>\n",
       "      <td>1</td>\n",
       "      <td>238.0</td>\n",
       "      <td>3</td>\n",
       "      <td>374.0</td>\n",
       "      <td>44</td>\n",
       "      <td>NaN</td>\n",
       "      <td>NaN</td>\n",
       "    </tr>\n",
       "    <tr>\n",
       "      <th>18028</th>\n",
       "      <td>11</td>\n",
       "      <td>3500000.0</td>\n",
       "      <td>31.0</td>\n",
       "      <td>2019-04-17T00:00:00</td>\n",
       "      <td>0</td>\n",
       "      <td>2.7</td>\n",
       "      <td>25</td>\n",
       "      <td>NaN</td>\n",
       "      <td>2</td>\n",
       "      <td>False</td>\n",
       "      <td>True</td>\n",
       "      <td>False</td>\n",
       "      <td>NaN</td>\n",
       "      <td>0</td>\n",
       "      <td>Санкт-Петербург</td>\n",
       "      <td>21460.0</td>\n",
       "      <td>16788.0</td>\n",
       "      <td>0</td>\n",
       "      <td>NaN</td>\n",
       "      <td>1</td>\n",
       "      <td>170.0</td>\n",
       "      <td>0</td>\n",
       "      <td>NaN</td>\n",
       "      <td>NaN</td>\n",
       "    </tr>\n",
       "    <tr>\n",
       "      <th>19392</th>\n",
       "      <td>5</td>\n",
       "      <td>71000000.0</td>\n",
       "      <td>371.0</td>\n",
       "      <td>2018-07-26T00:00:00</td>\n",
       "      <td>0</td>\n",
       "      <td>3.6</td>\n",
       "      <td>7</td>\n",
       "      <td>NaN</td>\n",
       "      <td>6</td>\n",
       "      <td>False</td>\n",
       "      <td>False</td>\n",
       "      <td>True</td>\n",
       "      <td>NaN</td>\n",
       "      <td>0</td>\n",
       "      <td>Санкт-Петербург</td>\n",
       "      <td>25257.0</td>\n",
       "      <td>6060.0</td>\n",
       "      <td>1</td>\n",
       "      <td>761.0</td>\n",
       "      <td>1</td>\n",
       "      <td>584.0</td>\n",
       "      <td>90</td>\n",
       "      <td>NaN</td>\n",
       "      <td>NaN</td>\n",
       "    </tr>\n",
       "    <tr>\n",
       "      <th>23554</th>\n",
       "      <td>15</td>\n",
       "      <td>3350000.0</td>\n",
       "      <td>26.0</td>\n",
       "      <td>2018-09-07T00:00:00</td>\n",
       "      <td>0</td>\n",
       "      <td>2.7</td>\n",
       "      <td>19</td>\n",
       "      <td>NaN</td>\n",
       "      <td>8</td>\n",
       "      <td>False</td>\n",
       "      <td>True</td>\n",
       "      <td>False</td>\n",
       "      <td>NaN</td>\n",
       "      <td>0</td>\n",
       "      <td>Санкт-Петербург</td>\n",
       "      <td>18090.0</td>\n",
       "      <td>17092.0</td>\n",
       "      <td>0</td>\n",
       "      <td>NaN</td>\n",
       "      <td>2</td>\n",
       "      <td>112.0</td>\n",
       "      <td>31</td>\n",
       "      <td>NaN</td>\n",
       "      <td>NaN</td>\n",
       "    </tr>\n",
       "  </tbody>\n",
       "</table>\n",
       "</div>"
      ],
      "text/plain": [
       "       total_images  last_price  total_area first_day_exposition  rooms  ceiling_height  \\\n",
       "608               2   1850000.0        25.0  2019-02-20T00:00:00      0             2.6   \n",
       "780               9   2600000.0        26.1  2018-02-20T00:00:00      0             2.7   \n",
       "3147              7   2170000.0        31.0  2017-12-30T00:00:00      0             2.6   \n",
       "3874             13   1700000.0        21.4  2015-02-11T00:00:00      0             2.7   \n",
       "5749             20   3590000.0        25.0  2017-08-30T00:00:00      0             2.8   \n",
       "7818             11   3300000.0        27.3  2018-04-06T00:00:00      0             2.7   \n",
       "8454              7   2250000.0        19.0  2019-03-12T00:00:00      0             3.0   \n",
       "18028            11   3500000.0        31.0  2019-04-17T00:00:00      0             2.7   \n",
       "19392             5  71000000.0       371.0  2018-07-26T00:00:00      0             3.6   \n",
       "23554            15   3350000.0        26.0  2018-09-07T00:00:00      0             2.7   \n",
       "\n",
       "       floors_total  living_area  floor  is_apartment  studio  open_plan  kitchen_area  balcony  \\\n",
       "608              10          NaN      7         False    True      False           NaN        0   \n",
       "780              18          NaN      8         False   False       True           NaN        1   \n",
       "3147             12          NaN     12         False    True      False           NaN        0   \n",
       "3874              3          NaN      2         False    True      False           NaN        0   \n",
       "5749             35          NaN     26         False   False       True           NaN        2   \n",
       "7818             20          NaN      9         False   False       True           NaN        2   \n",
       "8454              6          NaN      2         False    True      False           NaN        0   \n",
       "18028            25          NaN      2         False    True      False           NaN        0   \n",
       "19392             7          NaN      6         False   False       True           NaN        0   \n",
       "23554            19          NaN      8         False    True      False           NaN        0   \n",
       "\n",
       "         locality_name  airports_nearest  cityCenters_nearest  parks_around3000  parks_nearest  \\\n",
       "608     поселок Шушары               NaN                  NaN                 0            NaN   \n",
       "780     поселок Мурино               NaN                  NaN                 0            NaN   \n",
       "3147             Тосно               NaN                  NaN                 0            NaN   \n",
       "3874        Всеволожск               NaN                  NaN                 0            NaN   \n",
       "5749   Санкт-Петербург           18732.0              20444.0                 0            NaN   \n",
       "7818   Санкт-Петербург           15990.0              13853.0                 0            NaN   \n",
       "8454   Санкт-Петербург           12430.0               7316.0                 1          238.0   \n",
       "18028  Санкт-Петербург           21460.0              16788.0                 0            NaN   \n",
       "19392  Санкт-Петербург           25257.0               6060.0                 1          761.0   \n",
       "23554  Санкт-Петербург           18090.0              17092.0                 0            NaN   \n",
       "\n",
       "       ponds_around3000  ponds_nearest  days_exposition  koef_living_area  koef_kitchen_area  \n",
       "608                   0            NaN               29               NaN                NaN  \n",
       "780                   0            NaN               45               NaN                NaN  \n",
       "3147                  0            NaN              198               NaN                NaN  \n",
       "3874                  0            NaN                0               NaN                NaN  \n",
       "5749                  3           80.0              198               NaN                NaN  \n",
       "7818                  1          584.0               31               NaN                NaN  \n",
       "8454                  3          374.0               44               NaN                NaN  \n",
       "18028                 1          170.0                0               NaN                NaN  \n",
       "19392                 1          584.0               90               NaN                NaN  \n",
       "23554                 2          112.0               31               NaN                NaN  "
      ]
     },
     "metadata": {},
     "output_type": "display_data"
    }
   ],
   "source": [
    "display(data.loc[data['kitchen_area'].isnull() & data['living_area'].isnull()])  #убедимся, нет ли пропущенных значений по двум параметрам"
   ]
  },
  {
   "cell_type": "code",
   "execution_count": 21,
   "metadata": {},
   "outputs": [],
   "source": [
    "#в 8 строках оказались пропуски по двум параметрам, удалим их\n",
    "data = data.dropna(subset=['living_area'])\n",
    "\n",
    "#по оставшимся пропускам столбца citchen_area заполним значением 0 с учетом, \n",
    "#что это может быть студия и будем отталкиваться от количества комнат 0, все остальное уберем\n",
    "data.loc[(data['studio'] == True) & (data['kitchen_area'].isnull())\\\n",
    "         & (data['rooms'] == 0), 'kitchen_area'] = data['kitchen_area'].fillna(0)\n",
    "data = data.dropna(subset=['kitchen_area'])\n",
    "\n",
    "#удалим столбцы с коэфициентами которые нужны были для заполнения пропущенных значений\n",
    "data.drop(['koef_kitchen_area', 'koef_living_area'], axis='columns', inplace = True)"
   ]
  },
  {
   "cell_type": "code",
   "execution_count": 22,
   "metadata": {},
   "outputs": [
    {
     "name": "stdout",
     "output_type": "stream",
     "text": [
      "Количество помещений, где сумма площадей кухни и жилой площади превышает общую: 118\n"
     ]
    }
   ],
   "source": [
    "#после внесенных пропущенных значений посмотрим есть ли несоответсвие с действительностью\n",
    "#сравним сумму площади жилой и кухни с общей площадью\n",
    "print('Количество помещений, где сумма площадей кухни и жилой площади превышает общую:'\\\n",
    "      , data.query('(kitchen_area + living_area) > total_area').shape[0])"
   ]
  },
  {
   "cell_type": "code",
   "execution_count": 23,
   "metadata": {},
   "outputs": [],
   "source": [
    "#удалим несоответсвующему данному критерию строки\n",
    "data = data.query('(kitchen_area + living_area) < total_area')"
   ]
  },
  {
   "cell_type": "code",
   "execution_count": 24,
   "metadata": {},
   "outputs": [
    {
     "data": {
      "image/png": "[encoded data removed]",
      "text/plain": [
       "<Figure size 432x288 with 1 Axes>"
      ]
     },
     "metadata": {
      "needs_background": "light"
     },
     "output_type": "display_data"
    },
    {
     "data": {
      "image/png": "[encoded data removed]",
      "text/plain": [
       "<Figure size 432x288 with 1 Axes>"
      ]
     },
     "metadata": {
      "needs_background": "light"
     },
     "output_type": "display_data"
    }
   ],
   "source": [
    "#рассмотрим таблицу last_price\n",
    "data['last_price'].describe()\n",
    "data.boxplot(column='last_price')\n",
    "plt.show()\n",
    "data.boxplot(column='last_price')\n",
    "plt.ylim(20000000, max(data['last_price']))\n",
    "plt.show()"
   ]
  },
  {
   "cell_type": "code",
   "execution_count": 25,
   "metadata": {},
   "outputs": [
    {
     "data": {
      "image/png": "[encoded data removed]",
      "text/plain": [
       "<Figure size 432x288 with 1 Axes>"
      ]
     },
     "metadata": {
      "needs_background": "light"
     },
     "output_type": "display_data"
    },
    {
     "data": {
      "image/png": "[encoded data removed]",
      "text/plain": [
       "<Figure size 432x288 with 1 Axes>"
      ]
     },
     "metadata": {
      "needs_background": "light"
     },
     "output_type": "display_data"
    },
    {
     "name": "stdout",
     "output_type": "stream",
     "text": [
      "12190.0\n"
     ]
    }
   ],
   "source": [
    "#есть выброс минимальное значение 12.190 и максимальное 763.000.000, более точно следует посмотреть на точечной диаграмме рассеивания\n",
    "data.plot(x='total_area', y='last_price', kind='scatter')\n",
    "plt.show()\n",
    "data.plot(x='rooms', y='last_price', kind='scatter')\n",
    "plt.show()\n",
    "print(min(data['last_price']))"
   ]
  },
  {
   "cell_type": "code",
   "execution_count": 26,
   "metadata": {},
   "outputs": [
    {
     "data": {
      "image/png": "[encoded data removed]",
      "text/plain": [
       "<Figure size 432x288 with 1 Axes>"
      ]
     },
     "metadata": {
      "needs_background": "light"
     },
     "output_type": "display_data"
    },
    {
     "data": {
      "image/png": "[encoded data removed]",
      "text/plain": [
       "<Figure size 432x288 with 1 Axes>"
      ]
     },
     "metadata": {
      "needs_background": "light"
     },
     "output_type": "display_data"
    }
   ],
   "source": [
    "#построим гистограмму в диапазоне минимального значения и 2.000.000\n",
    "data['last_price'].hist(bins=200, range=(min(data['last_price']), 2000000))\n",
    "plt.show()\n",
    "#построим гистограмму в диапазоне 200.000.000 до максимального значения\n",
    "data['last_price'].hist(bins=200, range=(2000000, max(data['last_price'])))\n",
    "plt.show()"
   ]
  },
  {
   "cell_type": "code",
   "execution_count": 27,
   "metadata": {},
   "outputs": [],
   "source": [
    "#удалим все значения меньше 450.000 и больше 200.000.000\n",
    "data = data.query('last_price >= 450000')"
   ]
  },
  {
   "cell_type": "code",
   "execution_count": 28,
   "metadata": {},
   "outputs": [
    {
     "data": {
      "text/plain": [
       "count    23230.000000\n",
       "mean        10.675032\n",
       "std          6.574757\n",
       "min          1.000000\n",
       "25%          5.000000\n",
       "50%          9.000000\n",
       "75%         16.000000\n",
       "max         60.000000\n",
       "Name: floors_total, dtype: float64"
      ]
     },
     "execution_count": 28,
     "metadata": {},
     "output_type": "execute_result"
    }
   ],
   "source": [
    "#рассмотрим таблицу floors_total\n",
    "data['floors_total'].describe()"
   ]
  },
  {
   "cell_type": "code",
   "execution_count": 29,
   "metadata": {},
   "outputs": [
    {
     "data": {
      "image/png": "[encoded data removed]",
      "text/plain": [
       "<Figure size 720x720 with 1 Axes>"
      ]
     },
     "metadata": {
      "needs_background": "light"
     },
     "output_type": "display_data"
    }
   ],
   "source": [
    "#рассмотрим столбец days_exposition\n",
    "data['days_exposition'].describe()\n",
    "data['days_exposition'].hist(bins=300, figsize=(10, 10))\n",
    "plt.title('days_exposition')\n",
    "plt.show()"
   ]
  },
  {
   "cell_type": "code",
   "execution_count": 30,
   "metadata": {},
   "outputs": [],
   "source": [
    "#есть показатели аномально долгой продажи более 800 дней\n",
    "#уберем данные количесвто дней которых более 800\n",
    "data = data.query('days_exposition < 800')"
   ]
  },
  {
   "cell_type": "code",
   "execution_count": 31,
   "metadata": {},
   "outputs": [],
   "source": [
    "#есть выделяющиеся и системно повторяющиеся пики на 7, 30, 45, 60 и 90 дню.\n",
    "#возможно данные объявления ставили на определенный срок на неделю, месяц, 45 дней, 2 месяца или 3 месяца\n",
    "#по истечению данного срока объявление автоматически снималось с публикации \n",
    "data = data.query('days_exposition < 800')"
   ]
  },
  {
   "cell_type": "markdown",
   "metadata": {},
   "source": [
    "### Посчитаем и добавим в таблицу новые столбцы"
   ]
  },
  {
   "cell_type": "code",
   "execution_count": 32,
   "metadata": {},
   "outputs": [],
   "source": [
    "#посчитаем и добавим в новую таблицу цену за 1 м2\n",
    "data['price_per_meter'] = (data['last_price'] / data['total_area']).round(0)\n",
    "\n",
    "#посчитаем и добавим в новую таблицу день недели, месяци и год публикации\n",
    "data['first_day_exposition'] = pd.to_datetime(data['first_day_exposition'], format='%Y-%m-%d %H:%M:%S')\n",
    "data['day_of_the_week'] = data['first_day_exposition'].dt.weekday\n",
    "data['month'] = data['first_day_exposition'].dt.month\n",
    "data['year'] = data['first_day_exposition'].dt.year\n",
    "\n",
    "#создадим функцию для категоризации по этажам\n",
    "def category_floor(row):\n",
    "    if row['floor'] == 1:\n",
    "        return 'первый'\n",
    "    elif row['floor'] == row['floors_total']:\n",
    "        return 'последний'\n",
    "    return 'другой'\n",
    "#применим функцию к нашим данным\n",
    "data['floor_type'] = data.apply(category_floor, axis=1)\n",
    "data['cityCenters_nearest_in_km'] = (data['cityCenters_nearest'] / 1000).round(0)"
   ]
  },
  {
   "cell_type": "markdown",
   "metadata": {},
   "source": [
    "### Проведем исследовательский анализ данных"
   ]
  },
  {
   "cell_type": "code",
   "execution_count": 33,
   "metadata": {},
   "outputs": [
    {
     "data": {
      "image/png": "[encoded data removed]",
      "text/plain": [
       "<Figure size 432x576 with 1 Axes>"
      ]
     },
     "metadata": {
      "needs_background": "light"
     },
     "output_type": "display_data"
    }
   ],
   "source": [
    "#построим гистограмму по общей площади\n",
    "data['total_area'].hist(bins=100, range=(0, 400), figsize=(6, 8))\n",
    "plt.title('total_area')\n",
    "plt.show()"
   ]
  },
  {
   "cell_type": "code",
   "execution_count": 34,
   "metadata": {},
   "outputs": [
    {
     "data": {
      "image/png": "[encoded data removed]",
      "text/plain": [
       "<Figure size 432x432 with 1 Axes>"
      ]
     },
     "metadata": {
      "needs_background": "light"
     },
     "output_type": "display_data"
    }
   ],
   "source": [
    "#построим гистограмму по жилой площади\n",
    "data['living_area'].hist(bins=100, range=(0, 200), figsize=(6, 6))\n",
    "plt.title('living_area')\n",
    "plt.show()"
   ]
  },
  {
   "cell_type": "code",
   "execution_count": 35,
   "metadata": {},
   "outputs": [
    {
     "data": {
      "image/png": "[encoded data removed]",
      "text/plain": [
       "<Figure size 432x432 with 1 Axes>"
      ]
     },
     "metadata": {
      "needs_background": "light"
     },
     "output_type": "display_data"
    }
   ],
   "source": [
    "#построим гистограмму по площади кухни\n",
    "data['kitchen_area'].hist(bins=100, range=(0, 80), figsize=(6, 6))\n",
    "plt.title('kitchen_area')\n",
    "plt.show()"
   ]
  },
  {
   "cell_type": "code",
   "execution_count": 36,
   "metadata": {},
   "outputs": [
    {
     "data": {
      "image/png": "[encoded data removed]",
      "text/plain": [
       "<Figure size 432x432 with 1 Axes>"
      ]
     },
     "metadata": {
      "needs_background": "light"
     },
     "output_type": "display_data"
    }
   ],
   "source": [
    "#построим гистограмму по цене объекта\n",
    "data['last_price'].hist(bins=200, range=(450000, 100000000), figsize=(6, 6))\n",
    "plt.title('last_price')\n",
    "plt.show()"
   ]
  },
  {
   "cell_type": "code",
   "execution_count": 37,
   "metadata": {},
   "outputs": [
    {
     "data": {
      "image/png": "[encoded data removed]",
      "text/plain": [
       "<Figure size 432x432 with 1 Axes>"
      ]
     },
     "metadata": {
      "needs_background": "light"
     },
     "output_type": "display_data"
    }
   ],
   "source": [
    "#построим гистограмму по количеству комнат\n",
    "data['rooms'].hist(bins=50, range=(0, 20), figsize=(6, 6))\n",
    "plt.title('rooms')\n",
    "plt.show()"
   ]
  },
  {
   "cell_type": "code",
   "execution_count": 38,
   "metadata": {},
   "outputs": [
    {
     "data": {
      "image/png": "[encoded data removed]",
      "text/plain": [
       "<Figure size 432x432 with 1 Axes>"
      ]
     },
     "metadata": {
      "needs_background": "light"
     },
     "output_type": "display_data"
    }
   ],
   "source": [
    "#построим гистограмму по высоте потолка\n",
    "data['ceiling_height'].hist(bins=20, figsize=(6, 6))\n",
    "plt.title('ceiling_height')\n",
    "plt.show()"
   ]
  },
  {
   "cell_type": "code",
   "execution_count": 39,
   "metadata": {},
   "outputs": [
    {
     "data": {
      "image/png": "[encoded data removed]",
      "text/plain": [
       "<Figure size 432x432 with 1 Axes>"
      ]
     },
     "metadata": {
      "needs_background": "light"
     },
     "output_type": "display_data"
    }
   ],
   "source": [
    "#построим гистограмму по этажу\n",
    "data['floor'].hist(bins=100, figsize=(6, 6))\n",
    "plt.title('floor')\n",
    "plt.show()"
   ]
  },
  {
   "cell_type": "code",
   "execution_count": 40,
   "metadata": {},
   "outputs": [
    {
     "data": {
      "image/png": "[encoded data removed]",
      "text/plain": [
       "<Figure size 360x360 with 1 Axes>"
      ]
     },
     "metadata": {
      "needs_background": "light"
     },
     "output_type": "display_data"
    }
   ],
   "source": [
    "#построим гистограмму по типу этажа \n",
    "data['floor_type'].hist(bins=10, figsize=(5, 5))\n",
    "plt.title('floor_type')\n",
    "plt.show()"
   ]
  },
  {
   "cell_type": "code",
   "execution_count": 41,
   "metadata": {},
   "outputs": [
    {
     "data": {
      "image/png": "[encoded data removed]",
      "text/plain": [
       "<Figure size 360x360 with 1 Axes>"
      ]
     },
     "metadata": {
      "needs_background": "light"
     },
     "output_type": "display_data"
    }
   ],
   "source": [
    "#построим гистограмму по общему количеству этажей в доме\n",
    "data['floors_total'].hist(bins=100, figsize=(5, 5))\n",
    "plt.title('floors_total')\n",
    "plt.show()"
   ]
  },
  {
   "cell_type": "code",
   "execution_count": 42,
   "metadata": {},
   "outputs": [
    {
     "data": {
      "image/png": "[encoded data removed]",
      "text/plain": [
       "<Figure size 360x360 with 1 Axes>"
      ]
     },
     "metadata": {
      "needs_background": "light"
     },
     "output_type": "display_data"
    }
   ],
   "source": [
    "#построим гистограмму расстояние до центра города в метрах\n",
    "data['cityCenters_nearest'].hist(bins=50, figsize=(5, 5))\n",
    "plt.title('cityCenters_nearest')\n",
    "plt.show()"
   ]
  },
  {
   "cell_type": "code",
   "execution_count": 43,
   "metadata": {},
   "outputs": [
    {
     "data": {
      "image/png": "[encoded data removed]",
      "text/plain": [
       "<Figure size 360x360 with 1 Axes>"
      ]
     },
     "metadata": {
      "needs_background": "light"
     },
     "output_type": "display_data"
    }
   ],
   "source": [
    "#построим гистограмму расстояние до ближайшего аэропорта\n",
    "data['airports_nearest'].hist(bins=50, figsize=(5, 5))\n",
    "plt.title('airports_nearest')\n",
    "plt.show()"
   ]
  },
  {
   "cell_type": "code",
   "execution_count": 44,
   "metadata": {},
   "outputs": [
    {
     "data": {
      "image/png": "[encoded data removed]",
      "text/plain": [
       "<Figure size 360x360 with 1 Axes>"
      ]
     },
     "metadata": {
      "needs_background": "light"
     },
     "output_type": "display_data"
    }
   ],
   "source": [
    "#построим гистограмму расстояние до ближайшего парка\n",
    "data['parks_nearest'].hist(bins=100, figsize=(5, 5))\n",
    "plt.title('parks_nearest')\n",
    "plt.show()"
   ]
  },
  {
   "cell_type": "code",
   "execution_count": 45,
   "metadata": {},
   "outputs": [
    {
     "data": {
      "image/png": "[encoded data removed]",
      "text/plain": [
       "<Figure size 360x360 with 1 Axes>"
      ]
     },
     "metadata": {
      "needs_background": "light"
     },
     "output_type": "display_data"
    }
   ],
   "source": [
    "#построим гистограмму день публикации объявления\n",
    "data['day_of_the_week'].hist(bins=20, figsize=(5, 5))\n",
    "plt.title('day_of_the_week')\n",
    "plt.show()"
   ]
  },
  {
   "cell_type": "code",
   "execution_count": 46,
   "metadata": {},
   "outputs": [
    {
     "data": {
      "image/png": "[encoded data removed]",
      "text/plain": [
       "<Figure size 360x360 with 1 Axes>"
      ]
     },
     "metadata": {
      "needs_background": "light"
     },
     "output_type": "display_data"
    }
   ],
   "source": [
    "#построим гистограмму месяц публикации объявления\n",
    "data['month'].hist(bins=40, figsize=(5, 5))\n",
    "plt.title('month')\n",
    "plt.show()"
   ]
  },
  {
   "cell_type": "markdown",
   "metadata": {},
   "source": [
    "По рассмотренным графикам можно сказать, что в основном рассматривают квартиры площадью от 30 до 75 м2, по количеству комнат однокомнатные, двухкомнатные и трехкомнатные квартиры, с высотой потолка от 2,5 до 2,6 метров, стараются выбрать не первый и не последний этаж, а общее количество этаже было не более 5. Основная масса недвижимости представлена 5 и 9 этажными домами. Заметны дни публикации объявлений, обычно это будни, но есть и выходные но их гораздо меньше. Увеличенный спрос с февраля по апрель месяц."
   ]
  },
  {
   "cell_type": "code",
   "execution_count": 47,
   "metadata": {},
   "outputs": [
    {
     "data": {
      "image/png": "[encoded data removed]",
      "text/plain": [
       "<Figure size 720x720 with 1 Axes>"
      ]
     },
     "metadata": {
      "needs_background": "light"
     },
     "output_type": "display_data"
    },
    {
     "name": "stdout",
     "output_type": "stream",
     "text": [
      "Медианное значение по количеству дней продажи квартиры: 70.0\n",
      "Среднее значение по количеству дней продажи квартиры: 135.0\n"
     ]
    },
    {
     "data": {
      "text/plain": [
       "count    22644.000000\n",
       "mean       135.002826\n",
       "std        162.739751\n",
       "min          0.000000\n",
       "25%         21.000000\n",
       "50%         70.000000\n",
       "75%        184.000000\n",
       "max        799.000000\n",
       "Name: days_exposition, dtype: float64"
      ]
     },
     "execution_count": 47,
     "metadata": {},
     "output_type": "execute_result"
    }
   ],
   "source": [
    "#рассмотрим ,как быстро продавались квартиры, построим гистограмму по столбцу days_exposition\n",
    "data['days_exposition'].hist(bins=100, figsize=(10, 10))\n",
    "plt.title('days_exposition')\n",
    "plt.show()\n",
    "#вычислим среднее значение и медиану\n",
    "print('Медианное значение по количеству дней продажи квартиры:', data['days_exposition'].median())\n",
    "print('Среднее значение по количеству дней продажи квартиры:', data['days_exposition'].mean().round(0))\n",
    "data['days_exposition'].describe()"
   ]
  },
  {
   "cell_type": "markdown",
   "metadata": {},
   "source": [
    "Обычно продажа недвижимости занимает чуть больше 4 месяцев - 135 дней. Можно считать быстрой продажей недвижимости количество дней которых менее 70 дней. Необычно долгими можно считать количество дней более 184."
   ]
  },
  {
   "cell_type": "code",
   "execution_count": 48,
   "metadata": {},
   "outputs": [
    {
     "data": {
      "image/png": "[encoded data removed]",
      "text/plain": [
       "<Figure size 432x288 with 1 Axes>"
      ]
     },
     "metadata": {
      "needs_background": "light"
     },
     "output_type": "display_data"
    },
    {
     "data": {
      "image/png": "[encoded data removed]",
      "text/plain": [
       "<Figure size 432x288 with 1 Axes>"
      ]
     },
     "metadata": {
      "needs_background": "light"
     },
     "output_type": "display_data"
    },
    {
     "data": {
      "image/png": "[encoded data removed]",
      "text/plain": [
       "<Figure size 432x288 with 1 Axes>"
      ]
     },
     "metadata": {
      "needs_background": "light"
     },
     "output_type": "display_data"
    },
    {
     "data": {
      "image/png": "[encoded data removed]",
      "text/plain": [
       "<Figure size 432x288 with 1 Axes>"
      ]
     },
     "metadata": {
      "needs_background": "light"
     },
     "output_type": "display_data"
    },
    {
     "data": {
      "image/png": "[encoded data removed]",
      "text/plain": [
       "<Figure size 432x288 with 1 Axes>"
      ]
     },
     "metadata": {
      "needs_background": "light"
     },
     "output_type": "display_data"
    },
    {
     "data": {
      "image/png": "[encoded data removed]",
      "text/plain": [
       "<Figure size 432x288 with 1 Axes>"
      ]
     },
     "metadata": {
      "needs_background": "light"
     },
     "output_type": "display_data"
    },
    {
     "data": {
      "image/png": "[encoded data removed]",
      "text/plain": [
       "<Figure size 432x288 with 1 Axes>"
      ]
     },
     "metadata": {
      "needs_background": "light"
     },
     "output_type": "display_data"
    },
    {
     "data": {
      "image/png": "[encoded data removed]",
      "text/plain": [
       "<Figure size 432x288 with 1 Axes>"
      ]
     },
     "metadata": {
      "needs_background": "light"
     },
     "output_type": "display_data"
    }
   ],
   "source": [
    "#изучим факторы влияющие на стоимость недвижимости\n",
    "data.plot(x='last_price', y='total_area', kind='scatter')\n",
    "plt.show()\n",
    "data.plot(x='last_price', y='living_area', kind='scatter')\n",
    "plt.show()\n",
    "data.plot(x='last_price', y='kitchen_area', kind='scatter')\n",
    "plt.show()\n",
    "data.plot(x='last_price', y='rooms', kind='scatter')\n",
    "plt.show()\n",
    "data.plot(x='last_price', y='floor_type', kind='scatter')\n",
    "plt.show()\n",
    "data.plot(x='last_price', y='day_of_the_week', kind='scatter')\n",
    "plt.show()\n",
    "data.plot(x='last_price', y='month', kind='scatter')\n",
    "plt.show()\n",
    "data.plot(x='last_price', y='year', kind='scatter')\n",
    "plt.show()"
   ]
  },
  {
   "cell_type": "code",
   "execution_count": 49,
   "metadata": {},
   "outputs": [
    {
     "name": "stdout",
     "output_type": "stream",
     "text": [
      "Корреляция цены и общей площади: 0.65\n",
      "Корреляция цены и жилой площади: 0.58\n",
      "Корреляция цены и площади кухни: 0.47\n",
      "Корреляция цены и количества комнат: 0.36\n"
     ]
    }
   ],
   "source": [
    "print('Корреляция цены и общей площади:', data['last_price'].corr(data['total_area']).round(2))\n",
    "\n",
    "print('Корреляция цены и жилой площади:', data['last_price'].corr(data['living_area']).round(2))\n",
    "\n",
    "print('Корреляция цены и площади кухни:', data['last_price'].corr(data['kitchen_area']).round(2))\n",
    "\n",
    "print('Корреляция цены и количества комнат:', data['last_price'].corr(data['rooms']).round(2))"
   ]
  },
  {
   "cell_type": "markdown",
   "metadata": {},
   "source": [
    "На стоимость объекта в основном влияет площадь и количество комнат. Также на стоимость влияет на каком этаже находится недвижимость. Другие рассматриваемые параметры влияют в меньшей степени."
   ]
  },
  {
   "cell_type": "code",
   "execution_count": 50,
   "metadata": {},
   "outputs": [
    {
     "data": {
      "text/html": [
       "<div>\n",
       "<style scoped>\n",
       "    .dataframe tbody tr th:only-of-type {\n",
       "        vertical-align: middle;\n",
       "    }\n",
       "\n",
       "    .dataframe tbody tr th {\n",
       "        vertical-align: top;\n",
       "    }\n",
       "\n",
       "    .dataframe thead th {\n",
       "        text-align: right;\n",
       "    }\n",
       "</style>\n",
       "<table border=\"1\" class=\"dataframe\">\n",
       "  <thead>\n",
       "    <tr style=\"text-align: right;\">\n",
       "      <th></th>\n",
       "      <th>count</th>\n",
       "      <th>mean</th>\n",
       "    </tr>\n",
       "    <tr>\n",
       "      <th>locality_name</th>\n",
       "      <th></th>\n",
       "      <th></th>\n",
       "    </tr>\n",
       "  </thead>\n",
       "  <tbody>\n",
       "    <tr>\n",
       "      <th>Санкт-Петербург</th>\n",
       "      <td>15067</td>\n",
       "      <td>114323.0</td>\n",
       "    </tr>\n",
       "    <tr>\n",
       "      <th>поселок Мурино</th>\n",
       "      <td>522</td>\n",
       "      <td>85418.0</td>\n",
       "    </tr>\n",
       "    <tr>\n",
       "      <th>поселок Шушары</th>\n",
       "      <td>429</td>\n",
       "      <td>78415.0</td>\n",
       "    </tr>\n",
       "    <tr>\n",
       "      <th>Всеволожск</th>\n",
       "      <td>379</td>\n",
       "      <td>68699.0</td>\n",
       "    </tr>\n",
       "    <tr>\n",
       "      <th>Пушкин</th>\n",
       "      <td>355</td>\n",
       "      <td>103084.0</td>\n",
       "    </tr>\n",
       "    <tr>\n",
       "      <th>Колпино</th>\n",
       "      <td>333</td>\n",
       "      <td>75425.0</td>\n",
       "    </tr>\n",
       "    <tr>\n",
       "      <th>поселок Парголово</th>\n",
       "      <td>319</td>\n",
       "      <td>90092.0</td>\n",
       "    </tr>\n",
       "    <tr>\n",
       "      <th>Гатчина</th>\n",
       "      <td>293</td>\n",
       "      <td>68769.0</td>\n",
       "    </tr>\n",
       "    <tr>\n",
       "      <th>деревня Кудрово</th>\n",
       "      <td>274</td>\n",
       "      <td>92327.0</td>\n",
       "    </tr>\n",
       "    <tr>\n",
       "      <th>Выборг</th>\n",
       "      <td>224</td>\n",
       "      <td>58505.0</td>\n",
       "    </tr>\n",
       "  </tbody>\n",
       "</table>\n",
       "</div>"
      ],
      "text/plain": [
       "                   count      mean\n",
       "locality_name                     \n",
       "Санкт-Петербург    15067  114323.0\n",
       "поселок Мурино       522   85418.0\n",
       "поселок Шушары       429   78415.0\n",
       "Всеволожск           379   68699.0\n",
       "Пушкин               355  103084.0\n",
       "Колпино              333   75425.0\n",
       "поселок Парголово    319   90092.0\n",
       "Гатчина              293   68769.0\n",
       "деревня Кудрово      274   92327.0\n",
       "Выборг               224   58505.0"
      ]
     },
     "metadata": {},
     "output_type": "display_data"
    }
   ],
   "source": [
    "#найдем среднюю цену одного м2 в 10 населенных пунктах с наибольшим числом объявлений\n",
    "price_top10_locality_name = data.groupby('locality_name').agg({'price_per_meter': ['count', 'mean']}).round(0)\n",
    "price_top10_locality_name.columns = ['count', 'mean']\n",
    "price_top10_locality_name = price_top10_locality_name.sort_values(by='count', ascending=False)\n",
    "display(price_top10_locality_name.head(10))"
   ]
  },
  {
   "cell_type": "code",
   "execution_count": 51,
   "metadata": {},
   "outputs": [
    {
     "data": {
      "text/html": [
       "<div>\n",
       "<style scoped>\n",
       "    .dataframe tbody tr th:only-of-type {\n",
       "        vertical-align: middle;\n",
       "    }\n",
       "\n",
       "    .dataframe tbody tr th {\n",
       "        vertical-align: top;\n",
       "    }\n",
       "\n",
       "    .dataframe thead th {\n",
       "        text-align: right;\n",
       "    }\n",
       "</style>\n",
       "<table border=\"1\" class=\"dataframe\">\n",
       "  <thead>\n",
       "    <tr style=\"text-align: right;\">\n",
       "      <th></th>\n",
       "      <th>total_images</th>\n",
       "      <th>last_price</th>\n",
       "      <th>total_area</th>\n",
       "      <th>first_day_exposition</th>\n",
       "      <th>rooms</th>\n",
       "      <th>ceiling_height</th>\n",
       "      <th>floors_total</th>\n",
       "      <th>living_area</th>\n",
       "      <th>floor</th>\n",
       "      <th>is_apartment</th>\n",
       "      <th>studio</th>\n",
       "      <th>open_plan</th>\n",
       "      <th>kitchen_area</th>\n",
       "      <th>balcony</th>\n",
       "      <th>locality_name</th>\n",
       "      <th>airports_nearest</th>\n",
       "      <th>cityCenters_nearest</th>\n",
       "      <th>parks_around3000</th>\n",
       "      <th>parks_nearest</th>\n",
       "      <th>ponds_around3000</th>\n",
       "      <th>ponds_nearest</th>\n",
       "      <th>days_exposition</th>\n",
       "      <th>price_per_meter</th>\n",
       "      <th>day_of_the_week</th>\n",
       "      <th>month</th>\n",
       "      <th>year</th>\n",
       "      <th>floor_type</th>\n",
       "      <th>cityCenters_nearest_in_km</th>\n",
       "    </tr>\n",
       "  </thead>\n",
       "  <tbody>\n",
       "    <tr>\n",
       "      <th>3</th>\n",
       "      <td>0</td>\n",
       "      <td>64900000.0</td>\n",
       "      <td>159.00</td>\n",
       "      <td>2015-07-24</td>\n",
       "      <td>3</td>\n",
       "      <td>2.7</td>\n",
       "      <td>14</td>\n",
       "      <td>100.44</td>\n",
       "      <td>9</td>\n",
       "      <td>False</td>\n",
       "      <td>False</td>\n",
       "      <td>False</td>\n",
       "      <td>20.43</td>\n",
       "      <td>0</td>\n",
       "      <td>Санкт-Петербург</td>\n",
       "      <td>28098.0</td>\n",
       "      <td>6800.0</td>\n",
       "      <td>2</td>\n",
       "      <td>84.0</td>\n",
       "      <td>3</td>\n",
       "      <td>234.0</td>\n",
       "      <td>424</td>\n",
       "      <td>408176.0</td>\n",
       "      <td>4</td>\n",
       "      <td>7</td>\n",
       "      <td>2015</td>\n",
       "      <td>другой</td>\n",
       "      <td>7.0</td>\n",
       "    </tr>\n",
       "    <tr>\n",
       "      <th>4</th>\n",
       "      <td>2</td>\n",
       "      <td>10000000.0</td>\n",
       "      <td>100.00</td>\n",
       "      <td>2018-06-19</td>\n",
       "      <td>2</td>\n",
       "      <td>3.0</td>\n",
       "      <td>14</td>\n",
       "      <td>32.00</td>\n",
       "      <td>13</td>\n",
       "      <td>False</td>\n",
       "      <td>False</td>\n",
       "      <td>False</td>\n",
       "      <td>41.00</td>\n",
       "      <td>0</td>\n",
       "      <td>Санкт-Петербург</td>\n",
       "      <td>31856.0</td>\n",
       "      <td>8098.0</td>\n",
       "      <td>2</td>\n",
       "      <td>112.0</td>\n",
       "      <td>1</td>\n",
       "      <td>48.0</td>\n",
       "      <td>121</td>\n",
       "      <td>100000.0</td>\n",
       "      <td>1</td>\n",
       "      <td>6</td>\n",
       "      <td>2018</td>\n",
       "      <td>другой</td>\n",
       "      <td>8.0</td>\n",
       "    </tr>\n",
       "    <tr>\n",
       "      <th>35</th>\n",
       "      <td>6</td>\n",
       "      <td>15500000.0</td>\n",
       "      <td>149.00</td>\n",
       "      <td>2017-06-26</td>\n",
       "      <td>5</td>\n",
       "      <td>2.7</td>\n",
       "      <td>5</td>\n",
       "      <td>104.00</td>\n",
       "      <td>4</td>\n",
       "      <td>False</td>\n",
       "      <td>False</td>\n",
       "      <td>False</td>\n",
       "      <td>17.00</td>\n",
       "      <td>0</td>\n",
       "      <td>Санкт-Петербург</td>\n",
       "      <td>23670.0</td>\n",
       "      <td>3502.0</td>\n",
       "      <td>0</td>\n",
       "      <td>NaN</td>\n",
       "      <td>1</td>\n",
       "      <td>779.0</td>\n",
       "      <td>644</td>\n",
       "      <td>104027.0</td>\n",
       "      <td>0</td>\n",
       "      <td>6</td>\n",
       "      <td>2017</td>\n",
       "      <td>другой</td>\n",
       "      <td>4.0</td>\n",
       "    </tr>\n",
       "    <tr>\n",
       "      <th>51</th>\n",
       "      <td>7</td>\n",
       "      <td>45000000.0</td>\n",
       "      <td>161.00</td>\n",
       "      <td>2017-10-17</td>\n",
       "      <td>3</td>\n",
       "      <td>3.2</td>\n",
       "      <td>8</td>\n",
       "      <td>38.00</td>\n",
       "      <td>4</td>\n",
       "      <td>False</td>\n",
       "      <td>False</td>\n",
       "      <td>False</td>\n",
       "      <td>50.00</td>\n",
       "      <td>0</td>\n",
       "      <td>Санкт-Петербург</td>\n",
       "      <td>32537.0</td>\n",
       "      <td>6589.0</td>\n",
       "      <td>0</td>\n",
       "      <td>NaN</td>\n",
       "      <td>3</td>\n",
       "      <td>99.0</td>\n",
       "      <td>541</td>\n",
       "      <td>279503.0</td>\n",
       "      <td>1</td>\n",
       "      <td>10</td>\n",
       "      <td>2017</td>\n",
       "      <td>другой</td>\n",
       "      <td>7.0</td>\n",
       "    </tr>\n",
       "    <tr>\n",
       "      <th>52</th>\n",
       "      <td>20</td>\n",
       "      <td>11795000.0</td>\n",
       "      <td>136.00</td>\n",
       "      <td>2017-09-22</td>\n",
       "      <td>6</td>\n",
       "      <td>3.0</td>\n",
       "      <td>2</td>\n",
       "      <td>94.00</td>\n",
       "      <td>2</td>\n",
       "      <td>False</td>\n",
       "      <td>False</td>\n",
       "      <td>False</td>\n",
       "      <td>11.00</td>\n",
       "      <td>1</td>\n",
       "      <td>Санкт-Петербург</td>\n",
       "      <td>16510.0</td>\n",
       "      <td>6582.0</td>\n",
       "      <td>1</td>\n",
       "      <td>526.0</td>\n",
       "      <td>0</td>\n",
       "      <td>NaN</td>\n",
       "      <td>0</td>\n",
       "      <td>86728.0</td>\n",
       "      <td>4</td>\n",
       "      <td>9</td>\n",
       "      <td>2017</td>\n",
       "      <td>последний</td>\n",
       "      <td>7.0</td>\n",
       "    </tr>\n",
       "    <tr>\n",
       "      <th>...</th>\n",
       "      <td>...</td>\n",
       "      <td>...</td>\n",
       "      <td>...</td>\n",
       "      <td>...</td>\n",
       "      <td>...</td>\n",
       "      <td>...</td>\n",
       "      <td>...</td>\n",
       "      <td>...</td>\n",
       "      <td>...</td>\n",
       "      <td>...</td>\n",
       "      <td>...</td>\n",
       "      <td>...</td>\n",
       "      <td>...</td>\n",
       "      <td>...</td>\n",
       "      <td>...</td>\n",
       "      <td>...</td>\n",
       "      <td>...</td>\n",
       "      <td>...</td>\n",
       "      <td>...</td>\n",
       "      <td>...</td>\n",
       "      <td>...</td>\n",
       "      <td>...</td>\n",
       "      <td>...</td>\n",
       "      <td>...</td>\n",
       "      <td>...</td>\n",
       "      <td>...</td>\n",
       "      <td>...</td>\n",
       "      <td>...</td>\n",
       "    </tr>\n",
       "    <tr>\n",
       "      <th>23674</th>\n",
       "      <td>10</td>\n",
       "      <td>5950000.0</td>\n",
       "      <td>56.00</td>\n",
       "      <td>2019-03-05</td>\n",
       "      <td>3</td>\n",
       "      <td>2.7</td>\n",
       "      <td>8</td>\n",
       "      <td>32.10</td>\n",
       "      <td>3</td>\n",
       "      <td>False</td>\n",
       "      <td>False</td>\n",
       "      <td>False</td>\n",
       "      <td>8.50</td>\n",
       "      <td>0</td>\n",
       "      <td>Санкт-Петербург</td>\n",
       "      <td>32139.0</td>\n",
       "      <td>9217.0</td>\n",
       "      <td>0</td>\n",
       "      <td>NaN</td>\n",
       "      <td>2</td>\n",
       "      <td>303.0</td>\n",
       "      <td>0</td>\n",
       "      <td>106250.0</td>\n",
       "      <td>1</td>\n",
       "      <td>3</td>\n",
       "      <td>2019</td>\n",
       "      <td>другой</td>\n",
       "      <td>9.0</td>\n",
       "    </tr>\n",
       "    <tr>\n",
       "      <th>23681</th>\n",
       "      <td>13</td>\n",
       "      <td>5250000.0</td>\n",
       "      <td>43.00</td>\n",
       "      <td>2018-05-11</td>\n",
       "      <td>2</td>\n",
       "      <td>2.5</td>\n",
       "      <td>5</td>\n",
       "      <td>29.00</td>\n",
       "      <td>2</td>\n",
       "      <td>False</td>\n",
       "      <td>False</td>\n",
       "      <td>False</td>\n",
       "      <td>6.00</td>\n",
       "      <td>0</td>\n",
       "      <td>Санкт-Петербург</td>\n",
       "      <td>28323.0</td>\n",
       "      <td>7262.0</td>\n",
       "      <td>1</td>\n",
       "      <td>497.0</td>\n",
       "      <td>2</td>\n",
       "      <td>660.0</td>\n",
       "      <td>80</td>\n",
       "      <td>122093.0</td>\n",
       "      <td>4</td>\n",
       "      <td>5</td>\n",
       "      <td>2018</td>\n",
       "      <td>другой</td>\n",
       "      <td>7.0</td>\n",
       "    </tr>\n",
       "    <tr>\n",
       "      <th>23690</th>\n",
       "      <td>3</td>\n",
       "      <td>5500000.0</td>\n",
       "      <td>52.00</td>\n",
       "      <td>2018-07-19</td>\n",
       "      <td>2</td>\n",
       "      <td>2.7</td>\n",
       "      <td>5</td>\n",
       "      <td>31.00</td>\n",
       "      <td>2</td>\n",
       "      <td>False</td>\n",
       "      <td>False</td>\n",
       "      <td>False</td>\n",
       "      <td>6.00</td>\n",
       "      <td>0</td>\n",
       "      <td>Санкт-Петербург</td>\n",
       "      <td>20151.0</td>\n",
       "      <td>6263.0</td>\n",
       "      <td>1</td>\n",
       "      <td>300.0</td>\n",
       "      <td>0</td>\n",
       "      <td>NaN</td>\n",
       "      <td>15</td>\n",
       "      <td>105769.0</td>\n",
       "      <td>3</td>\n",
       "      <td>7</td>\n",
       "      <td>2018</td>\n",
       "      <td>другой</td>\n",
       "      <td>6.0</td>\n",
       "    </tr>\n",
       "    <tr>\n",
       "      <th>23691</th>\n",
       "      <td>11</td>\n",
       "      <td>9470000.0</td>\n",
       "      <td>72.90</td>\n",
       "      <td>2016-10-13</td>\n",
       "      <td>2</td>\n",
       "      <td>2.8</td>\n",
       "      <td>25</td>\n",
       "      <td>40.30</td>\n",
       "      <td>7</td>\n",
       "      <td>False</td>\n",
       "      <td>False</td>\n",
       "      <td>False</td>\n",
       "      <td>10.60</td>\n",
       "      <td>1</td>\n",
       "      <td>Санкт-Петербург</td>\n",
       "      <td>19424.0</td>\n",
       "      <td>4489.0</td>\n",
       "      <td>0</td>\n",
       "      <td>NaN</td>\n",
       "      <td>1</td>\n",
       "      <td>806.0</td>\n",
       "      <td>519</td>\n",
       "      <td>129904.0</td>\n",
       "      <td>3</td>\n",
       "      <td>10</td>\n",
       "      <td>2016</td>\n",
       "      <td>другой</td>\n",
       "      <td>4.0</td>\n",
       "    </tr>\n",
       "    <tr>\n",
       "      <th>23694</th>\n",
       "      <td>9</td>\n",
       "      <td>9700000.0</td>\n",
       "      <td>133.81</td>\n",
       "      <td>2017-03-21</td>\n",
       "      <td>3</td>\n",
       "      <td>3.7</td>\n",
       "      <td>5</td>\n",
       "      <td>73.30</td>\n",
       "      <td>3</td>\n",
       "      <td>False</td>\n",
       "      <td>False</td>\n",
       "      <td>False</td>\n",
       "      <td>13.83</td>\n",
       "      <td>0</td>\n",
       "      <td>Санкт-Петербург</td>\n",
       "      <td>24665.0</td>\n",
       "      <td>4232.0</td>\n",
       "      <td>1</td>\n",
       "      <td>796.0</td>\n",
       "      <td>3</td>\n",
       "      <td>381.0</td>\n",
       "      <td>0</td>\n",
       "      <td>72491.0</td>\n",
       "      <td>1</td>\n",
       "      <td>3</td>\n",
       "      <td>2017</td>\n",
       "      <td>другой</td>\n",
       "      <td>4.0</td>\n",
       "    </tr>\n",
       "  </tbody>\n",
       "</table>\n",
       "<p>3935 rows × 28 columns</p>\n",
       "</div>"
      ],
      "text/plain": [
       "       total_images  last_price  total_area first_day_exposition  rooms  ceiling_height  \\\n",
       "3                 0  64900000.0      159.00           2015-07-24      3             2.7   \n",
       "4                 2  10000000.0      100.00           2018-06-19      2             3.0   \n",
       "35                6  15500000.0      149.00           2017-06-26      5             2.7   \n",
       "51                7  45000000.0      161.00           2017-10-17      3             3.2   \n",
       "52               20  11795000.0      136.00           2017-09-22      6             3.0   \n",
       "...             ...         ...         ...                  ...    ...             ...   \n",
       "23674            10   5950000.0       56.00           2019-03-05      3             2.7   \n",
       "23681            13   5250000.0       43.00           2018-05-11      2             2.5   \n",
       "23690             3   5500000.0       52.00           2018-07-19      2             2.7   \n",
       "23691            11   9470000.0       72.90           2016-10-13      2             2.8   \n",
       "23694             9   9700000.0      133.81           2017-03-21      3             3.7   \n",
       "\n",
       "       floors_total  living_area  floor  is_apartment  studio  open_plan  kitchen_area  balcony  \\\n",
       "3                14       100.44      9         False   False      False         20.43        0   \n",
       "4                14        32.00     13         False   False      False         41.00        0   \n",
       "35                5       104.00      4         False   False      False         17.00        0   \n",
       "51                8        38.00      4         False   False      False         50.00        0   \n",
       "52                2        94.00      2         False   False      False         11.00        1   \n",
       "...             ...          ...    ...           ...     ...        ...           ...      ...   \n",
       "23674             8        32.10      3         False   False      False          8.50        0   \n",
       "23681             5        29.00      2         False   False      False          6.00        0   \n",
       "23690             5        31.00      2         False   False      False          6.00        0   \n",
       "23691            25        40.30      7         False   False      False         10.60        1   \n",
       "23694             5        73.30      3         False   False      False         13.83        0   \n",
       "\n",
       "         locality_name  airports_nearest  cityCenters_nearest  parks_around3000  parks_nearest  \\\n",
       "3      Санкт-Петербург           28098.0               6800.0                 2           84.0   \n",
       "4      Санкт-Петербург           31856.0               8098.0                 2          112.0   \n",
       "35     Санкт-Петербург           23670.0               3502.0                 0            NaN   \n",
       "51     Санкт-Петербург           32537.0               6589.0                 0            NaN   \n",
       "52     Санкт-Петербург           16510.0               6582.0                 1          526.0   \n",
       "...                ...               ...                  ...               ...            ...   \n",
       "23674  Санкт-Петербург           32139.0               9217.0                 0            NaN   \n",
       "23681  Санкт-Петербург           28323.0               7262.0                 1          497.0   \n",
       "23690  Санкт-Петербург           20151.0               6263.0                 1          300.0   \n",
       "23691  Санкт-Петербург           19424.0               4489.0                 0            NaN   \n",
       "23694  Санкт-Петербург           24665.0               4232.0                 1          796.0   \n",
       "\n",
       "       ponds_around3000  ponds_nearest  days_exposition  price_per_meter  day_of_the_week  month  \\\n",
       "3                     3          234.0              424         408176.0                4      7   \n",
       "4                     1           48.0              121         100000.0                1      6   \n",
       "35                    1          779.0              644         104027.0                0      6   \n",
       "51                    3           99.0              541         279503.0                1     10   \n",
       "52                    0            NaN                0          86728.0                4      9   \n",
       "...                 ...            ...              ...              ...              ...    ...   \n",
       "23674                 2          303.0                0         106250.0                1      3   \n",
       "23681                 2          660.0               80         122093.0                4      5   \n",
       "23690                 0            NaN               15         105769.0                3      7   \n",
       "23691                 1          806.0              519         129904.0                3     10   \n",
       "23694                 3          381.0                0          72491.0                1      3   \n",
       "\n",
       "       year floor_type  cityCenters_nearest_in_km  \n",
       "3      2015     другой                        7.0  \n",
       "4      2018     другой                        8.0  \n",
       "35     2017     другой                        4.0  \n",
       "51     2017     другой                        7.0  \n",
       "52     2017  последний                        7.0  \n",
       "...     ...        ...                        ...  \n",
       "23674  2019     другой                        9.0  \n",
       "23681  2018     другой                        7.0  \n",
       "23690  2018     другой                        6.0  \n",
       "23691  2016     другой                        4.0  \n",
       "23694  2017     другой                        4.0  \n",
       "\n",
       "[3935 rows x 28 columns]"
      ]
     },
     "metadata": {},
     "output_type": "display_data"
    },
    {
     "data": {
      "image/png": "[encoded data removed]",
      "text/plain": [
       "<Figure size 432x288 with 1 Axes>"
      ]
     },
     "metadata": {
      "needs_background": "light"
     },
     "output_type": "display_data"
    }
   ],
   "source": [
    "sp_mean_price_for_km = data.query('locality_name == \"Санкт-Петербург\"')\n",
    "sp_mean_price_for_km_mean = sp_mean_price_for_km.groupby('cityCenters_nearest_in_km').agg({'price_per_meter': 'mean'}).round(0)\n",
    "display(sp_mean_price_for_km.query('2 < cityCenters_nearest_in_km < 10'))\n",
    "sp_mean_price_for_km_mean.plot()\n",
    "plt.grid(b=True)\n",
    "plt.show()"
   ]
  },
  {
   "cell_type": "markdown",
   "metadata": {},
   "source": [
    "На цену одного квадратного метра жилья сильно влияет отдаленность от центра города. Если сравнивать промежуток от 10 до 25 км разница в стоимости за квадратный метр изменился на 1 пункт, далее каждый километр сильнее влияет на стоимость недвижимости."
   ]
  },
  {
   "cell_type": "markdown",
   "metadata": {},
   "source": [
    "### Общий вывод"
   ]
  },
  {
   "cell_type": "markdown",
   "metadata": {},
   "source": [
    "В ходе выполнения проекта изучили общую информацию по предоставленному датафрейму, рассмотрели пропущенные значения и постарались заполнить пропуски там, где это было возможно. Основная масса квартир - это квартиры общей площадью от 30 до 75 м2, по количеству комнат однокомнатные, двухкомнатные и трехкомнатные, с высотой потолка от 2,5 до 2,7 метров. Основная масса недвижимости составляет 5 и 9 этажные дома. Влияет и тип этажа, отдают предпочтение не первому и не последнему этажу, а другому.  В основном объявления публикуются по будням. При исследовании данных убедились, что на стоимость объекта в основном влияет площадь и количество комнат. Также на стоимость влияет на каком этаже находится недвижимость. Стоимость за квадратный метр недвижимости зависит от населенного пункта. Проведя анализ среди 10 населенных пунктов с наибольшим числом объявлений выяснили, что квадратный метр жилья в Выборге равен 58.505, а в Санкт-Петербурге равен 114.323. Рассмотрели влияние отдаленности от центра города на стоимость и выяснили, что с каждым км стоимость за квадратный метр возрастает."
   ]
  }
 ],
 "metadata": {
  "ExecuteTimeLog": [
   {
    "duration": 533,
    "start_time": "2022-10-13T08:29:27.525Z"
   },
   {
    "duration": 91,
    "start_time": "2022-10-13T08:30:00.356Z"
   },
   {
    "duration": 87,
    "start_time": "2022-10-13T08:30:42.214Z"
   },
   {
    "duration": 515,
    "start_time": "2022-10-15T11:49:43.886Z"
   },
   {
    "duration": 104,
    "start_time": "2022-10-15T11:49:54.970Z"
   },
   {
    "duration": 106,
    "start_time": "2022-10-15T11:53:28.152Z"
   },
   {
    "duration": 92,
    "start_time": "2022-10-15T11:54:27.036Z"
   },
   {
    "duration": 21,
    "start_time": "2022-10-15T11:54:35.714Z"
   },
   {
    "duration": 15,
    "start_time": "2022-10-15T11:54:56.844Z"
   },
   {
    "duration": 65,
    "start_time": "2022-10-15T11:55:39.420Z"
   },
   {
    "duration": 15,
    "start_time": "2022-10-15T11:55:47.396Z"
   },
   {
    "duration": 12,
    "start_time": "2022-10-15T11:56:46.616Z"
   },
   {
    "duration": 12,
    "start_time": "2022-10-15T12:36:15.112Z"
   },
   {
    "duration": 5,
    "start_time": "2022-10-15T12:36:40.583Z"
   },
   {
    "duration": 5,
    "start_time": "2022-10-15T12:36:48.442Z"
   },
   {
    "duration": 7,
    "start_time": "2022-10-15T12:36:55.552Z"
   },
   {
    "duration": 20,
    "start_time": "2022-10-15T12:38:35.991Z"
   },
   {
    "duration": 507,
    "start_time": "2022-10-15T12:59:06.003Z"
   },
   {
    "duration": 18,
    "start_time": "2022-10-15T12:59:07.282Z"
   },
   {
    "duration": 10,
    "start_time": "2022-10-15T12:59:08.132Z"
   },
   {
    "duration": 142,
    "start_time": "2022-10-15T12:59:10.109Z"
   },
   {
    "duration": 146,
    "start_time": "2022-10-15T12:59:46.506Z"
   },
   {
    "duration": 157,
    "start_time": "2022-10-15T13:00:00.036Z"
   },
   {
    "duration": 189,
    "start_time": "2022-10-15T13:00:06.165Z"
   },
   {
    "duration": 334,
    "start_time": "2022-10-15T13:00:48.471Z"
   },
   {
    "duration": 180,
    "start_time": "2022-10-15T13:01:21.271Z"
   },
   {
    "duration": 59,
    "start_time": "2022-10-15T13:01:29.777Z"
   },
   {
    "duration": 80,
    "start_time": "2022-10-15T13:01:40.496Z"
   },
   {
    "duration": 49,
    "start_time": "2022-10-15T13:02:10.826Z"
   },
   {
    "duration": 102,
    "start_time": "2022-10-15T13:02:20.576Z"
   },
   {
    "duration": 19,
    "start_time": "2022-10-15T13:02:21.471Z"
   },
   {
    "duration": 10,
    "start_time": "2022-10-15T13:02:22.230Z"
   },
   {
    "duration": 56,
    "start_time": "2022-10-15T13:02:23.070Z"
   },
   {
    "duration": 184,
    "start_time": "2022-10-15T13:02:35.378Z"
   },
   {
    "duration": 96,
    "start_time": "2022-10-15T13:02:51.785Z"
   },
   {
    "duration": 16,
    "start_time": "2022-10-15T13:02:51.976Z"
   },
   {
    "duration": 10,
    "start_time": "2022-10-15T13:02:52.350Z"
   },
   {
    "duration": 179,
    "start_time": "2022-10-15T13:02:54.475Z"
   },
   {
    "duration": 11,
    "start_time": "2022-10-15T13:03:12.514Z"
   },
   {
    "duration": 10,
    "start_time": "2022-10-15T13:03:31.751Z"
   },
   {
    "duration": 7,
    "start_time": "2022-10-15T13:03:48.498Z"
   },
   {
    "duration": 162,
    "start_time": "2022-10-15T13:03:52.207Z"
   },
   {
    "duration": 152,
    "start_time": "2022-10-15T13:03:56.770Z"
   },
   {
    "duration": 278,
    "start_time": "2022-10-15T13:05:17.740Z"
   },
   {
    "duration": 1463,
    "start_time": "2022-10-15T13:05:26.730Z"
   },
   {
    "duration": 1514,
    "start_time": "2022-10-15T13:07:09.783Z"
   },
   {
    "duration": 1596,
    "start_time": "2022-10-15T13:09:44.646Z"
   },
   {
    "duration": 1554,
    "start_time": "2022-10-15T13:10:39.554Z"
   },
   {
    "duration": 1493,
    "start_time": "2022-10-15T13:13:04.228Z"
   },
   {
    "duration": 1584,
    "start_time": "2022-10-15T13:14:20.358Z"
   },
   {
    "duration": 1469,
    "start_time": "2022-10-15T13:14:33.240Z"
   },
   {
    "duration": 1520,
    "start_time": "2022-10-15T13:14:42.539Z"
   },
   {
    "duration": 1526,
    "start_time": "2022-10-15T13:15:08.082Z"
   },
   {
    "duration": 1465,
    "start_time": "2022-10-15T13:15:35.033Z"
   },
   {
    "duration": 1599,
    "start_time": "2022-10-15T13:16:02.070Z"
   },
   {
    "duration": 1581,
    "start_time": "2022-10-15T13:18:04.963Z"
   },
   {
    "duration": 1613,
    "start_time": "2022-10-15T13:24:13.283Z"
   },
   {
    "duration": 1560,
    "start_time": "2022-10-15T13:24:20.118Z"
   },
   {
    "duration": 1639,
    "start_time": "2022-10-15T13:24:48.167Z"
   },
   {
    "duration": 1588,
    "start_time": "2022-10-15T13:25:06.373Z"
   },
   {
    "duration": 1727,
    "start_time": "2022-10-15T13:25:36.189Z"
   },
   {
    "duration": 1666,
    "start_time": "2022-10-15T13:25:50.338Z"
   },
   {
    "duration": 97,
    "start_time": "2022-10-15T13:30:38.992Z"
   },
   {
    "duration": 17,
    "start_time": "2022-10-15T13:30:50.139Z"
   },
   {
    "duration": 12,
    "start_time": "2022-10-15T13:30:54.238Z"
   },
   {
    "duration": 1595,
    "start_time": "2022-10-15T13:30:57.095Z"
   },
   {
    "duration": 1575,
    "start_time": "2022-10-15T13:31:55.469Z"
   },
   {
    "duration": 483,
    "start_time": "2022-10-15T13:32:13.721Z"
   },
   {
    "duration": 252,
    "start_time": "2022-10-15T13:32:22.696Z"
   },
   {
    "duration": 259,
    "start_time": "2022-10-15T13:34:40.244Z"
   },
   {
    "duration": 261,
    "start_time": "2022-10-15T13:36:19.655Z"
   },
   {
    "duration": 547,
    "start_time": "2022-10-15T13:36:52.633Z"
   },
   {
    "duration": 561,
    "start_time": "2022-10-15T13:37:09.930Z"
   },
   {
    "duration": 675,
    "start_time": "2022-10-15T13:37:23.536Z"
   },
   {
    "duration": 13,
    "start_time": "2022-10-15T13:46:26.522Z"
   },
   {
    "duration": 13,
    "start_time": "2022-10-15T13:47:48.097Z"
   },
   {
    "duration": 562,
    "start_time": "2022-10-15T13:50:13.984Z"
   },
   {
    "duration": 13,
    "start_time": "2022-10-15T13:50:19.580Z"
   },
   {
    "duration": 2039,
    "start_time": "2022-10-15T15:56:25.826Z"
   },
   {
    "duration": 2026,
    "start_time": "2022-10-15T15:57:01.799Z"
   },
   {
    "duration": 3208,
    "start_time": "2022-10-15T15:57:59.089Z"
   },
   {
    "duration": 3237,
    "start_time": "2022-10-15T15:58:16.444Z"
   },
   {
    "duration": 5,
    "start_time": "2022-10-15T16:25:33.170Z"
   },
   {
    "duration": 11,
    "start_time": "2022-10-15T16:26:04.288Z"
   },
   {
    "duration": 5,
    "start_time": "2022-10-15T16:33:00.005Z"
   },
   {
    "duration": 10,
    "start_time": "2022-10-15T16:34:52.224Z"
   },
   {
    "duration": 6,
    "start_time": "2022-10-15T16:35:01.485Z"
   },
   {
    "duration": 5,
    "start_time": "2022-10-15T16:37:00.593Z"
   },
   {
    "duration": 11,
    "start_time": "2022-10-15T16:37:53.097Z"
   },
   {
    "duration": 5,
    "start_time": "2022-10-15T16:38:01.301Z"
   },
   {
    "duration": 8,
    "start_time": "2022-10-15T16:39:16.977Z"
   },
   {
    "duration": 8,
    "start_time": "2022-10-15T16:39:24.854Z"
   },
   {
    "duration": 41,
    "start_time": "2022-10-15T16:42:19.565Z"
   },
   {
    "duration": 20,
    "start_time": "2022-10-15T16:44:16.414Z"
   },
   {
    "duration": 32,
    "start_time": "2022-10-15T16:44:25.567Z"
   },
   {
    "duration": 4,
    "start_time": "2022-10-15T16:45:08.739Z"
   },
   {
    "duration": 599,
    "start_time": "2022-10-15T16:48:55.767Z"
   },
   {
    "duration": 620,
    "start_time": "2022-10-15T16:49:04.070Z"
   },
   {
    "duration": 846,
    "start_time": "2022-10-15T16:49:22.852Z"
   },
   {
    "duration": 653,
    "start_time": "2022-10-15T16:49:31.255Z"
   },
   {
    "duration": 625,
    "start_time": "2022-10-15T16:49:45.982Z"
   },
   {
    "duration": 480,
    "start_time": "2022-10-15T16:49:57.784Z"
   },
   {
    "duration": 658,
    "start_time": "2022-10-15T16:50:35.496Z"
   },
   {
    "duration": 759,
    "start_time": "2022-10-15T16:50:51.342Z"
   },
   {
    "duration": 680,
    "start_time": "2022-10-15T16:51:01.199Z"
   },
   {
    "duration": 707,
    "start_time": "2022-10-15T16:51:06.774Z"
   },
   {
    "duration": 571,
    "start_time": "2022-10-15T16:51:11.904Z"
   },
   {
    "duration": 720,
    "start_time": "2022-10-15T16:51:24.981Z"
   },
   {
    "duration": 9,
    "start_time": "2022-10-15T16:55:12.984Z"
   },
   {
    "duration": 5,
    "start_time": "2022-10-15T16:55:27.452Z"
   },
   {
    "duration": 9,
    "start_time": "2022-10-15T16:55:55.387Z"
   },
   {
    "duration": 103,
    "start_time": "2022-10-15T16:56:11.389Z"
   },
   {
    "duration": 15,
    "start_time": "2022-10-15T16:56:11.964Z"
   },
   {
    "duration": 2861,
    "start_time": "2022-10-15T16:56:13.137Z"
   },
   {
    "duration": 9,
    "start_time": "2022-10-15T16:56:16.000Z"
   },
   {
    "duration": 3271,
    "start_time": "2022-10-15T16:56:39.043Z"
   },
   {
    "duration": 46,
    "start_time": "2022-10-15T17:08:47.227Z"
   },
   {
    "duration": 6,
    "start_time": "2022-10-15T17:09:58.396Z"
   },
   {
    "duration": 11,
    "start_time": "2022-10-15T17:11:36.771Z"
   },
   {
    "duration": 86,
    "start_time": "2022-10-15T17:20:00.909Z"
   },
   {
    "duration": 19,
    "start_time": "2022-10-15T17:20:01.614Z"
   },
   {
    "duration": 2970,
    "start_time": "2022-10-15T17:20:02.094Z"
   },
   {
    "duration": 11,
    "start_time": "2022-10-15T17:20:05.066Z"
   },
   {
    "duration": 11,
    "start_time": "2022-10-15T17:20:16.846Z"
   },
   {
    "duration": 12,
    "start_time": "2022-10-15T17:22:19.627Z"
   },
   {
    "duration": 12,
    "start_time": "2022-10-15T17:22:40.361Z"
   },
   {
    "duration": 10,
    "start_time": "2022-10-15T17:23:04.254Z"
   },
   {
    "duration": 12,
    "start_time": "2022-10-15T17:23:13.810Z"
   },
   {
    "duration": 25,
    "start_time": "2022-10-15T17:23:45.961Z"
   },
   {
    "duration": 28,
    "start_time": "2022-10-15T17:24:01.249Z"
   },
   {
    "duration": 38,
    "start_time": "2022-10-15T17:25:48.398Z"
   },
   {
    "duration": 11,
    "start_time": "2022-10-15T17:29:59.520Z"
   },
   {
    "duration": 12,
    "start_time": "2022-10-15T17:32:21.388Z"
   },
   {
    "duration": 14,
    "start_time": "2022-10-15T17:32:26.080Z"
   },
   {
    "duration": 13,
    "start_time": "2022-10-15T17:37:47.234Z"
   },
   {
    "duration": 12,
    "start_time": "2022-10-15T17:38:16.418Z"
   },
   {
    "duration": 11,
    "start_time": "2022-10-15T17:38:53.389Z"
   },
   {
    "duration": 5,
    "start_time": "2022-10-15T17:40:32.895Z"
   },
   {
    "duration": 786,
    "start_time": "2022-10-15T17:42:55.444Z"
   },
   {
    "duration": 366,
    "start_time": "2022-10-15T17:43:08.613Z"
   },
   {
    "duration": 337,
    "start_time": "2022-10-15T17:44:05.822Z"
   },
   {
    "duration": 1146,
    "start_time": "2022-10-15T17:44:10.802Z"
   },
   {
    "duration": 1076,
    "start_time": "2022-10-15T17:44:22.867Z"
   },
   {
    "duration": 951,
    "start_time": "2022-10-15T17:45:05.305Z"
   },
   {
    "duration": 1958,
    "start_time": "2022-10-15T17:46:27.483Z"
   },
   {
    "duration": 1850,
    "start_time": "2022-10-15T17:46:41.184Z"
   },
   {
    "duration": 2895,
    "start_time": "2022-10-15T17:49:24.042Z"
   },
   {
    "duration": 10,
    "start_time": "2022-10-15T17:49:49.986Z"
   },
   {
    "duration": 5,
    "start_time": "2022-10-15T17:49:51.114Z"
   },
   {
    "duration": 6,
    "start_time": "2022-10-15T17:49:54.470Z"
   },
   {
    "duration": 1983,
    "start_time": "2022-10-15T17:55:14.276Z"
   },
   {
    "duration": 1975,
    "start_time": "2022-10-15T17:55:23.842Z"
   },
   {
    "duration": 1853,
    "start_time": "2022-10-15T17:55:35.189Z"
   },
   {
    "duration": 1893,
    "start_time": "2022-10-15T17:56:39.717Z"
   },
   {
    "duration": 1984,
    "start_time": "2022-10-15T17:57:19.592Z"
   },
   {
    "duration": 1817,
    "start_time": "2022-10-15T18:02:28.145Z"
   },
   {
    "duration": 1799,
    "start_time": "2022-10-15T18:03:27.315Z"
   },
   {
    "duration": 1965,
    "start_time": "2022-10-15T18:06:45.840Z"
   },
   {
    "duration": 1755,
    "start_time": "2022-10-15T18:07:03.173Z"
   },
   {
    "duration": 1802,
    "start_time": "2022-10-15T18:08:45.933Z"
   },
   {
    "duration": 1828,
    "start_time": "2022-10-15T18:10:34.327Z"
   },
   {
    "duration": 84,
    "start_time": "2022-10-15T18:11:09.244Z"
   },
   {
    "duration": 15,
    "start_time": "2022-10-15T18:11:09.397Z"
   },
   {
    "duration": 3196,
    "start_time": "2022-10-15T18:11:09.568Z"
   },
   {
    "duration": 9,
    "start_time": "2022-10-15T18:11:12.766Z"
   },
   {
    "duration": 10,
    "start_time": "2022-10-15T18:11:12.776Z"
   },
   {
    "duration": 1980,
    "start_time": "2022-10-15T18:11:12.788Z"
   },
   {
    "duration": 1801,
    "start_time": "2022-10-15T18:11:53.055Z"
   },
   {
    "duration": 2011,
    "start_time": "2022-10-15T18:16:04.106Z"
   },
   {
    "duration": 1743,
    "start_time": "2022-10-15T18:16:37.745Z"
   },
   {
    "duration": 1810,
    "start_time": "2022-10-15T18:18:28.330Z"
   },
   {
    "duration": 1717,
    "start_time": "2022-10-15T18:19:02.979Z"
   },
   {
    "duration": 1783,
    "start_time": "2022-10-15T18:19:27.002Z"
   },
   {
    "duration": 1972,
    "start_time": "2022-10-15T18:19:47.887Z"
   },
   {
    "duration": 1724,
    "start_time": "2022-10-15T18:21:17.112Z"
   },
   {
    "duration": 5,
    "start_time": "2022-10-15T18:40:01.221Z"
   },
   {
    "duration": 6,
    "start_time": "2022-10-15T18:40:30.724Z"
   },
   {
    "duration": 5,
    "start_time": "2022-10-15T18:40:51.073Z"
   },
   {
    "duration": 84,
    "start_time": "2022-10-15T18:58:13.302Z"
   },
   {
    "duration": 14,
    "start_time": "2022-10-15T18:58:13.606Z"
   },
   {
    "duration": 3035,
    "start_time": "2022-10-15T18:58:14.006Z"
   },
   {
    "duration": 13,
    "start_time": "2022-10-15T18:58:17.043Z"
   },
   {
    "duration": 9,
    "start_time": "2022-10-15T18:58:17.058Z"
   },
   {
    "duration": 1860,
    "start_time": "2022-10-15T18:58:17.338Z"
   },
   {
    "duration": 9,
    "start_time": "2022-10-15T18:58:19.257Z"
   },
   {
    "duration": 19,
    "start_time": "2022-10-15T19:05:39.433Z"
   },
   {
    "duration": 20,
    "start_time": "2022-10-15T19:07:19.509Z"
   },
   {
    "duration": 14,
    "start_time": "2022-10-15T19:07:41.745Z"
   },
   {
    "duration": 12,
    "start_time": "2022-10-15T19:07:53.382Z"
   },
   {
    "duration": 20,
    "start_time": "2022-10-15T19:08:01.373Z"
   },
   {
    "duration": 10,
    "start_time": "2022-10-15T19:10:24.129Z"
   },
   {
    "duration": 15,
    "start_time": "2022-10-15T19:11:05.108Z"
   },
   {
    "duration": 15,
    "start_time": "2022-10-15T19:24:38.929Z"
   },
   {
    "duration": 13,
    "start_time": "2022-10-15T19:25:05.283Z"
   },
   {
    "duration": 3,
    "start_time": "2022-10-15T19:25:11.802Z"
   },
   {
    "duration": 14,
    "start_time": "2022-10-15T19:25:14.205Z"
   },
   {
    "duration": 12,
    "start_time": "2022-10-15T19:32:27.682Z"
   },
   {
    "duration": 12,
    "start_time": "2022-10-15T19:32:35.203Z"
   },
   {
    "duration": 5,
    "start_time": "2022-10-15T19:33:45.485Z"
   },
   {
    "duration": 3,
    "start_time": "2022-10-15T19:39:57.774Z"
   },
   {
    "duration": 14,
    "start_time": "2022-10-15T19:40:13.321Z"
   },
   {
    "duration": 19,
    "start_time": "2022-10-15T19:40:51.451Z"
   },
   {
    "duration": 19,
    "start_time": "2022-10-15T20:07:28.731Z"
   },
   {
    "duration": 26,
    "start_time": "2022-10-15T20:07:38.787Z"
   },
   {
    "duration": 13,
    "start_time": "2022-10-15T20:07:46.328Z"
   },
   {
    "duration": 10,
    "start_time": "2022-10-15T20:08:04.233Z"
   },
   {
    "duration": 7,
    "start_time": "2022-10-15T20:10:03.875Z"
   },
   {
    "duration": 10,
    "start_time": "2022-10-15T20:10:14.157Z"
   },
   {
    "duration": 19,
    "start_time": "2022-10-15T20:11:17.418Z"
   },
   {
    "duration": 17,
    "start_time": "2022-10-15T20:11:21.168Z"
   },
   {
    "duration": 8,
    "start_time": "2022-10-15T20:13:41.189Z"
   },
   {
    "duration": 5,
    "start_time": "2022-10-15T20:14:00.732Z"
   },
   {
    "duration": 21,
    "start_time": "2022-10-15T20:14:06.546Z"
   },
   {
    "duration": 9,
    "start_time": "2022-10-15T20:20:24.017Z"
   },
   {
    "duration": 12,
    "start_time": "2022-10-15T20:20:34.326Z"
   },
   {
    "duration": 6,
    "start_time": "2022-10-15T20:20:42.757Z"
   },
   {
    "duration": 11,
    "start_time": "2022-10-15T20:20:54.566Z"
   },
   {
    "duration": 4,
    "start_time": "2022-10-15T20:21:01.093Z"
   },
   {
    "duration": 6,
    "start_time": "2022-10-15T20:27:45.953Z"
   },
   {
    "duration": 6,
    "start_time": "2022-10-15T20:29:32.073Z"
   },
   {
    "duration": 8,
    "start_time": "2022-10-15T20:29:51.019Z"
   },
   {
    "duration": 4,
    "start_time": "2022-10-15T20:30:56.669Z"
   },
   {
    "duration": 19,
    "start_time": "2022-10-15T20:31:05.562Z"
   },
   {
    "duration": 16,
    "start_time": "2022-10-15T20:50:03.759Z"
   },
   {
    "duration": 17,
    "start_time": "2022-10-15T20:50:19.142Z"
   },
   {
    "duration": 5,
    "start_time": "2022-10-15T20:59:32.253Z"
   },
   {
    "duration": 148,
    "start_time": "2022-10-15T21:00:04.859Z"
   },
   {
    "duration": 11,
    "start_time": "2022-10-15T21:00:11.223Z"
   },
   {
    "duration": 9,
    "start_time": "2022-10-15T21:00:17.253Z"
   },
   {
    "duration": 20,
    "start_time": "2022-10-15T21:03:32.740Z"
   },
   {
    "duration": 13,
    "start_time": "2022-10-15T21:17:56.464Z"
   },
   {
    "duration": 231,
    "start_time": "2022-10-15T21:18:02.976Z"
   },
   {
    "duration": 15,
    "start_time": "2022-10-15T21:18:03.320Z"
   },
   {
    "duration": 3067,
    "start_time": "2022-10-15T21:18:03.603Z"
   },
   {
    "duration": 11,
    "start_time": "2022-10-15T21:18:06.672Z"
   },
   {
    "duration": 15,
    "start_time": "2022-10-15T21:18:06.685Z"
   },
   {
    "duration": 14,
    "start_time": "2022-10-15T21:18:06.769Z"
   },
   {
    "duration": 13,
    "start_time": "2022-10-15T21:18:08.090Z"
   },
   {
    "duration": 9,
    "start_time": "2022-10-15T21:18:18.059Z"
   },
   {
    "duration": 21,
    "start_time": "2022-10-15T21:18:34.384Z"
   },
   {
    "duration": 3243,
    "start_time": "2022-10-15T21:20:02.089Z"
   },
   {
    "duration": 3244,
    "start_time": "2022-10-15T21:20:14.517Z"
   },
   {
    "duration": 9,
    "start_time": "2022-10-15T21:20:33.636Z"
   },
   {
    "duration": 12,
    "start_time": "2022-10-15T21:20:46.698Z"
   },
   {
    "duration": 9,
    "start_time": "2022-10-15T21:21:10.075Z"
   },
   {
    "duration": 23,
    "start_time": "2022-10-15T21:22:11.412Z"
   },
   {
    "duration": 20,
    "start_time": "2022-10-15T21:22:32.282Z"
   },
   {
    "duration": 18,
    "start_time": "2022-10-15T21:22:38.932Z"
   },
   {
    "duration": 22,
    "start_time": "2022-10-15T21:22:42.649Z"
   },
   {
    "duration": 21,
    "start_time": "2022-10-15T21:22:47.903Z"
   },
   {
    "duration": 80,
    "start_time": "2022-10-15T21:27:38.808Z"
   },
   {
    "duration": 13,
    "start_time": "2022-10-15T21:29:12.208Z"
   },
   {
    "duration": 13,
    "start_time": "2022-10-15T21:29:13.056Z"
   },
   {
    "duration": 17,
    "start_time": "2022-10-15T21:29:13.252Z"
   },
   {
    "duration": 21,
    "start_time": "2022-10-15T21:29:15.368Z"
   },
   {
    "duration": 16,
    "start_time": "2022-10-15T21:39:50.919Z"
   },
   {
    "duration": 11,
    "start_time": "2022-10-15T21:58:29.728Z"
   },
   {
    "duration": 9,
    "start_time": "2022-10-15T21:59:02.421Z"
   },
   {
    "duration": 9,
    "start_time": "2022-10-15T21:59:10.065Z"
   },
   {
    "duration": 6,
    "start_time": "2022-10-15T21:59:24.984Z"
   },
   {
    "duration": 5,
    "start_time": "2022-10-15T21:59:30.520Z"
   },
   {
    "duration": 9,
    "start_time": "2022-10-15T21:59:36.059Z"
   },
   {
    "duration": 20,
    "start_time": "2022-10-15T22:16:46.943Z"
   },
   {
    "duration": 63,
    "start_time": "2022-10-15T22:35:07.353Z"
   },
   {
    "duration": 14,
    "start_time": "2022-10-15T22:35:25.593Z"
   },
   {
    "duration": 13,
    "start_time": "2022-10-15T22:35:52.666Z"
   },
   {
    "duration": 26,
    "start_time": "2022-10-15T22:36:08.770Z"
   },
   {
    "duration": 12,
    "start_time": "2022-10-15T22:36:36.980Z"
   },
   {
    "duration": 12,
    "start_time": "2022-10-15T22:38:00.857Z"
   },
   {
    "duration": 24,
    "start_time": "2022-10-15T22:38:31.863Z"
   },
   {
    "duration": 201,
    "start_time": "2022-10-15T22:40:03.982Z"
   },
   {
    "duration": 13,
    "start_time": "2022-10-15T22:40:32.703Z"
   },
   {
    "duration": 13,
    "start_time": "2022-10-15T22:40:44.654Z"
   },
   {
    "duration": 215,
    "start_time": "2022-10-15T22:40:49.506Z"
   },
   {
    "duration": 230,
    "start_time": "2022-10-15T22:41:36.524Z"
   },
   {
    "duration": 225,
    "start_time": "2022-10-15T22:42:17.549Z"
   },
   {
    "duration": 83,
    "start_time": "2022-10-15T22:42:29.291Z"
   },
   {
    "duration": 16,
    "start_time": "2022-10-15T22:42:29.680Z"
   },
   {
    "duration": 3266,
    "start_time": "2022-10-15T22:42:29.876Z"
   },
   {
    "duration": 15,
    "start_time": "2022-10-15T22:42:33.143Z"
   },
   {
    "duration": 12,
    "start_time": "2022-10-15T22:42:33.159Z"
   },
   {
    "duration": 12,
    "start_time": "2022-10-15T22:42:33.173Z"
   },
   {
    "duration": 17,
    "start_time": "2022-10-15T22:42:33.187Z"
   },
   {
    "duration": 216,
    "start_time": "2022-10-15T22:42:45.647Z"
   },
   {
    "duration": 33,
    "start_time": "2022-10-15T22:43:21.462Z"
   },
   {
    "duration": 85,
    "start_time": "2022-10-15T22:43:43.219Z"
   },
   {
    "duration": 15,
    "start_time": "2022-10-15T22:43:43.370Z"
   },
   {
    "duration": 3009,
    "start_time": "2022-10-15T22:43:43.517Z"
   },
   {
    "duration": 10,
    "start_time": "2022-10-15T22:43:46.528Z"
   },
   {
    "duration": 23,
    "start_time": "2022-10-15T22:43:46.540Z"
   },
   {
    "duration": 14,
    "start_time": "2022-10-15T22:43:46.566Z"
   },
   {
    "duration": 19,
    "start_time": "2022-10-15T22:43:46.581Z"
   },
   {
    "duration": 24,
    "start_time": "2022-10-15T22:43:48.289Z"
   },
   {
    "duration": 26,
    "start_time": "2022-10-15T22:43:57.217Z"
   },
   {
    "duration": 215,
    "start_time": "2022-10-15T22:44:54.892Z"
   },
   {
    "duration": 83,
    "start_time": "2022-10-15T22:45:07.492Z"
   },
   {
    "duration": 14,
    "start_time": "2022-10-15T22:45:07.658Z"
   },
   {
    "duration": 3210,
    "start_time": "2022-10-15T22:45:07.808Z"
   },
   {
    "duration": 10,
    "start_time": "2022-10-15T22:45:11.020Z"
   },
   {
    "duration": 27,
    "start_time": "2022-10-15T22:45:11.032Z"
   },
   {
    "duration": 14,
    "start_time": "2022-10-15T22:45:11.061Z"
   },
   {
    "duration": 13,
    "start_time": "2022-10-15T22:45:14.944Z"
   },
   {
    "duration": 21,
    "start_time": "2022-10-15T22:45:19.405Z"
   },
   {
    "duration": 216,
    "start_time": "2022-10-15T22:45:22.877Z"
   },
   {
    "duration": 162,
    "start_time": "2022-10-15T22:47:04.737Z"
   },
   {
    "duration": 83,
    "start_time": "2022-10-15T22:47:13.195Z"
   },
   {
    "duration": 15,
    "start_time": "2022-10-15T22:47:16.521Z"
   },
   {
    "duration": 3017,
    "start_time": "2022-10-15T22:47:16.538Z"
   },
   {
    "duration": 10,
    "start_time": "2022-10-15T22:47:19.557Z"
   },
   {
    "duration": 12,
    "start_time": "2022-10-15T22:47:19.568Z"
   },
   {
    "duration": 15,
    "start_time": "2022-10-15T22:47:19.582Z"
   },
   {
    "duration": 19,
    "start_time": "2022-10-15T22:47:19.598Z"
   },
   {
    "duration": 152,
    "start_time": "2022-10-15T22:47:21.185Z"
   },
   {
    "duration": 160,
    "start_time": "2022-10-15T22:47:26.037Z"
   },
   {
    "duration": 162,
    "start_time": "2022-10-15T22:47:28.988Z"
   },
   {
    "duration": 80,
    "start_time": "2022-10-15T22:48:13.779Z"
   },
   {
    "duration": 15,
    "start_time": "2022-10-15T22:48:16.382Z"
   },
   {
    "duration": 3041,
    "start_time": "2022-10-15T22:48:18.247Z"
   },
   {
    "duration": 12,
    "start_time": "2022-10-15T22:48:21.290Z"
   },
   {
    "duration": 16,
    "start_time": "2022-10-15T22:48:21.492Z"
   },
   {
    "duration": 9,
    "start_time": "2022-10-15T22:48:23.686Z"
   },
   {
    "duration": 11,
    "start_time": "2022-10-15T22:48:25.841Z"
   },
   {
    "duration": 14,
    "start_time": "2022-10-15T22:48:28.694Z"
   },
   {
    "duration": 22,
    "start_time": "2022-10-15T22:48:30.857Z"
   },
   {
    "duration": 158,
    "start_time": "2022-10-15T22:48:33.859Z"
   },
   {
    "duration": 24,
    "start_time": "2022-10-15T22:48:53.904Z"
   },
   {
    "duration": 22,
    "start_time": "2022-10-15T22:49:46.776Z"
   },
   {
    "duration": 87,
    "start_time": "2022-10-15T22:50:10.260Z"
   },
   {
    "duration": 19,
    "start_time": "2022-10-15T22:50:16.542Z"
   },
   {
    "duration": 20,
    "start_time": "2022-10-15T22:50:18.617Z"
   },
   {
    "duration": 179,
    "start_time": "2022-10-15T22:53:56.045Z"
   },
   {
    "duration": 81,
    "start_time": "2022-10-15T22:54:18.017Z"
   },
   {
    "duration": 17,
    "start_time": "2022-10-15T22:54:18.144Z"
   },
   {
    "duration": 3359,
    "start_time": "2022-10-15T22:54:18.298Z"
   },
   {
    "duration": 11,
    "start_time": "2022-10-15T22:54:21.659Z"
   },
   {
    "duration": 18,
    "start_time": "2022-10-15T22:54:21.672Z"
   },
   {
    "duration": 15,
    "start_time": "2022-10-15T22:54:21.693Z"
   },
   {
    "duration": 46,
    "start_time": "2022-10-15T22:54:21.709Z"
   },
   {
    "duration": 191,
    "start_time": "2022-10-15T22:54:23.237Z"
   },
   {
    "duration": 84,
    "start_time": "2022-10-15T22:54:39.886Z"
   },
   {
    "duration": 15,
    "start_time": "2022-10-15T22:54:45.217Z"
   },
   {
    "duration": 11,
    "start_time": "2022-10-15T22:54:49.482Z"
   },
   {
    "duration": 13,
    "start_time": "2022-10-15T22:54:52.039Z"
   },
   {
    "duration": 23,
    "start_time": "2022-10-15T22:54:55.096Z"
   },
   {
    "duration": 21,
    "start_time": "2022-10-15T22:54:59.186Z"
   },
   {
    "duration": 209,
    "start_time": "2022-10-15T22:55:00.076Z"
   },
   {
    "duration": 178,
    "start_time": "2022-10-15T22:56:44.286Z"
   },
   {
    "duration": 79,
    "start_time": "2022-10-15T22:56:49.844Z"
   },
   {
    "duration": 16,
    "start_time": "2022-10-15T22:56:50.562Z"
   },
   {
    "duration": 3091,
    "start_time": "2022-10-15T22:56:51.169Z"
   },
   {
    "duration": 9,
    "start_time": "2022-10-15T22:56:57.585Z"
   },
   {
    "duration": 13,
    "start_time": "2022-10-15T22:57:00.639Z"
   },
   {
    "duration": 14,
    "start_time": "2022-10-15T22:57:02.894Z"
   },
   {
    "duration": 18,
    "start_time": "2022-10-15T22:57:05.418Z"
   },
   {
    "duration": 178,
    "start_time": "2022-10-15T22:57:07.821Z"
   },
   {
    "duration": 83,
    "start_time": "2022-10-15T22:57:39.475Z"
   },
   {
    "duration": 23,
    "start_time": "2022-10-15T22:57:50.653Z"
   },
   {
    "duration": 192,
    "start_time": "2022-10-15T22:58:52.155Z"
   },
   {
    "duration": 12,
    "start_time": "2022-10-15T22:59:06.187Z"
   },
   {
    "duration": 13,
    "start_time": "2022-10-15T23:00:26.611Z"
   },
   {
    "duration": 183,
    "start_time": "2022-10-15T23:00:30.917Z"
   },
   {
    "duration": 82,
    "start_time": "2022-10-15T23:00:36.920Z"
   },
   {
    "duration": 190,
    "start_time": "2022-10-15T23:00:41.081Z"
   },
   {
    "duration": 169,
    "start_time": "2022-10-15T23:01:35.553Z"
   },
   {
    "duration": 81,
    "start_time": "2022-10-15T23:01:40.247Z"
   },
   {
    "duration": 171,
    "start_time": "2022-10-15T23:01:44.355Z"
   },
   {
    "duration": 84,
    "start_time": "2022-10-15T23:03:19.323Z"
   },
   {
    "duration": 197,
    "start_time": "2022-10-15T23:03:23.258Z"
   },
   {
    "duration": 84,
    "start_time": "2022-10-15T23:04:38.349Z"
   },
   {
    "duration": 165,
    "start_time": "2022-10-15T23:04:42.762Z"
   },
   {
    "duration": 85,
    "start_time": "2022-10-15T23:06:43.141Z"
   },
   {
    "duration": 91,
    "start_time": "2022-10-15T23:06:48.284Z"
   },
   {
    "duration": 83,
    "start_time": "2022-10-15T23:08:33.000Z"
   },
   {
    "duration": 151,
    "start_time": "2022-10-15T23:08:37.143Z"
   },
   {
    "duration": 176,
    "start_time": "2022-10-15T23:09:02.546Z"
   },
   {
    "duration": 83,
    "start_time": "2022-10-15T23:09:09.826Z"
   },
   {
    "duration": 149,
    "start_time": "2022-10-15T23:09:16.457Z"
   },
   {
    "duration": 88,
    "start_time": "2022-10-15T23:09:50.158Z"
   },
   {
    "duration": 115,
    "start_time": "2022-10-15T23:09:56.265Z"
   },
   {
    "duration": 82,
    "start_time": "2022-10-15T23:11:17.472Z"
   },
   {
    "duration": 162,
    "start_time": "2022-10-15T23:11:21.423Z"
   },
   {
    "duration": 82,
    "start_time": "2022-10-15T23:12:45.238Z"
   },
   {
    "duration": 13,
    "start_time": "2022-10-15T23:12:49.465Z"
   },
   {
    "duration": 128,
    "start_time": "2022-10-15T23:13:02.401Z"
   },
   {
    "duration": 86,
    "start_time": "2022-10-15T23:16:30.016Z"
   },
   {
    "duration": 1838,
    "start_time": "2022-10-15T23:16:36.217Z"
   },
   {
    "duration": 25,
    "start_time": "2022-10-15T23:16:45.586Z"
   },
   {
    "duration": 129,
    "start_time": "2022-10-15T23:17:13.744Z"
   },
   {
    "duration": 90,
    "start_time": "2022-10-15T23:18:23.582Z"
   },
   {
    "duration": 161,
    "start_time": "2022-10-15T23:18:29.781Z"
   },
   {
    "duration": 82,
    "start_time": "2022-10-15T23:20:06.099Z"
   },
   {
    "duration": 113,
    "start_time": "2022-10-15T23:20:12.782Z"
   },
   {
    "duration": 83,
    "start_time": "2022-10-15T23:21:54.682Z"
   },
   {
    "duration": 158,
    "start_time": "2022-10-15T23:21:59.007Z"
   },
   {
    "duration": 85,
    "start_time": "2022-10-15T23:22:39.938Z"
   },
   {
    "duration": 131,
    "start_time": "2022-10-15T23:22:43.143Z"
   },
   {
    "duration": 90,
    "start_time": "2022-10-15T23:23:56.034Z"
   },
   {
    "duration": 87,
    "start_time": "2022-10-15T23:28:48.359Z"
   },
   {
    "duration": 139,
    "start_time": "2022-10-15T23:28:52.595Z"
   },
   {
    "duration": 84,
    "start_time": "2022-10-15T23:29:59.127Z"
   },
   {
    "duration": 17,
    "start_time": "2022-10-15T23:30:03.242Z"
   },
   {
    "duration": 89,
    "start_time": "2022-10-15T23:39:28.134Z"
   },
   {
    "duration": 24,
    "start_time": "2022-10-15T23:39:56.073Z"
   },
   {
    "duration": 105,
    "start_time": "2022-10-15T23:40:11.499Z"
   },
   {
    "duration": 241,
    "start_time": "2022-10-15T23:40:15.534Z"
   },
   {
    "duration": 225,
    "start_time": "2022-10-15T23:41:22.358Z"
   },
   {
    "duration": 79,
    "start_time": "2022-10-15T23:41:49.523Z"
   },
   {
    "duration": 240,
    "start_time": "2022-10-15T23:41:53.366Z"
   },
   {
    "duration": 229,
    "start_time": "2022-10-15T23:41:59.445Z"
   },
   {
    "duration": 81,
    "start_time": "2022-10-15T23:42:13.651Z"
   },
   {
    "duration": 83,
    "start_time": "2022-10-15T23:42:20.233Z"
   },
   {
    "duration": 229,
    "start_time": "2022-10-15T23:42:27.347Z"
   },
   {
    "duration": 231,
    "start_time": "2022-10-15T23:42:34.656Z"
   },
   {
    "duration": 237,
    "start_time": "2022-10-15T23:43:40.048Z"
   },
   {
    "duration": 237,
    "start_time": "2022-10-15T23:43:50.910Z"
   },
   {
    "duration": 251,
    "start_time": "2022-10-15T23:44:48.609Z"
   },
   {
    "duration": 237,
    "start_time": "2022-10-15T23:46:44.969Z"
   },
   {
    "duration": 263,
    "start_time": "2022-10-15T23:47:15.370Z"
   },
   {
    "duration": 234,
    "start_time": "2022-10-15T23:51:57.878Z"
   },
   {
    "duration": 79,
    "start_time": "2022-10-15T23:52:42.027Z"
   },
   {
    "duration": 15,
    "start_time": "2022-10-15T23:52:44.369Z"
   },
   {
    "duration": 3166,
    "start_time": "2022-10-15T23:52:44.842Z"
   },
   {
    "duration": 11,
    "start_time": "2022-10-15T23:52:48.011Z"
   },
   {
    "duration": 31,
    "start_time": "2022-10-15T23:52:48.023Z"
   },
   {
    "duration": 15,
    "start_time": "2022-10-15T23:52:48.056Z"
   },
   {
    "duration": 19,
    "start_time": "2022-10-15T23:52:49.305Z"
   },
   {
    "duration": 226,
    "start_time": "2022-10-15T23:52:55.241Z"
   },
   {
    "duration": 90,
    "start_time": "2022-10-15T23:56:05.489Z"
   },
   {
    "duration": 17,
    "start_time": "2022-10-15T23:56:06.210Z"
   },
   {
    "duration": 3034,
    "start_time": "2022-10-15T23:56:06.620Z"
   },
   {
    "duration": 10,
    "start_time": "2022-10-15T23:56:09.656Z"
   },
   {
    "duration": 28,
    "start_time": "2022-10-15T23:56:09.668Z"
   },
   {
    "duration": 37,
    "start_time": "2022-10-15T23:56:09.698Z"
   },
   {
    "duration": 19,
    "start_time": "2022-10-15T23:56:12.217Z"
   },
   {
    "duration": 241,
    "start_time": "2022-10-15T23:59:59.936Z"
   },
   {
    "duration": 83,
    "start_time": "2022-10-16T00:00:41.987Z"
   },
   {
    "duration": 16,
    "start_time": "2022-10-16T00:00:44.341Z"
   },
   {
    "duration": 2978,
    "start_time": "2022-10-16T00:00:47.523Z"
   },
   {
    "duration": 10,
    "start_time": "2022-10-16T00:00:54.055Z"
   },
   {
    "duration": 13,
    "start_time": "2022-10-16T00:00:57.168Z"
   },
   {
    "duration": 15,
    "start_time": "2022-10-16T00:01:00.758Z"
   },
   {
    "duration": 20,
    "start_time": "2022-10-16T00:01:05.406Z"
   },
   {
    "duration": 533,
    "start_time": "2022-10-16T00:01:10.196Z"
   },
   {
    "duration": 232,
    "start_time": "2022-10-16T00:01:55.727Z"
   },
   {
    "duration": 94,
    "start_time": "2022-10-16T00:02:50.627Z"
   },
   {
    "duration": 15,
    "start_time": "2022-10-16T00:03:28.524Z"
   },
   {
    "duration": 3043,
    "start_time": "2022-10-16T00:03:29.710Z"
   },
   {
    "duration": 10,
    "start_time": "2022-10-16T00:03:39.044Z"
   },
   {
    "duration": 12,
    "start_time": "2022-10-16T00:03:44.863Z"
   },
   {
    "duration": 11,
    "start_time": "2022-10-16T00:04:01.013Z"
   },
   {
    "duration": 12,
    "start_time": "2022-10-16T00:04:05.494Z"
   },
   {
    "duration": 15,
    "start_time": "2022-10-16T00:04:11.404Z"
   },
   {
    "duration": 21,
    "start_time": "2022-10-16T00:06:38.345Z"
   },
   {
    "duration": 17,
    "start_time": "2022-10-16T00:11:09.702Z"
   },
   {
    "duration": 16,
    "start_time": "2022-10-16T00:16:52.023Z"
   },
   {
    "duration": 17,
    "start_time": "2022-10-16T00:17:07.938Z"
   },
   {
    "duration": 233,
    "start_time": "2022-10-16T00:17:25.175Z"
   },
   {
    "duration": 85,
    "start_time": "2022-10-16T00:19:22.405Z"
   },
   {
    "duration": 15,
    "start_time": "2022-10-16T00:19:23.534Z"
   },
   {
    "duration": 3092,
    "start_time": "2022-10-16T00:19:25.165Z"
   },
   {
    "duration": 11,
    "start_time": "2022-10-16T00:19:28.259Z"
   },
   {
    "duration": 14,
    "start_time": "2022-10-16T00:19:30.063Z"
   },
   {
    "duration": 17,
    "start_time": "2022-10-16T00:19:31.691Z"
   },
   {
    "duration": 20,
    "start_time": "2022-10-16T00:19:33.978Z"
   },
   {
    "duration": 16,
    "start_time": "2022-10-16T00:19:35.927Z"
   },
   {
    "duration": 237,
    "start_time": "2022-10-16T00:19:42.728Z"
   },
   {
    "duration": 235,
    "start_time": "2022-10-16T00:19:50.390Z"
   },
   {
    "duration": 223,
    "start_time": "2022-10-16T00:21:42.570Z"
   },
   {
    "duration": 9,
    "start_time": "2022-10-16T00:34:54.953Z"
   },
   {
    "duration": 10,
    "start_time": "2022-10-16T00:35:08.154Z"
   },
   {
    "duration": 20,
    "start_time": "2022-10-16T00:35:56.355Z"
   },
   {
    "duration": 228,
    "start_time": "2022-10-16T00:42:33.668Z"
   },
   {
    "duration": 1811,
    "start_time": "2022-10-16T00:47:27.437Z"
   },
   {
    "duration": 1808,
    "start_time": "2022-10-16T00:54:22.248Z"
   },
   {
    "duration": 6,
    "start_time": "2022-10-16T00:54:35.745Z"
   },
   {
    "duration": 2067,
    "start_time": "2022-10-16T00:54:39.789Z"
   },
   {
    "duration": 68,
    "start_time": "2022-10-16T00:55:28.632Z"
   },
   {
    "duration": 48,
    "start_time": "2022-10-16T00:55:38.031Z"
   },
   {
    "duration": 86,
    "start_time": "2022-10-16T00:56:03.059Z"
   },
   {
    "duration": 17,
    "start_time": "2022-10-16T00:56:05.511Z"
   },
   {
    "duration": 2992,
    "start_time": "2022-10-16T00:56:07.288Z"
   },
   {
    "duration": 10,
    "start_time": "2022-10-16T00:56:12.940Z"
   },
   {
    "duration": 13,
    "start_time": "2022-10-16T00:56:15.629Z"
   },
   {
    "duration": 14,
    "start_time": "2022-10-16T00:56:17.599Z"
   },
   {
    "duration": 22,
    "start_time": "2022-10-16T00:56:21.067Z"
   },
   {
    "duration": 17,
    "start_time": "2022-10-16T00:56:25.185Z"
   },
   {
    "duration": 234,
    "start_time": "2022-10-16T00:56:28.962Z"
   },
   {
    "duration": 49,
    "start_time": "2022-10-16T00:56:38.353Z"
   },
   {
    "duration": 1935,
    "start_time": "2022-10-16T00:56:52.341Z"
   },
   {
    "duration": 1886,
    "start_time": "2022-10-16T00:57:19.546Z"
   },
   {
    "duration": 1794,
    "start_time": "2022-10-16T00:57:54.349Z"
   },
   {
    "duration": 1905,
    "start_time": "2022-10-16T00:58:32.893Z"
   },
   {
    "duration": 2126,
    "start_time": "2022-10-16T01:00:56.873Z"
   },
   {
    "duration": 1934,
    "start_time": "2022-10-16T01:02:22.262Z"
   },
   {
    "duration": 1099,
    "start_time": "2022-10-16T01:03:17.719Z"
   },
   {
    "duration": 847,
    "start_time": "2022-10-16T01:03:26.513Z"
   },
   {
    "duration": 761,
    "start_time": "2022-10-16T01:03:35.076Z"
   },
   {
    "duration": 539,
    "start_time": "2022-10-16T01:03:43.629Z"
   },
   {
    "duration": 1083,
    "start_time": "2022-10-16T01:03:49.523Z"
   },
   {
    "duration": 575,
    "start_time": "2022-10-16T01:03:56.483Z"
   },
   {
    "duration": 568,
    "start_time": "2022-10-16T01:04:02.512Z"
   },
   {
    "duration": 620,
    "start_time": "2022-10-16T01:04:07.172Z"
   },
   {
    "duration": 595,
    "start_time": "2022-10-16T01:05:12.816Z"
   },
   {
    "duration": 952,
    "start_time": "2022-10-16T01:06:34.891Z"
   },
   {
    "duration": 631,
    "start_time": "2022-10-16T01:09:06.011Z"
   },
   {
    "duration": 615,
    "start_time": "2022-10-16T01:10:28.889Z"
   },
   {
    "duration": 879,
    "start_time": "2022-10-16T01:10:48.457Z"
   },
   {
    "duration": 628,
    "start_time": "2022-10-16T01:10:53.205Z"
   },
   {
    "duration": 660,
    "start_time": "2022-10-16T01:16:28.602Z"
   },
   {
    "duration": 620,
    "start_time": "2022-10-16T01:16:45.955Z"
   },
   {
    "duration": 746,
    "start_time": "2022-10-16T01:19:57.538Z"
   },
   {
    "duration": 869,
    "start_time": "2022-10-16T01:20:04.873Z"
   },
   {
    "duration": 7,
    "start_time": "2022-10-16T01:20:37.026Z"
   },
   {
    "duration": 8,
    "start_time": "2022-10-16T01:21:31.516Z"
   },
   {
    "duration": 51,
    "start_time": "2022-10-16T01:50:29.343Z"
   },
   {
    "duration": 7,
    "start_time": "2022-10-16T01:50:33.656Z"
   },
   {
    "duration": 4,
    "start_time": "2022-10-16T01:50:47.643Z"
   },
   {
    "duration": 6,
    "start_time": "2022-10-16T01:51:02.474Z"
   },
   {
    "duration": 81,
    "start_time": "2022-10-16T02:46:54.241Z"
   },
   {
    "duration": 79,
    "start_time": "2022-10-16T02:46:56.471Z"
   },
   {
    "duration": 15,
    "start_time": "2022-10-16T02:46:57.397Z"
   },
   {
    "duration": 3143,
    "start_time": "2022-10-16T02:46:58.340Z"
   },
   {
    "duration": 10,
    "start_time": "2022-10-16T02:47:14.465Z"
   },
   {
    "duration": 15,
    "start_time": "2022-10-16T02:47:18.011Z"
   },
   {
    "duration": 14,
    "start_time": "2022-10-16T02:47:44.552Z"
   },
   {
    "duration": 25,
    "start_time": "2022-10-16T02:49:11.567Z"
   },
   {
    "duration": 23,
    "start_time": "2022-10-16T02:49:30.034Z"
   },
   {
    "duration": 17,
    "start_time": "2022-10-16T02:49:56.483Z"
   },
   {
    "duration": 225,
    "start_time": "2022-10-16T02:49:59.412Z"
   },
   {
    "duration": 254,
    "start_time": "2022-10-16T02:50:21.610Z"
   },
   {
    "duration": 280,
    "start_time": "2022-10-16T02:50:41.447Z"
   },
   {
    "duration": 276,
    "start_time": "2022-10-16T02:52:20.854Z"
   },
   {
    "duration": 86,
    "start_time": "2022-10-16T02:52:37.558Z"
   },
   {
    "duration": 15,
    "start_time": "2022-10-16T02:52:38.493Z"
   },
   {
    "duration": 3101,
    "start_time": "2022-10-16T02:52:40.315Z"
   },
   {
    "duration": 10,
    "start_time": "2022-10-16T02:52:45.757Z"
   },
   {
    "duration": 15,
    "start_time": "2022-10-16T02:52:48.202Z"
   },
   {
    "duration": 14,
    "start_time": "2022-10-16T02:52:52.539Z"
   },
   {
    "duration": 25,
    "start_time": "2022-10-16T02:52:55.571Z"
   },
   {
    "duration": 18,
    "start_time": "2022-10-16T02:52:59.350Z"
   },
   {
    "duration": 17,
    "start_time": "2022-10-16T02:53:10.372Z"
   },
   {
    "duration": 268,
    "start_time": "2022-10-16T02:53:18.697Z"
   },
   {
    "duration": 293,
    "start_time": "2022-10-16T02:53:31.493Z"
   },
   {
    "duration": 663,
    "start_time": "2022-10-16T02:53:51.100Z"
   },
   {
    "duration": 7,
    "start_time": "2022-10-16T02:53:56.104Z"
   },
   {
    "duration": 30,
    "start_time": "2022-10-16T02:54:00.667Z"
   },
   {
    "duration": 845,
    "start_time": "2022-10-16T11:48:27.745Z"
   },
   {
    "duration": 17,
    "start_time": "2022-10-16T11:48:30.282Z"
   },
   {
    "duration": 2647,
    "start_time": "2022-10-16T11:48:39.526Z"
   },
   {
    "duration": 9,
    "start_time": "2022-10-16T11:48:46.105Z"
   },
   {
    "duration": 14,
    "start_time": "2022-10-16T11:48:50.402Z"
   },
   {
    "duration": 14,
    "start_time": "2022-10-16T11:48:56.370Z"
   },
   {
    "duration": 26,
    "start_time": "2022-10-16T11:49:02.349Z"
   },
   {
    "duration": 23,
    "start_time": "2022-10-16T11:51:24.591Z"
   },
   {
    "duration": 22,
    "start_time": "2022-10-16T11:52:02.030Z"
   },
   {
    "duration": 86,
    "start_time": "2022-10-16T11:52:12.430Z"
   },
   {
    "duration": 14,
    "start_time": "2022-10-16T11:52:15.475Z"
   },
   {
    "duration": 2547,
    "start_time": "2022-10-16T11:52:23.514Z"
   },
   {
    "duration": 8,
    "start_time": "2022-10-16T11:52:26.063Z"
   },
   {
    "duration": 13,
    "start_time": "2022-10-16T11:52:43.857Z"
   },
   {
    "duration": 14,
    "start_time": "2022-10-16T11:52:56.035Z"
   },
   {
    "duration": 24,
    "start_time": "2022-10-16T11:52:59.640Z"
   },
   {
    "duration": 16,
    "start_time": "2022-10-16T11:53:05.532Z"
   },
   {
    "duration": 244,
    "start_time": "2022-10-16T11:53:16.410Z"
   },
   {
    "duration": 240,
    "start_time": "2022-10-16T11:53:26.780Z"
   },
   {
    "duration": 674,
    "start_time": "2022-10-16T11:53:47.575Z"
   },
   {
    "duration": 7,
    "start_time": "2022-10-16T11:54:28.332Z"
   },
   {
    "duration": 33,
    "start_time": "2022-10-16T11:54:30.002Z"
   },
   {
    "duration": 83,
    "start_time": "2022-10-16T12:04:35.515Z"
   },
   {
    "duration": 21,
    "start_time": "2022-10-16T12:05:22.108Z"
   },
   {
    "duration": 10,
    "start_time": "2022-10-16T12:16:10.275Z"
   },
   {
    "duration": 11,
    "start_time": "2022-10-16T12:16:59.618Z"
   },
   {
    "duration": 7,
    "start_time": "2022-10-16T12:22:59.335Z"
   },
   {
    "duration": 7,
    "start_time": "2022-10-16T12:23:04.665Z"
   },
   {
    "duration": 11,
    "start_time": "2022-10-16T12:23:07.282Z"
   },
   {
    "duration": 86,
    "start_time": "2022-10-16T12:23:21.674Z"
   },
   {
    "duration": 14,
    "start_time": "2022-10-16T12:23:22.471Z"
   },
   {
    "duration": 2545,
    "start_time": "2022-10-16T12:23:23.545Z"
   },
   {
    "duration": 9,
    "start_time": "2022-10-16T12:23:28.145Z"
   },
   {
    "duration": 14,
    "start_time": "2022-10-16T12:23:30.495Z"
   },
   {
    "duration": 13,
    "start_time": "2022-10-16T12:23:33.674Z"
   },
   {
    "duration": 25,
    "start_time": "2022-10-16T12:23:36.350Z"
   },
   {
    "duration": 21,
    "start_time": "2022-10-16T12:23:38.549Z"
   },
   {
    "duration": 295,
    "start_time": "2022-10-16T12:23:41.142Z"
   },
   {
    "duration": 705,
    "start_time": "2022-10-16T12:23:47.247Z"
   },
   {
    "duration": 262,
    "start_time": "2022-10-16T12:23:56.925Z"
   },
   {
    "duration": 582,
    "start_time": "2022-10-16T12:24:06.893Z"
   },
   {
    "duration": 8,
    "start_time": "2022-10-16T12:24:11.524Z"
   },
   {
    "duration": 8,
    "start_time": "2022-10-16T12:35:57.921Z"
   },
   {
    "duration": 19,
    "start_time": "2022-10-16T12:37:58.425Z"
   },
   {
    "duration": 19,
    "start_time": "2022-10-16T12:38:44.239Z"
   },
   {
    "duration": 8,
    "start_time": "2022-10-16T12:40:15.415Z"
   },
   {
    "duration": 561,
    "start_time": "2022-10-16T12:40:37.312Z"
   },
   {
    "duration": 8,
    "start_time": "2022-10-16T12:41:39.349Z"
   },
   {
    "duration": 841,
    "start_time": "2022-10-16T15:43:55.462Z"
   },
   {
    "duration": 18,
    "start_time": "2022-10-16T15:43:57.392Z"
   },
   {
    "duration": 2449,
    "start_time": "2022-10-16T15:43:59.263Z"
   },
   {
    "duration": 10,
    "start_time": "2022-10-16T15:44:03.564Z"
   },
   {
    "duration": 13,
    "start_time": "2022-10-16T15:44:05.954Z"
   },
   {
    "duration": 13,
    "start_time": "2022-10-16T15:44:07.439Z"
   },
   {
    "duration": 28,
    "start_time": "2022-10-16T15:44:08.968Z"
   },
   {
    "duration": 19,
    "start_time": "2022-10-16T15:44:10.780Z"
   },
   {
    "duration": 319,
    "start_time": "2022-10-16T15:44:14.207Z"
   },
   {
    "duration": 278,
    "start_time": "2022-10-16T15:44:29.846Z"
   },
   {
    "duration": 536,
    "start_time": "2022-10-16T15:44:52.632Z"
   },
   {
    "duration": 280,
    "start_time": "2022-10-16T15:45:49.388Z"
   },
   {
    "duration": 683,
    "start_time": "2022-10-16T15:45:53.372Z"
   },
   {
    "duration": 7,
    "start_time": "2022-10-16T15:45:57.128Z"
   },
   {
    "duration": 9,
    "start_time": "2022-10-16T15:46:00.098Z"
   },
   {
    "duration": 11,
    "start_time": "2022-10-16T15:46:04.646Z"
   },
   {
    "duration": 6,
    "start_time": "2022-10-16T15:46:10.006Z"
   },
   {
    "duration": 8,
    "start_time": "2022-10-16T15:46:12.390Z"
   },
   {
    "duration": 9,
    "start_time": "2022-10-16T15:46:55.690Z"
   },
   {
    "duration": 18,
    "start_time": "2022-10-16T15:49:14.243Z"
   },
   {
    "duration": 10,
    "start_time": "2022-10-16T15:51:46.007Z"
   },
   {
    "duration": 545,
    "start_time": "2022-10-16T16:08:23.177Z"
   },
   {
    "duration": 534,
    "start_time": "2022-10-16T16:09:03.776Z"
   },
   {
    "duration": 13,
    "start_time": "2022-10-16T16:13:37.252Z"
   },
   {
    "duration": 9,
    "start_time": "2022-10-16T16:13:46.685Z"
   },
   {
    "duration": 92,
    "start_time": "2022-10-16T16:13:56.785Z"
   },
   {
    "duration": 12,
    "start_time": "2022-10-16T16:13:59.835Z"
   },
   {
    "duration": 2497,
    "start_time": "2022-10-16T16:14:04.552Z"
   },
   {
    "duration": 9,
    "start_time": "2022-10-16T16:14:10.077Z"
   },
   {
    "duration": 14,
    "start_time": "2022-10-16T16:14:13.175Z"
   },
   {
    "duration": 12,
    "start_time": "2022-10-16T16:14:16.109Z"
   },
   {
    "duration": 27,
    "start_time": "2022-10-16T16:14:18.642Z"
   },
   {
    "duration": 20,
    "start_time": "2022-10-16T16:14:20.864Z"
   },
   {
    "duration": 283,
    "start_time": "2022-10-16T16:14:24.692Z"
   },
   {
    "duration": 305,
    "start_time": "2022-10-16T16:14:36.406Z"
   },
   {
    "duration": 575,
    "start_time": "2022-10-16T16:14:52.755Z"
   },
   {
    "duration": 9,
    "start_time": "2022-10-16T16:14:58.950Z"
   },
   {
    "duration": 625,
    "start_time": "2022-10-16T16:15:08.154Z"
   },
   {
    "duration": 15,
    "start_time": "2022-10-16T16:18:35.273Z"
   },
   {
    "duration": 13,
    "start_time": "2022-10-16T16:18:49.877Z"
   },
   {
    "duration": 13,
    "start_time": "2022-10-16T16:19:51.814Z"
   },
   {
    "duration": 15,
    "start_time": "2022-10-16T16:21:55.187Z"
   },
   {
    "duration": 19,
    "start_time": "2022-10-16T16:35:23.510Z"
   },
   {
    "duration": 19,
    "start_time": "2022-10-16T16:35:55.382Z"
   },
   {
    "duration": 20,
    "start_time": "2022-10-16T16:38:01.955Z"
   },
   {
    "duration": 10,
    "start_time": "2022-10-16T16:38:52.452Z"
   },
   {
    "duration": 12,
    "start_time": "2022-10-16T16:39:40.505Z"
   },
   {
    "duration": 11,
    "start_time": "2022-10-16T16:39:47.101Z"
   },
   {
    "duration": 17,
    "start_time": "2022-10-16T16:40:11.988Z"
   },
   {
    "duration": 16,
    "start_time": "2022-10-16T16:40:49.983Z"
   },
   {
    "duration": 30,
    "start_time": "2022-10-16T16:40:55.440Z"
   },
   {
    "duration": 83,
    "start_time": "2022-10-16T16:43:25.513Z"
   },
   {
    "duration": 532,
    "start_time": "2022-10-16T16:43:53.956Z"
   },
   {
    "duration": 80,
    "start_time": "2022-10-16T16:43:58.703Z"
   },
   {
    "duration": 12,
    "start_time": "2022-10-16T16:44:01.106Z"
   },
   {
    "duration": 2489,
    "start_time": "2022-10-16T16:44:04.149Z"
   },
   {
    "duration": 10,
    "start_time": "2022-10-16T16:44:12.551Z"
   },
   {
    "duration": 15,
    "start_time": "2022-10-16T16:44:14.531Z"
   },
   {
    "duration": 13,
    "start_time": "2022-10-16T16:44:17.473Z"
   },
   {
    "duration": 25,
    "start_time": "2022-10-16T16:44:19.875Z"
   },
   {
    "duration": 19,
    "start_time": "2022-10-16T16:44:22.083Z"
   },
   {
    "duration": 278,
    "start_time": "2022-10-16T16:44:24.702Z"
   },
   {
    "duration": 272,
    "start_time": "2022-10-16T16:44:29.823Z"
   },
   {
    "duration": 630,
    "start_time": "2022-10-16T16:44:37.532Z"
   },
   {
    "duration": 10,
    "start_time": "2022-10-16T16:44:42.839Z"
   },
   {
    "duration": 12,
    "start_time": "2022-10-16T16:44:53.658Z"
   },
   {
    "duration": 658,
    "start_time": "2022-10-16T16:45:04.476Z"
   },
   {
    "duration": 527,
    "start_time": "2022-10-16T16:45:47.450Z"
   },
   {
    "duration": 566,
    "start_time": "2022-10-16T16:46:28.950Z"
   },
   {
    "duration": 524,
    "start_time": "2022-10-16T16:48:41.876Z"
   },
   {
    "duration": 566,
    "start_time": "2022-10-16T16:48:51.023Z"
   },
   {
    "duration": 647,
    "start_time": "2022-10-16T16:48:55.265Z"
   },
   {
    "duration": 81,
    "start_time": "2022-10-16T16:49:05.877Z"
   },
   {
    "duration": 13,
    "start_time": "2022-10-16T16:49:08.647Z"
   },
   {
    "duration": 2384,
    "start_time": "2022-10-16T16:49:12.034Z"
   },
   {
    "duration": 9,
    "start_time": "2022-10-16T16:49:18.478Z"
   },
   {
    "duration": 13,
    "start_time": "2022-10-16T16:49:21.536Z"
   },
   {
    "duration": 12,
    "start_time": "2022-10-16T16:49:24.286Z"
   },
   {
    "duration": 26,
    "start_time": "2022-10-16T16:49:26.961Z"
   },
   {
    "duration": 19,
    "start_time": "2022-10-16T16:49:29.666Z"
   },
   {
    "duration": 279,
    "start_time": "2022-10-16T16:49:31.799Z"
   },
   {
    "duration": 287,
    "start_time": "2022-10-16T16:49:38.107Z"
   },
   {
    "duration": 626,
    "start_time": "2022-10-16T16:49:42.464Z"
   },
   {
    "duration": 10,
    "start_time": "2022-10-16T16:49:46.303Z"
   },
   {
    "duration": 12,
    "start_time": "2022-10-16T16:49:49.814Z"
   },
   {
    "duration": 7,
    "start_time": "2022-10-16T16:49:52.734Z"
   },
   {
    "duration": 8,
    "start_time": "2022-10-16T16:50:05.872Z"
   },
   {
    "duration": 12,
    "start_time": "2022-10-16T16:50:10.366Z"
   },
   {
    "duration": 79,
    "start_time": "2022-10-16T16:50:38.528Z"
   },
   {
    "duration": 12,
    "start_time": "2022-10-16T16:50:40.516Z"
   },
   {
    "duration": 2381,
    "start_time": "2022-10-16T16:50:41.072Z"
   },
   {
    "duration": 9,
    "start_time": "2022-10-16T16:50:43.455Z"
   },
   {
    "duration": 14,
    "start_time": "2022-10-16T16:50:47.276Z"
   },
   {
    "duration": 13,
    "start_time": "2022-10-16T16:50:48.741Z"
   },
   {
    "duration": 25,
    "start_time": "2022-10-16T16:50:51.126Z"
   },
   {
    "duration": 18,
    "start_time": "2022-10-16T16:50:53.475Z"
   },
   {
    "duration": 284,
    "start_time": "2022-10-16T16:50:55.687Z"
   },
   {
    "duration": 290,
    "start_time": "2022-10-16T16:50:57.325Z"
   },
   {
    "duration": 656,
    "start_time": "2022-10-16T16:51:00.472Z"
   },
   {
    "duration": 11,
    "start_time": "2022-10-16T16:51:03.628Z"
   },
   {
    "duration": 11,
    "start_time": "2022-10-16T16:51:06.360Z"
   },
   {
    "duration": 15,
    "start_time": "2022-10-16T16:51:08.863Z"
   },
   {
    "duration": 595,
    "start_time": "2022-10-16T16:51:25.947Z"
   },
   {
    "duration": 640,
    "start_time": "2022-10-16T16:52:32.221Z"
   },
   {
    "duration": 646,
    "start_time": "2022-10-16T16:53:29.174Z"
   },
   {
    "duration": 711,
    "start_time": "2022-10-16T16:53:52.515Z"
   },
   {
    "duration": 89,
    "start_time": "2022-10-16T16:54:01.748Z"
   },
   {
    "duration": 11,
    "start_time": "2022-10-16T16:54:02.587Z"
   },
   {
    "duration": 2397,
    "start_time": "2022-10-16T16:54:03.821Z"
   },
   {
    "duration": 10,
    "start_time": "2022-10-16T16:54:07.095Z"
   },
   {
    "duration": 13,
    "start_time": "2022-10-16T16:54:08.159Z"
   },
   {
    "duration": 12,
    "start_time": "2022-10-16T16:54:09.341Z"
   },
   {
    "duration": 25,
    "start_time": "2022-10-16T16:54:10.699Z"
   },
   {
    "duration": 18,
    "start_time": "2022-10-16T16:54:11.947Z"
   },
   {
    "duration": 270,
    "start_time": "2022-10-16T16:54:13.373Z"
   },
   {
    "duration": 292,
    "start_time": "2022-10-16T16:54:16.731Z"
   },
   {
    "duration": 639,
    "start_time": "2022-10-16T16:54:19.786Z"
   },
   {
    "duration": 10,
    "start_time": "2022-10-16T16:54:33.382Z"
   },
   {
    "duration": 11,
    "start_time": "2022-10-16T16:54:35.127Z"
   },
   {
    "duration": 584,
    "start_time": "2022-10-16T16:54:38.008Z"
   },
   {
    "duration": 47,
    "start_time": "2022-10-16T16:59:55.525Z"
   },
   {
    "duration": 175,
    "start_time": "2022-10-16T17:00:02.309Z"
   },
   {
    "duration": 15,
    "start_time": "2022-10-16T17:00:42.516Z"
   },
   {
    "duration": 86,
    "start_time": "2022-10-16T17:00:49.349Z"
   },
   {
    "duration": 12,
    "start_time": "2022-10-16T17:00:52.245Z"
   },
   {
    "duration": 2543,
    "start_time": "2022-10-16T17:00:53.514Z"
   },
   {
    "duration": 8,
    "start_time": "2022-10-16T17:00:56.060Z"
   },
   {
    "duration": 13,
    "start_time": "2022-10-16T17:00:57.136Z"
   },
   {
    "duration": 12,
    "start_time": "2022-10-16T17:00:58.019Z"
   },
   {
    "duration": 24,
    "start_time": "2022-10-16T17:00:58.932Z"
   },
   {
    "duration": 18,
    "start_time": "2022-10-16T17:00:59.944Z"
   },
   {
    "duration": 295,
    "start_time": "2022-10-16T17:01:00.906Z"
   },
   {
    "duration": 548,
    "start_time": "2022-10-16T17:01:02.912Z"
   },
   {
    "duration": 268,
    "start_time": "2022-10-16T17:01:07.317Z"
   },
   {
    "duration": 682,
    "start_time": "2022-10-16T17:01:08.952Z"
   },
   {
    "duration": 11,
    "start_time": "2022-10-16T17:01:12.559Z"
   },
   {
    "duration": 12,
    "start_time": "2022-10-16T17:01:15.117Z"
   },
   {
    "duration": 14,
    "start_time": "2022-10-16T17:01:18.737Z"
   },
   {
    "duration": 564,
    "start_time": "2022-10-16T17:07:01.276Z"
   },
   {
    "duration": 617,
    "start_time": "2022-10-16T17:08:33.596Z"
   },
   {
    "duration": 554,
    "start_time": "2022-10-16T17:09:42.866Z"
   },
   {
    "duration": 91,
    "start_time": "2022-10-16T17:09:53.941Z"
   },
   {
    "duration": 12,
    "start_time": "2022-10-16T17:09:54.769Z"
   },
   {
    "duration": 2378,
    "start_time": "2022-10-16T17:09:55.288Z"
   },
   {
    "duration": 8,
    "start_time": "2022-10-16T17:09:57.668Z"
   },
   {
    "duration": 13,
    "start_time": "2022-10-16T17:09:57.706Z"
   },
   {
    "duration": 13,
    "start_time": "2022-10-16T17:09:59.305Z"
   },
   {
    "duration": 27,
    "start_time": "2022-10-16T17:10:00.421Z"
   },
   {
    "duration": 20,
    "start_time": "2022-10-16T17:10:01.432Z"
   },
   {
    "duration": 285,
    "start_time": "2022-10-16T17:10:02.280Z"
   },
   {
    "duration": 287,
    "start_time": "2022-10-16T17:10:08.251Z"
   },
   {
    "duration": 647,
    "start_time": "2022-10-16T17:10:13.006Z"
   },
   {
    "duration": 10,
    "start_time": "2022-10-16T17:10:16.544Z"
   },
   {
    "duration": 11,
    "start_time": "2022-10-16T17:10:17.872Z"
   },
   {
    "duration": 12,
    "start_time": "2022-10-16T17:11:38.855Z"
   },
   {
    "duration": 8,
    "start_time": "2022-10-16T17:15:46.261Z"
   },
   {
    "duration": 89,
    "start_time": "2022-10-16T17:16:34.636Z"
   },
   {
    "duration": 13,
    "start_time": "2022-10-16T17:16:35.847Z"
   },
   {
    "duration": 2371,
    "start_time": "2022-10-16T17:16:36.415Z"
   },
   {
    "duration": 9,
    "start_time": "2022-10-16T17:16:40.743Z"
   },
   {
    "duration": 15,
    "start_time": "2022-10-16T17:16:43.543Z"
   },
   {
    "duration": 12,
    "start_time": "2022-10-16T17:16:45.553Z"
   },
   {
    "duration": 26,
    "start_time": "2022-10-16T17:16:47.450Z"
   },
   {
    "duration": 18,
    "start_time": "2022-10-16T17:16:49.487Z"
   },
   {
    "duration": 282,
    "start_time": "2022-10-16T17:16:52.028Z"
   },
   {
    "duration": 270,
    "start_time": "2022-10-16T17:16:53.910Z"
   },
   {
    "duration": 623,
    "start_time": "2022-10-16T17:16:57.661Z"
   },
   {
    "duration": 10,
    "start_time": "2022-10-16T17:17:01.426Z"
   },
   {
    "duration": 11,
    "start_time": "2022-10-16T17:17:03.716Z"
   },
   {
    "duration": 558,
    "start_time": "2022-10-16T17:17:09.052Z"
   },
   {
    "duration": 8,
    "start_time": "2022-10-16T17:17:15.138Z"
   },
   {
    "duration": 771,
    "start_time": "2022-10-17T20:42:31.020Z"
   },
   {
    "duration": 127,
    "start_time": "2022-10-17T20:42:39.175Z"
   },
   {
    "duration": 15,
    "start_time": "2022-10-17T20:42:59.618Z"
   },
   {
    "duration": 910,
    "start_time": "2022-10-18T20:25:39.539Z"
   },
   {
    "duration": 342,
    "start_time": "2022-10-18T20:26:32.096Z"
   },
   {
    "duration": 50,
    "start_time": "2022-10-18T20:27:33.202Z"
   },
   {
    "duration": 2177,
    "start_time": "2022-10-18T20:28:06.360Z"
   },
   {
    "duration": 10,
    "start_time": "2022-10-18T20:29:23.115Z"
   },
   {
    "duration": 78,
    "start_time": "2022-10-18T20:29:48.174Z"
   },
   {
    "duration": 24,
    "start_time": "2022-10-18T20:31:31.287Z"
   },
   {
    "duration": 17,
    "start_time": "2022-10-18T20:33:17.596Z"
   },
   {
    "duration": 6,
    "start_time": "2022-10-18T20:33:46.356Z"
   },
   {
    "duration": 12,
    "start_time": "2022-10-18T20:34:03.244Z"
   },
   {
    "duration": 21,
    "start_time": "2022-10-18T20:38:43.128Z"
   },
   {
    "duration": 6,
    "start_time": "2022-10-18T20:38:46.739Z"
   },
   {
    "duration": 11,
    "start_time": "2022-10-18T20:38:47.206Z"
   },
   {
    "duration": 10,
    "start_time": "2022-10-18T20:38:53.482Z"
   },
   {
    "duration": 20,
    "start_time": "2022-10-18T20:39:09.992Z"
   },
   {
    "duration": 263,
    "start_time": "2022-10-18T20:40:14.886Z"
   },
   {
    "duration": 113,
    "start_time": "2022-10-18T20:40:56.307Z"
   },
   {
    "duration": 19,
    "start_time": "2022-10-18T20:41:15.579Z"
   },
   {
    "duration": 242,
    "start_time": "2022-10-18T20:41:17.926Z"
   },
   {
    "duration": 45,
    "start_time": "2022-10-18T20:45:52.624Z"
   },
   {
    "duration": 15,
    "start_time": "2022-10-18T20:47:33.592Z"
   },
   {
    "duration": 51,
    "start_time": "2022-10-18T20:47:40.267Z"
   },
   {
    "duration": 49,
    "start_time": "2022-10-18T20:50:02.458Z"
   },
   {
    "duration": 6,
    "start_time": "2022-10-18T20:59:21.147Z"
   },
   {
    "duration": 17,
    "start_time": "2022-10-18T21:01:11.895Z"
   },
   {
    "duration": 13,
    "start_time": "2022-10-18T21:01:25.052Z"
   },
   {
    "duration": 114,
    "start_time": "2022-10-18T21:03:33.015Z"
   },
   {
    "duration": 52,
    "start_time": "2022-10-18T21:03:34.193Z"
   },
   {
    "duration": 2091,
    "start_time": "2022-10-18T21:03:34.892Z"
   },
   {
    "duration": 10,
    "start_time": "2022-10-18T21:03:40.996Z"
   },
   {
    "duration": 16,
    "start_time": "2022-10-18T21:03:43.630Z"
   },
   {
    "duration": 5,
    "start_time": "2022-10-18T21:03:45.240Z"
   },
   {
    "duration": 22,
    "start_time": "2022-10-18T21:03:45.873Z"
   },
   {
    "duration": 9,
    "start_time": "2022-10-18T21:04:03.700Z"
   },
   {
    "duration": 20,
    "start_time": "2022-10-18T21:04:08.636Z"
   },
   {
    "duration": 279,
    "start_time": "2022-10-18T21:04:09.941Z"
   },
   {
    "duration": 14,
    "start_time": "2022-10-18T21:04:11.492Z"
   },
   {
    "duration": 105,
    "start_time": "2022-10-18T21:12:48.559Z"
   },
   {
    "duration": 48,
    "start_time": "2022-10-18T21:12:49.207Z"
   },
   {
    "duration": 2084,
    "start_time": "2022-10-18T21:12:49.655Z"
   },
   {
    "duration": 10,
    "start_time": "2022-10-18T21:12:54.691Z"
   },
   {
    "duration": 14,
    "start_time": "2022-10-18T21:12:57.300Z"
   },
   {
    "duration": 6,
    "start_time": "2022-10-18T21:12:59.848Z"
   },
   {
    "duration": 12,
    "start_time": "2022-10-18T21:13:00.488Z"
   },
   {
    "duration": 98,
    "start_time": "2022-10-18T21:17:18.307Z"
   },
   {
    "duration": 16,
    "start_time": "2022-10-18T21:17:25.252Z"
   },
   {
    "duration": 105,
    "start_time": "2022-10-18T21:17:30.598Z"
   },
   {
    "duration": 51,
    "start_time": "2022-10-18T21:17:31.669Z"
   },
   {
    "duration": 1939,
    "start_time": "2022-10-18T21:17:33.254Z"
   },
   {
    "duration": 9,
    "start_time": "2022-10-18T21:17:37.808Z"
   },
   {
    "duration": 17,
    "start_time": "2022-10-18T21:17:40.841Z"
   },
   {
    "duration": 5,
    "start_time": "2022-10-18T21:17:44.248Z"
   },
   {
    "duration": 12,
    "start_time": "2022-10-18T21:17:44.947Z"
   },
   {
    "duration": 18,
    "start_time": "2022-10-18T21:17:47.599Z"
   },
   {
    "duration": 231,
    "start_time": "2022-10-18T21:17:50.129Z"
   },
   {
    "duration": 14,
    "start_time": "2022-10-18T21:17:55.184Z"
   },
   {
    "duration": 5,
    "start_time": "2022-10-18T21:19:46.895Z"
   },
   {
    "duration": 7,
    "start_time": "2022-10-18T21:19:53.960Z"
   },
   {
    "duration": 8,
    "start_time": "2022-10-18T21:22:02.313Z"
   },
   {
    "duration": 7,
    "start_time": "2022-10-18T21:22:08.974Z"
   },
   {
    "duration": 108,
    "start_time": "2022-10-18T21:24:08.811Z"
   },
   {
    "duration": 71,
    "start_time": "2022-10-18T21:24:10.174Z"
   },
   {
    "duration": 2305,
    "start_time": "2022-10-18T21:24:12.912Z"
   },
   {
    "duration": 12,
    "start_time": "2022-10-18T21:24:17.410Z"
   },
   {
    "duration": 22,
    "start_time": "2022-10-18T21:24:19.630Z"
   },
   {
    "duration": 6,
    "start_time": "2022-10-18T21:24:21.273Z"
   },
   {
    "duration": 16,
    "start_time": "2022-10-18T21:24:22.061Z"
   },
   {
    "duration": 19,
    "start_time": "2022-10-18T21:24:24.180Z"
   },
   {
    "duration": 221,
    "start_time": "2022-10-18T21:24:26.093Z"
   },
   {
    "duration": 1008,
    "start_time": "2022-10-18T21:25:07.059Z"
   },
   {
    "duration": 1640,
    "start_time": "2022-10-18T21:25:14.430Z"
   },
   {
    "duration": 1007,
    "start_time": "2022-10-18T21:26:19.976Z"
   },
   {
    "duration": 1097,
    "start_time": "2022-10-18T21:26:38.316Z"
   },
   {
    "duration": 17,
    "start_time": "2022-10-18T21:26:45.326Z"
   },
   {
    "duration": 18,
    "start_time": "2022-10-18T21:27:13.832Z"
   },
   {
    "duration": 12,
    "start_time": "2022-10-18T21:30:14.429Z"
   },
   {
    "duration": 22,
    "start_time": "2022-10-18T21:30:33.876Z"
   },
   {
    "duration": 7,
    "start_time": "2022-10-18T21:31:35.865Z"
   },
   {
    "duration": 126,
    "start_time": "2022-10-18T21:33:57.742Z"
   },
   {
    "duration": 330,
    "start_time": "2022-10-18T21:35:45.133Z"
   },
   {
    "duration": 9,
    "start_time": "2022-10-18T21:38:19.071Z"
   },
   {
    "duration": 10,
    "start_time": "2022-10-18T21:39:00.196Z"
   },
   {
    "duration": 8,
    "start_time": "2022-10-18T21:39:50.766Z"
   },
   {
    "duration": 41,
    "start_time": "2022-10-18T21:43:17.927Z"
   },
   {
    "duration": 19,
    "start_time": "2022-10-18T21:44:16.323Z"
   },
   {
    "duration": 18,
    "start_time": "2022-10-18T21:44:27.454Z"
   },
   {
    "duration": 100,
    "start_time": "2022-10-18T21:44:42.513Z"
   },
   {
    "duration": 49,
    "start_time": "2022-10-18T21:44:42.866Z"
   },
   {
    "duration": 2088,
    "start_time": "2022-10-18T21:44:43.627Z"
   },
   {
    "duration": 11,
    "start_time": "2022-10-18T21:44:46.868Z"
   },
   {
    "duration": 18,
    "start_time": "2022-10-18T21:44:47.729Z"
   },
   {
    "duration": 7,
    "start_time": "2022-10-18T21:44:48.605Z"
   },
   {
    "duration": 11,
    "start_time": "2022-10-18T21:44:49.025Z"
   },
   {
    "duration": 19,
    "start_time": "2022-10-18T21:44:49.860Z"
   },
   {
    "duration": 223,
    "start_time": "2022-10-18T21:44:50.824Z"
   },
   {
    "duration": 28,
    "start_time": "2022-10-18T21:44:51.952Z"
   },
   {
    "duration": 7,
    "start_time": "2022-10-18T21:44:52.447Z"
   },
   {
    "duration": 309,
    "start_time": "2022-10-18T21:44:52.844Z"
   },
   {
    "duration": 9,
    "start_time": "2022-10-18T21:44:53.951Z"
   },
   {
    "duration": 26,
    "start_time": "2022-10-18T21:44:55.246Z"
   },
   {
    "duration": 25,
    "start_time": "2022-10-18T21:45:15.483Z"
   },
   {
    "duration": 36,
    "start_time": "2022-10-18T21:45:38.233Z"
   },
   {
    "duration": 24,
    "start_time": "2022-10-18T21:45:48.418Z"
   },
   {
    "duration": 26,
    "start_time": "2022-10-18T21:46:20.661Z"
   },
   {
    "duration": 85,
    "start_time": "2022-10-18T21:46:59.909Z"
   },
   {
    "duration": 29,
    "start_time": "2022-10-18T21:47:45.221Z"
   },
   {
    "duration": 355,
    "start_time": "2022-10-18T21:49:20.413Z"
   },
   {
    "duration": 16,
    "start_time": "2022-10-18T21:49:50.362Z"
   },
   {
    "duration": 790,
    "start_time": "2022-10-18T21:50:54.910Z"
   },
   {
    "duration": 626,
    "start_time": "2022-10-18T21:53:57.945Z"
   },
   {
    "duration": 585,
    "start_time": "2022-10-18T21:54:16.139Z"
   },
   {
    "duration": 31,
    "start_time": "2022-10-18T21:54:23.362Z"
   },
   {
    "duration": 346,
    "start_time": "2022-10-18T21:54:25.372Z"
   },
   {
    "duration": 11,
    "start_time": "2022-10-18T21:56:29.923Z"
   },
   {
    "duration": 14,
    "start_time": "2022-10-18T22:01:42.677Z"
   },
   {
    "duration": 956,
    "start_time": "2022-10-18T22:03:05.577Z"
   },
   {
    "duration": 1061,
    "start_time": "2022-10-18T22:04:50.136Z"
   },
   {
    "duration": 107,
    "start_time": "2022-10-18T22:04:55.512Z"
   },
   {
    "duration": 50,
    "start_time": "2022-10-18T22:04:56.357Z"
   },
   {
    "duration": 2080,
    "start_time": "2022-10-18T22:04:56.918Z"
   },
   {
    "duration": 10,
    "start_time": "2022-10-18T22:05:01.622Z"
   },
   {
    "duration": 19,
    "start_time": "2022-10-18T22:05:02.552Z"
   },
   {
    "duration": 6,
    "start_time": "2022-10-18T22:05:03.784Z"
   },
   {
    "duration": 11,
    "start_time": "2022-10-18T22:05:04.959Z"
   },
   {
    "duration": 19,
    "start_time": "2022-10-18T22:05:05.992Z"
   },
   {
    "duration": 257,
    "start_time": "2022-10-18T22:05:07.150Z"
   },
   {
    "duration": 26,
    "start_time": "2022-10-18T22:05:08.733Z"
   },
   {
    "duration": 8,
    "start_time": "2022-10-18T22:05:09.480Z"
   },
   {
    "duration": 364,
    "start_time": "2022-10-18T22:05:10.019Z"
   },
   {
    "duration": 8,
    "start_time": "2022-10-18T22:05:12.842Z"
   },
   {
    "duration": 28,
    "start_time": "2022-10-18T22:05:14.258Z"
   },
   {
    "duration": 28,
    "start_time": "2022-10-18T22:05:16.945Z"
   },
   {
    "duration": 849,
    "start_time": "2022-10-18T22:05:22.168Z"
   },
   {
    "duration": 12,
    "start_time": "2022-10-18T22:05:29.853Z"
   },
   {
    "duration": 14,
    "start_time": "2022-10-18T22:06:59.786Z"
   },
   {
    "duration": 1052,
    "start_time": "2022-10-18T22:07:00.986Z"
   },
   {
    "duration": 10,
    "start_time": "2022-10-18T22:08:00.944Z"
   },
   {
    "duration": 31,
    "start_time": "2022-10-18T22:09:42.884Z"
   },
   {
    "duration": 18,
    "start_time": "2022-10-18T22:11:10.453Z"
   },
   {
    "duration": 11,
    "start_time": "2022-10-18T22:11:36.376Z"
   },
   {
    "duration": 117,
    "start_time": "2022-10-18T22:11:49.260Z"
   },
   {
    "duration": 52,
    "start_time": "2022-10-18T22:11:49.831Z"
   },
   {
    "duration": 2412,
    "start_time": "2022-10-18T22:11:50.462Z"
   },
   {
    "duration": 10,
    "start_time": "2022-10-18T22:11:54.109Z"
   },
   {
    "duration": 19,
    "start_time": "2022-10-18T22:11:55.094Z"
   },
   {
    "duration": 5,
    "start_time": "2022-10-18T22:11:56.032Z"
   },
   {
    "duration": 15,
    "start_time": "2022-10-18T22:11:56.565Z"
   },
   {
    "duration": 19,
    "start_time": "2022-10-18T22:11:57.576Z"
   },
   {
    "duration": 224,
    "start_time": "2022-10-18T22:11:58.625Z"
   },
   {
    "duration": 25,
    "start_time": "2022-10-18T22:12:00.011Z"
   },
   {
    "duration": 7,
    "start_time": "2022-10-18T22:12:00.582Z"
   },
   {
    "duration": 338,
    "start_time": "2022-10-18T22:12:01.098Z"
   },
   {
    "duration": 9,
    "start_time": "2022-10-18T22:12:03.320Z"
   },
   {
    "duration": 27,
    "start_time": "2022-10-18T22:12:04.507Z"
   },
   {
    "duration": 28,
    "start_time": "2022-10-18T22:12:05.613Z"
   },
   {
    "duration": 818,
    "start_time": "2022-10-18T22:12:06.783Z"
   },
   {
    "duration": 12,
    "start_time": "2022-10-18T22:12:12.716Z"
   },
   {
    "duration": 16,
    "start_time": "2022-10-18T22:12:14.823Z"
   },
   {
    "duration": 10,
    "start_time": "2022-10-18T22:12:15.301Z"
   },
   {
    "duration": 31,
    "start_time": "2022-10-18T22:12:16.440Z"
   },
   {
    "duration": 12,
    "start_time": "2022-10-18T22:12:17.959Z"
   },
   {
    "duration": 6,
    "start_time": "2022-10-18T22:12:45.004Z"
   },
   {
    "duration": 68,
    "start_time": "2022-10-18T22:13:09.551Z"
   },
   {
    "duration": 13,
    "start_time": "2022-10-18T22:13:13.145Z"
   },
   {
    "duration": 19,
    "start_time": "2022-10-18T22:17:06.093Z"
   },
   {
    "duration": 23,
    "start_time": "2022-10-18T22:17:22.236Z"
   },
   {
    "duration": 15,
    "start_time": "2022-10-18T22:17:32.964Z"
   },
   {
    "duration": 1169,
    "start_time": "2022-10-18T22:21:47.193Z"
   },
   {
    "duration": 9,
    "start_time": "2022-10-18T22:22:09.395Z"
   },
   {
    "duration": 109,
    "start_time": "2022-10-18T22:36:55.388Z"
   },
   {
    "duration": 52,
    "start_time": "2022-10-18T22:36:56.341Z"
   },
   {
    "duration": 2030,
    "start_time": "2022-10-18T22:36:57.079Z"
   },
   {
    "duration": 11,
    "start_time": "2022-10-18T22:36:59.111Z"
   },
   {
    "duration": 16,
    "start_time": "2022-10-18T22:37:01.071Z"
   },
   {
    "duration": 6,
    "start_time": "2022-10-18T22:37:03.237Z"
   },
   {
    "duration": 12,
    "start_time": "2022-10-18T22:37:05.033Z"
   },
   {
    "duration": 106,
    "start_time": "2022-10-18T22:40:09.945Z"
   },
   {
    "duration": 56,
    "start_time": "2022-10-18T22:40:10.415Z"
   },
   {
    "duration": 2433,
    "start_time": "2022-10-18T22:40:10.961Z"
   },
   {
    "duration": 10,
    "start_time": "2022-10-18T22:40:14.637Z"
   },
   {
    "duration": 19,
    "start_time": "2022-10-18T22:40:15.553Z"
   },
   {
    "duration": 5,
    "start_time": "2022-10-18T22:40:16.640Z"
   },
   {
    "duration": 12,
    "start_time": "2022-10-18T22:40:17.235Z"
   },
   {
    "duration": 106,
    "start_time": "2022-10-18T22:40:32.186Z"
   },
   {
    "duration": 51,
    "start_time": "2022-10-18T22:40:32.718Z"
   },
   {
    "duration": 1981,
    "start_time": "2022-10-18T22:40:33.253Z"
   },
   {
    "duration": 11,
    "start_time": "2022-10-18T22:40:37.107Z"
   },
   {
    "duration": 18,
    "start_time": "2022-10-18T22:40:37.900Z"
   },
   {
    "duration": 5,
    "start_time": "2022-10-18T22:40:38.883Z"
   },
   {
    "duration": 15,
    "start_time": "2022-10-18T22:40:39.361Z"
   },
   {
    "duration": 22,
    "start_time": "2022-10-18T22:40:41.568Z"
   },
   {
    "duration": 228,
    "start_time": "2022-10-18T22:40:44.315Z"
   },
   {
    "duration": 23,
    "start_time": "2022-10-18T22:40:45.641Z"
   },
   {
    "duration": 7,
    "start_time": "2022-10-18T22:40:46.922Z"
   },
   {
    "duration": 333,
    "start_time": "2022-10-18T22:40:47.588Z"
   },
   {
    "duration": 8,
    "start_time": "2022-10-18T22:40:48.950Z"
   },
   {
    "duration": 29,
    "start_time": "2022-10-18T22:40:50.097Z"
   },
   {
    "duration": 26,
    "start_time": "2022-10-18T22:40:56.021Z"
   },
   {
    "duration": 857,
    "start_time": "2022-10-18T22:41:00.734Z"
   },
   {
    "duration": 12,
    "start_time": "2022-10-18T22:41:01.594Z"
   },
   {
    "duration": 22,
    "start_time": "2022-10-18T22:41:03.393Z"
   },
   {
    "duration": 15,
    "start_time": "2022-10-18T22:41:03.745Z"
   },
   {
    "duration": 38,
    "start_time": "2022-10-18T22:41:04.650Z"
   },
   {
    "duration": 22,
    "start_time": "2022-10-18T22:41:05.274Z"
   },
   {
    "duration": 21,
    "start_time": "2022-10-18T22:41:14.158Z"
   },
   {
    "duration": 12,
    "start_time": "2022-10-18T22:41:41.552Z"
   },
   {
    "duration": 16,
    "start_time": "2022-10-18T22:41:44.259Z"
   },
   {
    "duration": 18,
    "start_time": "2022-10-18T22:46:35.929Z"
   },
   {
    "duration": 9,
    "start_time": "2022-10-18T22:46:38.984Z"
   },
   {
    "duration": 19,
    "start_time": "2022-10-18T22:46:39.540Z"
   },
   {
    "duration": 19,
    "start_time": "2022-10-18T22:46:40.215Z"
   },
   {
    "duration": 113,
    "start_time": "2022-10-18T22:46:45.210Z"
   },
   {
    "duration": 52,
    "start_time": "2022-10-18T22:46:45.404Z"
   },
   {
    "duration": 2402,
    "start_time": "2022-10-18T22:46:45.607Z"
   },
   {
    "duration": 11,
    "start_time": "2022-10-18T22:46:48.011Z"
   },
   {
    "duration": 23,
    "start_time": "2022-10-18T22:46:48.024Z"
   },
   {
    "duration": 5,
    "start_time": "2022-10-18T22:46:48.695Z"
   },
   {
    "duration": 14,
    "start_time": "2022-10-18T22:46:49.140Z"
   },
   {
    "duration": 20,
    "start_time": "2022-10-18T22:46:50.165Z"
   },
   {
    "duration": 230,
    "start_time": "2022-10-18T22:46:52.949Z"
   },
   {
    "duration": 22,
    "start_time": "2022-10-18T22:46:55.997Z"
   },
   {
    "duration": 7,
    "start_time": "2022-10-18T22:46:59.721Z"
   },
   {
    "duration": 333,
    "start_time": "2022-10-18T22:47:00.313Z"
   },
   {
    "duration": 9,
    "start_time": "2022-10-18T22:47:08.622Z"
   },
   {
    "duration": 27,
    "start_time": "2022-10-18T22:47:15.323Z"
   },
   {
    "duration": 27,
    "start_time": "2022-10-18T22:47:21.699Z"
   },
   {
    "duration": 851,
    "start_time": "2022-10-18T22:47:22.884Z"
   },
   {
    "duration": 11,
    "start_time": "2022-10-18T22:47:33.824Z"
   },
   {
    "duration": 13,
    "start_time": "2022-10-18T22:47:37.313Z"
   },
   {
    "duration": 9,
    "start_time": "2022-10-18T22:47:39.130Z"
   },
   {
    "duration": 29,
    "start_time": "2022-10-18T22:47:43.632Z"
   },
   {
    "duration": 22,
    "start_time": "2022-10-18T22:47:45.505Z"
   },
   {
    "duration": 11,
    "start_time": "2022-10-18T22:47:48.440Z"
   },
   {
    "duration": 23,
    "start_time": "2022-10-18T22:49:26.460Z"
   },
   {
    "duration": 23,
    "start_time": "2022-10-18T22:50:14.142Z"
   },
   {
    "duration": 25,
    "start_time": "2022-10-18T22:50:29.097Z"
   },
   {
    "duration": 26,
    "start_time": "2022-10-18T22:51:08.194Z"
   },
   {
    "duration": 120,
    "start_time": "2022-10-18T22:51:13.258Z"
   },
   {
    "duration": 51,
    "start_time": "2022-10-18T22:51:13.474Z"
   },
   {
    "duration": 1995,
    "start_time": "2022-10-18T22:51:13.970Z"
   },
   {
    "duration": 10,
    "start_time": "2022-10-18T22:51:16.730Z"
   },
   {
    "duration": 19,
    "start_time": "2022-10-18T22:51:17.296Z"
   },
   {
    "duration": 6,
    "start_time": "2022-10-18T22:51:17.976Z"
   },
   {
    "duration": 13,
    "start_time": "2022-10-18T22:51:18.326Z"
   },
   {
    "duration": 22,
    "start_time": "2022-10-18T22:51:18.957Z"
   },
   {
    "duration": 279,
    "start_time": "2022-10-18T22:51:19.753Z"
   },
   {
    "duration": 30,
    "start_time": "2022-10-18T22:51:20.754Z"
   },
   {
    "duration": 6,
    "start_time": "2022-10-18T22:51:21.260Z"
   },
   {
    "duration": 393,
    "start_time": "2022-10-18T22:51:21.725Z"
   },
   {
    "duration": 9,
    "start_time": "2022-10-18T22:51:24.421Z"
   },
   {
    "duration": 27,
    "start_time": "2022-10-18T22:51:26.485Z"
   },
   {
    "duration": 27,
    "start_time": "2022-10-18T22:51:28.371Z"
   },
   {
    "duration": 860,
    "start_time": "2022-10-18T22:51:29.731Z"
   },
   {
    "duration": 13,
    "start_time": "2022-10-18T22:51:31.106Z"
   },
   {
    "duration": 15,
    "start_time": "2022-10-18T22:51:33.787Z"
   },
   {
    "duration": 10,
    "start_time": "2022-10-18T22:51:35.395Z"
   },
   {
    "duration": 30,
    "start_time": "2022-10-18T22:51:37.163Z"
   },
   {
    "duration": 26,
    "start_time": "2022-10-18T22:51:38.155Z"
   },
   {
    "duration": 19,
    "start_time": "2022-10-18T22:52:14.598Z"
   },
   {
    "duration": 24,
    "start_time": "2022-10-18T22:52:22.309Z"
   },
   {
    "duration": 26,
    "start_time": "2022-10-18T22:52:34.061Z"
   },
   {
    "duration": 26,
    "start_time": "2022-10-18T22:52:46.862Z"
   },
   {
    "duration": 25,
    "start_time": "2022-10-18T22:54:37.989Z"
   },
   {
    "duration": 25,
    "start_time": "2022-10-18T22:54:40.020Z"
   },
   {
    "duration": 25,
    "start_time": "2022-10-18T22:54:54.119Z"
   },
   {
    "duration": 14,
    "start_time": "2022-10-18T22:55:11.179Z"
   },
   {
    "duration": 22,
    "start_time": "2022-10-18T22:55:30.775Z"
   },
   {
    "duration": 105,
    "start_time": "2022-10-18T22:56:05.831Z"
   },
   {
    "duration": 50,
    "start_time": "2022-10-18T22:56:06.722Z"
   },
   {
    "duration": 2422,
    "start_time": "2022-10-18T22:56:08.134Z"
   },
   {
    "duration": 10,
    "start_time": "2022-10-18T22:56:11.339Z"
   },
   {
    "duration": 23,
    "start_time": "2022-10-18T22:56:11.689Z"
   },
   {
    "duration": 6,
    "start_time": "2022-10-18T22:56:12.413Z"
   },
   {
    "duration": 14,
    "start_time": "2022-10-18T22:56:12.913Z"
   },
   {
    "duration": 20,
    "start_time": "2022-10-18T22:56:13.578Z"
   },
   {
    "duration": 233,
    "start_time": "2022-10-18T22:56:14.443Z"
   },
   {
    "duration": 24,
    "start_time": "2022-10-18T22:56:15.521Z"
   },
   {
    "duration": 8,
    "start_time": "2022-10-18T22:56:16.054Z"
   },
   {
    "duration": 331,
    "start_time": "2022-10-18T22:56:16.503Z"
   },
   {
    "duration": 14,
    "start_time": "2022-10-18T22:56:17.591Z"
   },
   {
    "duration": 31,
    "start_time": "2022-10-18T22:56:18.488Z"
   },
   {
    "duration": 28,
    "start_time": "2022-10-18T22:56:19.501Z"
   },
   {
    "duration": 843,
    "start_time": "2022-10-18T22:56:20.478Z"
   },
   {
    "duration": 13,
    "start_time": "2022-10-18T22:56:21.709Z"
   },
   {
    "duration": 14,
    "start_time": "2022-10-18T22:56:22.771Z"
   },
   {
    "duration": 10,
    "start_time": "2022-10-18T22:56:23.403Z"
   },
   {
    "duration": 28,
    "start_time": "2022-10-18T22:56:24.452Z"
   },
   {
    "duration": 22,
    "start_time": "2022-10-18T22:56:24.988Z"
   },
   {
    "duration": 14,
    "start_time": "2022-10-18T22:56:25.461Z"
   },
   {
    "duration": 8,
    "start_time": "2022-10-18T22:56:26.700Z"
   },
   {
    "duration": 14,
    "start_time": "2022-10-18T22:56:27.297Z"
   },
   {
    "duration": 9,
    "start_time": "2022-10-18T23:00:09.653Z"
   },
   {
    "duration": 10,
    "start_time": "2022-10-18T23:00:20.366Z"
   },
   {
    "duration": 24,
    "start_time": "2022-10-18T23:00:33.148Z"
   },
   {
    "duration": 24,
    "start_time": "2022-10-18T23:00:38.389Z"
   },
   {
    "duration": 12,
    "start_time": "2022-10-18T23:01:02.468Z"
   },
   {
    "duration": 13,
    "start_time": "2022-10-18T23:01:10.470Z"
   },
   {
    "duration": 10,
    "start_time": "2022-10-18T23:01:15.917Z"
   },
   {
    "duration": 7,
    "start_time": "2022-10-18T23:01:46.289Z"
   },
   {
    "duration": 8,
    "start_time": "2022-10-18T23:03:50.086Z"
   },
   {
    "duration": 15,
    "start_time": "2022-10-18T23:03:58.713Z"
   },
   {
    "duration": 16,
    "start_time": "2022-10-18T23:04:06.344Z"
   },
   {
    "duration": 26,
    "start_time": "2022-10-18T23:06:35.472Z"
   },
   {
    "duration": 124,
    "start_time": "2022-10-18T23:06:41.727Z"
   },
   {
    "duration": 55,
    "start_time": "2022-10-18T23:06:42.528Z"
   },
   {
    "duration": 1995,
    "start_time": "2022-10-18T23:06:43.004Z"
   },
   {
    "duration": 10,
    "start_time": "2022-10-18T23:06:45.920Z"
   },
   {
    "duration": 19,
    "start_time": "2022-10-18T23:06:46.691Z"
   },
   {
    "duration": 6,
    "start_time": "2022-10-18T23:06:47.469Z"
   },
   {
    "duration": 12,
    "start_time": "2022-10-18T23:06:47.885Z"
   },
   {
    "duration": 19,
    "start_time": "2022-10-18T23:06:48.725Z"
   },
   {
    "duration": 232,
    "start_time": "2022-10-18T23:06:49.837Z"
   },
   {
    "duration": 21,
    "start_time": "2022-10-18T23:06:51.122Z"
   },
   {
    "duration": 7,
    "start_time": "2022-10-18T23:06:51.672Z"
   },
   {
    "duration": 321,
    "start_time": "2022-10-18T23:06:52.209Z"
   },
   {
    "duration": 9,
    "start_time": "2022-10-18T23:06:53.280Z"
   },
   {
    "duration": 25,
    "start_time": "2022-10-18T23:06:54.248Z"
   },
   {
    "duration": 27,
    "start_time": "2022-10-18T23:06:55.404Z"
   },
   {
    "duration": 822,
    "start_time": "2022-10-18T23:06:56.268Z"
   },
   {
    "duration": 10,
    "start_time": "2022-10-18T23:06:57.092Z"
   },
   {
    "duration": 15,
    "start_time": "2022-10-18T23:06:58.120Z"
   },
   {
    "duration": 10,
    "start_time": "2022-10-18T23:06:58.521Z"
   },
   {
    "duration": 31,
    "start_time": "2022-10-18T23:06:59.514Z"
   },
   {
    "duration": 16,
    "start_time": "2022-10-18T23:07:00.324Z"
   },
   {
    "duration": 9,
    "start_time": "2022-10-18T23:07:01.312Z"
   },
   {
    "duration": 8,
    "start_time": "2022-10-18T23:09:44.408Z"
   },
   {
    "duration": 7,
    "start_time": "2022-10-18T23:10:28.025Z"
   },
   {
    "duration": 13,
    "start_time": "2022-10-18T23:10:30.408Z"
   },
   {
    "duration": 5,
    "start_time": "2022-10-18T23:10:37.303Z"
   },
   {
    "duration": 10,
    "start_time": "2022-10-18T23:10:38.395Z"
   },
   {
    "duration": 105,
    "start_time": "2022-10-18T23:10:46.939Z"
   },
   {
    "duration": 63,
    "start_time": "2022-10-18T23:10:47.781Z"
   },
   {
    "duration": 2005,
    "start_time": "2022-10-18T23:10:48.518Z"
   },
   {
    "duration": 10,
    "start_time": "2022-10-18T23:10:50.929Z"
   },
   {
    "duration": 19,
    "start_time": "2022-10-18T23:10:52.055Z"
   },
   {
    "duration": 6,
    "start_time": "2022-10-18T23:10:52.739Z"
   },
   {
    "duration": 13,
    "start_time": "2022-10-18T23:10:53.053Z"
   },
   {
    "duration": 20,
    "start_time": "2022-10-18T23:10:53.781Z"
   },
   {
    "duration": 229,
    "start_time": "2022-10-18T23:10:54.539Z"
   },
   {
    "duration": 24,
    "start_time": "2022-10-18T23:10:55.430Z"
   },
   {
    "duration": 7,
    "start_time": "2022-10-18T23:10:55.836Z"
   },
   {
    "duration": 767,
    "start_time": "2022-10-18T23:10:56.263Z"
   },
   {
    "duration": 11,
    "start_time": "2022-10-18T23:10:57.146Z"
   },
   {
    "duration": 28,
    "start_time": "2022-10-18T23:10:57.949Z"
   },
   {
    "duration": 26,
    "start_time": "2022-10-18T23:10:58.720Z"
   },
   {
    "duration": 849,
    "start_time": "2022-10-18T23:10:59.540Z"
   },
   {
    "duration": 16,
    "start_time": "2022-10-18T23:11:00.392Z"
   },
   {
    "duration": 22,
    "start_time": "2022-10-18T23:11:01.226Z"
   },
   {
    "duration": 10,
    "start_time": "2022-10-18T23:11:01.639Z"
   },
   {
    "duration": 32,
    "start_time": "2022-10-18T23:11:02.697Z"
   },
   {
    "duration": 20,
    "start_time": "2022-10-18T23:11:03.182Z"
   },
   {
    "duration": 9,
    "start_time": "2022-10-18T23:11:03.610Z"
   },
   {
    "duration": 8,
    "start_time": "2022-10-18T23:11:04.138Z"
   },
   {
    "duration": 21,
    "start_time": "2022-10-18T23:11:04.545Z"
   },
   {
    "duration": 8,
    "start_time": "2022-10-18T23:11:05.423Z"
   },
   {
    "duration": 14,
    "start_time": "2022-10-18T23:11:05.851Z"
   },
   {
    "duration": 24,
    "start_time": "2022-10-18T23:17:07.702Z"
   },
   {
    "duration": 111,
    "start_time": "2022-10-18T23:18:42.537Z"
   },
   {
    "duration": 51,
    "start_time": "2022-10-18T23:18:43.226Z"
   },
   {
    "duration": 2048,
    "start_time": "2022-10-18T23:18:43.778Z"
   },
   {
    "duration": 10,
    "start_time": "2022-10-18T23:18:45.828Z"
   },
   {
    "duration": 29,
    "start_time": "2022-10-18T23:18:48.335Z"
   },
   {
    "duration": 109,
    "start_time": "2022-10-18T23:20:45.398Z"
   },
   {
    "duration": 50,
    "start_time": "2022-10-18T23:20:45.802Z"
   },
   {
    "duration": 2085,
    "start_time": "2022-10-18T23:20:46.343Z"
   },
   {
    "duration": 15,
    "start_time": "2022-10-18T23:20:48.431Z"
   },
   {
    "duration": 36,
    "start_time": "2022-10-18T23:20:48.818Z"
   },
   {
    "duration": 7,
    "start_time": "2022-10-18T23:20:50.216Z"
   },
   {
    "duration": 417,
    "start_time": "2022-10-18T23:20:50.763Z"
   },
   {
    "duration": 109,
    "start_time": "2022-10-18T23:24:26.909Z"
   },
   {
    "duration": 51,
    "start_time": "2022-10-18T23:24:27.404Z"
   },
   {
    "duration": 2086,
    "start_time": "2022-10-18T23:24:27.995Z"
   },
   {
    "duration": 11,
    "start_time": "2022-10-18T23:24:31.019Z"
   },
   {
    "duration": 29,
    "start_time": "2022-10-18T23:24:32.195Z"
   },
   {
    "duration": 9,
    "start_time": "2022-10-18T23:24:33.722Z"
   },
   {
    "duration": 13,
    "start_time": "2022-10-18T23:24:34.535Z"
   },
   {
    "duration": 22,
    "start_time": "2022-10-18T23:24:37.840Z"
   },
   {
    "duration": 254,
    "start_time": "2022-10-18T23:24:41.622Z"
   },
   {
    "duration": 23,
    "start_time": "2022-10-18T23:24:42.585Z"
   },
   {
    "duration": 7,
    "start_time": "2022-10-18T23:24:48.530Z"
   },
   {
    "duration": 323,
    "start_time": "2022-10-18T23:24:49.108Z"
   },
   {
    "duration": 11,
    "start_time": "2022-10-18T23:24:51.827Z"
   },
   {
    "duration": 26,
    "start_time": "2022-10-18T23:24:52.746Z"
   },
   {
    "duration": 28,
    "start_time": "2022-10-18T23:24:53.627Z"
   },
   {
    "duration": 812,
    "start_time": "2022-10-18T23:24:54.496Z"
   },
   {
    "duration": 12,
    "start_time": "2022-10-18T23:24:55.310Z"
   },
   {
    "duration": 15,
    "start_time": "2022-10-18T23:24:56.757Z"
   },
   {
    "duration": 11,
    "start_time": "2022-10-18T23:24:57.616Z"
   },
   {
    "duration": 32,
    "start_time": "2022-10-18T23:24:58.522Z"
   },
   {
    "duration": 17,
    "start_time": "2022-10-18T23:24:58.904Z"
   },
   {
    "duration": 9,
    "start_time": "2022-10-18T23:24:59.528Z"
   },
   {
    "duration": 9,
    "start_time": "2022-10-18T23:25:00.075Z"
   },
   {
    "duration": 21,
    "start_time": "2022-10-18T23:25:21.266Z"
   },
   {
    "duration": 36,
    "start_time": "2022-10-18T23:26:22.287Z"
   },
   {
    "duration": 8,
    "start_time": "2022-10-18T23:26:23.409Z"
   },
   {
    "duration": 129,
    "start_time": "2022-10-18T23:26:30.398Z"
   },
   {
    "duration": 57,
    "start_time": "2022-10-18T23:26:31.469Z"
   },
   {
    "duration": 2594,
    "start_time": "2022-10-18T23:26:32.160Z"
   },
   {
    "duration": 11,
    "start_time": "2022-10-18T23:26:35.192Z"
   },
   {
    "duration": 30,
    "start_time": "2022-10-18T23:26:44.224Z"
   },
   {
    "duration": 6,
    "start_time": "2022-10-18T23:26:47.814Z"
   },
   {
    "duration": 12,
    "start_time": "2022-10-18T23:26:49.753Z"
   },
   {
    "duration": 19,
    "start_time": "2022-10-18T23:26:52.942Z"
   },
   {
    "duration": 228,
    "start_time": "2022-10-18T23:26:54.474Z"
   },
   {
    "duration": 24,
    "start_time": "2022-10-18T23:26:56.132Z"
   },
   {
    "duration": 7,
    "start_time": "2022-10-18T23:26:58.799Z"
   },
   {
    "duration": 337,
    "start_time": "2022-10-18T23:26:59.423Z"
   },
   {
    "duration": 10,
    "start_time": "2022-10-18T23:27:01.743Z"
   },
   {
    "duration": 28,
    "start_time": "2022-10-18T23:27:03.512Z"
   },
   {
    "duration": 29,
    "start_time": "2022-10-18T23:27:05.462Z"
   },
   {
    "duration": 840,
    "start_time": "2022-10-18T23:27:08.068Z"
   },
   {
    "duration": 11,
    "start_time": "2022-10-18T23:27:10.996Z"
   },
   {
    "duration": 15,
    "start_time": "2022-10-18T23:27:13.214Z"
   },
   {
    "duration": 9,
    "start_time": "2022-10-18T23:27:14.577Z"
   },
   {
    "duration": 30,
    "start_time": "2022-10-18T23:27:16.798Z"
   },
   {
    "duration": 17,
    "start_time": "2022-10-18T23:27:19.398Z"
   },
   {
    "duration": 10,
    "start_time": "2022-10-18T23:27:21.617Z"
   },
   {
    "duration": 11,
    "start_time": "2022-10-18T23:27:26.674Z"
   },
   {
    "duration": 20,
    "start_time": "2022-10-18T23:27:34.358Z"
   },
   {
    "duration": 25,
    "start_time": "2022-10-18T23:34:28.585Z"
   },
   {
    "duration": 17,
    "start_time": "2022-10-18T23:36:17.591Z"
   },
   {
    "duration": 16,
    "start_time": "2022-10-18T23:36:29.190Z"
   },
   {
    "duration": 16,
    "start_time": "2022-10-18T23:36:54.315Z"
   },
   {
    "duration": 111,
    "start_time": "2022-10-19T00:17:20.643Z"
   },
   {
    "duration": 50,
    "start_time": "2022-10-19T00:17:21.441Z"
   },
   {
    "duration": 2000,
    "start_time": "2022-10-19T00:17:22.943Z"
   },
   {
    "duration": 12,
    "start_time": "2022-10-19T00:17:25.286Z"
   },
   {
    "duration": 38,
    "start_time": "2022-10-19T00:17:29.410Z"
   },
   {
    "duration": 5,
    "start_time": "2022-10-19T00:17:32.897Z"
   },
   {
    "duration": 13,
    "start_time": "2022-10-19T00:17:35.282Z"
   },
   {
    "duration": 18,
    "start_time": "2022-10-19T00:17:36.998Z"
   },
   {
    "duration": 228,
    "start_time": "2022-10-19T00:17:38.017Z"
   },
   {
    "duration": 25,
    "start_time": "2022-10-19T00:17:39.419Z"
   },
   {
    "duration": 8,
    "start_time": "2022-10-19T00:17:40.181Z"
   },
   {
    "duration": 323,
    "start_time": "2022-10-19T00:17:40.809Z"
   },
   {
    "duration": 9,
    "start_time": "2022-10-19T00:17:43.222Z"
   },
   {
    "duration": 26,
    "start_time": "2022-10-19T00:17:52.228Z"
   },
   {
    "duration": 28,
    "start_time": "2022-10-19T00:17:54.254Z"
   },
   {
    "duration": 813,
    "start_time": "2022-10-19T00:17:55.621Z"
   },
   {
    "duration": 12,
    "start_time": "2022-10-19T00:17:58.042Z"
   },
   {
    "duration": 14,
    "start_time": "2022-10-19T00:17:59.563Z"
   },
   {
    "duration": 10,
    "start_time": "2022-10-19T00:18:00.198Z"
   },
   {
    "duration": 30,
    "start_time": "2022-10-19T00:18:01.748Z"
   },
   {
    "duration": 17,
    "start_time": "2022-10-19T00:18:02.252Z"
   },
   {
    "duration": 9,
    "start_time": "2022-10-19T00:18:02.759Z"
   },
   {
    "duration": 7,
    "start_time": "2022-10-19T00:18:03.207Z"
   },
   {
    "duration": 20,
    "start_time": "2022-10-19T00:18:31.556Z"
   },
   {
    "duration": 110,
    "start_time": "2022-10-19T00:33:26.654Z"
   },
   {
    "duration": 49,
    "start_time": "2022-10-19T00:33:27.613Z"
   },
   {
    "duration": 1984,
    "start_time": "2022-10-19T00:33:28.173Z"
   },
   {
    "duration": 10,
    "start_time": "2022-10-19T00:33:31.160Z"
   },
   {
    "duration": 38,
    "start_time": "2022-10-19T00:33:32.082Z"
   },
   {
    "duration": 6,
    "start_time": "2022-10-19T00:33:34.692Z"
   },
   {
    "duration": 12,
    "start_time": "2022-10-19T00:33:35.505Z"
   },
   {
    "duration": 21,
    "start_time": "2022-10-19T00:33:36.506Z"
   },
   {
    "duration": 240,
    "start_time": "2022-10-19T00:33:38.012Z"
   },
   {
    "duration": 24,
    "start_time": "2022-10-19T00:33:39.251Z"
   },
   {
    "duration": 7,
    "start_time": "2022-10-19T00:33:39.960Z"
   },
   {
    "duration": 334,
    "start_time": "2022-10-19T00:33:40.539Z"
   },
   {
    "duration": 11,
    "start_time": "2022-10-19T00:33:41.841Z"
   },
   {
    "duration": 27,
    "start_time": "2022-10-19T00:33:42.748Z"
   },
   {
    "duration": 26,
    "start_time": "2022-10-19T00:33:43.841Z"
   },
   {
    "duration": 822,
    "start_time": "2022-10-19T00:33:44.798Z"
   },
   {
    "duration": 12,
    "start_time": "2022-10-19T00:33:46.857Z"
   },
   {
    "duration": 16,
    "start_time": "2022-10-19T00:33:47.787Z"
   },
   {
    "duration": 16,
    "start_time": "2022-10-19T00:33:48.293Z"
   },
   {
    "duration": 29,
    "start_time": "2022-10-19T00:33:53.614Z"
   },
   {
    "duration": 17,
    "start_time": "2022-10-19T00:33:54.113Z"
   },
   {
    "duration": 8,
    "start_time": "2022-10-19T00:33:54.759Z"
   },
   {
    "duration": 8,
    "start_time": "2022-10-19T00:33:55.259Z"
   },
   {
    "duration": 21,
    "start_time": "2022-10-19T00:33:56.363Z"
   },
   {
    "duration": 5,
    "start_time": "2022-10-19T00:37:14.628Z"
   },
   {
    "duration": 9,
    "start_time": "2022-10-19T00:37:33.182Z"
   },
   {
    "duration": 9,
    "start_time": "2022-10-19T00:38:34.316Z"
   },
   {
    "duration": 10,
    "start_time": "2022-10-19T00:38:47.890Z"
   },
   {
    "duration": 9,
    "start_time": "2022-10-19T00:38:57.228Z"
   },
   {
    "duration": 169,
    "start_time": "2022-10-19T00:40:36.857Z"
   },
   {
    "duration": 14,
    "start_time": "2022-10-19T00:41:37.965Z"
   },
   {
    "duration": 168,
    "start_time": "2022-10-19T00:41:49.121Z"
   },
   {
    "duration": 10,
    "start_time": "2022-10-19T00:48:33.137Z"
   },
   {
    "duration": 9,
    "start_time": "2022-10-19T00:49:44.552Z"
   },
   {
    "duration": 9,
    "start_time": "2022-10-19T00:50:10.068Z"
   },
   {
    "duration": 183,
    "start_time": "2022-10-19T01:00:20.112Z"
   },
   {
    "duration": 192,
    "start_time": "2022-10-19T01:01:16.206Z"
   },
   {
    "duration": 198,
    "start_time": "2022-10-19T01:04:19.955Z"
   },
   {
    "duration": 256,
    "start_time": "2022-10-19T01:04:23.218Z"
   },
   {
    "duration": 350,
    "start_time": "2022-10-19T01:04:43.523Z"
   },
   {
    "duration": 333,
    "start_time": "2022-10-19T01:12:50.240Z"
   },
   {
    "duration": 1037,
    "start_time": "2022-10-19T01:13:20.266Z"
   },
   {
    "duration": 51,
    "start_time": "2022-10-19T01:19:17.468Z"
   },
   {
    "duration": 44,
    "start_time": "2022-10-19T01:19:37.517Z"
   },
   {
    "duration": 44,
    "start_time": "2022-10-19T01:19:49.466Z"
   },
   {
    "duration": 16,
    "start_time": "2022-10-19T01:24:14.786Z"
   },
   {
    "duration": 1139,
    "start_time": "2022-10-19T01:33:57.541Z"
   },
   {
    "duration": 1191,
    "start_time": "2022-10-19T01:34:23.880Z"
   },
   {
    "duration": 624,
    "start_time": "2022-10-19T01:36:03.386Z"
   },
   {
    "duration": 909,
    "start_time": "2022-10-19T01:37:44.220Z"
   },
   {
    "duration": 1307,
    "start_time": "2022-10-19T01:38:15.364Z"
   },
   {
    "duration": 18,
    "start_time": "2022-10-19T01:38:28.050Z"
   },
   {
    "duration": 23,
    "start_time": "2022-10-19T01:38:38.842Z"
   },
   {
    "duration": 51,
    "start_time": "2022-10-19T01:39:08.199Z"
   },
   {
    "duration": 17,
    "start_time": "2022-10-19T01:39:29.022Z"
   },
   {
    "duration": 44,
    "start_time": "2022-10-19T01:39:31.102Z"
   },
   {
    "duration": 25,
    "start_time": "2022-10-19T01:40:33.208Z"
   },
   {
    "duration": 25,
    "start_time": "2022-10-19T01:40:34.700Z"
   },
   {
    "duration": 41,
    "start_time": "2022-10-19T01:40:35.615Z"
   },
   {
    "duration": 15,
    "start_time": "2022-10-19T01:41:07.533Z"
   },
   {
    "duration": 41,
    "start_time": "2022-10-19T01:41:08.263Z"
   },
   {
    "duration": 20,
    "start_time": "2022-10-19T01:42:18.810Z"
   },
   {
    "duration": 38,
    "start_time": "2022-10-19T01:42:19.624Z"
   },
   {
    "duration": 19,
    "start_time": "2022-10-19T01:43:02.067Z"
   },
   {
    "duration": 38,
    "start_time": "2022-10-19T01:43:02.652Z"
   },
   {
    "duration": 330,
    "start_time": "2022-10-19T01:52:37.341Z"
   },
   {
    "duration": 7,
    "start_time": "2022-10-19T01:53:25.128Z"
   },
   {
    "duration": 5,
    "start_time": "2022-10-19T01:53:47.619Z"
   },
   {
    "duration": 369,
    "start_time": "2022-10-19T01:54:15.676Z"
   },
   {
    "duration": 330,
    "start_time": "2022-10-19T01:54:57.905Z"
   },
   {
    "duration": 1993,
    "start_time": "2022-10-19T01:56:30.569Z"
   },
   {
    "duration": 1830,
    "start_time": "2022-10-19T01:56:42.242Z"
   },
   {
    "duration": 48,
    "start_time": "2022-10-19T01:56:44.074Z"
   },
   {
    "duration": 21,
    "start_time": "2022-10-19T01:57:59.157Z"
   },
   {
    "duration": 36,
    "start_time": "2022-10-19T01:58:55.862Z"
   },
   {
    "duration": 296,
    "start_time": "2022-10-19T02:07:24.816Z"
   },
   {
    "duration": 1897,
    "start_time": "2022-10-19T02:07:48.279Z"
   },
   {
    "duration": 35,
    "start_time": "2022-10-19T02:08:23.164Z"
   },
   {
    "duration": 34,
    "start_time": "2022-10-19T02:08:45.393Z"
   },
   {
    "duration": 76,
    "start_time": "2022-10-19T02:11:06.033Z"
   },
   {
    "duration": 27,
    "start_time": "2022-10-19T02:13:37.506Z"
   },
   {
    "duration": 37,
    "start_time": "2022-10-19T02:13:40.164Z"
   },
   {
    "duration": 31,
    "start_time": "2022-10-19T02:14:36.793Z"
   },
   {
    "duration": 37,
    "start_time": "2022-10-19T02:14:38.014Z"
   },
   {
    "duration": 109,
    "start_time": "2022-10-19T02:14:55.055Z"
   },
   {
    "duration": 47,
    "start_time": "2022-10-19T02:14:55.487Z"
   },
   {
    "duration": 1821,
    "start_time": "2022-10-19T02:14:56.120Z"
   },
   {
    "duration": 10,
    "start_time": "2022-10-19T02:14:58.546Z"
   },
   {
    "duration": 34,
    "start_time": "2022-10-19T02:14:59.434Z"
   },
   {
    "duration": 5,
    "start_time": "2022-10-19T02:15:00.280Z"
   },
   {
    "duration": 13,
    "start_time": "2022-10-19T02:15:00.728Z"
   },
   {
    "duration": 21,
    "start_time": "2022-10-19T02:15:01.765Z"
   },
   {
    "duration": 203,
    "start_time": "2022-10-19T02:15:02.637Z"
   },
   {
    "duration": 22,
    "start_time": "2022-10-19T02:15:03.656Z"
   },
   {
    "duration": 7,
    "start_time": "2022-10-19T02:15:04.065Z"
   },
   {
    "duration": 283,
    "start_time": "2022-10-19T02:15:04.523Z"
   },
   {
    "duration": 10,
    "start_time": "2022-10-19T02:15:05.636Z"
   },
   {
    "duration": 24,
    "start_time": "2022-10-19T02:15:06.531Z"
   },
   {
    "duration": 25,
    "start_time": "2022-10-19T02:15:07.457Z"
   },
   {
    "duration": 718,
    "start_time": "2022-10-19T02:15:08.374Z"
   },
   {
    "duration": 11,
    "start_time": "2022-10-19T02:15:09.339Z"
   },
   {
    "duration": 13,
    "start_time": "2022-10-19T02:15:10.293Z"
   },
   {
    "duration": 23,
    "start_time": "2022-10-19T02:15:11.255Z"
   },
   {
    "duration": 21,
    "start_time": "2022-10-19T02:15:11.781Z"
   },
   {
    "duration": 8,
    "start_time": "2022-10-19T02:15:12.378Z"
   },
   {
    "duration": 8,
    "start_time": "2022-10-19T02:15:12.787Z"
   },
   {
    "duration": 5,
    "start_time": "2022-10-19T02:15:13.209Z"
   },
   {
    "duration": 603,
    "start_time": "2022-10-19T02:15:14.116Z"
   },
   {
    "duration": 0,
    "start_time": "2022-10-19T02:15:14.720Z"
   },
   {
    "duration": 29,
    "start_time": "2022-10-19T02:16:27.900Z"
   },
   {
    "duration": 42,
    "start_time": "2022-10-19T02:16:29.906Z"
   },
   {
    "duration": 75,
    "start_time": "2022-10-19T02:17:20.293Z"
   },
   {
    "duration": 988,
    "start_time": "2022-10-19T02:17:24.806Z"
   },
   {
    "duration": 24,
    "start_time": "2022-10-19T02:18:25.028Z"
   },
   {
    "duration": 35,
    "start_time": "2022-10-19T02:18:27.788Z"
   },
   {
    "duration": 28,
    "start_time": "2022-10-19T02:18:53.021Z"
   },
   {
    "duration": 36,
    "start_time": "2022-10-19T02:18:54.189Z"
   },
   {
    "duration": 306,
    "start_time": "2022-10-19T02:19:32.699Z"
   },
   {
    "duration": 37,
    "start_time": "2022-10-19T02:19:33.369Z"
   },
   {
    "duration": 28,
    "start_time": "2022-10-19T02:19:53.480Z"
   },
   {
    "duration": 37,
    "start_time": "2022-10-19T02:19:54.737Z"
   },
   {
    "duration": 649,
    "start_time": "2022-10-19T02:35:53.646Z"
   },
   {
    "duration": 1305,
    "start_time": "2022-10-19T02:36:15.356Z"
   },
   {
    "duration": 1231,
    "start_time": "2022-10-19T02:37:27.337Z"
   },
   {
    "duration": 396,
    "start_time": "2022-10-19T02:37:44.927Z"
   },
   {
    "duration": 1329,
    "start_time": "2022-10-19T02:38:12.683Z"
   },
   {
    "duration": 1309,
    "start_time": "2022-10-19T02:38:58.526Z"
   },
   {
    "duration": 293,
    "start_time": "2022-10-19T02:42:37.219Z"
   },
   {
    "duration": 40,
    "start_time": "2022-10-19T02:42:48.851Z"
   },
   {
    "duration": 39,
    "start_time": "2022-10-19T02:42:59.013Z"
   },
   {
    "duration": 35,
    "start_time": "2022-10-19T02:43:07.262Z"
   },
   {
    "duration": 37,
    "start_time": "2022-10-19T02:43:46.289Z"
   },
   {
    "duration": 908,
    "start_time": "2022-10-19T02:44:05.071Z"
   },
   {
    "duration": 37,
    "start_time": "2022-10-19T02:44:06.137Z"
   },
   {
    "duration": 857,
    "start_time": "2022-10-19T02:44:10.371Z"
   },
   {
    "duration": 944,
    "start_time": "2022-10-19T02:44:14.265Z"
   },
   {
    "duration": 278,
    "start_time": "2022-10-19T02:44:16.161Z"
   },
   {
    "duration": 40,
    "start_time": "2022-10-19T02:44:16.470Z"
   },
   {
    "duration": 37,
    "start_time": "2022-10-19T02:44:27.091Z"
   },
   {
    "duration": 35,
    "start_time": "2022-10-19T02:44:37.688Z"
   },
   {
    "duration": 277,
    "start_time": "2022-10-19T02:47:11.953Z"
   },
   {
    "duration": 37,
    "start_time": "2022-10-19T02:47:12.794Z"
   },
   {
    "duration": 40,
    "start_time": "2022-10-19T02:47:21.703Z"
   },
   {
    "duration": 326,
    "start_time": "2022-10-19T02:50:31.710Z"
   },
   {
    "duration": 41,
    "start_time": "2022-10-19T02:50:32.981Z"
   },
   {
    "duration": 44,
    "start_time": "2022-10-19T02:53:06.205Z"
   },
   {
    "duration": 103,
    "start_time": "2022-10-19T02:54:28.450Z"
   },
   {
    "duration": 49,
    "start_time": "2022-10-19T02:54:29.219Z"
   },
   {
    "duration": 1981,
    "start_time": "2022-10-19T02:54:29.902Z"
   },
   {
    "duration": 12,
    "start_time": "2022-10-19T02:54:31.886Z"
   },
   {
    "duration": 38,
    "start_time": "2022-10-19T02:54:34.530Z"
   },
   {
    "duration": 7,
    "start_time": "2022-10-19T02:54:36.929Z"
   },
   {
    "duration": 13,
    "start_time": "2022-10-19T02:54:37.698Z"
   },
   {
    "duration": 17,
    "start_time": "2022-10-19T02:54:39.095Z"
   },
   {
    "duration": 218,
    "start_time": "2022-10-19T02:54:40.747Z"
   },
   {
    "duration": 22,
    "start_time": "2022-10-19T02:54:42.584Z"
   },
   {
    "duration": 7,
    "start_time": "2022-10-19T02:54:43.379Z"
   },
   {
    "duration": 303,
    "start_time": "2022-10-19T02:54:44.044Z"
   },
   {
    "duration": 9,
    "start_time": "2022-10-19T02:54:46.632Z"
   },
   {
    "duration": 26,
    "start_time": "2022-10-19T02:54:47.648Z"
   },
   {
    "duration": 27,
    "start_time": "2022-10-19T02:54:49.254Z"
   },
   {
    "duration": 750,
    "start_time": "2022-10-19T02:54:50.856Z"
   },
   {
    "duration": 11,
    "start_time": "2022-10-19T02:54:52.220Z"
   },
   {
    "duration": 14,
    "start_time": "2022-10-19T02:54:53.700Z"
   },
   {
    "duration": 29,
    "start_time": "2022-10-19T02:54:55.033Z"
   },
   {
    "duration": 16,
    "start_time": "2022-10-19T02:54:56.382Z"
   },
   {
    "duration": 8,
    "start_time": "2022-10-19T02:54:56.802Z"
   },
   {
    "duration": 7,
    "start_time": "2022-10-19T02:54:57.736Z"
   },
   {
    "duration": 6,
    "start_time": "2022-10-19T02:54:58.191Z"
   },
   {
    "duration": 290,
    "start_time": "2022-10-19T02:54:59.946Z"
   },
   {
    "duration": 47,
    "start_time": "2022-10-19T02:55:01.153Z"
   },
   {
    "duration": 20,
    "start_time": "2022-10-19T02:55:22.389Z"
   },
   {
    "duration": 43,
    "start_time": "2022-10-19T02:56:15.013Z"
   },
   {
    "duration": 1568,
    "start_time": "2022-10-19T03:04:04.158Z"
   },
   {
    "duration": 2922,
    "start_time": "2022-10-19T03:04:36.397Z"
   },
   {
    "duration": 3485,
    "start_time": "2022-10-19T03:06:54.727Z"
   },
   {
    "duration": 137,
    "start_time": "2022-10-19T03:08:35.022Z"
   },
   {
    "duration": 221,
    "start_time": "2022-10-19T03:08:55.227Z"
   },
   {
    "duration": 235,
    "start_time": "2022-10-19T03:09:53.241Z"
   },
   {
    "duration": 228,
    "start_time": "2022-10-19T03:09:59.555Z"
   },
   {
    "duration": 289,
    "start_time": "2022-10-19T03:10:37.297Z"
   },
   {
    "duration": 346,
    "start_time": "2022-10-19T03:10:44.055Z"
   },
   {
    "duration": 376,
    "start_time": "2022-10-19T03:11:20.884Z"
   },
   {
    "duration": 355,
    "start_time": "2022-10-19T03:12:15.438Z"
   },
   {
    "duration": 374,
    "start_time": "2022-10-19T03:12:32.499Z"
   },
   {
    "duration": 537,
    "start_time": "2022-10-19T03:13:55.284Z"
   },
   {
    "duration": 693,
    "start_time": "2022-10-19T03:14:08.073Z"
   },
   {
    "duration": 1167,
    "start_time": "2022-10-19T03:14:28.853Z"
   },
   {
    "duration": 709,
    "start_time": "2022-10-19T03:15:55.780Z"
   },
   {
    "duration": 393,
    "start_time": "2022-10-19T03:17:36.387Z"
   },
   {
    "duration": 801,
    "start_time": "2022-10-19T03:18:21.049Z"
   },
   {
    "duration": 682,
    "start_time": "2022-10-19T03:18:36.321Z"
   },
   {
    "duration": 703,
    "start_time": "2022-10-19T03:19:00.840Z"
   },
   {
    "duration": 705,
    "start_time": "2022-10-19T03:19:46.001Z"
   },
   {
    "duration": 1143,
    "start_time": "2022-10-19T03:21:20.921Z"
   },
   {
    "duration": 1069,
    "start_time": "2022-10-19T03:21:30.494Z"
   },
   {
    "duration": 1984,
    "start_time": "2022-10-19T03:24:39.486Z"
   },
   {
    "duration": 1526,
    "start_time": "2022-10-19T03:25:47.951Z"
   },
   {
    "duration": 351,
    "start_time": "2022-10-19T03:25:59.267Z"
   },
   {
    "duration": 341,
    "start_time": "2022-10-19T03:26:05.561Z"
   },
   {
    "duration": 327,
    "start_time": "2022-10-19T03:26:11.238Z"
   },
   {
    "duration": 348,
    "start_time": "2022-10-19T03:26:14.885Z"
   },
   {
    "duration": 371,
    "start_time": "2022-10-19T03:26:17.859Z"
   },
   {
    "duration": 362,
    "start_time": "2022-10-19T03:26:23.157Z"
   },
   {
    "duration": 325,
    "start_time": "2022-10-19T03:26:47.043Z"
   },
   {
    "duration": 316,
    "start_time": "2022-10-19T03:27:06.242Z"
   },
   {
    "duration": 231,
    "start_time": "2022-10-19T03:27:14.453Z"
   },
   {
    "duration": 181,
    "start_time": "2022-10-19T03:27:23.684Z"
   },
   {
    "duration": 137,
    "start_time": "2022-10-19T03:27:29.437Z"
   },
   {
    "duration": 131,
    "start_time": "2022-10-19T03:27:47.919Z"
   },
   {
    "duration": 171,
    "start_time": "2022-10-19T03:28:06.537Z"
   },
   {
    "duration": 399,
    "start_time": "2022-10-19T03:29:20.487Z"
   },
   {
    "duration": 307,
    "start_time": "2022-10-19T03:29:27.220Z"
   },
   {
    "duration": 227,
    "start_time": "2022-10-19T03:29:31.163Z"
   },
   {
    "duration": 246,
    "start_time": "2022-10-19T03:29:51.230Z"
   },
   {
    "duration": 214,
    "start_time": "2022-10-19T03:30:14.038Z"
   },
   {
    "duration": 346,
    "start_time": "2022-10-19T03:30:32.386Z"
   },
   {
    "duration": 123,
    "start_time": "2022-10-19T03:32:36.743Z"
   },
   {
    "duration": 156,
    "start_time": "2022-10-19T03:33:28.397Z"
   },
   {
    "duration": 158,
    "start_time": "2022-10-19T03:34:07.988Z"
   },
   {
    "duration": 125,
    "start_time": "2022-10-19T03:34:16.302Z"
   },
   {
    "duration": 326,
    "start_time": "2022-10-19T03:34:54.631Z"
   },
   {
    "duration": 106,
    "start_time": "2022-10-19T03:41:40.436Z"
   },
   {
    "duration": 55,
    "start_time": "2022-10-19T03:41:40.930Z"
   },
   {
    "duration": 1952,
    "start_time": "2022-10-19T03:41:41.660Z"
   },
   {
    "duration": 10,
    "start_time": "2022-10-19T03:41:46.419Z"
   },
   {
    "duration": 39,
    "start_time": "2022-10-19T03:41:47.742Z"
   },
   {
    "duration": 6,
    "start_time": "2022-10-19T03:41:49.506Z"
   },
   {
    "duration": 12,
    "start_time": "2022-10-19T03:41:50.207Z"
   },
   {
    "duration": 18,
    "start_time": "2022-10-19T03:41:51.410Z"
   },
   {
    "duration": 219,
    "start_time": "2022-10-19T03:41:53.092Z"
   },
   {
    "duration": 23,
    "start_time": "2022-10-19T03:41:54.642Z"
   },
   {
    "duration": 7,
    "start_time": "2022-10-19T03:41:55.436Z"
   },
   {
    "duration": 307,
    "start_time": "2022-10-19T03:41:55.934Z"
   },
   {
    "duration": 9,
    "start_time": "2022-10-19T03:41:59.167Z"
   },
   {
    "duration": 27,
    "start_time": "2022-10-19T03:42:00.094Z"
   },
   {
    "duration": 27,
    "start_time": "2022-10-19T03:42:02.303Z"
   },
   {
    "duration": 798,
    "start_time": "2022-10-19T03:42:04.443Z"
   },
   {
    "duration": 11,
    "start_time": "2022-10-19T03:42:06.705Z"
   },
   {
    "duration": 15,
    "start_time": "2022-10-19T03:42:07.996Z"
   },
   {
    "duration": 29,
    "start_time": "2022-10-19T03:42:09.283Z"
   },
   {
    "duration": 18,
    "start_time": "2022-10-19T03:42:09.742Z"
   },
   {
    "duration": 8,
    "start_time": "2022-10-19T03:42:10.550Z"
   },
   {
    "duration": 8,
    "start_time": "2022-10-19T03:42:10.905Z"
   },
   {
    "duration": 133,
    "start_time": "2022-10-19T03:42:11.669Z"
   },
   {
    "duration": 338,
    "start_time": "2022-10-19T03:42:12.038Z"
   },
   {
    "duration": 7,
    "start_time": "2022-10-19T03:42:14.636Z"
   },
   {
    "duration": 302,
    "start_time": "2022-10-19T03:42:16.419Z"
   },
   {
    "duration": 305,
    "start_time": "2022-10-19T03:42:24.366Z"
   },
   {
    "duration": 392,
    "start_time": "2022-10-19T03:42:25.505Z"
   },
   {
    "duration": 388,
    "start_time": "2022-10-19T03:42:27.382Z"
   },
   {
    "duration": 275,
    "start_time": "2022-10-19T03:42:28.636Z"
   },
   {
    "duration": 1739,
    "start_time": "2022-10-19T03:42:30.496Z"
   },
   {
    "duration": 217,
    "start_time": "2022-10-19T03:42:32.519Z"
   },
   {
    "duration": 168,
    "start_time": "2022-10-19T03:42:33.894Z"
   },
   {
    "duration": 391,
    "start_time": "2022-10-19T03:45:44.285Z"
   },
   {
    "duration": 399,
    "start_time": "2022-10-19T03:46:40.405Z"
   },
   {
    "duration": 401,
    "start_time": "2022-10-19T03:47:11.020Z"
   },
   {
    "duration": 381,
    "start_time": "2022-10-19T03:47:26.758Z"
   },
   {
    "duration": 363,
    "start_time": "2022-10-19T03:47:48.309Z"
   },
   {
    "duration": 124,
    "start_time": "2022-10-19T03:48:48.635Z"
   },
   {
    "duration": 130,
    "start_time": "2022-10-19T03:49:05.631Z"
   },
   {
    "duration": 113,
    "start_time": "2022-10-19T03:56:51.396Z"
   },
   {
    "duration": 122,
    "start_time": "2022-10-19T03:57:00.990Z"
   },
   {
    "duration": 107,
    "start_time": "2022-10-19T03:57:05.853Z"
   },
   {
    "duration": 134,
    "start_time": "2022-10-19T03:57:16.752Z"
   },
   {
    "duration": 107,
    "start_time": "2022-10-19T03:57:25.204Z"
   },
   {
    "duration": 105,
    "start_time": "2022-10-19T03:57:33.203Z"
   },
   {
    "duration": 127,
    "start_time": "2022-10-19T03:57:36.743Z"
   },
   {
    "duration": 113,
    "start_time": "2022-10-19T03:58:14.232Z"
   },
   {
    "duration": 114,
    "start_time": "2022-10-19T03:58:19.421Z"
   },
   {
    "duration": 113,
    "start_time": "2022-10-19T03:58:26.710Z"
   },
   {
    "duration": 115,
    "start_time": "2022-10-19T03:58:34.681Z"
   },
   {
    "duration": 121,
    "start_time": "2022-10-19T03:58:40.005Z"
   },
   {
    "duration": 133,
    "start_time": "2022-10-19T03:58:48.198Z"
   },
   {
    "duration": 114,
    "start_time": "2022-10-19T03:58:52.037Z"
   },
   {
    "duration": 119,
    "start_time": "2022-10-19T03:59:20.735Z"
   },
   {
    "duration": 110,
    "start_time": "2022-10-19T03:59:25.445Z"
   },
   {
    "duration": 112,
    "start_time": "2022-10-19T03:59:29.030Z"
   },
   {
    "duration": 108,
    "start_time": "2022-10-19T03:59:52.495Z"
   },
   {
    "duration": 114,
    "start_time": "2022-10-19T03:59:54.655Z"
   },
   {
    "duration": 168,
    "start_time": "2022-10-19T04:00:01.739Z"
   },
   {
    "duration": 113,
    "start_time": "2022-10-19T04:00:04.654Z"
   },
   {
    "duration": 111,
    "start_time": "2022-10-19T04:00:21.433Z"
   },
   {
    "duration": 132,
    "start_time": "2022-10-19T04:00:27.300Z"
   },
   {
    "duration": 337,
    "start_time": "2022-10-19T04:00:35.002Z"
   },
   {
    "duration": 132,
    "start_time": "2022-10-19T04:00:39.379Z"
   },
   {
    "duration": 120,
    "start_time": "2022-10-19T04:00:45.607Z"
   },
   {
    "duration": 136,
    "start_time": "2022-10-19T04:00:57.491Z"
   },
   {
    "duration": 117,
    "start_time": "2022-10-19T04:01:03.065Z"
   },
   {
    "duration": 109,
    "start_time": "2022-10-19T04:01:06.603Z"
   },
   {
    "duration": 109,
    "start_time": "2022-10-19T04:01:10.994Z"
   },
   {
    "duration": 16,
    "start_time": "2022-10-19T04:03:19.733Z"
   },
   {
    "duration": 27,
    "start_time": "2022-10-19T04:03:34.560Z"
   },
   {
    "duration": 5,
    "start_time": "2022-10-19T04:04:51.842Z"
   },
   {
    "duration": 25,
    "start_time": "2022-10-19T04:04:59.491Z"
   },
   {
    "duration": 38,
    "start_time": "2022-10-19T04:05:04.021Z"
   },
   {
    "duration": 10,
    "start_time": "2022-10-19T04:07:03.361Z"
   },
   {
    "duration": 43,
    "start_time": "2022-10-19T04:07:28.500Z"
   },
   {
    "duration": 26,
    "start_time": "2022-10-19T05:05:25.414Z"
   },
   {
    "duration": 15,
    "start_time": "2022-10-19T05:05:51.217Z"
   },
   {
    "duration": 14,
    "start_time": "2022-10-19T05:06:59.780Z"
   },
   {
    "duration": 14,
    "start_time": "2022-10-19T05:07:06.141Z"
   },
   {
    "duration": 14,
    "start_time": "2022-10-19T05:07:08.975Z"
   },
   {
    "duration": 14,
    "start_time": "2022-10-19T05:07:12.984Z"
   },
   {
    "duration": 15,
    "start_time": "2022-10-19T05:07:16.464Z"
   },
   {
    "duration": 15,
    "start_time": "2022-10-19T05:07:19.196Z"
   },
   {
    "duration": 13,
    "start_time": "2022-10-19T05:07:21.904Z"
   },
   {
    "duration": 14,
    "start_time": "2022-10-19T05:07:24.867Z"
   },
   {
    "duration": 8,
    "start_time": "2022-10-19T05:10:02.506Z"
   },
   {
    "duration": 8,
    "start_time": "2022-10-19T05:10:05.465Z"
   },
   {
    "duration": 4,
    "start_time": "2022-10-19T05:10:11.075Z"
   },
   {
    "duration": 5,
    "start_time": "2022-10-19T05:10:27.010Z"
   },
   {
    "duration": 116,
    "start_time": "2022-10-19T05:11:46.569Z"
   },
   {
    "duration": 114,
    "start_time": "2022-10-19T05:12:30.906Z"
   },
   {
    "duration": 111,
    "start_time": "2022-10-19T05:12:40.957Z"
   },
   {
    "duration": 101,
    "start_time": "2022-10-19T05:12:44.454Z"
   },
   {
    "duration": 97,
    "start_time": "2022-10-19T05:12:50.057Z"
   },
   {
    "duration": 105,
    "start_time": "2022-10-19T05:12:53.290Z"
   },
   {
    "duration": 103,
    "start_time": "2022-10-19T05:12:57.150Z"
   },
   {
    "duration": 108,
    "start_time": "2022-10-19T05:13:00.070Z"
   },
   {
    "duration": 104,
    "start_time": "2022-10-19T05:13:31.277Z"
   },
   {
    "duration": 123,
    "start_time": "2022-10-19T05:14:08.241Z"
   },
   {
    "duration": 104,
    "start_time": "2022-10-19T05:14:15.258Z"
   },
   {
    "duration": 107,
    "start_time": "2022-10-19T05:14:19.880Z"
   },
   {
    "duration": 104,
    "start_time": "2022-10-19T05:14:24.252Z"
   },
   {
    "duration": 102,
    "start_time": "2022-10-19T05:14:26.933Z"
   },
   {
    "duration": 110,
    "start_time": "2022-10-19T05:14:37.957Z"
   },
   {
    "duration": 99,
    "start_time": "2022-10-19T05:14:45.382Z"
   },
   {
    "duration": 111,
    "start_time": "2022-10-19T05:15:02.684Z"
   },
   {
    "duration": 109,
    "start_time": "2022-10-19T05:15:10.331Z"
   },
   {
    "duration": 106,
    "start_time": "2022-10-19T05:15:13.488Z"
   },
   {
    "duration": 115,
    "start_time": "2022-10-19T05:15:23.021Z"
   },
   {
    "duration": 4,
    "start_time": "2022-10-19T05:18:02.380Z"
   },
   {
    "duration": 5,
    "start_time": "2022-10-19T05:18:22.405Z"
   },
   {
    "duration": 100,
    "start_time": "2022-10-19T05:18:38.409Z"
   },
   {
    "duration": 45,
    "start_time": "2022-10-19T05:18:39.224Z"
   },
   {
    "duration": 1739,
    "start_time": "2022-10-19T05:18:39.741Z"
   },
   {
    "duration": 9,
    "start_time": "2022-10-19T05:18:44.356Z"
   },
   {
    "duration": 35,
    "start_time": "2022-10-19T05:18:45.358Z"
   },
   {
    "duration": 5,
    "start_time": "2022-10-19T05:18:46.394Z"
   },
   {
    "duration": 12,
    "start_time": "2022-10-19T05:18:46.930Z"
   },
   {
    "duration": 17,
    "start_time": "2022-10-19T05:18:48.379Z"
   },
   {
    "duration": 202,
    "start_time": "2022-10-19T05:18:49.449Z"
   },
   {
    "duration": 21,
    "start_time": "2022-10-19T05:18:50.821Z"
   },
   {
    "duration": 6,
    "start_time": "2022-10-19T05:18:51.374Z"
   },
   {
    "duration": 273,
    "start_time": "2022-10-19T05:18:51.950Z"
   },
   {
    "duration": 8,
    "start_time": "2022-10-19T05:18:53.467Z"
   },
   {
    "duration": 22,
    "start_time": "2022-10-19T05:18:54.568Z"
   },
   {
    "duration": 24,
    "start_time": "2022-10-19T05:18:55.697Z"
   },
   {
    "duration": 693,
    "start_time": "2022-10-19T05:18:56.714Z"
   },
   {
    "duration": 11,
    "start_time": "2022-10-19T05:18:59.311Z"
   },
   {
    "duration": 12,
    "start_time": "2022-10-19T05:19:00.715Z"
   },
   {
    "duration": 26,
    "start_time": "2022-10-19T05:19:01.905Z"
   },
   {
    "duration": 15,
    "start_time": "2022-10-19T05:19:07.876Z"
   },
   {
    "duration": 7,
    "start_time": "2022-10-19T05:19:08.361Z"
   },
   {
    "duration": 8,
    "start_time": "2022-10-19T05:19:09.133Z"
   },
   {
    "duration": 300,
    "start_time": "2022-10-19T05:19:09.993Z"
   },
   {
    "duration": 7,
    "start_time": "2022-10-19T05:19:18.200Z"
   },
   {
    "duration": 5,
    "start_time": "2022-10-19T05:21:17.152Z"
   },
   {
    "duration": 10,
    "start_time": "2022-10-19T05:21:31.024Z"
   },
   {
    "duration": 102,
    "start_time": "2022-10-19T05:24:30.827Z"
   },
   {
    "duration": 41,
    "start_time": "2022-10-19T05:24:32.539Z"
   },
   {
    "duration": 1760,
    "start_time": "2022-10-19T05:24:33.470Z"
   },
   {
    "duration": 9,
    "start_time": "2022-10-19T05:24:35.232Z"
   },
   {
    "duration": 37,
    "start_time": "2022-10-19T05:24:39.781Z"
   },
   {
    "duration": 7,
    "start_time": "2022-10-19T05:24:41.877Z"
   },
   {
    "duration": 10,
    "start_time": "2022-10-19T05:24:43.180Z"
   },
   {
    "duration": 17,
    "start_time": "2022-10-19T05:24:56.344Z"
   },
   {
    "duration": 223,
    "start_time": "2022-10-19T05:24:57.939Z"
   },
   {
    "duration": 22,
    "start_time": "2022-10-19T05:25:01.955Z"
   },
   {
    "duration": 11,
    "start_time": "2022-10-19T05:25:15.273Z"
   },
   {
    "duration": 7,
    "start_time": "2022-10-19T05:25:19.267Z"
   },
   {
    "duration": 297,
    "start_time": "2022-10-19T05:25:20.530Z"
   },
   {
    "duration": 8,
    "start_time": "2022-10-19T05:25:23.174Z"
   },
   {
    "duration": 24,
    "start_time": "2022-10-19T05:25:24.213Z"
   },
   {
    "duration": 27,
    "start_time": "2022-10-19T05:25:27.631Z"
   },
   {
    "duration": 733,
    "start_time": "2022-10-19T05:25:29.647Z"
   },
   {
    "duration": 11,
    "start_time": "2022-10-19T05:25:31.955Z"
   },
   {
    "duration": 15,
    "start_time": "2022-10-19T05:25:34.007Z"
   },
   {
    "duration": 22,
    "start_time": "2022-10-19T05:25:35.796Z"
   },
   {
    "duration": 17,
    "start_time": "2022-10-19T05:25:45.795Z"
   },
   {
    "duration": 8,
    "start_time": "2022-10-19T05:25:47.117Z"
   },
   {
    "duration": 9,
    "start_time": "2022-10-19T05:25:47.635Z"
   },
   {
    "duration": 10,
    "start_time": "2022-10-19T05:25:48.813Z"
   },
   {
    "duration": 315,
    "start_time": "2022-10-19T05:25:49.304Z"
   },
   {
    "duration": 6,
    "start_time": "2022-10-19T05:25:52.036Z"
   },
   {
    "duration": 325,
    "start_time": "2022-10-19T05:28:41.396Z"
   },
   {
    "duration": 496,
    "start_time": "2022-10-19T05:28:48.842Z"
   },
   {
    "duration": 499,
    "start_time": "2022-10-19T05:31:49.622Z"
   },
   {
    "duration": 507,
    "start_time": "2022-10-19T05:32:34.115Z"
   },
   {
    "duration": 334,
    "start_time": "2022-10-19T05:33:30.310Z"
   },
   {
    "duration": 6,
    "start_time": "2022-10-19T05:33:35.598Z"
   },
   {
    "duration": 340,
    "start_time": "2022-10-19T05:34:54.140Z"
   },
   {
    "duration": 32,
    "start_time": "2022-10-19T05:37:08.189Z"
   },
   {
    "duration": 33,
    "start_time": "2022-10-19T05:37:33.086Z"
   },
   {
    "duration": 21,
    "start_time": "2022-10-19T05:38:53.203Z"
   },
   {
    "duration": 23,
    "start_time": "2022-10-19T05:39:00.902Z"
   },
   {
    "duration": 32,
    "start_time": "2022-10-19T05:39:05.273Z"
   },
   {
    "duration": 1784,
    "start_time": "2022-10-19T05:41:48.509Z"
   },
   {
    "duration": 440,
    "start_time": "2022-10-19T05:41:59.777Z"
   },
   {
    "duration": 1101,
    "start_time": "2022-10-19T05:44:08.004Z"
   },
   {
    "duration": 1035,
    "start_time": "2022-10-19T05:44:43.752Z"
   },
   {
    "duration": 1023,
    "start_time": "2022-10-19T05:44:56.805Z"
   },
   {
    "duration": 360,
    "start_time": "2022-10-19T05:46:56.069Z"
   },
   {
    "duration": 385,
    "start_time": "2022-10-19T05:48:36.932Z"
   },
   {
    "duration": 9,
    "start_time": "2022-10-19T05:49:21.566Z"
   },
   {
    "duration": 328,
    "start_time": "2022-10-19T05:51:43.459Z"
   },
   {
    "duration": 321,
    "start_time": "2022-10-19T05:54:58.663Z"
   },
   {
    "duration": 318,
    "start_time": "2022-10-19T05:55:14.895Z"
   },
   {
    "duration": 336,
    "start_time": "2022-10-19T05:55:31.246Z"
   },
   {
    "duration": 315,
    "start_time": "2022-10-19T05:55:58.355Z"
   },
   {
    "duration": 336,
    "start_time": "2022-10-19T05:56:08.288Z"
   },
   {
    "duration": 334,
    "start_time": "2022-10-19T05:56:14.245Z"
   },
   {
    "duration": 335,
    "start_time": "2022-10-19T05:56:20.937Z"
   },
   {
    "duration": 326,
    "start_time": "2022-10-19T05:56:30.257Z"
   },
   {
    "duration": 316,
    "start_time": "2022-10-19T05:56:39.491Z"
   },
   {
    "duration": 322,
    "start_time": "2022-10-19T05:56:52.180Z"
   },
   {
    "duration": 311,
    "start_time": "2022-10-19T05:56:56.064Z"
   },
   {
    "duration": 8,
    "start_time": "2022-10-19T06:03:58.742Z"
   },
   {
    "duration": 13,
    "start_time": "2022-10-19T06:04:06.821Z"
   },
   {
    "duration": 114,
    "start_time": "2022-10-19T06:04:19.368Z"
   },
   {
    "duration": 50,
    "start_time": "2022-10-19T06:04:20.188Z"
   },
   {
    "duration": 2062,
    "start_time": "2022-10-19T06:04:20.576Z"
   },
   {
    "duration": 11,
    "start_time": "2022-10-19T06:04:22.640Z"
   },
   {
    "duration": 38,
    "start_time": "2022-10-19T06:04:23.107Z"
   },
   {
    "duration": 5,
    "start_time": "2022-10-19T06:04:24.106Z"
   },
   {
    "duration": 12,
    "start_time": "2022-10-19T06:04:24.575Z"
   },
   {
    "duration": 18,
    "start_time": "2022-10-19T06:04:25.464Z"
   },
   {
    "duration": 231,
    "start_time": "2022-10-19T06:04:26.470Z"
   },
   {
    "duration": 18,
    "start_time": "2022-10-19T06:04:27.589Z"
   },
   {
    "duration": 6,
    "start_time": "2022-10-19T06:04:28.150Z"
   },
   {
    "duration": 298,
    "start_time": "2022-10-19T06:04:28.520Z"
   },
   {
    "duration": 10,
    "start_time": "2022-10-19T06:04:29.709Z"
   },
   {
    "duration": 26,
    "start_time": "2022-10-19T06:04:30.652Z"
   },
   {
    "duration": 25,
    "start_time": "2022-10-19T06:04:31.552Z"
   },
   {
    "duration": 785,
    "start_time": "2022-10-19T06:04:32.453Z"
   },
   {
    "duration": 12,
    "start_time": "2022-10-19T06:04:35.405Z"
   },
   {
    "duration": 21,
    "start_time": "2022-10-19T06:04:36.882Z"
   },
   {
    "duration": 22,
    "start_time": "2022-10-19T06:04:38.161Z"
   },
   {
    "duration": 16,
    "start_time": "2022-10-19T06:04:38.615Z"
   },
   {
    "duration": 10,
    "start_time": "2022-10-19T06:04:39.113Z"
   },
   {
    "duration": 10,
    "start_time": "2022-10-19T06:04:40.100Z"
   },
   {
    "duration": 11,
    "start_time": "2022-10-19T06:04:41.653Z"
   },
   {
    "duration": 316,
    "start_time": "2022-10-19T06:04:43.638Z"
   },
   {
    "duration": 373,
    "start_time": "2022-10-19T06:04:45.393Z"
   },
   {
    "duration": 7,
    "start_time": "2022-10-19T06:04:46.150Z"
   },
   {
    "duration": 5,
    "start_time": "2022-10-19T06:04:47.833Z"
   },
   {
    "duration": 8,
    "start_time": "2022-10-19T06:04:58.213Z"
   },
   {
    "duration": 298,
    "start_time": "2022-10-19T06:04:59.617Z"
   },
   {
    "duration": 388,
    "start_time": "2022-10-19T06:05:01.165Z"
   },
   {
    "duration": 379,
    "start_time": "2022-10-19T06:05:02.341Z"
   },
   {
    "duration": 256,
    "start_time": "2022-10-19T06:05:02.980Z"
   },
   {
    "duration": 351,
    "start_time": "2022-10-19T06:05:04.158Z"
   },
   {
    "duration": 210,
    "start_time": "2022-10-19T06:05:10.403Z"
   },
   {
    "duration": 156,
    "start_time": "2022-10-19T06:05:12.508Z"
   },
   {
    "duration": 162,
    "start_time": "2022-10-19T06:06:59.704Z"
   },
   {
    "duration": 157,
    "start_time": "2022-10-19T06:08:52.763Z"
   },
   {
    "duration": 1584,
    "start_time": "2022-10-19T06:09:07.934Z"
   },
   {
    "duration": 135,
    "start_time": "2022-10-19T06:09:15.199Z"
   },
   {
    "duration": 173,
    "start_time": "2022-10-19T06:09:22.568Z"
   },
   {
    "duration": 131,
    "start_time": "2022-10-19T06:09:28.236Z"
   },
   {
    "duration": 118,
    "start_time": "2022-10-19T06:09:32.444Z"
   },
   {
    "duration": 115,
    "start_time": "2022-10-19T06:09:35.254Z"
   },
   {
    "duration": 202,
    "start_time": "2022-10-19T06:09:43.692Z"
   },
   {
    "duration": 190,
    "start_time": "2022-10-19T06:10:33.308Z"
   },
   {
    "duration": 149,
    "start_time": "2022-10-19T06:10:55.005Z"
   },
   {
    "duration": 157,
    "start_time": "2022-10-19T06:11:09.354Z"
   },
   {
    "duration": 145,
    "start_time": "2022-10-19T06:12:31.505Z"
   },
   {
    "duration": 151,
    "start_time": "2022-10-19T06:12:33.874Z"
   },
   {
    "duration": 140,
    "start_time": "2022-10-19T06:15:07.434Z"
   },
   {
    "duration": 189,
    "start_time": "2022-10-19T06:16:10.086Z"
   },
   {
    "duration": 31,
    "start_time": "2022-10-19T06:16:45.510Z"
   },
   {
    "duration": 146,
    "start_time": "2022-10-19T06:21:54.086Z"
   },
   {
    "duration": 17,
    "start_time": "2022-10-19T06:28:40.678Z"
   },
   {
    "duration": 4553,
    "start_time": "2022-10-19T06:29:51.667Z"
   },
   {
    "duration": 4527,
    "start_time": "2022-10-19T06:30:54.450Z"
   },
   {
    "duration": 10,
    "start_time": "2022-10-19T06:34:15.803Z"
   },
   {
    "duration": 157,
    "start_time": "2022-10-19T06:37:10.038Z"
   },
   {
    "duration": 171,
    "start_time": "2022-10-19T06:37:13.154Z"
   },
   {
    "duration": 161,
    "start_time": "2022-10-19T06:37:20.442Z"
   },
   {
    "duration": 156,
    "start_time": "2022-10-19T06:37:23.519Z"
   },
   {
    "duration": 292,
    "start_time": "2022-10-19T06:37:30.648Z"
   },
   {
    "duration": 270,
    "start_time": "2022-10-19T06:38:40.276Z"
   },
   {
    "duration": 175,
    "start_time": "2022-10-19T06:39:36.665Z"
   },
   {
    "duration": 224,
    "start_time": "2022-10-19T06:39:48.120Z"
   },
   {
    "duration": 270,
    "start_time": "2022-10-19T06:40:33.321Z"
   },
   {
    "duration": 333,
    "start_time": "2022-10-19T06:41:32.418Z"
   },
   {
    "duration": 159,
    "start_time": "2022-10-19T06:41:38.415Z"
   },
   {
    "duration": 158,
    "start_time": "2022-10-19T06:41:47.437Z"
   },
   {
    "duration": 160,
    "start_time": "2022-10-19T06:42:21.566Z"
   },
   {
    "duration": 148,
    "start_time": "2022-10-19T06:42:28.657Z"
   },
   {
    "duration": 194,
    "start_time": "2022-10-19T06:42:39.898Z"
   },
   {
    "duration": 157,
    "start_time": "2022-10-19T06:43:57.952Z"
   },
   {
    "duration": 262,
    "start_time": "2022-10-19T06:51:57.961Z"
   },
   {
    "duration": 243,
    "start_time": "2022-10-19T06:52:04.216Z"
   },
   {
    "duration": 124,
    "start_time": "2022-10-19T07:02:13.911Z"
   },
   {
    "duration": 238,
    "start_time": "2022-10-19T07:02:20.904Z"
   },
   {
    "duration": 113,
    "start_time": "2022-10-19T07:02:26.796Z"
   },
   {
    "duration": 216,
    "start_time": "2022-10-19T07:02:57.308Z"
   },
   {
    "duration": 224,
    "start_time": "2022-10-19T07:04:12.194Z"
   },
   {
    "duration": 220,
    "start_time": "2022-10-19T07:11:09.937Z"
   },
   {
    "duration": 259,
    "start_time": "2022-10-19T07:11:56.494Z"
   },
   {
    "duration": 340,
    "start_time": "2022-10-19T07:12:05.504Z"
   },
   {
    "duration": 369,
    "start_time": "2022-10-19T07:12:17.914Z"
   },
   {
    "duration": 318,
    "start_time": "2022-10-19T07:12:34.600Z"
   },
   {
    "duration": 364,
    "start_time": "2022-10-19T07:15:57.063Z"
   },
   {
    "duration": 357,
    "start_time": "2022-10-19T07:25:49.543Z"
   },
   {
    "duration": 357,
    "start_time": "2022-10-19T07:26:00.069Z"
   },
   {
    "duration": 358,
    "start_time": "2022-10-19T07:30:36.084Z"
   },
   {
    "duration": 670,
    "start_time": "2022-10-19T07:32:51.496Z"
   },
   {
    "duration": 577,
    "start_time": "2022-10-19T07:33:26.776Z"
   },
   {
    "duration": 557,
    "start_time": "2022-10-19T07:33:43.919Z"
   },
   {
    "duration": 2047,
    "start_time": "2022-10-19T07:34:04.817Z"
   },
   {
    "duration": 575,
    "start_time": "2022-10-19T07:34:41.181Z"
   },
   {
    "duration": 539,
    "start_time": "2022-10-19T07:35:15.895Z"
   },
   {
    "duration": 579,
    "start_time": "2022-10-19T07:35:45.878Z"
   },
   {
    "duration": 542,
    "start_time": "2022-10-19T07:35:59.689Z"
   },
   {
    "duration": 552,
    "start_time": "2022-10-19T07:36:09.748Z"
   },
   {
    "duration": 612,
    "start_time": "2022-10-19T07:36:18.982Z"
   },
   {
    "duration": 526,
    "start_time": "2022-10-19T07:37:39.817Z"
   },
   {
    "duration": 599,
    "start_time": "2022-10-19T07:38:01.717Z"
   },
   {
    "duration": 525,
    "start_time": "2022-10-19T07:38:08.053Z"
   },
   {
    "duration": 520,
    "start_time": "2022-10-19T07:38:16.050Z"
   },
   {
    "duration": 580,
    "start_time": "2022-10-19T07:38:40.847Z"
   },
   {
    "duration": 527,
    "start_time": "2022-10-19T07:41:09.051Z"
   },
   {
    "duration": 574,
    "start_time": "2022-10-19T07:42:33.154Z"
   },
   {
    "duration": 580,
    "start_time": "2022-10-19T07:42:48.750Z"
   },
   {
    "duration": 503,
    "start_time": "2022-10-19T07:43:39.549Z"
   },
   {
    "duration": 547,
    "start_time": "2022-10-19T07:46:02.224Z"
   },
   {
    "duration": 588,
    "start_time": "2022-10-19T07:47:53.178Z"
   },
   {
    "duration": 580,
    "start_time": "2022-10-19T07:48:02.887Z"
   },
   {
    "duration": 477,
    "start_time": "2022-10-19T07:48:56.516Z"
   },
   {
    "duration": 2221,
    "start_time": "2022-10-19T07:49:31.482Z"
   },
   {
    "duration": 31,
    "start_time": "2022-10-19T07:56:39.512Z"
   },
   {
    "duration": 144,
    "start_time": "2022-10-19T07:56:45.146Z"
   },
   {
    "duration": 72,
    "start_time": "2022-10-19T07:56:45.982Z"
   },
   {
    "duration": 2736,
    "start_time": "2022-10-19T07:56:46.428Z"
   },
   {
    "duration": 19,
    "start_time": "2022-10-19T07:56:51.013Z"
   },
   {
    "duration": 71,
    "start_time": "2022-10-19T07:56:52.313Z"
   },
   {
    "duration": 8,
    "start_time": "2022-10-19T07:56:53.357Z"
   },
   {
    "duration": 17,
    "start_time": "2022-10-19T07:56:54.050Z"
   },
   {
    "duration": 31,
    "start_time": "2022-10-19T07:56:55.061Z"
   },
   {
    "duration": 354,
    "start_time": "2022-10-19T07:56:56.325Z"
   },
   {
    "duration": 24,
    "start_time": "2022-10-19T07:56:58.088Z"
   },
   {
    "duration": 9,
    "start_time": "2022-10-19T07:56:58.746Z"
   },
   {
    "duration": 435,
    "start_time": "2022-10-19T07:56:59.116Z"
   },
   {
    "duration": 487,
    "start_time": "2022-10-19T07:57:01.562Z"
   },
   {
    "duration": 14,
    "start_time": "2022-10-19T07:57:03.047Z"
   },
   {
    "duration": 43,
    "start_time": "2022-10-19T07:57:03.863Z"
   },
   {
    "duration": 31,
    "start_time": "2022-10-19T07:57:04.925Z"
   },
   {
    "duration": 1033,
    "start_time": "2022-10-19T07:57:05.917Z"
   },
   {
    "duration": 18,
    "start_time": "2022-10-19T07:57:09.139Z"
   },
   {
    "duration": 22,
    "start_time": "2022-10-19T07:57:10.615Z"
   },
   {
    "duration": 39,
    "start_time": "2022-10-19T07:57:11.547Z"
   },
   {
    "duration": 26,
    "start_time": "2022-10-19T07:57:13.022Z"
   },
   {
    "duration": 12,
    "start_time": "2022-10-19T07:57:13.385Z"
   },
   {
    "duration": 10,
    "start_time": "2022-10-19T07:57:14.357Z"
   },
   {
    "duration": 16,
    "start_time": "2022-10-19T07:57:14.687Z"
   },
   {
    "duration": 417,
    "start_time": "2022-10-19T07:57:15.609Z"
   },
   {
    "duration": 424,
    "start_time": "2022-10-19T07:57:16.028Z"
   },
   {
    "duration": 11,
    "start_time": "2022-10-19T07:57:18.446Z"
   },
   {
    "duration": 13,
    "start_time": "2022-10-19T07:57:18.894Z"
   },
   {
    "duration": 623,
    "start_time": "2022-10-19T07:57:19.673Z"
   },
   {
    "duration": 648,
    "start_time": "2022-10-19T07:57:22.189Z"
   },
   {
    "duration": 11,
    "start_time": "2022-10-19T07:57:24.246Z"
   },
   {
    "duration": 302,
    "start_time": "2022-10-19T07:57:27.657Z"
   },
   {
    "duration": 355,
    "start_time": "2022-10-19T07:57:29.657Z"
   },
   {
    "duration": 18,
    "start_time": "2022-10-19T07:57:39.959Z"
   },
   {
    "duration": 303,
    "start_time": "2022-10-19T07:57:51.363Z"
   },
   {
    "duration": 440,
    "start_time": "2022-10-19T07:57:51.856Z"
   },
   {
    "duration": 293,
    "start_time": "2022-10-19T07:57:54.821Z"
   },
   {
    "duration": 322,
    "start_time": "2022-10-19T07:57:55.280Z"
   },
   {
    "duration": 426,
    "start_time": "2022-10-19T07:57:55.997Z"
   },
   {
    "duration": 263,
    "start_time": "2022-10-19T07:57:57.252Z"
   },
   {
    "duration": 233,
    "start_time": "2022-10-19T07:57:58.078Z"
   },
   {
    "duration": 284,
    "start_time": "2022-10-19T07:57:58.841Z"
   },
   {
    "duration": 143,
    "start_time": "2022-10-19T07:57:59.587Z"
   },
   {
    "duration": 271,
    "start_time": "2022-10-19T07:58:00.285Z"
   },
   {
    "duration": 215,
    "start_time": "2022-10-19T07:58:01.059Z"
   },
   {
    "duration": 306,
    "start_time": "2022-10-19T07:58:01.798Z"
   },
   {
    "duration": 288,
    "start_time": "2022-10-19T07:58:02.566Z"
   },
   {
    "duration": 171,
    "start_time": "2022-10-19T07:58:03.350Z"
   },
   {
    "duration": 263,
    "start_time": "2022-10-19T07:58:04.063Z"
   },
   {
    "duration": 629,
    "start_time": "2022-10-19T07:58:07.947Z"
   },
   {
    "duration": 389,
    "start_time": "2022-10-19T07:58:40.626Z"
   },
   {
    "duration": 326,
    "start_time": "2022-10-19T08:01:05.392Z"
   },
   {
    "duration": 292,
    "start_time": "2022-10-19T08:02:14.163Z"
   },
   {
    "duration": 319,
    "start_time": "2022-10-19T08:02:26.187Z"
   },
   {
    "duration": 339,
    "start_time": "2022-10-19T08:02:51.317Z"
   },
   {
    "duration": 314,
    "start_time": "2022-10-19T08:03:26.509Z"
   },
   {
    "duration": 467,
    "start_time": "2022-10-19T08:04:26.381Z"
   },
   {
    "duration": 359,
    "start_time": "2022-10-19T08:04:33.959Z"
   },
   {
    "duration": 316,
    "start_time": "2022-10-19T08:07:49.319Z"
   },
   {
    "duration": 329,
    "start_time": "2022-10-19T08:08:02.946Z"
   },
   {
    "duration": 329,
    "start_time": "2022-10-19T08:08:05.160Z"
   },
   {
    "duration": 452,
    "start_time": "2022-10-19T08:17:57.554Z"
   },
   {
    "duration": 27,
    "start_time": "2022-10-19T08:44:38.856Z"
   },
   {
    "duration": 15,
    "start_time": "2022-10-19T08:44:53.096Z"
   },
   {
    "duration": 163,
    "start_time": "2022-10-19T08:47:06.466Z"
   },
   {
    "duration": 1776,
    "start_time": "2022-10-19T08:59:53.415Z"
   },
   {
    "duration": 969,
    "start_time": "2022-10-19T09:00:33.770Z"
   },
   {
    "duration": 1718,
    "start_time": "2022-10-19T09:03:01.244Z"
   },
   {
    "duration": 5,
    "start_time": "2022-10-19T09:03:12.101Z"
   },
   {
    "duration": 335,
    "start_time": "2022-10-19T09:05:38.969Z"
   },
   {
    "duration": 356,
    "start_time": "2022-10-19T09:06:43.054Z"
   },
   {
    "duration": 13,
    "start_time": "2022-10-19T09:06:49.348Z"
   },
   {
    "duration": 972,
    "start_time": "2022-10-19T09:09:05.963Z"
   },
   {
    "duration": 1285,
    "start_time": "2022-10-19T09:36:50.044Z"
   },
   {
    "duration": 85,
    "start_time": "2022-10-19T09:57:17.010Z"
   },
   {
    "duration": 14,
    "start_time": "2022-10-19T09:57:23.772Z"
   },
   {
    "duration": 39,
    "start_time": "2022-10-19T09:57:31.374Z"
   },
   {
    "duration": 18,
    "start_time": "2022-10-19T09:57:46.752Z"
   },
   {
    "duration": 21,
    "start_time": "2022-10-19T09:58:12.439Z"
   },
   {
    "duration": 1150,
    "start_time": "2022-10-19T09:59:16.655Z"
   },
   {
    "duration": 15,
    "start_time": "2022-10-19T10:00:02.257Z"
   },
   {
    "duration": 22,
    "start_time": "2022-10-19T10:00:28.435Z"
   },
   {
    "duration": 70,
    "start_time": "2022-10-19T10:01:08.658Z"
   },
   {
    "duration": 1152,
    "start_time": "2022-10-19T10:01:12.291Z"
   },
   {
    "duration": 19,
    "start_time": "2022-10-19T10:01:33.772Z"
   },
   {
    "duration": 18,
    "start_time": "2022-10-19T10:02:10.342Z"
   },
   {
    "duration": 11,
    "start_time": "2022-10-19T10:02:48.250Z"
   },
   {
    "duration": 86,
    "start_time": "2022-10-19T10:02:56.004Z"
   },
   {
    "duration": 24,
    "start_time": "2022-10-19T10:03:02.666Z"
   },
   {
    "duration": 19,
    "start_time": "2022-10-19T10:03:46.656Z"
   },
   {
    "duration": 19,
    "start_time": "2022-10-19T10:03:58.555Z"
   },
   {
    "duration": 20,
    "start_time": "2022-10-19T10:04:09.846Z"
   },
   {
    "duration": 16,
    "start_time": "2022-10-19T10:04:23.545Z"
   },
   {
    "duration": 46,
    "start_time": "2022-10-19T10:06:32.720Z"
   },
   {
    "duration": 54,
    "start_time": "2022-10-19T10:08:59.501Z"
   },
   {
    "duration": 15,
    "start_time": "2022-10-19T10:12:14.660Z"
   },
   {
    "duration": 62,
    "start_time": "2022-10-19T10:12:34.247Z"
   },
   {
    "duration": 81,
    "start_time": "2022-10-19T10:20:18.642Z"
   },
   {
    "duration": 30,
    "start_time": "2022-10-19T10:20:41.547Z"
   },
   {
    "duration": 30,
    "start_time": "2022-10-19T10:20:54.979Z"
   },
   {
    "duration": 225,
    "start_time": "2022-10-19T10:21:20.306Z"
   },
   {
    "duration": 248,
    "start_time": "2022-10-19T10:22:05.076Z"
   },
   {
    "duration": 202,
    "start_time": "2022-10-19T10:25:01.230Z"
   },
   {
    "duration": 208,
    "start_time": "2022-10-19T10:25:18.500Z"
   },
   {
    "duration": 219,
    "start_time": "2022-10-19T10:27:05.364Z"
   },
   {
    "duration": 236,
    "start_time": "2022-10-19T10:35:43.711Z"
   },
   {
    "duration": 334,
    "start_time": "2022-10-19T10:35:58.506Z"
   },
   {
    "duration": 2159,
    "start_time": "2022-10-19T10:36:11.635Z"
   },
   {
    "duration": 253,
    "start_time": "2022-10-19T10:36:31.475Z"
   },
   {
    "duration": 257,
    "start_time": "2022-10-19T10:36:51.468Z"
   },
   {
    "duration": 673,
    "start_time": "2022-10-19T10:38:10.860Z"
   },
   {
    "duration": 125,
    "start_time": "2022-10-19T10:43:10.423Z"
   },
   {
    "duration": 73,
    "start_time": "2022-10-19T10:45:06.196Z"
   },
   {
    "duration": 846,
    "start_time": "2022-10-19T10:45:38.056Z"
   },
   {
    "duration": 900,
    "start_time": "2022-10-19T10:45:54.026Z"
   },
   {
    "duration": 283,
    "start_time": "2022-10-19T10:47:32.051Z"
   },
   {
    "duration": 243,
    "start_time": "2022-10-19T10:47:40.248Z"
   },
   {
    "duration": 118,
    "start_time": "2022-10-19T10:49:00.026Z"
   },
   {
    "duration": 46,
    "start_time": "2022-10-19T10:49:00.620Z"
   },
   {
    "duration": 2306,
    "start_time": "2022-10-19T10:49:01.266Z"
   },
   {
    "duration": 2279,
    "start_time": "2022-10-19T10:49:11.272Z"
   },
   {
    "duration": 11,
    "start_time": "2022-10-19T10:49:17.537Z"
   },
   {
    "duration": 44,
    "start_time": "2022-10-19T10:49:18.945Z"
   },
   {
    "duration": 6,
    "start_time": "2022-10-19T10:49:20.253Z"
   },
   {
    "duration": 18,
    "start_time": "2022-10-19T10:49:20.975Z"
   },
   {
    "duration": 27,
    "start_time": "2022-10-19T10:49:22.202Z"
   },
   {
    "duration": 238,
    "start_time": "2022-10-19T10:49:23.473Z"
   },
   {
    "duration": 16,
    "start_time": "2022-10-19T10:49:25.142Z"
   },
   {
    "duration": 9,
    "start_time": "2022-10-19T10:49:26.003Z"
   },
   {
    "duration": 343,
    "start_time": "2022-10-19T10:49:26.638Z"
   },
   {
    "duration": 10,
    "start_time": "2022-10-19T10:49:29.507Z"
   },
   {
    "duration": 31,
    "start_time": "2022-10-19T10:49:30.653Z"
   },
   {
    "duration": 48,
    "start_time": "2022-10-19T10:49:31.817Z"
   },
   {
    "duration": 837,
    "start_time": "2022-10-19T10:49:33.265Z"
   },
   {
    "duration": 16,
    "start_time": "2022-10-19T10:49:35.703Z"
   },
   {
    "duration": 23,
    "start_time": "2022-10-19T10:49:36.810Z"
   },
   {
    "duration": 43,
    "start_time": "2022-10-19T10:49:39.275Z"
   },
   {
    "duration": 28,
    "start_time": "2022-10-19T10:49:39.806Z"
   },
   {
    "duration": 10,
    "start_time": "2022-10-19T10:49:40.286Z"
   },
   {
    "duration": 11,
    "start_time": "2022-10-19T10:49:40.842Z"
   },
   {
    "duration": 314,
    "start_time": "2022-10-19T10:49:41.538Z"
   },
   {
    "duration": 394,
    "start_time": "2022-10-19T10:49:42.887Z"
   },
   {
    "duration": 785,
    "start_time": "2022-10-19T10:49:45.145Z"
   },
   {
    "duration": 12,
    "start_time": "2022-10-19T10:49:47.051Z"
   },
   {
    "duration": 11,
    "start_time": "2022-10-19T10:49:47.788Z"
   },
   {
    "duration": 538,
    "start_time": "2022-10-19T10:49:48.808Z"
   },
   {
    "duration": 551,
    "start_time": "2022-10-19T10:49:49.473Z"
   },
   {
    "duration": 12,
    "start_time": "2022-10-19T10:49:50.377Z"
   },
   {
    "duration": 293,
    "start_time": "2022-10-19T10:49:53.747Z"
   },
   {
    "duration": 284,
    "start_time": "2022-10-19T10:49:55.237Z"
   },
   {
    "duration": 274,
    "start_time": "2022-10-19T10:49:56.283Z"
   },
   {
    "duration": 345,
    "start_time": "2022-10-19T10:49:57.125Z"
   },
   {
    "duration": 410,
    "start_time": "2022-10-19T10:49:57.886Z"
   },
   {
    "duration": 223,
    "start_time": "2022-10-19T10:49:58.806Z"
   },
   {
    "duration": 203,
    "start_time": "2022-10-19T10:49:59.605Z"
   },
   {
    "duration": 290,
    "start_time": "2022-10-19T10:50:00.284Z"
   },
   {
    "duration": 144,
    "start_time": "2022-10-19T10:50:01.038Z"
   },
   {
    "duration": 321,
    "start_time": "2022-10-19T10:50:01.745Z"
   },
   {
    "duration": 210,
    "start_time": "2022-10-19T10:50:02.625Z"
   },
   {
    "duration": 290,
    "start_time": "2022-10-19T10:50:03.393Z"
   },
   {
    "duration": 260,
    "start_time": "2022-10-19T10:50:04.353Z"
   },
   {
    "duration": 229,
    "start_time": "2022-10-19T10:50:05.273Z"
   },
   {
    "duration": 184,
    "start_time": "2022-10-19T10:50:06.098Z"
   },
   {
    "duration": 345,
    "start_time": "2022-10-19T10:50:11.512Z"
   },
   {
    "duration": 1383,
    "start_time": "2022-10-19T10:50:14.126Z"
   },
   {
    "duration": 12,
    "start_time": "2022-10-19T10:50:56.442Z"
   },
   {
    "duration": 24,
    "start_time": "2022-10-19T10:50:59.763Z"
   },
   {
    "duration": 233,
    "start_time": "2022-10-19T10:51:00.643Z"
   },
   {
    "duration": 73,
    "start_time": "2022-10-19T10:51:46.064Z"
   },
   {
    "duration": 782,
    "start_time": "2022-10-19T10:51:54.860Z"
   },
   {
    "duration": 10,
    "start_time": "2022-10-19T10:52:05.325Z"
   },
   {
    "duration": 107,
    "start_time": "2022-10-19T10:52:09.999Z"
   },
   {
    "duration": 42,
    "start_time": "2022-10-19T10:52:10.932Z"
   },
   {
    "duration": 3678,
    "start_time": "2022-10-19T10:52:11.674Z"
   },
   {
    "duration": 11,
    "start_time": "2022-10-19T10:52:16.873Z"
   },
   {
    "duration": 38,
    "start_time": "2022-10-19T10:52:17.828Z"
   },
   {
    "duration": 6,
    "start_time": "2022-10-19T10:52:18.763Z"
   },
   {
    "duration": 18,
    "start_time": "2022-10-19T10:52:19.270Z"
   },
   {
    "duration": 27,
    "start_time": "2022-10-19T10:52:20.178Z"
   },
   {
    "duration": 274,
    "start_time": "2022-10-19T10:52:21.194Z"
   },
   {
    "duration": 13,
    "start_time": "2022-10-19T10:52:22.548Z"
   },
   {
    "duration": 8,
    "start_time": "2022-10-19T10:52:23.066Z"
   },
   {
    "duration": 317,
    "start_time": "2022-10-19T10:52:23.528Z"
   },
   {
    "duration": 10,
    "start_time": "2022-10-19T10:52:24.641Z"
   },
   {
    "duration": 42,
    "start_time": "2022-10-19T10:52:25.485Z"
   },
   {
    "duration": 25,
    "start_time": "2022-10-19T10:52:26.482Z"
   },
   {
    "duration": 792,
    "start_time": "2022-10-19T10:52:27.391Z"
   },
   {
    "duration": 13,
    "start_time": "2022-10-19T10:52:28.185Z"
   },
   {
    "duration": 15,
    "start_time": "2022-10-19T10:52:28.979Z"
   },
   {
    "duration": 27,
    "start_time": "2022-10-19T10:52:29.786Z"
   },
   {
    "duration": 19,
    "start_time": "2022-10-19T10:52:30.187Z"
   },
   {
    "duration": 10,
    "start_time": "2022-10-19T10:52:30.658Z"
   },
   {
    "duration": 9,
    "start_time": "2022-10-19T10:52:31.045Z"
   },
   {
    "duration": 288,
    "start_time": "2022-10-19T10:52:31.503Z"
   },
   {
    "duration": 443,
    "start_time": "2022-10-19T10:52:32.030Z"
   },
   {
    "duration": 857,
    "start_time": "2022-10-19T10:52:32.567Z"
   },
   {
    "duration": 9,
    "start_time": "2022-10-19T10:52:33.426Z"
   },
   {
    "duration": 9,
    "start_time": "2022-10-19T10:52:33.450Z"
   },
   {
    "duration": 546,
    "start_time": "2022-10-19T10:52:33.954Z"
   },
   {
    "duration": 531,
    "start_time": "2022-10-19T10:52:34.502Z"
   },
   {
    "duration": 10,
    "start_time": "2022-10-19T10:52:35.036Z"
   },
   {
    "duration": 277,
    "start_time": "2022-10-19T10:52:35.845Z"
   },
   {
    "duration": 288,
    "start_time": "2022-10-19T10:52:36.567Z"
   },
   {
    "duration": 271,
    "start_time": "2022-10-19T10:52:36.984Z"
   },
   {
    "duration": 235,
    "start_time": "2022-10-19T10:52:37.605Z"
   },
   {
    "duration": 392,
    "start_time": "2022-10-19T10:52:38.103Z"
   },
   {
    "duration": 190,
    "start_time": "2022-10-19T10:52:38.741Z"
   },
   {
    "duration": 159,
    "start_time": "2022-10-19T10:52:39.482Z"
   },
   {
    "duration": 271,
    "start_time": "2022-10-19T10:52:40.067Z"
   },
   {
    "duration": 122,
    "start_time": "2022-10-19T10:52:40.578Z"
   },
   {
    "duration": 242,
    "start_time": "2022-10-19T10:52:41.338Z"
   },
   {
    "duration": 237,
    "start_time": "2022-10-19T10:52:41.937Z"
   },
   {
    "duration": 197,
    "start_time": "2022-10-19T10:52:42.450Z"
   },
   {
    "duration": 285,
    "start_time": "2022-10-19T10:52:42.972Z"
   },
   {
    "duration": 157,
    "start_time": "2022-10-19T10:52:43.691Z"
   },
   {
    "duration": 171,
    "start_time": "2022-10-19T10:52:44.353Z"
   },
   {
    "duration": 307,
    "start_time": "2022-10-19T10:52:45.746Z"
   },
   {
    "duration": 1341,
    "start_time": "2022-10-19T10:52:47.908Z"
   },
   {
    "duration": 11,
    "start_time": "2022-10-19T10:52:49.252Z"
   },
   {
    "duration": 18,
    "start_time": "2022-10-19T10:52:51.744Z"
   },
   {
    "duration": 262,
    "start_time": "2022-10-19T10:52:52.562Z"
   },
   {
    "duration": 366,
    "start_time": "2022-10-19T10:54:50.776Z"
   },
   {
    "duration": 210,
    "start_time": "2022-10-19T11:00:09.931Z"
   },
   {
    "duration": 1119,
    "start_time": "2022-10-19T11:09:27.448Z"
   },
   {
    "duration": 1009,
    "start_time": "2022-10-19T11:09:54.763Z"
   },
   {
    "duration": 510,
    "start_time": "2022-10-19T11:10:31.021Z"
   },
   {
    "duration": 10,
    "start_time": "2022-10-19T11:11:05.215Z"
   },
   {
    "duration": 106,
    "start_time": "2022-10-19T11:11:11.158Z"
   },
   {
    "duration": 58,
    "start_time": "2022-10-19T11:11:11.982Z"
   },
   {
    "duration": 2264,
    "start_time": "2022-10-19T11:11:12.436Z"
   },
   {
    "duration": 11,
    "start_time": "2022-10-19T11:11:15.838Z"
   },
   {
    "duration": 40,
    "start_time": "2022-10-19T11:11:16.802Z"
   },
   {
    "duration": 6,
    "start_time": "2022-10-19T11:11:17.854Z"
   },
   {
    "duration": 12,
    "start_time": "2022-10-19T11:11:18.419Z"
   },
   {
    "duration": 19,
    "start_time": "2022-10-19T11:11:19.424Z"
   },
   {
    "duration": 245,
    "start_time": "2022-10-19T11:11:20.619Z"
   },
   {
    "duration": 15,
    "start_time": "2022-10-19T11:11:21.962Z"
   },
   {
    "duration": 7,
    "start_time": "2022-10-19T11:11:22.522Z"
   },
   {
    "duration": 303,
    "start_time": "2022-10-19T11:11:22.937Z"
   },
   {
    "duration": 9,
    "start_time": "2022-10-19T11:11:24.299Z"
   },
   {
    "duration": 29,
    "start_time": "2022-10-19T11:11:25.344Z"
   },
   {
    "duration": 25,
    "start_time": "2022-10-19T11:11:26.413Z"
   },
   {
    "duration": 751,
    "start_time": "2022-10-19T11:11:27.511Z"
   },
   {
    "duration": 11,
    "start_time": "2022-10-19T11:11:28.570Z"
   },
   {
    "duration": 14,
    "start_time": "2022-10-19T11:11:29.659Z"
   },
   {
    "duration": 27,
    "start_time": "2022-10-19T11:11:30.793Z"
   },
   {
    "duration": 17,
    "start_time": "2022-10-19T11:11:31.453Z"
   },
   {
    "duration": 11,
    "start_time": "2022-10-19T11:11:31.943Z"
   },
   {
    "duration": 11,
    "start_time": "2022-10-19T11:11:32.425Z"
   },
   {
    "duration": 279,
    "start_time": "2022-10-19T11:11:33.224Z"
   },
   {
    "duration": 324,
    "start_time": "2022-10-19T11:11:33.589Z"
   },
   {
    "duration": 743,
    "start_time": "2022-10-19T11:11:34.446Z"
   },
   {
    "duration": 9,
    "start_time": "2022-10-19T11:11:35.191Z"
   },
   {
    "duration": 9,
    "start_time": "2022-10-19T11:11:35.733Z"
   },
   {
    "duration": 502,
    "start_time": "2022-10-19T11:11:36.471Z"
   },
   {
    "duration": 2289,
    "start_time": "2022-10-19T11:11:37.062Z"
   },
   {
    "duration": 15,
    "start_time": "2022-10-19T11:11:39.354Z"
   },
   {
    "duration": 268,
    "start_time": "2022-10-19T11:11:39.371Z"
   },
   {
    "duration": 269,
    "start_time": "2022-10-19T11:11:40.042Z"
   },
   {
    "duration": 252,
    "start_time": "2022-10-19T11:11:40.924Z"
   },
   {
    "duration": 303,
    "start_time": "2022-10-19T11:11:41.653Z"
   },
   {
    "duration": 393,
    "start_time": "2022-10-19T11:11:42.628Z"
   },
   {
    "duration": 220,
    "start_time": "2022-10-19T11:11:43.024Z"
   },
   {
    "duration": 162,
    "start_time": "2022-10-19T11:11:45.804Z"
   },
   {
    "duration": 244,
    "start_time": "2022-10-19T11:11:46.444Z"
   },
   {
    "duration": 124,
    "start_time": "2022-10-19T11:11:47.044Z"
   },
   {
    "duration": 260,
    "start_time": "2022-10-19T11:11:47.874Z"
   },
   {
    "duration": 229,
    "start_time": "2022-10-19T11:11:49.386Z"
   },
   {
    "duration": 193,
    "start_time": "2022-10-19T11:11:50.332Z"
   },
   {
    "duration": 247,
    "start_time": "2022-10-19T11:11:51.027Z"
   },
   {
    "duration": 186,
    "start_time": "2022-10-19T11:11:51.746Z"
   },
   {
    "duration": 167,
    "start_time": "2022-10-19T11:11:52.437Z"
   },
   {
    "duration": 277,
    "start_time": "2022-10-19T11:11:54.286Z"
   },
   {
    "duration": 1322,
    "start_time": "2022-10-19T11:11:56.301Z"
   },
   {
    "duration": 9,
    "start_time": "2022-10-19T11:11:57.625Z"
   },
   {
    "duration": 18,
    "start_time": "2022-10-19T11:11:58.663Z"
   },
   {
    "duration": 201,
    "start_time": "2022-10-19T11:11:59.525Z"
   },
   {
    "duration": 258,
    "start_time": "2022-10-19T11:44:17.438Z"
   },
   {
    "duration": 109,
    "start_time": "2022-10-19T12:07:37.861Z"
   },
   {
    "duration": 49,
    "start_time": "2022-10-19T12:07:38.332Z"
   },
   {
    "duration": 2302,
    "start_time": "2022-10-19T12:07:38.803Z"
   },
   {
    "duration": 12,
    "start_time": "2022-10-19T12:07:42.235Z"
   },
   {
    "duration": 46,
    "start_time": "2022-10-19T12:07:43.155Z"
   },
   {
    "duration": 7,
    "start_time": "2022-10-19T12:07:44.086Z"
   },
   {
    "duration": 18,
    "start_time": "2022-10-19T12:07:44.674Z"
   },
   {
    "duration": 29,
    "start_time": "2022-10-19T12:07:45.571Z"
   },
   {
    "duration": 391,
    "start_time": "2022-10-19T12:07:46.468Z"
   },
   {
    "duration": 18,
    "start_time": "2022-10-19T12:07:47.367Z"
   },
   {
    "duration": 7,
    "start_time": "2022-10-19T12:07:47.872Z"
   },
   {
    "duration": 407,
    "start_time": "2022-10-19T12:07:48.288Z"
   },
   {
    "duration": 12,
    "start_time": "2022-10-19T12:07:49.395Z"
   },
   {
    "duration": 34,
    "start_time": "2022-10-19T12:07:50.387Z"
   },
   {
    "duration": 33,
    "start_time": "2022-10-19T12:07:51.362Z"
   },
   {
    "duration": 957,
    "start_time": "2022-10-19T12:07:52.342Z"
   },
   {
    "duration": 17,
    "start_time": "2022-10-19T12:07:53.302Z"
   },
   {
    "duration": 23,
    "start_time": "2022-10-19T12:07:54.106Z"
   },
   {
    "duration": 28,
    "start_time": "2022-10-19T12:07:54.927Z"
   },
   {
    "duration": 29,
    "start_time": "2022-10-19T12:07:55.422Z"
   },
   {
    "duration": 12,
    "start_time": "2022-10-19T12:07:55.886Z"
   },
   {
    "duration": 9,
    "start_time": "2022-10-19T12:07:56.272Z"
   },
   {
    "duration": 287,
    "start_time": "2022-10-19T12:07:56.746Z"
   },
   {
    "duration": 402,
    "start_time": "2022-10-19T12:07:57.131Z"
   },
   {
    "duration": 976,
    "start_time": "2022-10-19T12:07:57.595Z"
   },
   {
    "duration": 18,
    "start_time": "2022-10-19T12:07:58.574Z"
   },
   {
    "duration": 12,
    "start_time": "2022-10-19T12:07:58.932Z"
   },
   {
    "duration": 628,
    "start_time": "2022-10-19T12:07:59.491Z"
   },
   {
    "duration": 561,
    "start_time": "2022-10-19T12:08:00.122Z"
   },
   {
    "duration": 13,
    "start_time": "2022-10-19T12:08:00.688Z"
   },
   {
    "duration": 296,
    "start_time": "2022-10-19T12:08:01.508Z"
   },
   {
    "duration": 317,
    "start_time": "2022-10-19T12:08:02.499Z"
   },
   {
    "duration": 270,
    "start_time": "2022-10-19T12:08:02.997Z"
   },
   {
    "duration": 278,
    "start_time": "2022-10-19T12:08:03.613Z"
   },
   {
    "duration": 515,
    "start_time": "2022-10-19T12:08:04.168Z"
   },
   {
    "duration": 253,
    "start_time": "2022-10-19T12:08:04.796Z"
   },
   {
    "duration": 189,
    "start_time": "2022-10-19T12:08:05.347Z"
   },
   {
    "duration": 295,
    "start_time": "2022-10-19T12:08:05.943Z"
   },
   {
    "duration": 183,
    "start_time": "2022-10-19T12:08:06.412Z"
   },
   {
    "duration": 340,
    "start_time": "2022-10-19T12:08:06.821Z"
   },
   {
    "duration": 244,
    "start_time": "2022-10-19T12:08:07.287Z"
   },
   {
    "duration": 208,
    "start_time": "2022-10-19T12:08:07.687Z"
   },
   {
    "duration": 306,
    "start_time": "2022-10-19T12:08:08.135Z"
   },
   {
    "duration": 201,
    "start_time": "2022-10-19T12:08:08.590Z"
   },
   {
    "duration": 190,
    "start_time": "2022-10-19T12:08:08.999Z"
   },
   {
    "duration": 298,
    "start_time": "2022-10-19T12:08:09.891Z"
   },
   {
    "duration": 1469,
    "start_time": "2022-10-19T12:08:11.014Z"
   },
   {
    "duration": 15,
    "start_time": "2022-10-19T12:08:12.486Z"
   },
   {
    "duration": 20,
    "start_time": "2022-10-19T12:08:12.653Z"
   },
   {
    "duration": 209,
    "start_time": "2022-10-19T12:08:13.331Z"
   },
   {
    "duration": 735,
    "start_time": "2022-10-19T13:47:39.003Z"
   },
   {
    "duration": 49,
    "start_time": "2022-10-19T13:47:39.740Z"
   },
   {
    "duration": 2226,
    "start_time": "2022-10-19T13:47:39.791Z"
   },
   {
    "duration": 9,
    "start_time": "2022-10-19T13:47:42.019Z"
   },
   {
    "duration": 38,
    "start_time": "2022-10-19T13:47:42.030Z"
   },
   {
    "duration": 5,
    "start_time": "2022-10-19T13:47:42.070Z"
   },
   {
    "duration": 14,
    "start_time": "2022-10-19T13:47:42.076Z"
   },
   {
    "duration": 17,
    "start_time": "2022-10-19T13:47:42.091Z"
   },
   {
    "duration": 245,
    "start_time": "2022-10-19T13:47:42.110Z"
   },
   {
    "duration": 12,
    "start_time": "2022-10-19T13:47:42.358Z"
   },
   {
    "duration": 11,
    "start_time": "2022-10-19T13:47:42.372Z"
   },
   {
    "duration": 337,
    "start_time": "2022-10-19T13:47:42.385Z"
   },
   {
    "duration": 10,
    "start_time": "2022-10-19T13:47:42.724Z"
   },
   {
    "duration": 40,
    "start_time": "2022-10-19T13:47:42.735Z"
   },
   {
    "duration": 26,
    "start_time": "2022-10-19T13:47:42.777Z"
   },
   {
    "duration": 813,
    "start_time": "2022-10-19T13:47:42.805Z"
   },
   {
    "duration": 13,
    "start_time": "2022-10-19T13:47:43.619Z"
   },
   {
    "duration": 30,
    "start_time": "2022-10-19T13:47:43.633Z"
   },
   {
    "duration": 26,
    "start_time": "2022-10-19T13:47:43.665Z"
   },
   {
    "duration": 129,
    "start_time": "2022-10-19T13:47:43.692Z"
   },
   {
    "duration": 7,
    "start_time": "2022-10-19T13:47:43.823Z"
   },
   {
    "duration": 23,
    "start_time": "2022-10-19T13:47:43.831Z"
   },
   {
    "duration": 256,
    "start_time": "2022-10-19T13:47:43.856Z"
   },
   {
    "duration": 392,
    "start_time": "2022-10-19T13:47:44.114Z"
   },
   {
    "duration": 790,
    "start_time": "2022-10-19T13:47:44.508Z"
   },
   {
    "duration": 8,
    "start_time": "2022-10-19T13:47:45.300Z"
   },
   {
    "duration": 13,
    "start_time": "2022-10-19T13:47:45.310Z"
   },
   {
    "duration": 638,
    "start_time": "2022-10-19T13:47:45.327Z"
   },
   {
    "duration": 548,
    "start_time": "2022-10-19T13:47:45.967Z"
   },
   {
    "duration": 11,
    "start_time": "2022-10-19T13:47:46.517Z"
   },
   {
    "duration": 289,
    "start_time": "2022-10-19T13:47:46.530Z"
   },
   {
    "duration": 289,
    "start_time": "2022-10-19T13:47:46.821Z"
   },
   {
    "duration": 377,
    "start_time": "2022-10-19T13:47:47.112Z"
   },
   {
    "duration": 264,
    "start_time": "2022-10-19T13:47:47.490Z"
   },
   {
    "duration": 395,
    "start_time": "2022-10-19T13:47:47.756Z"
   },
   {
    "duration": 217,
    "start_time": "2022-10-19T13:47:48.154Z"
   },
   {
    "duration": 165,
    "start_time": "2022-10-19T13:47:48.373Z"
   },
   {
    "duration": 360,
    "start_time": "2022-10-19T13:47:48.540Z"
   },
   {
    "duration": 133,
    "start_time": "2022-10-19T13:47:48.902Z"
   },
   {
    "duration": 285,
    "start_time": "2022-10-19T13:47:49.037Z"
   },
   {
    "duration": 211,
    "start_time": "2022-10-19T13:47:49.325Z"
   },
   {
    "duration": 209,
    "start_time": "2022-10-19T13:47:49.538Z"
   },
   {
    "duration": 275,
    "start_time": "2022-10-19T13:47:49.748Z"
   },
   {
    "duration": 178,
    "start_time": "2022-10-19T13:47:50.025Z"
   },
   {
    "duration": 329,
    "start_time": "2022-10-19T13:47:50.205Z"
   },
   {
    "duration": 311,
    "start_time": "2022-10-19T13:47:50.536Z"
   },
   {
    "duration": 1485,
    "start_time": "2022-10-19T13:47:50.854Z"
   },
   {
    "duration": 17,
    "start_time": "2022-10-19T13:47:52.341Z"
   },
   {
    "duration": 19,
    "start_time": "2022-10-19T13:47:52.360Z"
   },
   {
    "duration": 336,
    "start_time": "2022-10-19T13:47:52.382Z"
   },
   {
    "duration": 817,
    "start_time": "2022-10-19T14:13:29.645Z"
   },
   {
    "duration": 47,
    "start_time": "2022-10-19T14:13:30.464Z"
   },
   {
    "duration": 2672,
    "start_time": "2022-10-19T14:13:30.513Z"
   },
   {
    "duration": 11,
    "start_time": "2022-10-19T14:13:33.187Z"
   },
   {
    "duration": 101,
    "start_time": "2022-10-19T14:13:33.201Z"
   },
   {
    "duration": 8,
    "start_time": "2022-10-19T14:13:33.304Z"
   },
   {
    "duration": 54,
    "start_time": "2022-10-19T14:13:33.313Z"
   },
   {
    "duration": 18,
    "start_time": "2022-10-19T14:13:33.369Z"
   },
   {
    "duration": 343,
    "start_time": "2022-10-19T14:13:33.389Z"
   },
   {
    "duration": 17,
    "start_time": "2022-10-19T14:13:33.755Z"
   },
   {
    "duration": 9,
    "start_time": "2022-10-19T14:13:33.774Z"
   },
   {
    "duration": 377,
    "start_time": "2022-10-19T14:13:33.786Z"
   },
   {
    "duration": 13,
    "start_time": "2022-10-19T14:13:34.165Z"
   },
   {
    "duration": 27,
    "start_time": "2022-10-19T14:13:34.180Z"
   },
   {
    "duration": 50,
    "start_time": "2022-10-19T14:13:34.209Z"
   },
   {
    "duration": 843,
    "start_time": "2022-10-19T14:13:34.261Z"
   },
   {
    "duration": 12,
    "start_time": "2022-10-19T14:13:35.107Z"
   },
   {
    "duration": 18,
    "start_time": "2022-10-19T14:13:35.121Z"
   },
   {
    "duration": 28,
    "start_time": "2022-10-19T14:13:35.154Z"
   },
   {
    "duration": 138,
    "start_time": "2022-10-19T14:13:35.184Z"
   },
   {
    "duration": 8,
    "start_time": "2022-10-19T14:13:35.324Z"
   },
   {
    "duration": 25,
    "start_time": "2022-10-19T14:13:35.334Z"
   },
   {
    "duration": 284,
    "start_time": "2022-10-19T14:13:35.361Z"
   },
   {
    "duration": 374,
    "start_time": "2022-10-19T14:13:35.646Z"
   },
   {
    "duration": 906,
    "start_time": "2022-10-19T14:13:36.022Z"
   },
   {
    "duration": 13,
    "start_time": "2022-10-19T14:13:36.930Z"
   },
   {
    "duration": 60,
    "start_time": "2022-10-19T14:13:36.945Z"
   },
   {
    "duration": 671,
    "start_time": "2022-10-19T14:13:37.009Z"
   },
   {
    "duration": 684,
    "start_time": "2022-10-19T14:13:37.682Z"
   },
   {
    "duration": 14,
    "start_time": "2022-10-19T14:13:38.369Z"
   },
   {
    "duration": 320,
    "start_time": "2022-10-19T14:13:38.385Z"
   },
   {
    "duration": 296,
    "start_time": "2022-10-19T14:13:38.707Z"
   },
   {
    "duration": 409,
    "start_time": "2022-10-19T14:13:39.005Z"
   },
   {
    "duration": 276,
    "start_time": "2022-10-19T14:13:39.416Z"
   },
   {
    "duration": 442,
    "start_time": "2022-10-19T14:13:39.695Z"
   },
   {
    "duration": 244,
    "start_time": "2022-10-19T14:13:40.140Z"
   },
   {
    "duration": 176,
    "start_time": "2022-10-19T14:13:40.386Z"
   },
   {
    "duration": 352,
    "start_time": "2022-10-19T14:13:40.564Z"
   },
   {
    "duration": 190,
    "start_time": "2022-10-19T14:13:40.918Z"
   },
   {
    "duration": 290,
    "start_time": "2022-10-19T14:13:41.110Z"
   },
   {
    "duration": 321,
    "start_time": "2022-10-19T14:13:41.402Z"
   },
   {
    "duration": 250,
    "start_time": "2022-10-19T14:13:41.725Z"
   },
   {
    "duration": 279,
    "start_time": "2022-10-19T14:13:41.977Z"
   },
   {
    "duration": 213,
    "start_time": "2022-10-19T14:13:42.258Z"
   },
   {
    "duration": 343,
    "start_time": "2022-10-19T14:13:42.474Z"
   },
   {
    "duration": 330,
    "start_time": "2022-10-19T14:13:42.819Z"
   },
   {
    "duration": 1484,
    "start_time": "2022-10-19T14:13:43.154Z"
   },
   {
    "duration": 17,
    "start_time": "2022-10-19T14:13:44.641Z"
   },
   {
    "duration": 23,
    "start_time": "2022-10-19T14:13:44.661Z"
   },
   {
    "duration": 315,
    "start_time": "2022-10-19T14:13:44.686Z"
   },
   {
    "duration": 832,
    "start_time": "2022-10-19T14:50:02.643Z"
   },
   {
    "duration": 47,
    "start_time": "2022-10-19T14:50:03.477Z"
   },
   {
    "duration": 2070,
    "start_time": "2022-10-19T14:50:03.527Z"
   },
   {
    "duration": 13,
    "start_time": "2022-10-19T14:50:05.600Z"
   },
   {
    "duration": 63,
    "start_time": "2022-10-19T14:50:05.615Z"
   },
   {
    "duration": 5,
    "start_time": "2022-10-19T14:50:05.680Z"
   },
   {
    "duration": 33,
    "start_time": "2022-10-19T14:50:05.687Z"
   },
   {
    "duration": 17,
    "start_time": "2022-10-19T14:50:05.722Z"
   },
   {
    "duration": 239,
    "start_time": "2022-10-19T14:50:05.741Z"
   },
   {
    "duration": 13,
    "start_time": "2022-10-19T14:50:05.984Z"
   },
   {
    "duration": 8,
    "start_time": "2022-10-19T14:50:06.000Z"
   },
   {
    "duration": 346,
    "start_time": "2022-10-19T14:50:06.010Z"
   },
   {
    "duration": 9,
    "start_time": "2022-10-19T14:50:06.357Z"
   },
   {
    "duration": 32,
    "start_time": "2022-10-19T14:50:06.368Z"
   },
   {
    "duration": 27,
    "start_time": "2022-10-19T14:50:06.402Z"
   },
   {
    "duration": 832,
    "start_time": "2022-10-19T14:50:06.431Z"
   },
   {
    "duration": 12,
    "start_time": "2022-10-19T14:50:07.265Z"
   },
   {
    "duration": 18,
    "start_time": "2022-10-19T14:50:07.279Z"
   },
   {
    "duration": 36,
    "start_time": "2022-10-19T14:50:07.299Z"
   },
   {
    "duration": 137,
    "start_time": "2022-10-19T14:50:07.336Z"
   },
   {
    "duration": 8,
    "start_time": "2022-10-19T14:50:07.475Z"
   },
   {
    "duration": 7,
    "start_time": "2022-10-19T14:50:07.486Z"
   },
   {
    "duration": 253,
    "start_time": "2022-10-19T14:50:07.495Z"
   },
   {
    "duration": 369,
    "start_time": "2022-10-19T14:50:07.754Z"
   },
   {
    "duration": 794,
    "start_time": "2022-10-19T14:50:08.125Z"
   },
   {
    "duration": 8,
    "start_time": "2022-10-19T14:50:08.921Z"
   },
   {
    "duration": 24,
    "start_time": "2022-10-19T14:50:08.931Z"
   },
   {
    "duration": 646,
    "start_time": "2022-10-19T14:50:08.958Z"
   },
   {
    "duration": 529,
    "start_time": "2022-10-19T14:50:09.605Z"
   },
   {
    "duration": 19,
    "start_time": "2022-10-19T14:50:10.135Z"
   },
   {
    "duration": 267,
    "start_time": "2022-10-19T14:50:10.155Z"
   },
   {
    "duration": 275,
    "start_time": "2022-10-19T14:50:10.424Z"
   },
   {
    "duration": 365,
    "start_time": "2022-10-19T14:50:10.701Z"
   },
   {
    "duration": 265,
    "start_time": "2022-10-19T14:50:11.068Z"
   },
   {
    "duration": 529,
    "start_time": "2022-10-19T14:50:11.335Z"
   },
   {
    "duration": 224,
    "start_time": "2022-10-19T14:50:11.867Z"
   },
   {
    "duration": 186,
    "start_time": "2022-10-19T14:50:12.093Z"
   },
   {
    "duration": 365,
    "start_time": "2022-10-19T14:50:12.281Z"
   },
   {
    "duration": 133,
    "start_time": "2022-10-19T14:50:12.654Z"
   },
   {
    "duration": 276,
    "start_time": "2022-10-19T14:50:12.788Z"
   },
   {
    "duration": 214,
    "start_time": "2022-10-19T14:50:13.066Z"
   },
   {
    "duration": 210,
    "start_time": "2022-10-19T14:50:13.281Z"
   },
   {
    "duration": 270,
    "start_time": "2022-10-19T14:50:13.493Z"
   },
   {
    "duration": 152,
    "start_time": "2022-10-19T14:50:13.764Z"
   },
   {
    "duration": 274,
    "start_time": "2022-10-19T14:50:13.918Z"
   },
   {
    "duration": 303,
    "start_time": "2022-10-19T14:50:14.194Z"
   },
   {
    "duration": 1417,
    "start_time": "2022-10-19T14:50:14.499Z"
   },
   {
    "duration": 9,
    "start_time": "2022-10-19T14:50:15.918Z"
   },
   {
    "duration": 65,
    "start_time": "2022-10-19T14:50:15.928Z"
   },
   {
    "duration": 301,
    "start_time": "2022-10-19T14:50:15.995Z"
   },
   {
    "duration": 7,
    "start_time": "2022-10-19T15:35:25.688Z"
   },
   {
    "duration": 21,
    "start_time": "2022-10-19T15:39:02.926Z"
   },
   {
    "duration": 119,
    "start_time": "2022-10-19T15:39:21.543Z"
   },
   {
    "duration": 7,
    "start_time": "2022-10-19T15:40:45.002Z"
   },
   {
    "duration": 7,
    "start_time": "2022-10-19T15:40:49.995Z"
   },
   {
    "duration": 732,
    "start_time": "2022-10-19T16:02:18.175Z"
   },
   {
    "duration": 123,
    "start_time": "2022-10-19T16:02:18.909Z"
   },
   {
    "duration": 234,
    "start_time": "2022-10-19T16:06:46.341Z"
   },
   {
    "duration": 4,
    "start_time": "2022-10-19T16:52:18.375Z"
   },
   {
    "duration": 88,
    "start_time": "2022-10-19T16:52:19.321Z"
   },
   {
    "duration": 42,
    "start_time": "2022-10-19T16:52:22.611Z"
   },
   {
    "duration": 1931,
    "start_time": "2022-10-19T16:52:23.964Z"
   },
   {
    "duration": 10,
    "start_time": "2022-10-19T16:52:30.960Z"
   },
   {
    "duration": 25,
    "start_time": "2022-10-19T16:57:13.321Z"
   },
   {
    "duration": 2,
    "start_time": "2022-10-19T17:03:28.186Z"
   },
   {
    "duration": 87,
    "start_time": "2022-10-19T17:03:28.823Z"
   },
   {
    "duration": 37,
    "start_time": "2022-10-19T17:03:30.853Z"
   },
   {
    "duration": 1704,
    "start_time": "2022-10-19T17:03:31.589Z"
   },
   {
    "duration": 9,
    "start_time": "2022-10-19T17:03:35.915Z"
   },
   {
    "duration": 13,
    "start_time": "2022-10-19T17:03:37.120Z"
   },
   {
    "duration": 6,
    "start_time": "2022-10-19T17:03:41.791Z"
   },
   {
    "duration": 80,
    "start_time": "2022-10-19T17:03:51.718Z"
   },
   {
    "duration": 59,
    "start_time": "2022-10-19T17:04:58.269Z"
   },
   {
    "duration": 17,
    "start_time": "2022-10-19T17:05:03.226Z"
   },
   {
    "duration": 10,
    "start_time": "2022-10-19T17:05:31.306Z"
   },
   {
    "duration": 17,
    "start_time": "2022-10-19T17:06:10.550Z"
   },
   {
    "duration": 225,
    "start_time": "2022-10-19T17:06:12.802Z"
   },
   {
    "duration": 14,
    "start_time": "2022-10-19T17:06:20.580Z"
   },
   {
    "duration": 6,
    "start_time": "2022-10-19T17:06:21.587Z"
   },
   {
    "duration": 284,
    "start_time": "2022-10-19T17:06:22.536Z"
   },
   {
    "duration": 280,
    "start_time": "2022-10-19T17:08:00.642Z"
   },
   {
    "duration": 9,
    "start_time": "2022-10-19T17:08:04.020Z"
   },
   {
    "duration": 26,
    "start_time": "2022-10-19T17:08:15.024Z"
   },
   {
    "duration": 22,
    "start_time": "2022-10-19T17:08:40.944Z"
   },
   {
    "duration": 828,
    "start_time": "2022-10-19T17:08:41.825Z"
   },
   {
    "duration": 11,
    "start_time": "2022-10-19T17:08:43.967Z"
   },
   {
    "duration": 13,
    "start_time": "2022-10-19T17:08:47.323Z"
   },
   {
    "duration": 27,
    "start_time": "2022-10-19T17:08:48.346Z"
   },
   {
    "duration": 14,
    "start_time": "2022-10-19T17:08:50.136Z"
   },
   {
    "duration": 7,
    "start_time": "2022-10-19T17:08:50.673Z"
   },
   {
    "duration": 6,
    "start_time": "2022-10-19T17:08:51.405Z"
   },
   {
    "duration": 210,
    "start_time": "2022-10-19T17:08:56.976Z"
   },
   {
    "duration": 319,
    "start_time": "2022-10-19T17:08:59.881Z"
   },
   {
    "duration": 709,
    "start_time": "2022-10-19T17:09:01.994Z"
   },
   {
    "duration": 10,
    "start_time": "2022-10-19T17:09:05.323Z"
   },
   {
    "duration": 8,
    "start_time": "2022-10-19T17:09:05.780Z"
   },
   {
    "duration": 532,
    "start_time": "2022-10-19T17:09:06.418Z"
   },
   {
    "duration": 416,
    "start_time": "2022-10-19T17:09:10.018Z"
   },
   {
    "duration": 8,
    "start_time": "2022-10-19T17:10:08.743Z"
   },
   {
    "duration": 7,
    "start_time": "2022-10-19T17:15:24.653Z"
   },
   {
    "duration": 12,
    "start_time": "2022-10-19T17:17:33.349Z"
   },
   {
    "duration": 298,
    "start_time": "2022-10-19T17:23:39.290Z"
   },
   {
    "duration": 281,
    "start_time": "2022-10-19T17:23:41.636Z"
   },
   {
    "duration": 257,
    "start_time": "2022-10-19T17:23:43.972Z"
   },
   {
    "duration": 232,
    "start_time": "2022-10-19T17:23:45.064Z"
   },
   {
    "duration": 307,
    "start_time": "2022-10-19T17:23:51.763Z"
   },
   {
    "duration": 416,
    "start_time": "2022-10-19T17:25:20.841Z"
   },
   {
    "duration": 313,
    "start_time": "2022-10-19T17:25:29.522Z"
   },
   {
    "duration": 301,
    "start_time": "2022-10-19T17:25:39.741Z"
   },
   {
    "duration": 319,
    "start_time": "2022-10-19T17:25:43.519Z"
   },
   {
    "duration": 397,
    "start_time": "2022-10-19T17:25:51.809Z"
   },
   {
    "duration": 327,
    "start_time": "2022-10-19T17:25:57.866Z"
   },
   {
    "duration": 3,
    "start_time": "2022-10-19T17:26:10.187Z"
   },
   {
    "duration": 78,
    "start_time": "2022-10-19T17:26:10.765Z"
   },
   {
    "duration": 39,
    "start_time": "2022-10-19T17:26:12.538Z"
   },
   {
    "duration": 1791,
    "start_time": "2022-10-19T17:26:13.093Z"
   },
   {
    "duration": 8,
    "start_time": "2022-10-19T17:26:17.049Z"
   },
   {
    "duration": 11,
    "start_time": "2022-10-19T17:26:17.849Z"
   },
   {
    "duration": 5,
    "start_time": "2022-10-19T17:26:19.899Z"
   },
   {
    "duration": 13,
    "start_time": "2022-10-19T17:26:20.329Z"
   },
   {
    "duration": 18,
    "start_time": "2022-10-19T17:26:21.655Z"
   },
   {
    "duration": 233,
    "start_time": "2022-10-19T17:26:22.564Z"
   },
   {
    "duration": 11,
    "start_time": "2022-10-19T17:26:23.746Z"
   },
   {
    "duration": 6,
    "start_time": "2022-10-19T17:26:24.261Z"
   },
   {
    "duration": 279,
    "start_time": "2022-10-19T17:26:24.769Z"
   },
   {
    "duration": 8,
    "start_time": "2022-10-19T17:26:25.904Z"
   },
   {
    "duration": 24,
    "start_time": "2022-10-19T17:26:26.940Z"
   },
   {
    "duration": 25,
    "start_time": "2022-10-19T17:26:28.620Z"
   },
   {
    "duration": 673,
    "start_time": "2022-10-19T17:26:29.629Z"
   },
   {
    "duration": 12,
    "start_time": "2022-10-19T17:26:30.519Z"
   },
   {
    "duration": 13,
    "start_time": "2022-10-19T17:26:31.468Z"
   },
   {
    "duration": 23,
    "start_time": "2022-10-19T17:26:32.383Z"
   },
   {
    "duration": 20,
    "start_time": "2022-10-19T17:26:33.056Z"
   },
   {
    "duration": 8,
    "start_time": "2022-10-19T17:26:33.804Z"
   },
   {
    "duration": 8,
    "start_time": "2022-10-19T17:26:34.423Z"
   },
   {
    "duration": 217,
    "start_time": "2022-10-19T17:26:41.009Z"
   },
   {
    "duration": 405,
    "start_time": "2022-10-19T17:26:41.820Z"
   },
   {
    "duration": 671,
    "start_time": "2022-10-19T17:26:42.990Z"
   },
   {
    "duration": 8,
    "start_time": "2022-10-19T17:26:44.066Z"
   },
   {
    "duration": 9,
    "start_time": "2022-10-19T17:26:46.722Z"
   },
   {
    "duration": 537,
    "start_time": "2022-10-19T17:26:47.863Z"
   },
   {
    "duration": 9,
    "start_time": "2022-10-19T17:26:51.175Z"
   },
   {
    "duration": 7,
    "start_time": "2022-10-19T17:26:51.769Z"
   },
   {
    "duration": 297,
    "start_time": "2022-10-19T17:26:54.593Z"
   },
   {
    "duration": 237,
    "start_time": "2022-10-19T17:26:56.423Z"
   },
   {
    "duration": 237,
    "start_time": "2022-10-19T17:27:11.725Z"
   },
   {
    "duration": 219,
    "start_time": "2022-10-19T17:27:14.944Z"
   },
   {
    "duration": 429,
    "start_time": "2022-10-19T17:27:22.021Z"
   },
   {
    "duration": 348,
    "start_time": "2022-10-19T17:27:54.521Z"
   },
   {
    "duration": 4,
    "start_time": "2022-10-19T17:28:02.989Z"
   },
   {
    "duration": 79,
    "start_time": "2022-10-19T17:28:03.547Z"
   },
   {
    "duration": 37,
    "start_time": "2022-10-19T17:28:06.819Z"
   },
   {
    "duration": 1729,
    "start_time": "2022-10-19T17:28:07.547Z"
   },
   {
    "duration": 9,
    "start_time": "2022-10-19T17:28:10.780Z"
   },
   {
    "duration": 16,
    "start_time": "2022-10-19T17:28:11.784Z"
   },
   {
    "duration": 4,
    "start_time": "2022-10-19T17:28:13.869Z"
   },
   {
    "duration": 16,
    "start_time": "2022-10-19T17:28:14.447Z"
   },
   {
    "duration": 17,
    "start_time": "2022-10-19T17:28:15.725Z"
   },
   {
    "duration": 231,
    "start_time": "2022-10-19T17:28:16.664Z"
   },
   {
    "duration": 11,
    "start_time": "2022-10-19T17:28:17.699Z"
   },
   {
    "duration": 6,
    "start_time": "2022-10-19T17:28:22.640Z"
   },
   {
    "duration": 260,
    "start_time": "2022-10-19T17:28:23.246Z"
   },
   {
    "duration": 8,
    "start_time": "2022-10-19T17:28:24.320Z"
   },
   {
    "duration": 23,
    "start_time": "2022-10-19T17:28:25.251Z"
   },
   {
    "duration": 24,
    "start_time": "2022-10-19T17:28:26.765Z"
   },
   {
    "duration": 722,
    "start_time": "2022-10-19T17:28:27.906Z"
   },
   {
    "duration": 12,
    "start_time": "2022-10-19T17:28:29.267Z"
   },
   {
    "duration": 14,
    "start_time": "2022-10-19T17:28:30.214Z"
   },
   {
    "duration": 25,
    "start_time": "2022-10-19T17:28:31.288Z"
   },
   {
    "duration": 16,
    "start_time": "2022-10-19T17:28:31.803Z"
   },
   {
    "duration": 8,
    "start_time": "2022-10-19T17:28:32.330Z"
   },
   {
    "duration": 8,
    "start_time": "2022-10-19T17:28:32.882Z"
   },
   {
    "duration": 222,
    "start_time": "2022-10-19T17:28:33.934Z"
   },
   {
    "duration": 427,
    "start_time": "2022-10-19T17:28:34.808Z"
   },
   {
    "duration": 688,
    "start_time": "2022-10-19T17:28:35.451Z"
   },
   {
    "duration": 7,
    "start_time": "2022-10-19T17:28:36.140Z"
   },
   {
    "duration": 7,
    "start_time": "2022-10-19T17:28:37.293Z"
   },
   {
    "duration": 541,
    "start_time": "2022-10-19T17:28:38.551Z"
   },
   {
    "duration": 11,
    "start_time": "2022-10-19T17:28:39.094Z"
   },
   {
    "duration": 8,
    "start_time": "2022-10-19T17:28:39.493Z"
   },
   {
    "duration": 315,
    "start_time": "2022-10-19T17:28:42.098Z"
   },
   {
    "duration": 219,
    "start_time": "2022-10-19T17:28:43.597Z"
   },
   {
    "duration": 304,
    "start_time": "2022-10-19T17:28:44.442Z"
   },
   {
    "duration": 228,
    "start_time": "2022-10-19T17:28:45.472Z"
   },
   {
    "duration": 401,
    "start_time": "2022-10-19T17:28:49.584Z"
   },
   {
    "duration": 330,
    "start_time": "2022-10-19T17:29:17.418Z"
   },
   {
    "duration": 312,
    "start_time": "2022-10-19T17:30:28.527Z"
   },
   {
    "duration": 1040,
    "start_time": "2022-10-19T17:30:40.278Z"
   },
   {
    "duration": 4,
    "start_time": "2022-10-19T17:31:00.856Z"
   },
   {
    "duration": 80,
    "start_time": "2022-10-19T17:31:01.325Z"
   },
   {
    "duration": 35,
    "start_time": "2022-10-19T17:31:02.899Z"
   },
   {
    "duration": 1819,
    "start_time": "2022-10-19T17:31:03.245Z"
   },
   {
    "duration": 10,
    "start_time": "2022-10-19T17:31:05.394Z"
   },
   {
    "duration": 17,
    "start_time": "2022-10-19T17:31:06.120Z"
   },
   {
    "duration": 5,
    "start_time": "2022-10-19T17:31:07.751Z"
   },
   {
    "duration": 12,
    "start_time": "2022-10-19T17:31:08.092Z"
   },
   {
    "duration": 18,
    "start_time": "2022-10-19T17:31:09.054Z"
   },
   {
    "duration": 240,
    "start_time": "2022-10-19T17:31:09.788Z"
   },
   {
    "duration": 11,
    "start_time": "2022-10-19T17:31:10.519Z"
   },
   {
    "duration": 6,
    "start_time": "2022-10-19T17:31:10.915Z"
   },
   {
    "duration": 295,
    "start_time": "2022-10-19T17:31:11.318Z"
   },
   {
    "duration": 7,
    "start_time": "2022-10-19T17:31:12.368Z"
   },
   {
    "duration": 24,
    "start_time": "2022-10-19T17:31:13.176Z"
   },
   {
    "duration": 32,
    "start_time": "2022-10-19T17:31:14.493Z"
   },
   {
    "duration": 801,
    "start_time": "2022-10-19T17:31:15.218Z"
   },
   {
    "duration": 11,
    "start_time": "2022-10-19T17:31:16.020Z"
   },
   {
    "duration": 17,
    "start_time": "2022-10-19T17:31:16.538Z"
   },
   {
    "duration": 24,
    "start_time": "2022-10-19T17:31:17.289Z"
   },
   {
    "duration": 17,
    "start_time": "2022-10-19T17:31:17.760Z"
   },
   {
    "duration": 9,
    "start_time": "2022-10-19T17:31:18.194Z"
   },
   {
    "duration": 8,
    "start_time": "2022-10-19T17:31:18.640Z"
   },
   {
    "duration": 219,
    "start_time": "2022-10-19T17:31:19.733Z"
   },
   {
    "duration": 320,
    "start_time": "2022-10-19T17:31:20.329Z"
   },
   {
    "duration": 650,
    "start_time": "2022-10-19T17:31:20.781Z"
   },
   {
    "duration": 7,
    "start_time": "2022-10-19T17:31:21.433Z"
   },
   {
    "duration": 8,
    "start_time": "2022-10-19T17:31:21.908Z"
   },
   {
    "duration": 551,
    "start_time": "2022-10-19T17:31:22.469Z"
   },
   {
    "duration": 7,
    "start_time": "2022-10-19T17:31:23.290Z"
   },
   {
    "duration": 11,
    "start_time": "2022-10-19T17:31:24.562Z"
   },
   {
    "duration": 291,
    "start_time": "2022-10-19T17:31:26.884Z"
   },
   {
    "duration": 216,
    "start_time": "2022-10-19T17:31:28.705Z"
   },
   {
    "duration": 215,
    "start_time": "2022-10-19T17:31:29.728Z"
   },
   {
    "duration": 344,
    "start_time": "2022-10-19T17:31:30.519Z"
   },
   {
    "duration": 603,
    "start_time": "2022-10-19T17:31:31.320Z"
   },
   {
    "duration": 310,
    "start_time": "2022-10-19T17:31:54.874Z"
   },
   {
    "duration": 175,
    "start_time": "2022-10-19T17:32:12.951Z"
   },
   {
    "duration": 126,
    "start_time": "2022-10-19T17:32:14.156Z"
   },
   {
    "duration": 209,
    "start_time": "2022-10-19T17:32:14.588Z"
   },
   {
    "duration": 115,
    "start_time": "2022-10-19T17:32:15.348Z"
   },
   {
    "duration": 279,
    "start_time": "2022-10-19T17:32:15.886Z"
   },
   {
    "duration": 174,
    "start_time": "2022-10-19T17:32:16.552Z"
   },
   {
    "duration": 153,
    "start_time": "2022-10-19T17:32:17.161Z"
   },
   {
    "duration": 215,
    "start_time": "2022-10-19T17:32:17.887Z"
   },
   {
    "duration": 137,
    "start_time": "2022-10-19T17:32:18.702Z"
   },
   {
    "duration": 146,
    "start_time": "2022-10-19T17:32:19.319Z"
   },
   {
    "duration": 270,
    "start_time": "2022-10-19T17:32:20.664Z"
   },
   {
    "duration": 345,
    "start_time": "2022-10-19T17:35:20.327Z"
   },
   {
    "duration": 279,
    "start_time": "2022-10-19T17:35:32.876Z"
   },
   {
    "duration": 257,
    "start_time": "2022-10-19T17:36:19.677Z"
   },
   {
    "duration": 281,
    "start_time": "2022-10-19T17:41:21.421Z"
   },
   {
    "duration": 1378,
    "start_time": "2022-10-19T17:42:54.375Z"
   },
   {
    "duration": 9,
    "start_time": "2022-10-19T17:44:37.474Z"
   },
   {
    "duration": 8,
    "start_time": "2022-10-19T17:48:35.919Z"
   },
   {
    "duration": 14,
    "start_time": "2022-10-19T17:48:40.768Z"
   },
   {
    "duration": 190,
    "start_time": "2022-10-19T17:48:42.565Z"
   },
   {
    "duration": 7,
    "start_time": "2022-10-19T17:51:44.098Z"
   },
   {
    "duration": 49,
    "start_time": "2022-10-19T17:54:11.715Z"
   },
   {
    "duration": 10,
    "start_time": "2022-10-19T18:02:52.485Z"
   },
   {
    "duration": 667,
    "start_time": "2022-10-20T15:15:45.409Z"
   },
   {
    "duration": 93,
    "start_time": "2022-10-20T15:15:46.078Z"
   },
   {
    "duration": 44,
    "start_time": "2022-10-20T15:15:46.173Z"
   },
   {
    "duration": 2030,
    "start_time": "2022-10-20T15:15:46.219Z"
   },
   {
    "duration": 9,
    "start_time": "2022-10-20T15:15:48.251Z"
   },
   {
    "duration": 22,
    "start_time": "2022-10-20T15:15:48.262Z"
   },
   {
    "duration": 5,
    "start_time": "2022-10-20T15:15:48.285Z"
   },
   {
    "duration": 27,
    "start_time": "2022-10-20T15:15:48.292Z"
   },
   {
    "duration": 34,
    "start_time": "2022-10-20T15:15:48.320Z"
   },
   {
    "duration": 271,
    "start_time": "2022-10-20T15:15:48.357Z"
   },
   {
    "duration": 26,
    "start_time": "2022-10-20T15:15:48.630Z"
   },
   {
    "duration": 9,
    "start_time": "2022-10-20T15:15:48.658Z"
   },
   {
    "duration": 360,
    "start_time": "2022-10-20T15:15:48.669Z"
   },
   {
    "duration": 9,
    "start_time": "2022-10-20T15:15:49.030Z"
   },
   {
    "duration": 26,
    "start_time": "2022-10-20T15:15:49.053Z"
   },
   {
    "duration": 26,
    "start_time": "2022-10-20T15:15:49.081Z"
   },
   {
    "duration": 856,
    "start_time": "2022-10-20T15:15:49.109Z"
   },
   {
    "duration": 11,
    "start_time": "2022-10-20T15:15:49.967Z"
   },
   {
    "duration": 15,
    "start_time": "2022-10-20T15:15:49.980Z"
   },
   {
    "duration": 28,
    "start_time": "2022-10-20T15:15:49.997Z"
   },
   {
    "duration": 139,
    "start_time": "2022-10-20T15:15:50.027Z"
   },
   {
    "duration": 7,
    "start_time": "2022-10-20T15:15:50.168Z"
   },
   {
    "duration": 8,
    "start_time": "2022-10-20T15:15:50.176Z"
   },
   {
    "duration": 285,
    "start_time": "2022-10-20T15:15:50.185Z"
   },
   {
    "duration": 361,
    "start_time": "2022-10-20T15:15:50.472Z"
   },
   {
    "duration": 864,
    "start_time": "2022-10-20T15:15:50.835Z"
   },
   {
    "duration": 8,
    "start_time": "2022-10-20T15:15:51.702Z"
   },
   {
    "duration": 16,
    "start_time": "2022-10-20T15:15:51.715Z"
   },
   {
    "duration": 642,
    "start_time": "2022-10-20T15:15:51.733Z"
   },
   {
    "duration": 7,
    "start_time": "2022-10-20T15:15:52.377Z"
   },
   {
    "duration": 11,
    "start_time": "2022-10-20T15:15:52.385Z"
   },
   {
    "duration": 353,
    "start_time": "2022-10-20T15:15:52.397Z"
   },
   {
    "duration": 254,
    "start_time": "2022-10-20T15:15:52.752Z"
   },
   {
    "duration": 271,
    "start_time": "2022-10-20T15:15:53.008Z"
   },
   {
    "duration": 362,
    "start_time": "2022-10-20T15:15:53.281Z"
   },
   {
    "duration": 365,
    "start_time": "2022-10-20T15:15:53.644Z"
   },
   {
    "duration": 211,
    "start_time": "2022-10-20T15:15:54.011Z"
   },
   {
    "duration": 156,
    "start_time": "2022-10-20T15:15:54.223Z"
   },
   {
    "duration": 248,
    "start_time": "2022-10-20T15:15:54.381Z"
   },
   {
    "duration": 139,
    "start_time": "2022-10-20T15:15:54.630Z"
   },
   {
    "duration": 338,
    "start_time": "2022-10-20T15:15:54.771Z"
   },
   {
    "duration": 208,
    "start_time": "2022-10-20T15:15:55.110Z"
   },
   {
    "duration": 182,
    "start_time": "2022-10-20T15:15:55.320Z"
   },
   {
    "duration": 265,
    "start_time": "2022-10-20T15:15:55.504Z"
   },
   {
    "duration": 166,
    "start_time": "2022-10-20T15:15:55.770Z"
   },
   {
    "duration": 172,
    "start_time": "2022-10-20T15:15:55.937Z"
   },
   {
    "duration": 316,
    "start_time": "2022-10-20T15:15:56.110Z"
   },
   {
    "duration": 1555,
    "start_time": "2022-10-20T15:15:56.427Z"
   },
   {
    "duration": 8,
    "start_time": "2022-10-20T15:15:57.983Z"
   },
   {
    "duration": 26,
    "start_time": "2022-10-20T15:15:57.993Z"
   },
   {
    "duration": 198,
    "start_time": "2022-10-20T15:15:58.020Z"
   },
   {
    "duration": 14,
    "start_time": "2022-10-20T15:20:22.041Z"
   },
   {
    "duration": 84,
    "start_time": "2022-10-20T15:20:25.753Z"
   }
  ],
  "kernelspec": {
   "display_name": "Python 3 (ipykernel)",
   "language": "python",
   "name": "python3"
  },
  "language_info": {
   "codemirror_mode": {
    "name": "ipython",
    "version": 3
   },
   "file_extension": ".py",
   "mimetype": "text/x-python",
   "name": "python",
   "nbconvert_exporter": "python",
   "pygments_lexer": "ipython3",
   "version": "3.10.9"
  },
  "toc": {
   "base_numbering": 1,
   "nav_menu": {},
   "number_sections": true,
   "sideBar": true,
   "skip_h1_title": true,
   "title_cell": "Table of Contents",
   "title_sidebar": "Contents",
   "toc_cell": false,
   "toc_position": {},
   "toc_section_display": true,
   "toc_window_display": true
  }
 },
 "nbformat": 4,
 "nbformat_minor": 2
}
